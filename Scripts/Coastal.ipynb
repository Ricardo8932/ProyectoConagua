{
  "nbformat": 4,
  "nbformat_minor": 0,
  "metadata": {
    "colab": {
      "provenance": []
    },
    "kernelspec": {
      "name": "python3",
      "display_name": "Python 3"
    },
    "language_info": {
      "name": "python"
    }
  },
  "cells": [
    {
      "cell_type": "markdown",
      "source": [
        "#Coastal"
      ],
      "metadata": {
        "id": "bf6KKLnaFcpu"
      }
    },
    {
      "cell_type": "markdown",
      "source": [
        "Import the necessary libraries"
      ],
      "metadata": {
        "id": "PafmjbjJFcqS"
      }
    },
    {
      "cell_type": "code",
      "source": [
        "#Import the necessary libraries\n",
        "import warnings\n",
        "\n",
        "# Ignore FutureWarnings\n",
        "warnings.simplefilter(action='ignore', category=FutureWarning)\n",
        "\n",
        "import pickle\n",
        "import joblib\n",
        "import numpy as np\n",
        "import matplotlib.pyplot as plt\n",
        "import plotly.io as pio\n",
        "import pandas as pd\n",
        "import seaborn as sns\n",
        "from sklearn.metrics import accuracy_score, precision_score, f1_score, confusion_matrix, recall_score, matthews_corrcoef, roc_auc_score, jaccard_score, log_loss\n",
        "from sklearn.preprocessing import StandardScaler\n",
        "from sklearn.datasets import make_classification\n",
        "from sklearn.model_selection import train_test_split, GridSearchCV, cross_val_score\n",
        "from imblearn.under_sampling import RandomUnderSampler\n",
        "from collections import Counter\n",
        "from sklearn.tree import DecisionTreeClassifier\n",
        "from xgboost import XGBClassifier\n",
        "from sklearn.svm import SVC\n",
        "from sklearn.neighbors import KNeighborsClassifier\n",
        "from sklearn.linear_model import LogisticRegression\n",
        "from sklearn.preprocessing import LabelBinarizer"
      ],
      "metadata": {
        "id": "s0xH-KRcFcqT"
      },
      "execution_count": 1,
      "outputs": []
    },
    {
      "cell_type": "markdown",
      "source": [
        "Load the data set"
      ],
      "metadata": {
        "id": "VDrxWxIqFcqV"
      }
    },
    {
      "cell_type": "code",
      "source": [
        "# Load coastal data from Excel file into a DataFrame\n",
        "df_coastal = pd.read_excel(\"https://raw.githubusercontent.com/Ricardo8932/ProyectoConagua/main/Database/Coastal/coastal_results.xlsx\")"
      ],
      "metadata": {
        "id": "pxf49R2RFcqW"
      },
      "execution_count": 2,
      "outputs": []
    },
    {
      "cell_type": "code",
      "source": [
        "# Creates a new DataFrame for nullity matrix (nm) from the years 2012 to 2021, excluding data for the year 2022\n",
        "df_nm_2012_2021 = df_coastal[df_coastal['AÑO'] != 2022]\n",
        "\n",
        "# Creates a new DataFrame for nullity matrix (nm) consisting only of data from the year 2022\n",
        "df_nm_2022 = df_coastal[df_coastal['AÑO'] == 2022]"
      ],
      "metadata": {
        "id": "5TJxLRwkxglT"
      },
      "execution_count": 3,
      "outputs": []
    },
    {
      "cell_type": "code",
      "source": [
        "# Display the first 5 rows of the coastal DataFrame\n",
        "df_coastal.head(5)"
      ],
      "metadata": {
        "colab": {
          "base_uri": "https://localhost:8080/",
          "height": 206
        },
        "outputId": "a440a0a8-6b5f-4948-ce74-d7e210364413",
        "id": "MU9X0ZFuFcqZ"
      },
      "execution_count": 4,
      "outputs": [
        {
          "output_type": "execute_result",
          "data": {
            "text/plain": [
              "  CLAVE SITIO  CLAVE MONITOREO            NOMBRE DEL SITIO  \\\n",
              "0    DLBAJ100  DLBAJ100-281012  LOS CABOS SEG 22, 2 ISA10B   \n",
              "1    DLBAJ100  DLBAJ100-231212  LOS CABOS SEG 22, 2 ISA10B   \n",
              "2    DLBAJ100  DLBAJ100-070413  LOS CABOS SEG 22, 2 ISA10B   \n",
              "3    DLBAJ100  DLBAJ100-090613  LOS CABOS SEG 22, 2 ISA10B   \n",
              "4    DLBAJ100  DLBAJ100-110813  LOS CABOS SEG 22, 2 ISA10B   \n",
              "\n",
              "  TIPO CUERPO DE AGUA FECHA REALIZACIÓN   AÑO      TSS  FC    ODs%   ODm%  \\\n",
              "0             COSTERO        2012-11-12  2012      <10  <3    90.1   89.5   \n",
              "1             COSTERO        2013-01-07  2013       24  41    82.1    NaN   \n",
              "2             COSTERO        2013-04-01  2013  34.3333  <1  110.17    NaN   \n",
              "3             COSTERO        2013-06-03  2013    10.25  75   103.7  100.2   \n",
              "4             COSTERO        2013-08-09  2013      <10  <1    89.5  92.01   \n",
              "\n",
              "    ODb%  FE TF15s TF15b  \n",
              "0   95.1  10    <1    <1  \n",
              "1   85.5  <3    <1    <1  \n",
              "2    NaN  <1    <1    <1  \n",
              "3  100.2  <1    <1    <1  \n",
              "4     93  <1    <1    <1  "
            ],
            "text/html": [
              "\n",
              "  <div id=\"df-edbbdc73-c429-448a-85c6-042d32beea18\" class=\"colab-df-container\">\n",
              "    <div>\n",
              "<style scoped>\n",
              "    .dataframe tbody tr th:only-of-type {\n",
              "        vertical-align: middle;\n",
              "    }\n",
              "\n",
              "    .dataframe tbody tr th {\n",
              "        vertical-align: top;\n",
              "    }\n",
              "\n",
              "    .dataframe thead th {\n",
              "        text-align: right;\n",
              "    }\n",
              "</style>\n",
              "<table border=\"1\" class=\"dataframe\">\n",
              "  <thead>\n",
              "    <tr style=\"text-align: right;\">\n",
              "      <th></th>\n",
              "      <th>CLAVE SITIO</th>\n",
              "      <th>CLAVE MONITOREO</th>\n",
              "      <th>NOMBRE DEL SITIO</th>\n",
              "      <th>TIPO CUERPO DE AGUA</th>\n",
              "      <th>FECHA REALIZACIÓN</th>\n",
              "      <th>AÑO</th>\n",
              "      <th>TSS</th>\n",
              "      <th>FC</th>\n",
              "      <th>ODs%</th>\n",
              "      <th>ODm%</th>\n",
              "      <th>ODb%</th>\n",
              "      <th>FE</th>\n",
              "      <th>TF15s</th>\n",
              "      <th>TF15b</th>\n",
              "    </tr>\n",
              "  </thead>\n",
              "  <tbody>\n",
              "    <tr>\n",
              "      <th>0</th>\n",
              "      <td>DLBAJ100</td>\n",
              "      <td>DLBAJ100-281012</td>\n",
              "      <td>LOS CABOS SEG 22, 2 ISA10B</td>\n",
              "      <td>COSTERO</td>\n",
              "      <td>2012-11-12</td>\n",
              "      <td>2012</td>\n",
              "      <td>&lt;10</td>\n",
              "      <td>&lt;3</td>\n",
              "      <td>90.1</td>\n",
              "      <td>89.5</td>\n",
              "      <td>95.1</td>\n",
              "      <td>10</td>\n",
              "      <td>&lt;1</td>\n",
              "      <td>&lt;1</td>\n",
              "    </tr>\n",
              "    <tr>\n",
              "      <th>1</th>\n",
              "      <td>DLBAJ100</td>\n",
              "      <td>DLBAJ100-231212</td>\n",
              "      <td>LOS CABOS SEG 22, 2 ISA10B</td>\n",
              "      <td>COSTERO</td>\n",
              "      <td>2013-01-07</td>\n",
              "      <td>2013</td>\n",
              "      <td>24</td>\n",
              "      <td>41</td>\n",
              "      <td>82.1</td>\n",
              "      <td>NaN</td>\n",
              "      <td>85.5</td>\n",
              "      <td>&lt;3</td>\n",
              "      <td>&lt;1</td>\n",
              "      <td>&lt;1</td>\n",
              "    </tr>\n",
              "    <tr>\n",
              "      <th>2</th>\n",
              "      <td>DLBAJ100</td>\n",
              "      <td>DLBAJ100-070413</td>\n",
              "      <td>LOS CABOS SEG 22, 2 ISA10B</td>\n",
              "      <td>COSTERO</td>\n",
              "      <td>2013-04-01</td>\n",
              "      <td>2013</td>\n",
              "      <td>34.3333</td>\n",
              "      <td>&lt;1</td>\n",
              "      <td>110.17</td>\n",
              "      <td>NaN</td>\n",
              "      <td>NaN</td>\n",
              "      <td>&lt;1</td>\n",
              "      <td>&lt;1</td>\n",
              "      <td>&lt;1</td>\n",
              "    </tr>\n",
              "    <tr>\n",
              "      <th>3</th>\n",
              "      <td>DLBAJ100</td>\n",
              "      <td>DLBAJ100-090613</td>\n",
              "      <td>LOS CABOS SEG 22, 2 ISA10B</td>\n",
              "      <td>COSTERO</td>\n",
              "      <td>2013-06-03</td>\n",
              "      <td>2013</td>\n",
              "      <td>10.25</td>\n",
              "      <td>75</td>\n",
              "      <td>103.7</td>\n",
              "      <td>100.2</td>\n",
              "      <td>100.2</td>\n",
              "      <td>&lt;1</td>\n",
              "      <td>&lt;1</td>\n",
              "      <td>&lt;1</td>\n",
              "    </tr>\n",
              "    <tr>\n",
              "      <th>4</th>\n",
              "      <td>DLBAJ100</td>\n",
              "      <td>DLBAJ100-110813</td>\n",
              "      <td>LOS CABOS SEG 22, 2 ISA10B</td>\n",
              "      <td>COSTERO</td>\n",
              "      <td>2013-08-09</td>\n",
              "      <td>2013</td>\n",
              "      <td>&lt;10</td>\n",
              "      <td>&lt;1</td>\n",
              "      <td>89.5</td>\n",
              "      <td>92.01</td>\n",
              "      <td>93</td>\n",
              "      <td>&lt;1</td>\n",
              "      <td>&lt;1</td>\n",
              "      <td>&lt;1</td>\n",
              "    </tr>\n",
              "  </tbody>\n",
              "</table>\n",
              "</div>\n",
              "    <div class=\"colab-df-buttons\">\n",
              "\n",
              "  <div class=\"colab-df-container\">\n",
              "    <button class=\"colab-df-convert\" onclick=\"convertToInteractive('df-edbbdc73-c429-448a-85c6-042d32beea18')\"\n",
              "            title=\"Convert this dataframe to an interactive table.\"\n",
              "            style=\"display:none;\">\n",
              "\n",
              "  <svg xmlns=\"http://www.w3.org/2000/svg\" height=\"24px\" viewBox=\"0 -960 960 960\">\n",
              "    <path d=\"M120-120v-720h720v720H120Zm60-500h600v-160H180v160Zm220 220h160v-160H400v160Zm0 220h160v-160H400v160ZM180-400h160v-160H180v160Zm440 0h160v-160H620v160ZM180-180h160v-160H180v160Zm440 0h160v-160H620v160Z\"/>\n",
              "  </svg>\n",
              "    </button>\n",
              "\n",
              "  <style>\n",
              "    .colab-df-container {\n",
              "      display:flex;\n",
              "      gap: 12px;\n",
              "    }\n",
              "\n",
              "    .colab-df-convert {\n",
              "      background-color: #E8F0FE;\n",
              "      border: none;\n",
              "      border-radius: 50%;\n",
              "      cursor: pointer;\n",
              "      display: none;\n",
              "      fill: #1967D2;\n",
              "      height: 32px;\n",
              "      padding: 0 0 0 0;\n",
              "      width: 32px;\n",
              "    }\n",
              "\n",
              "    .colab-df-convert:hover {\n",
              "      background-color: #E2EBFA;\n",
              "      box-shadow: 0px 1px 2px rgba(60, 64, 67, 0.3), 0px 1px 3px 1px rgba(60, 64, 67, 0.15);\n",
              "      fill: #174EA6;\n",
              "    }\n",
              "\n",
              "    .colab-df-buttons div {\n",
              "      margin-bottom: 4px;\n",
              "    }\n",
              "\n",
              "    [theme=dark] .colab-df-convert {\n",
              "      background-color: #3B4455;\n",
              "      fill: #D2E3FC;\n",
              "    }\n",
              "\n",
              "    [theme=dark] .colab-df-convert:hover {\n",
              "      background-color: #434B5C;\n",
              "      box-shadow: 0px 1px 3px 1px rgba(0, 0, 0, 0.15);\n",
              "      filter: drop-shadow(0px 1px 2px rgba(0, 0, 0, 0.3));\n",
              "      fill: #FFFFFF;\n",
              "    }\n",
              "  </style>\n",
              "\n",
              "    <script>\n",
              "      const buttonEl =\n",
              "        document.querySelector('#df-edbbdc73-c429-448a-85c6-042d32beea18 button.colab-df-convert');\n",
              "      buttonEl.style.display =\n",
              "        google.colab.kernel.accessAllowed ? 'block' : 'none';\n",
              "\n",
              "      async function convertToInteractive(key) {\n",
              "        const element = document.querySelector('#df-edbbdc73-c429-448a-85c6-042d32beea18');\n",
              "        const dataTable =\n",
              "          await google.colab.kernel.invokeFunction('convertToInteractive',\n",
              "                                                    [key], {});\n",
              "        if (!dataTable) return;\n",
              "\n",
              "        const docLinkHtml = 'Like what you see? Visit the ' +\n",
              "          '<a target=\"_blank\" href=https://colab.research.google.com/notebooks/data_table.ipynb>data table notebook</a>'\n",
              "          + ' to learn more about interactive tables.';\n",
              "        element.innerHTML = '';\n",
              "        dataTable['output_type'] = 'display_data';\n",
              "        await google.colab.output.renderOutput(dataTable, element);\n",
              "        const docLink = document.createElement('div');\n",
              "        docLink.innerHTML = docLinkHtml;\n",
              "        element.appendChild(docLink);\n",
              "      }\n",
              "    </script>\n",
              "  </div>\n",
              "\n",
              "\n",
              "<div id=\"df-631ebbd7-fd84-482f-aeff-be006c7bcb76\">\n",
              "  <button class=\"colab-df-quickchart\" onclick=\"quickchart('df-631ebbd7-fd84-482f-aeff-be006c7bcb76')\"\n",
              "            title=\"Suggest charts\"\n",
              "            style=\"display:none;\">\n",
              "\n",
              "<svg xmlns=\"http://www.w3.org/2000/svg\" height=\"24px\"viewBox=\"0 0 24 24\"\n",
              "     width=\"24px\">\n",
              "    <g>\n",
              "        <path d=\"M19 3H5c-1.1 0-2 .9-2 2v14c0 1.1.9 2 2 2h14c1.1 0 2-.9 2-2V5c0-1.1-.9-2-2-2zM9 17H7v-7h2v7zm4 0h-2V7h2v10zm4 0h-2v-4h2v4z\"/>\n",
              "    </g>\n",
              "</svg>\n",
              "  </button>\n",
              "\n",
              "<style>\n",
              "  .colab-df-quickchart {\n",
              "      --bg-color: #E8F0FE;\n",
              "      --fill-color: #1967D2;\n",
              "      --hover-bg-color: #E2EBFA;\n",
              "      --hover-fill-color: #174EA6;\n",
              "      --disabled-fill-color: #AAA;\n",
              "      --disabled-bg-color: #DDD;\n",
              "  }\n",
              "\n",
              "  [theme=dark] .colab-df-quickchart {\n",
              "      --bg-color: #3B4455;\n",
              "      --fill-color: #D2E3FC;\n",
              "      --hover-bg-color: #434B5C;\n",
              "      --hover-fill-color: #FFFFFF;\n",
              "      --disabled-bg-color: #3B4455;\n",
              "      --disabled-fill-color: #666;\n",
              "  }\n",
              "\n",
              "  .colab-df-quickchart {\n",
              "    background-color: var(--bg-color);\n",
              "    border: none;\n",
              "    border-radius: 50%;\n",
              "    cursor: pointer;\n",
              "    display: none;\n",
              "    fill: var(--fill-color);\n",
              "    height: 32px;\n",
              "    padding: 0;\n",
              "    width: 32px;\n",
              "  }\n",
              "\n",
              "  .colab-df-quickchart:hover {\n",
              "    background-color: var(--hover-bg-color);\n",
              "    box-shadow: 0 1px 2px rgba(60, 64, 67, 0.3), 0 1px 3px 1px rgba(60, 64, 67, 0.15);\n",
              "    fill: var(--button-hover-fill-color);\n",
              "  }\n",
              "\n",
              "  .colab-df-quickchart-complete:disabled,\n",
              "  .colab-df-quickchart-complete:disabled:hover {\n",
              "    background-color: var(--disabled-bg-color);\n",
              "    fill: var(--disabled-fill-color);\n",
              "    box-shadow: none;\n",
              "  }\n",
              "\n",
              "  .colab-df-spinner {\n",
              "    border: 2px solid var(--fill-color);\n",
              "    border-color: transparent;\n",
              "    border-bottom-color: var(--fill-color);\n",
              "    animation:\n",
              "      spin 1s steps(1) infinite;\n",
              "  }\n",
              "\n",
              "  @keyframes spin {\n",
              "    0% {\n",
              "      border-color: transparent;\n",
              "      border-bottom-color: var(--fill-color);\n",
              "      border-left-color: var(--fill-color);\n",
              "    }\n",
              "    20% {\n",
              "      border-color: transparent;\n",
              "      border-left-color: var(--fill-color);\n",
              "      border-top-color: var(--fill-color);\n",
              "    }\n",
              "    30% {\n",
              "      border-color: transparent;\n",
              "      border-left-color: var(--fill-color);\n",
              "      border-top-color: var(--fill-color);\n",
              "      border-right-color: var(--fill-color);\n",
              "    }\n",
              "    40% {\n",
              "      border-color: transparent;\n",
              "      border-right-color: var(--fill-color);\n",
              "      border-top-color: var(--fill-color);\n",
              "    }\n",
              "    60% {\n",
              "      border-color: transparent;\n",
              "      border-right-color: var(--fill-color);\n",
              "    }\n",
              "    80% {\n",
              "      border-color: transparent;\n",
              "      border-right-color: var(--fill-color);\n",
              "      border-bottom-color: var(--fill-color);\n",
              "    }\n",
              "    90% {\n",
              "      border-color: transparent;\n",
              "      border-bottom-color: var(--fill-color);\n",
              "    }\n",
              "  }\n",
              "</style>\n",
              "\n",
              "  <script>\n",
              "    async function quickchart(key) {\n",
              "      const quickchartButtonEl =\n",
              "        document.querySelector('#' + key + ' button');\n",
              "      quickchartButtonEl.disabled = true;  // To prevent multiple clicks.\n",
              "      quickchartButtonEl.classList.add('colab-df-spinner');\n",
              "      try {\n",
              "        const charts = await google.colab.kernel.invokeFunction(\n",
              "            'suggestCharts', [key], {});\n",
              "      } catch (error) {\n",
              "        console.error('Error during call to suggestCharts:', error);\n",
              "      }\n",
              "      quickchartButtonEl.classList.remove('colab-df-spinner');\n",
              "      quickchartButtonEl.classList.add('colab-df-quickchart-complete');\n",
              "    }\n",
              "    (() => {\n",
              "      let quickchartButtonEl =\n",
              "        document.querySelector('#df-631ebbd7-fd84-482f-aeff-be006c7bcb76 button');\n",
              "      quickchartButtonEl.style.display =\n",
              "        google.colab.kernel.accessAllowed ? 'block' : 'none';\n",
              "    })();\n",
              "  </script>\n",
              "</div>\n",
              "\n",
              "    </div>\n",
              "  </div>\n"
            ]
          },
          "metadata": {},
          "execution_count": 4
        }
      ]
    },
    {
      "cell_type": "code",
      "source": [
        "#Replace \">/<\" with \"\"\n",
        "columns = df_coastal.columns.values\n",
        "\n",
        "df_coastal[columns] = df_coastal[columns].replace({'<':''}, regex=True)\n",
        "df_coastal[columns] = df_coastal[columns].replace({'>':''}, regex=True)"
      ],
      "metadata": {
        "id": "U3ZP_tHyFcqb"
      },
      "execution_count": 5,
      "outputs": []
    },
    {
      "cell_type": "code",
      "source": [
        "# Check the first 5 rows of the coastal DataFrame to verify if '<' and '>' signs have been removed\n",
        "df_coastal.head(5)"
      ],
      "metadata": {
        "colab": {
          "base_uri": "https://localhost:8080/",
          "height": 206
        },
        "outputId": "ae0bc7a4-b39a-405c-d675-ddf493ce05aa",
        "id": "uB6hPvG-Fcqd"
      },
      "execution_count": 6,
      "outputs": [
        {
          "output_type": "execute_result",
          "data": {
            "text/plain": [
              "  CLAVE SITIO  CLAVE MONITOREO            NOMBRE DEL SITIO  \\\n",
              "0    DLBAJ100  DLBAJ100-281012  LOS CABOS SEG 22, 2 ISA10B   \n",
              "1    DLBAJ100  DLBAJ100-231212  LOS CABOS SEG 22, 2 ISA10B   \n",
              "2    DLBAJ100  DLBAJ100-070413  LOS CABOS SEG 22, 2 ISA10B   \n",
              "3    DLBAJ100  DLBAJ100-090613  LOS CABOS SEG 22, 2 ISA10B   \n",
              "4    DLBAJ100  DLBAJ100-110813  LOS CABOS SEG 22, 2 ISA10B   \n",
              "\n",
              "  TIPO CUERPO DE AGUA FECHA REALIZACIÓN   AÑO      TSS  FC    ODs%   ODm%  \\\n",
              "0             COSTERO        2012-11-12  2012       10   3    90.1   89.5   \n",
              "1             COSTERO        2013-01-07  2013       24  41    82.1    NaN   \n",
              "2             COSTERO        2013-04-01  2013  34.3333   1  110.17    NaN   \n",
              "3             COSTERO        2013-06-03  2013    10.25  75   103.7  100.2   \n",
              "4             COSTERO        2013-08-09  2013       10   1    89.5  92.01   \n",
              "\n",
              "    ODb%  FE TF15s TF15b  \n",
              "0   95.1  10     1     1  \n",
              "1   85.5   3     1     1  \n",
              "2    NaN   1     1     1  \n",
              "3  100.2   1     1     1  \n",
              "4     93   1     1     1  "
            ],
            "text/html": [
              "\n",
              "  <div id=\"df-08ca08a6-5ff7-4e72-a73c-20edc7b3fca9\" class=\"colab-df-container\">\n",
              "    <div>\n",
              "<style scoped>\n",
              "    .dataframe tbody tr th:only-of-type {\n",
              "        vertical-align: middle;\n",
              "    }\n",
              "\n",
              "    .dataframe tbody tr th {\n",
              "        vertical-align: top;\n",
              "    }\n",
              "\n",
              "    .dataframe thead th {\n",
              "        text-align: right;\n",
              "    }\n",
              "</style>\n",
              "<table border=\"1\" class=\"dataframe\">\n",
              "  <thead>\n",
              "    <tr style=\"text-align: right;\">\n",
              "      <th></th>\n",
              "      <th>CLAVE SITIO</th>\n",
              "      <th>CLAVE MONITOREO</th>\n",
              "      <th>NOMBRE DEL SITIO</th>\n",
              "      <th>TIPO CUERPO DE AGUA</th>\n",
              "      <th>FECHA REALIZACIÓN</th>\n",
              "      <th>AÑO</th>\n",
              "      <th>TSS</th>\n",
              "      <th>FC</th>\n",
              "      <th>ODs%</th>\n",
              "      <th>ODm%</th>\n",
              "      <th>ODb%</th>\n",
              "      <th>FE</th>\n",
              "      <th>TF15s</th>\n",
              "      <th>TF15b</th>\n",
              "    </tr>\n",
              "  </thead>\n",
              "  <tbody>\n",
              "    <tr>\n",
              "      <th>0</th>\n",
              "      <td>DLBAJ100</td>\n",
              "      <td>DLBAJ100-281012</td>\n",
              "      <td>LOS CABOS SEG 22, 2 ISA10B</td>\n",
              "      <td>COSTERO</td>\n",
              "      <td>2012-11-12</td>\n",
              "      <td>2012</td>\n",
              "      <td>10</td>\n",
              "      <td>3</td>\n",
              "      <td>90.1</td>\n",
              "      <td>89.5</td>\n",
              "      <td>95.1</td>\n",
              "      <td>10</td>\n",
              "      <td>1</td>\n",
              "      <td>1</td>\n",
              "    </tr>\n",
              "    <tr>\n",
              "      <th>1</th>\n",
              "      <td>DLBAJ100</td>\n",
              "      <td>DLBAJ100-231212</td>\n",
              "      <td>LOS CABOS SEG 22, 2 ISA10B</td>\n",
              "      <td>COSTERO</td>\n",
              "      <td>2013-01-07</td>\n",
              "      <td>2013</td>\n",
              "      <td>24</td>\n",
              "      <td>41</td>\n",
              "      <td>82.1</td>\n",
              "      <td>NaN</td>\n",
              "      <td>85.5</td>\n",
              "      <td>3</td>\n",
              "      <td>1</td>\n",
              "      <td>1</td>\n",
              "    </tr>\n",
              "    <tr>\n",
              "      <th>2</th>\n",
              "      <td>DLBAJ100</td>\n",
              "      <td>DLBAJ100-070413</td>\n",
              "      <td>LOS CABOS SEG 22, 2 ISA10B</td>\n",
              "      <td>COSTERO</td>\n",
              "      <td>2013-04-01</td>\n",
              "      <td>2013</td>\n",
              "      <td>34.3333</td>\n",
              "      <td>1</td>\n",
              "      <td>110.17</td>\n",
              "      <td>NaN</td>\n",
              "      <td>NaN</td>\n",
              "      <td>1</td>\n",
              "      <td>1</td>\n",
              "      <td>1</td>\n",
              "    </tr>\n",
              "    <tr>\n",
              "      <th>3</th>\n",
              "      <td>DLBAJ100</td>\n",
              "      <td>DLBAJ100-090613</td>\n",
              "      <td>LOS CABOS SEG 22, 2 ISA10B</td>\n",
              "      <td>COSTERO</td>\n",
              "      <td>2013-06-03</td>\n",
              "      <td>2013</td>\n",
              "      <td>10.25</td>\n",
              "      <td>75</td>\n",
              "      <td>103.7</td>\n",
              "      <td>100.2</td>\n",
              "      <td>100.2</td>\n",
              "      <td>1</td>\n",
              "      <td>1</td>\n",
              "      <td>1</td>\n",
              "    </tr>\n",
              "    <tr>\n",
              "      <th>4</th>\n",
              "      <td>DLBAJ100</td>\n",
              "      <td>DLBAJ100-110813</td>\n",
              "      <td>LOS CABOS SEG 22, 2 ISA10B</td>\n",
              "      <td>COSTERO</td>\n",
              "      <td>2013-08-09</td>\n",
              "      <td>2013</td>\n",
              "      <td>10</td>\n",
              "      <td>1</td>\n",
              "      <td>89.5</td>\n",
              "      <td>92.01</td>\n",
              "      <td>93</td>\n",
              "      <td>1</td>\n",
              "      <td>1</td>\n",
              "      <td>1</td>\n",
              "    </tr>\n",
              "  </tbody>\n",
              "</table>\n",
              "</div>\n",
              "    <div class=\"colab-df-buttons\">\n",
              "\n",
              "  <div class=\"colab-df-container\">\n",
              "    <button class=\"colab-df-convert\" onclick=\"convertToInteractive('df-08ca08a6-5ff7-4e72-a73c-20edc7b3fca9')\"\n",
              "            title=\"Convert this dataframe to an interactive table.\"\n",
              "            style=\"display:none;\">\n",
              "\n",
              "  <svg xmlns=\"http://www.w3.org/2000/svg\" height=\"24px\" viewBox=\"0 -960 960 960\">\n",
              "    <path d=\"M120-120v-720h720v720H120Zm60-500h600v-160H180v160Zm220 220h160v-160H400v160Zm0 220h160v-160H400v160ZM180-400h160v-160H180v160Zm440 0h160v-160H620v160ZM180-180h160v-160H180v160Zm440 0h160v-160H620v160Z\"/>\n",
              "  </svg>\n",
              "    </button>\n",
              "\n",
              "  <style>\n",
              "    .colab-df-container {\n",
              "      display:flex;\n",
              "      gap: 12px;\n",
              "    }\n",
              "\n",
              "    .colab-df-convert {\n",
              "      background-color: #E8F0FE;\n",
              "      border: none;\n",
              "      border-radius: 50%;\n",
              "      cursor: pointer;\n",
              "      display: none;\n",
              "      fill: #1967D2;\n",
              "      height: 32px;\n",
              "      padding: 0 0 0 0;\n",
              "      width: 32px;\n",
              "    }\n",
              "\n",
              "    .colab-df-convert:hover {\n",
              "      background-color: #E2EBFA;\n",
              "      box-shadow: 0px 1px 2px rgba(60, 64, 67, 0.3), 0px 1px 3px 1px rgba(60, 64, 67, 0.15);\n",
              "      fill: #174EA6;\n",
              "    }\n",
              "\n",
              "    .colab-df-buttons div {\n",
              "      margin-bottom: 4px;\n",
              "    }\n",
              "\n",
              "    [theme=dark] .colab-df-convert {\n",
              "      background-color: #3B4455;\n",
              "      fill: #D2E3FC;\n",
              "    }\n",
              "\n",
              "    [theme=dark] .colab-df-convert:hover {\n",
              "      background-color: #434B5C;\n",
              "      box-shadow: 0px 1px 3px 1px rgba(0, 0, 0, 0.15);\n",
              "      filter: drop-shadow(0px 1px 2px rgba(0, 0, 0, 0.3));\n",
              "      fill: #FFFFFF;\n",
              "    }\n",
              "  </style>\n",
              "\n",
              "    <script>\n",
              "      const buttonEl =\n",
              "        document.querySelector('#df-08ca08a6-5ff7-4e72-a73c-20edc7b3fca9 button.colab-df-convert');\n",
              "      buttonEl.style.display =\n",
              "        google.colab.kernel.accessAllowed ? 'block' : 'none';\n",
              "\n",
              "      async function convertToInteractive(key) {\n",
              "        const element = document.querySelector('#df-08ca08a6-5ff7-4e72-a73c-20edc7b3fca9');\n",
              "        const dataTable =\n",
              "          await google.colab.kernel.invokeFunction('convertToInteractive',\n",
              "                                                    [key], {});\n",
              "        if (!dataTable) return;\n",
              "\n",
              "        const docLinkHtml = 'Like what you see? Visit the ' +\n",
              "          '<a target=\"_blank\" href=https://colab.research.google.com/notebooks/data_table.ipynb>data table notebook</a>'\n",
              "          + ' to learn more about interactive tables.';\n",
              "        element.innerHTML = '';\n",
              "        dataTable['output_type'] = 'display_data';\n",
              "        await google.colab.output.renderOutput(dataTable, element);\n",
              "        const docLink = document.createElement('div');\n",
              "        docLink.innerHTML = docLinkHtml;\n",
              "        element.appendChild(docLink);\n",
              "      }\n",
              "    </script>\n",
              "  </div>\n",
              "\n",
              "\n",
              "<div id=\"df-f17c0784-fa3e-479f-9b24-c100d5fad305\">\n",
              "  <button class=\"colab-df-quickchart\" onclick=\"quickchart('df-f17c0784-fa3e-479f-9b24-c100d5fad305')\"\n",
              "            title=\"Suggest charts\"\n",
              "            style=\"display:none;\">\n",
              "\n",
              "<svg xmlns=\"http://www.w3.org/2000/svg\" height=\"24px\"viewBox=\"0 0 24 24\"\n",
              "     width=\"24px\">\n",
              "    <g>\n",
              "        <path d=\"M19 3H5c-1.1 0-2 .9-2 2v14c0 1.1.9 2 2 2h14c1.1 0 2-.9 2-2V5c0-1.1-.9-2-2-2zM9 17H7v-7h2v7zm4 0h-2V7h2v10zm4 0h-2v-4h2v4z\"/>\n",
              "    </g>\n",
              "</svg>\n",
              "  </button>\n",
              "\n",
              "<style>\n",
              "  .colab-df-quickchart {\n",
              "      --bg-color: #E8F0FE;\n",
              "      --fill-color: #1967D2;\n",
              "      --hover-bg-color: #E2EBFA;\n",
              "      --hover-fill-color: #174EA6;\n",
              "      --disabled-fill-color: #AAA;\n",
              "      --disabled-bg-color: #DDD;\n",
              "  }\n",
              "\n",
              "  [theme=dark] .colab-df-quickchart {\n",
              "      --bg-color: #3B4455;\n",
              "      --fill-color: #D2E3FC;\n",
              "      --hover-bg-color: #434B5C;\n",
              "      --hover-fill-color: #FFFFFF;\n",
              "      --disabled-bg-color: #3B4455;\n",
              "      --disabled-fill-color: #666;\n",
              "  }\n",
              "\n",
              "  .colab-df-quickchart {\n",
              "    background-color: var(--bg-color);\n",
              "    border: none;\n",
              "    border-radius: 50%;\n",
              "    cursor: pointer;\n",
              "    display: none;\n",
              "    fill: var(--fill-color);\n",
              "    height: 32px;\n",
              "    padding: 0;\n",
              "    width: 32px;\n",
              "  }\n",
              "\n",
              "  .colab-df-quickchart:hover {\n",
              "    background-color: var(--hover-bg-color);\n",
              "    box-shadow: 0 1px 2px rgba(60, 64, 67, 0.3), 0 1px 3px 1px rgba(60, 64, 67, 0.15);\n",
              "    fill: var(--button-hover-fill-color);\n",
              "  }\n",
              "\n",
              "  .colab-df-quickchart-complete:disabled,\n",
              "  .colab-df-quickchart-complete:disabled:hover {\n",
              "    background-color: var(--disabled-bg-color);\n",
              "    fill: var(--disabled-fill-color);\n",
              "    box-shadow: none;\n",
              "  }\n",
              "\n",
              "  .colab-df-spinner {\n",
              "    border: 2px solid var(--fill-color);\n",
              "    border-color: transparent;\n",
              "    border-bottom-color: var(--fill-color);\n",
              "    animation:\n",
              "      spin 1s steps(1) infinite;\n",
              "  }\n",
              "\n",
              "  @keyframes spin {\n",
              "    0% {\n",
              "      border-color: transparent;\n",
              "      border-bottom-color: var(--fill-color);\n",
              "      border-left-color: var(--fill-color);\n",
              "    }\n",
              "    20% {\n",
              "      border-color: transparent;\n",
              "      border-left-color: var(--fill-color);\n",
              "      border-top-color: var(--fill-color);\n",
              "    }\n",
              "    30% {\n",
              "      border-color: transparent;\n",
              "      border-left-color: var(--fill-color);\n",
              "      border-top-color: var(--fill-color);\n",
              "      border-right-color: var(--fill-color);\n",
              "    }\n",
              "    40% {\n",
              "      border-color: transparent;\n",
              "      border-right-color: var(--fill-color);\n",
              "      border-top-color: var(--fill-color);\n",
              "    }\n",
              "    60% {\n",
              "      border-color: transparent;\n",
              "      border-right-color: var(--fill-color);\n",
              "    }\n",
              "    80% {\n",
              "      border-color: transparent;\n",
              "      border-right-color: var(--fill-color);\n",
              "      border-bottom-color: var(--fill-color);\n",
              "    }\n",
              "    90% {\n",
              "      border-color: transparent;\n",
              "      border-bottom-color: var(--fill-color);\n",
              "    }\n",
              "  }\n",
              "</style>\n",
              "\n",
              "  <script>\n",
              "    async function quickchart(key) {\n",
              "      const quickchartButtonEl =\n",
              "        document.querySelector('#' + key + ' button');\n",
              "      quickchartButtonEl.disabled = true;  // To prevent multiple clicks.\n",
              "      quickchartButtonEl.classList.add('colab-df-spinner');\n",
              "      try {\n",
              "        const charts = await google.colab.kernel.invokeFunction(\n",
              "            'suggestCharts', [key], {});\n",
              "      } catch (error) {\n",
              "        console.error('Error during call to suggestCharts:', error);\n",
              "      }\n",
              "      quickchartButtonEl.classList.remove('colab-df-spinner');\n",
              "      quickchartButtonEl.classList.add('colab-df-quickchart-complete');\n",
              "    }\n",
              "    (() => {\n",
              "      let quickchartButtonEl =\n",
              "        document.querySelector('#df-f17c0784-fa3e-479f-9b24-c100d5fad305 button');\n",
              "      quickchartButtonEl.style.display =\n",
              "        google.colab.kernel.accessAllowed ? 'block' : 'none';\n",
              "    })();\n",
              "  </script>\n",
              "</div>\n",
              "\n",
              "    </div>\n",
              "  </div>\n"
            ]
          },
          "metadata": {},
          "execution_count": 6
        }
      ]
    },
    {
      "cell_type": "code",
      "source": [
        "df_coastal.info()"
      ],
      "metadata": {
        "colab": {
          "base_uri": "https://localhost:8080/"
        },
        "outputId": "0ef913aa-d33b-42f2-bd77-3a011d3a9e95",
        "id": "9ElxCnjuFcqe"
      },
      "execution_count": 7,
      "outputs": [
        {
          "output_type": "stream",
          "name": "stdout",
          "text": [
            "<class 'pandas.core.frame.DataFrame'>\n",
            "RangeIndex: 23456 entries, 0 to 23455\n",
            "Data columns (total 14 columns):\n",
            " #   Column               Non-Null Count  Dtype         \n",
            "---  ------               --------------  -----         \n",
            " 0   CLAVE SITIO          23456 non-null  object        \n",
            " 1   CLAVE MONITOREO      23456 non-null  object        \n",
            " 2   NOMBRE DEL SITIO     23456 non-null  object        \n",
            " 3   TIPO CUERPO DE AGUA  23456 non-null  object        \n",
            " 4   FECHA REALIZACIÓN    23456 non-null  datetime64[ns]\n",
            " 5   AÑO                  23456 non-null  int64         \n",
            " 6   TSS                  23290 non-null  object        \n",
            " 7   FC                   22430 non-null  object        \n",
            " 8   ODs%                 22357 non-null  object        \n",
            " 9   ODm%                 9040 non-null   object        \n",
            " 10  ODb%                 7440 non-null   object        \n",
            " 11  FE                   23137 non-null  object        \n",
            " 12  TF15s                23181 non-null  object        \n",
            " 13  TF15b                14857 non-null  object        \n",
            "dtypes: datetime64[ns](1), int64(1), object(12)\n",
            "memory usage: 2.5+ MB\n"
          ]
        }
      ]
    },
    {
      "cell_type": "code",
      "source": [
        "# Change the data type of contaminant columns from object to float64\n",
        "df_coastal = df_coastal.astype({'AÑO':'object','TSS':'float64','FC':'float64','ODs%':'float64','ODm%':'float64','ODb%':'float64','FE':'float64','TF15s':'float64','TF15b':'float64'})"
      ],
      "metadata": {
        "id": "rr7KLIR2Fcqg"
      },
      "execution_count": 8,
      "outputs": []
    },
    {
      "cell_type": "code",
      "source": [
        "# Display summary statistics of the coastal DataFrame\n",
        "df_coastal.describe()"
      ],
      "metadata": {
        "colab": {
          "base_uri": "https://localhost:8080/",
          "height": 300
        },
        "outputId": "c16d4081-b6c1-4d8b-995f-32e227e26a6f",
        "id": "V7FmheMuFcqh"
      },
      "execution_count": 9,
      "outputs": [
        {
          "output_type": "execute_result",
          "data": {
            "text/plain": [
              "                TSS             FC          ODs%         ODm%        ODb%  \\\n",
              "count  23290.000000   22430.000000  22357.000000  9040.000000  7440.00000   \n",
              "mean      56.702114    1510.340660     84.959395    83.150245    80.51307   \n",
              "std      167.116255    5356.001794     25.306520    23.384332    24.90048   \n",
              "min       10.000000       1.000000     10.000000    10.000000     2.50000   \n",
              "25%       12.000000       4.000000     67.900000    68.000000    64.63750   \n",
              "50%       24.000000      30.000000     88.000000    86.900000    85.00000   \n",
              "75%       52.000000     282.000000    101.100000    99.500000    98.80000   \n",
              "max    15003.500000  241960.000000    187.000000   150.000000   150.00000   \n",
              "\n",
              "                 FE         TF15s         TF15b  \n",
              "count  23137.000000  23181.000000  14857.000000  \n",
              "mean     417.827765      1.035384      1.034754  \n",
              "std     2575.548958      1.000825      0.954894  \n",
              "min        1.000000      1.000000      1.000000  \n",
              "25%        3.000000      1.000000      1.000000  \n",
              "50%       10.000000      1.000000      1.000000  \n",
              "75%       20.000000      1.000000      1.000000  \n",
              "max    34480.000000     74.630000     48.076900  "
            ],
            "text/html": [
              "\n",
              "  <div id=\"df-7bf7859a-cbad-40ce-ac24-536b4f6d81ef\" class=\"colab-df-container\">\n",
              "    <div>\n",
              "<style scoped>\n",
              "    .dataframe tbody tr th:only-of-type {\n",
              "        vertical-align: middle;\n",
              "    }\n",
              "\n",
              "    .dataframe tbody tr th {\n",
              "        vertical-align: top;\n",
              "    }\n",
              "\n",
              "    .dataframe thead th {\n",
              "        text-align: right;\n",
              "    }\n",
              "</style>\n",
              "<table border=\"1\" class=\"dataframe\">\n",
              "  <thead>\n",
              "    <tr style=\"text-align: right;\">\n",
              "      <th></th>\n",
              "      <th>TSS</th>\n",
              "      <th>FC</th>\n",
              "      <th>ODs%</th>\n",
              "      <th>ODm%</th>\n",
              "      <th>ODb%</th>\n",
              "      <th>FE</th>\n",
              "      <th>TF15s</th>\n",
              "      <th>TF15b</th>\n",
              "    </tr>\n",
              "  </thead>\n",
              "  <tbody>\n",
              "    <tr>\n",
              "      <th>count</th>\n",
              "      <td>23290.000000</td>\n",
              "      <td>22430.000000</td>\n",
              "      <td>22357.000000</td>\n",
              "      <td>9040.000000</td>\n",
              "      <td>7440.00000</td>\n",
              "      <td>23137.000000</td>\n",
              "      <td>23181.000000</td>\n",
              "      <td>14857.000000</td>\n",
              "    </tr>\n",
              "    <tr>\n",
              "      <th>mean</th>\n",
              "      <td>56.702114</td>\n",
              "      <td>1510.340660</td>\n",
              "      <td>84.959395</td>\n",
              "      <td>83.150245</td>\n",
              "      <td>80.51307</td>\n",
              "      <td>417.827765</td>\n",
              "      <td>1.035384</td>\n",
              "      <td>1.034754</td>\n",
              "    </tr>\n",
              "    <tr>\n",
              "      <th>std</th>\n",
              "      <td>167.116255</td>\n",
              "      <td>5356.001794</td>\n",
              "      <td>25.306520</td>\n",
              "      <td>23.384332</td>\n",
              "      <td>24.90048</td>\n",
              "      <td>2575.548958</td>\n",
              "      <td>1.000825</td>\n",
              "      <td>0.954894</td>\n",
              "    </tr>\n",
              "    <tr>\n",
              "      <th>min</th>\n",
              "      <td>10.000000</td>\n",
              "      <td>1.000000</td>\n",
              "      <td>10.000000</td>\n",
              "      <td>10.000000</td>\n",
              "      <td>2.50000</td>\n",
              "      <td>1.000000</td>\n",
              "      <td>1.000000</td>\n",
              "      <td>1.000000</td>\n",
              "    </tr>\n",
              "    <tr>\n",
              "      <th>25%</th>\n",
              "      <td>12.000000</td>\n",
              "      <td>4.000000</td>\n",
              "      <td>67.900000</td>\n",
              "      <td>68.000000</td>\n",
              "      <td>64.63750</td>\n",
              "      <td>3.000000</td>\n",
              "      <td>1.000000</td>\n",
              "      <td>1.000000</td>\n",
              "    </tr>\n",
              "    <tr>\n",
              "      <th>50%</th>\n",
              "      <td>24.000000</td>\n",
              "      <td>30.000000</td>\n",
              "      <td>88.000000</td>\n",
              "      <td>86.900000</td>\n",
              "      <td>85.00000</td>\n",
              "      <td>10.000000</td>\n",
              "      <td>1.000000</td>\n",
              "      <td>1.000000</td>\n",
              "    </tr>\n",
              "    <tr>\n",
              "      <th>75%</th>\n",
              "      <td>52.000000</td>\n",
              "      <td>282.000000</td>\n",
              "      <td>101.100000</td>\n",
              "      <td>99.500000</td>\n",
              "      <td>98.80000</td>\n",
              "      <td>20.000000</td>\n",
              "      <td>1.000000</td>\n",
              "      <td>1.000000</td>\n",
              "    </tr>\n",
              "    <tr>\n",
              "      <th>max</th>\n",
              "      <td>15003.500000</td>\n",
              "      <td>241960.000000</td>\n",
              "      <td>187.000000</td>\n",
              "      <td>150.000000</td>\n",
              "      <td>150.00000</td>\n",
              "      <td>34480.000000</td>\n",
              "      <td>74.630000</td>\n",
              "      <td>48.076900</td>\n",
              "    </tr>\n",
              "  </tbody>\n",
              "</table>\n",
              "</div>\n",
              "    <div class=\"colab-df-buttons\">\n",
              "\n",
              "  <div class=\"colab-df-container\">\n",
              "    <button class=\"colab-df-convert\" onclick=\"convertToInteractive('df-7bf7859a-cbad-40ce-ac24-536b4f6d81ef')\"\n",
              "            title=\"Convert this dataframe to an interactive table.\"\n",
              "            style=\"display:none;\">\n",
              "\n",
              "  <svg xmlns=\"http://www.w3.org/2000/svg\" height=\"24px\" viewBox=\"0 -960 960 960\">\n",
              "    <path d=\"M120-120v-720h720v720H120Zm60-500h600v-160H180v160Zm220 220h160v-160H400v160Zm0 220h160v-160H400v160ZM180-400h160v-160H180v160Zm440 0h160v-160H620v160ZM180-180h160v-160H180v160Zm440 0h160v-160H620v160Z\"/>\n",
              "  </svg>\n",
              "    </button>\n",
              "\n",
              "  <style>\n",
              "    .colab-df-container {\n",
              "      display:flex;\n",
              "      gap: 12px;\n",
              "    }\n",
              "\n",
              "    .colab-df-convert {\n",
              "      background-color: #E8F0FE;\n",
              "      border: none;\n",
              "      border-radius: 50%;\n",
              "      cursor: pointer;\n",
              "      display: none;\n",
              "      fill: #1967D2;\n",
              "      height: 32px;\n",
              "      padding: 0 0 0 0;\n",
              "      width: 32px;\n",
              "    }\n",
              "\n",
              "    .colab-df-convert:hover {\n",
              "      background-color: #E2EBFA;\n",
              "      box-shadow: 0px 1px 2px rgba(60, 64, 67, 0.3), 0px 1px 3px 1px rgba(60, 64, 67, 0.15);\n",
              "      fill: #174EA6;\n",
              "    }\n",
              "\n",
              "    .colab-df-buttons div {\n",
              "      margin-bottom: 4px;\n",
              "    }\n",
              "\n",
              "    [theme=dark] .colab-df-convert {\n",
              "      background-color: #3B4455;\n",
              "      fill: #D2E3FC;\n",
              "    }\n",
              "\n",
              "    [theme=dark] .colab-df-convert:hover {\n",
              "      background-color: #434B5C;\n",
              "      box-shadow: 0px 1px 3px 1px rgba(0, 0, 0, 0.15);\n",
              "      filter: drop-shadow(0px 1px 2px rgba(0, 0, 0, 0.3));\n",
              "      fill: #FFFFFF;\n",
              "    }\n",
              "  </style>\n",
              "\n",
              "    <script>\n",
              "      const buttonEl =\n",
              "        document.querySelector('#df-7bf7859a-cbad-40ce-ac24-536b4f6d81ef button.colab-df-convert');\n",
              "      buttonEl.style.display =\n",
              "        google.colab.kernel.accessAllowed ? 'block' : 'none';\n",
              "\n",
              "      async function convertToInteractive(key) {\n",
              "        const element = document.querySelector('#df-7bf7859a-cbad-40ce-ac24-536b4f6d81ef');\n",
              "        const dataTable =\n",
              "          await google.colab.kernel.invokeFunction('convertToInteractive',\n",
              "                                                    [key], {});\n",
              "        if (!dataTable) return;\n",
              "\n",
              "        const docLinkHtml = 'Like what you see? Visit the ' +\n",
              "          '<a target=\"_blank\" href=https://colab.research.google.com/notebooks/data_table.ipynb>data table notebook</a>'\n",
              "          + ' to learn more about interactive tables.';\n",
              "        element.innerHTML = '';\n",
              "        dataTable['output_type'] = 'display_data';\n",
              "        await google.colab.output.renderOutput(dataTable, element);\n",
              "        const docLink = document.createElement('div');\n",
              "        docLink.innerHTML = docLinkHtml;\n",
              "        element.appendChild(docLink);\n",
              "      }\n",
              "    </script>\n",
              "  </div>\n",
              "\n",
              "\n",
              "<div id=\"df-d45e3b28-0cc7-43cc-bbfc-408428fd8240\">\n",
              "  <button class=\"colab-df-quickchart\" onclick=\"quickchart('df-d45e3b28-0cc7-43cc-bbfc-408428fd8240')\"\n",
              "            title=\"Suggest charts\"\n",
              "            style=\"display:none;\">\n",
              "\n",
              "<svg xmlns=\"http://www.w3.org/2000/svg\" height=\"24px\"viewBox=\"0 0 24 24\"\n",
              "     width=\"24px\">\n",
              "    <g>\n",
              "        <path d=\"M19 3H5c-1.1 0-2 .9-2 2v14c0 1.1.9 2 2 2h14c1.1 0 2-.9 2-2V5c0-1.1-.9-2-2-2zM9 17H7v-7h2v7zm4 0h-2V7h2v10zm4 0h-2v-4h2v4z\"/>\n",
              "    </g>\n",
              "</svg>\n",
              "  </button>\n",
              "\n",
              "<style>\n",
              "  .colab-df-quickchart {\n",
              "      --bg-color: #E8F0FE;\n",
              "      --fill-color: #1967D2;\n",
              "      --hover-bg-color: #E2EBFA;\n",
              "      --hover-fill-color: #174EA6;\n",
              "      --disabled-fill-color: #AAA;\n",
              "      --disabled-bg-color: #DDD;\n",
              "  }\n",
              "\n",
              "  [theme=dark] .colab-df-quickchart {\n",
              "      --bg-color: #3B4455;\n",
              "      --fill-color: #D2E3FC;\n",
              "      --hover-bg-color: #434B5C;\n",
              "      --hover-fill-color: #FFFFFF;\n",
              "      --disabled-bg-color: #3B4455;\n",
              "      --disabled-fill-color: #666;\n",
              "  }\n",
              "\n",
              "  .colab-df-quickchart {\n",
              "    background-color: var(--bg-color);\n",
              "    border: none;\n",
              "    border-radius: 50%;\n",
              "    cursor: pointer;\n",
              "    display: none;\n",
              "    fill: var(--fill-color);\n",
              "    height: 32px;\n",
              "    padding: 0;\n",
              "    width: 32px;\n",
              "  }\n",
              "\n",
              "  .colab-df-quickchart:hover {\n",
              "    background-color: var(--hover-bg-color);\n",
              "    box-shadow: 0 1px 2px rgba(60, 64, 67, 0.3), 0 1px 3px 1px rgba(60, 64, 67, 0.15);\n",
              "    fill: var(--button-hover-fill-color);\n",
              "  }\n",
              "\n",
              "  .colab-df-quickchart-complete:disabled,\n",
              "  .colab-df-quickchart-complete:disabled:hover {\n",
              "    background-color: var(--disabled-bg-color);\n",
              "    fill: var(--disabled-fill-color);\n",
              "    box-shadow: none;\n",
              "  }\n",
              "\n",
              "  .colab-df-spinner {\n",
              "    border: 2px solid var(--fill-color);\n",
              "    border-color: transparent;\n",
              "    border-bottom-color: var(--fill-color);\n",
              "    animation:\n",
              "      spin 1s steps(1) infinite;\n",
              "  }\n",
              "\n",
              "  @keyframes spin {\n",
              "    0% {\n",
              "      border-color: transparent;\n",
              "      border-bottom-color: var(--fill-color);\n",
              "      border-left-color: var(--fill-color);\n",
              "    }\n",
              "    20% {\n",
              "      border-color: transparent;\n",
              "      border-left-color: var(--fill-color);\n",
              "      border-top-color: var(--fill-color);\n",
              "    }\n",
              "    30% {\n",
              "      border-color: transparent;\n",
              "      border-left-color: var(--fill-color);\n",
              "      border-top-color: var(--fill-color);\n",
              "      border-right-color: var(--fill-color);\n",
              "    }\n",
              "    40% {\n",
              "      border-color: transparent;\n",
              "      border-right-color: var(--fill-color);\n",
              "      border-top-color: var(--fill-color);\n",
              "    }\n",
              "    60% {\n",
              "      border-color: transparent;\n",
              "      border-right-color: var(--fill-color);\n",
              "    }\n",
              "    80% {\n",
              "      border-color: transparent;\n",
              "      border-right-color: var(--fill-color);\n",
              "      border-bottom-color: var(--fill-color);\n",
              "    }\n",
              "    90% {\n",
              "      border-color: transparent;\n",
              "      border-bottom-color: var(--fill-color);\n",
              "    }\n",
              "  }\n",
              "</style>\n",
              "\n",
              "  <script>\n",
              "    async function quickchart(key) {\n",
              "      const quickchartButtonEl =\n",
              "        document.querySelector('#' + key + ' button');\n",
              "      quickchartButtonEl.disabled = true;  // To prevent multiple clicks.\n",
              "      quickchartButtonEl.classList.add('colab-df-spinner');\n",
              "      try {\n",
              "        const charts = await google.colab.kernel.invokeFunction(\n",
              "            'suggestCharts', [key], {});\n",
              "      } catch (error) {\n",
              "        console.error('Error during call to suggestCharts:', error);\n",
              "      }\n",
              "      quickchartButtonEl.classList.remove('colab-df-spinner');\n",
              "      quickchartButtonEl.classList.add('colab-df-quickchart-complete');\n",
              "    }\n",
              "    (() => {\n",
              "      let quickchartButtonEl =\n",
              "        document.querySelector('#df-d45e3b28-0cc7-43cc-bbfc-408428fd8240 button');\n",
              "      quickchartButtonEl.style.display =\n",
              "        google.colab.kernel.accessAllowed ? 'block' : 'none';\n",
              "    })();\n",
              "  </script>\n",
              "</div>\n",
              "\n",
              "    </div>\n",
              "  </div>\n"
            ]
          },
          "metadata": {},
          "execution_count": 9
        }
      ]
    },
    {
      "cell_type": "code",
      "source": [
        "# Display the shape of the coastal DataFrame (number of rows and columns)\n",
        "df_coastal.shape"
      ],
      "metadata": {
        "colab": {
          "base_uri": "https://localhost:8080/"
        },
        "outputId": "a5fede0a-d40a-45cc-bf6b-cbff6f743864",
        "id": "RV9rdy2UFcqj"
      },
      "execution_count": 10,
      "outputs": [
        {
          "output_type": "execute_result",
          "data": {
            "text/plain": [
              "(23456, 14)"
            ]
          },
          "metadata": {},
          "execution_count": 10
        }
      ]
    },
    {
      "cell_type": "code",
      "source": [
        "# Remove rows with missing values from the coastal DataFrame\n",
        "df_coastal = df_coastal.dropna()"
      ],
      "metadata": {
        "id": "bf6cR9dKFcql"
      },
      "execution_count": 11,
      "outputs": []
    },
    {
      "cell_type": "code",
      "source": [
        "# Verify that rows with missing values have been removed from the coastal DataFrame\n",
        "df_coastal.info()"
      ],
      "metadata": {
        "colab": {
          "base_uri": "https://localhost:8080/"
        },
        "outputId": "4420ade0-7ac2-4f50-f475-9d0bbc512ec2",
        "id": "zk3_l_wdFcqm"
      },
      "execution_count": 12,
      "outputs": [
        {
          "output_type": "stream",
          "name": "stdout",
          "text": [
            "<class 'pandas.core.frame.DataFrame'>\n",
            "Int64Index: 5340 entries, 0 to 23397\n",
            "Data columns (total 14 columns):\n",
            " #   Column               Non-Null Count  Dtype         \n",
            "---  ------               --------------  -----         \n",
            " 0   CLAVE SITIO          5340 non-null   object        \n",
            " 1   CLAVE MONITOREO      5340 non-null   object        \n",
            " 2   NOMBRE DEL SITIO     5340 non-null   object        \n",
            " 3   TIPO CUERPO DE AGUA  5340 non-null   object        \n",
            " 4   FECHA REALIZACIÓN    5340 non-null   datetime64[ns]\n",
            " 5   AÑO                  5340 non-null   object        \n",
            " 6   TSS                  5340 non-null   float64       \n",
            " 7   FC                   5340 non-null   float64       \n",
            " 8   ODs%                 5340 non-null   float64       \n",
            " 9   ODm%                 5340 non-null   float64       \n",
            " 10  ODb%                 5340 non-null   float64       \n",
            " 11  FE                   5340 non-null   float64       \n",
            " 12  TF15s                5340 non-null   float64       \n",
            " 13  TF15b                5340 non-null   float64       \n",
            "dtypes: datetime64[ns](1), float64(8), object(5)\n",
            "memory usage: 625.8+ KB\n"
          ]
        }
      ]
    },
    {
      "cell_type": "code",
      "source": [
        "#poner aqui el codigo que descarge el archivo de excel preprocesado, con los metadatos y contaminantes\n",
        "df_coastal.to_excel(\"coastal_preprocessed.xlsx\")"
      ],
      "metadata": {
        "id": "UOz8t8amFcqo"
      },
      "execution_count": null,
      "outputs": []
    },
    {
      "cell_type": "code",
      "source": [
        "# Select the columns you want to include in the heatmap\n",
        "selected_columns_coastal_2012_2021 = df_nm_2012_2021.columns[6:13]  # Replace with the range of column names you want\n",
        "\n",
        "# Create a heatmap of missing values for only the selected columns\n",
        "plt.figure(figsize=(7,3))  # Adjust the size of the figure\n",
        "\n",
        "# Generates a heat map showing the presence of missing values in selected columns\n",
        "heatmap = sns.heatmap(df_nm_2012_2021[selected_columns_coastal_2012_2021].isnull(), cbar=False, cmap='Blues_r')\n",
        "\n",
        "# Rotate the x-axis labels by 90 degrees so they are vertical and increase the font size\n",
        "heatmap.set_xticklabels(heatmap.get_xticklabels(), rotation=90, fontsize=17)\n",
        "\n",
        "# Remove the y-axis ticks and labels\n",
        "heatmap.set_yticks([])\n",
        "heatmap.set_yticklabels([])\n",
        "\n",
        "plt.title('Coastal (2012-2021)', loc='center', fontsize=20)\n",
        "plt.xlabel('', loc='center', fontsize=20)\n",
        "plt.show()"
      ],
      "metadata": {
        "colab": {
          "base_uri": "https://localhost:8080/",
          "height": 390
        },
        "id": "_gQsmj9DZbrt",
        "outputId": "f8b90f65-f604-4fa7-c62f-8a1c28767a58"
      },
      "execution_count": 13,
      "outputs": [
        {
          "output_type": "display_data",
          "data": {
            "text/plain": [
              "<Figure size 700x300 with 1 Axes>"
            ],
            "image/png": "[encoded data removed]"
          },
          "metadata": {}
        }
      ]
    },
    {
      "cell_type": "code",
      "source": [
        "# Select the columns you want to include in the heatmap\n",
        "selected_columns_coastal_2022 = df_nm_2022.columns[6:13]  # Replace with the range of column names you want\n",
        "\n",
        "# Create a heatmap of missing values for only the selected columns\n",
        "plt.figure(figsize=(7,3))  # Adjust the size of the figure\n",
        "\n",
        "# Generates a heat map showing the presence of missing values in selected columns\n",
        "heatmap = sns.heatmap(df_nm_2022[selected_columns_coastal_2022].isnull(), cbar=False, cmap='Blues_r')\n",
        "\n",
        "# Rotate the x-axis labels by 90 degrees so they are vertical and increase the font size\n",
        "heatmap.set_xticklabels(heatmap.get_xticklabels(), rotation=90, fontsize=17)\n",
        "\n",
        "# Remove the y-axis ticks and labels\n",
        "heatmap.set_yticks([])\n",
        "heatmap.set_yticklabels([])\n",
        "\n",
        "plt.title('Coastal (2022)', loc='center', fontsize=20)\n",
        "plt.xlabel('', loc='center', fontsize=20)\n",
        "plt.show()"
      ],
      "metadata": {
        "colab": {
          "base_uri": "https://localhost:8080/",
          "height": 390
        },
        "outputId": "5ea33dfd-0294-41d1-873e-d8d89664f81a",
        "id": "vDng3jhwFcqq"
      },
      "execution_count": 14,
      "outputs": [
        {
          "output_type": "display_data",
          "data": {
            "text/plain": [
              "<Figure size 700x300 with 1 Axes>"
            ],
            "image/png": "[encoded data removed]"
          },
          "metadata": {}
        }
      ]
    },
    {
      "cell_type": "code",
      "source": [
        "#Realizar un analisis exploratorio de los datos anteriores, como matriz de nulidad, y grafica de correlacion y otro tipo de gracicas para el analisis exploratorio"
      ],
      "metadata": {
        "id": "NKhvMsS2Fcqs"
      },
      "execution_count": null,
      "outputs": []
    },
    {
      "cell_type": "markdown",
      "source": [
        "Functions for the 'quality_' and 'complies_' columns\n"
      ],
      "metadata": {
        "id": "BCXyGPQjFcqu"
      }
    },
    {
      "cell_type": "code",
      "source": [
        "# Create a new DataFrame 'data_coastal' by assigning NaN values to columns for water quality and compliance for each contaminant\n",
        "data_coastal = df_coastal.assign(quality_TSS=np.nan,quality_FC=np.nan,quality_ODs=np.nan,quality_ODm=np.nan,quality_ODb=np.nan,quality_FE=np.nan,quality_TF15s=np.nan,quality_TF15b=np.nan,\n",
        "                                complies_TSS=np.nan,complies_FC=np.nan,complies_ODs=np.nan,complies_ODm=np.nan,complies_ODb=np.nan,complies_FE=np.nan,complies_TF15s=np.nan,complies_TF15b=np.nan)"
      ],
      "metadata": {
        "id": "raOhyCCaFcqv"
      },
      "execution_count": null,
      "outputs": []
    },
    {
      "cell_type": "code",
      "source": [
        "data_coastal.columns"
      ],
      "metadata": {
        "colab": {
          "base_uri": "https://localhost:8080/"
        },
        "outputId": "be0c51c0-c431-45cc-c5e7-c36a95fc609e",
        "id": "Ue6gnLLBFcqw"
      },
      "execution_count": null,
      "outputs": [
        {
          "output_type": "execute_result",
          "data": {
            "text/plain": [
              "Index(['CLAVE SITIO', 'CLAVE MONITOREO', 'NOMBRE DEL SITIO',\n",
              "       'TIPO CUERPO DE AGUA', 'FECHA REALIZACIÓN', 'AÑO', 'TSS', 'FC', 'ODs%',\n",
              "       'ODm%', 'ODb%', 'FE', 'TF15s', 'TF15b', 'quality_TSS', 'quality_FC',\n",
              "       'quality_ODs', 'quality_ODm', 'quality_ODb', 'quality_FE',\n",
              "       'quality_TF15s', 'quality_TF15b', 'complies_TSS', 'complies_FC',\n",
              "       'complies_ODs', 'complies_ODm', 'complies_ODb', 'complies_FE',\n",
              "       'complies_TF15s', 'complies_TF15b'],\n",
              "      dtype='object')"
            ]
          },
          "metadata": {},
          "execution_count": 49
        }
      ]
    },
    {
      "cell_type": "code",
      "source": [
        "# Display general information about the new columns added to the data_coastal DataFrame\n",
        "data_coastal.info()"
      ],
      "metadata": {
        "colab": {
          "base_uri": "https://localhost:8080/"
        },
        "outputId": "21cc9d12-7c6b-4325-b40f-289c7a433096",
        "id": "uPnk1hMJFcqy"
      },
      "execution_count": null,
      "outputs": [
        {
          "output_type": "stream",
          "name": "stdout",
          "text": [
            "<class 'pandas.core.frame.DataFrame'>\n",
            "Int64Index: 5340 entries, 0 to 23397\n",
            "Data columns (total 30 columns):\n",
            " #   Column               Non-Null Count  Dtype         \n",
            "---  ------               --------------  -----         \n",
            " 0   CLAVE SITIO          5340 non-null   object        \n",
            " 1   CLAVE MONITOREO      5340 non-null   object        \n",
            " 2   NOMBRE DEL SITIO     5340 non-null   object        \n",
            " 3   TIPO CUERPO DE AGUA  5340 non-null   object        \n",
            " 4   FECHA REALIZACIÓN    5340 non-null   datetime64[ns]\n",
            " 5   AÑO                  5340 non-null   object        \n",
            " 6   TSS                  5340 non-null   float64       \n",
            " 7   FC                   5340 non-null   float64       \n",
            " 8   ODs%                 5340 non-null   float64       \n",
            " 9   ODm%                 5340 non-null   float64       \n",
            " 10  ODb%                 5340 non-null   float64       \n",
            " 11  FE                   5340 non-null   float64       \n",
            " 12  TF15s                5340 non-null   float64       \n",
            " 13  TF15b                5340 non-null   float64       \n",
            " 14  quality_TSS          0 non-null      float64       \n",
            " 15  quality_FC           0 non-null      float64       \n",
            " 16  quality_ODs          0 non-null      float64       \n",
            " 17  quality_ODm          0 non-null      float64       \n",
            " 18  quality_ODb          0 non-null      float64       \n",
            " 19  quality_FE           0 non-null      float64       \n",
            " 20  quality_TF15s        0 non-null      float64       \n",
            " 21  quality_TF15b        0 non-null      float64       \n",
            " 22  complies_TSS         0 non-null      float64       \n",
            " 23  complies_FC          0 non-null      float64       \n",
            " 24  complies_ODs         0 non-null      float64       \n",
            " 25  complies_ODm         0 non-null      float64       \n",
            " 26  complies_ODb         0 non-null      float64       \n",
            " 27  complies_FE          0 non-null      float64       \n",
            " 28  complies_TF15s       0 non-null      float64       \n",
            " 29  complies_TF15b       0 non-null      float64       \n",
            "dtypes: datetime64[ns](1), float64(24), object(5)\n",
            "memory usage: 1.3+ MB\n"
          ]
        }
      ]
    },
    {
      "cell_type": "markdown",
      "source": [
        "Function for the 'quality_' column"
      ],
      "metadata": {
        "id": "TS6e4p_6Fcqz"
      }
    },
    {
      "cell_type": "code",
      "source": [
        "#---------------------------quality_TSS---------------------------------------------------------------------------------\n",
        "col = 'TSS'\n",
        "conditions  = [ data_coastal[col] <= 25, (data_coastal[col] > 25) & (data_coastal[col] <= 75), (data_coastal[col] > 75) & (data_coastal[col] <= 150), (data_coastal[col] > 150) & (data_coastal[col] <= 400), data_coastal[col] > 400 ]\n",
        "choices     = [ 'Excelente', 'Buena calidad', 'Aceptable', 'Contaminada', 'Fuertemente contaminada']\n",
        "data_coastal['quality_TSS'] = np.select(conditions, choices, default=np.nan)\n",
        "\n",
        "#---------------------------quality_FC-------------------------------------------------------------------\n",
        "col = 'FC'\n",
        "conditions  = [ data_coastal[col] <= 100, (data_coastal[col] > 100) & (data_coastal[col] <= 200), (data_coastal[col] > 200) & (data_coastal[col] <= 1000), (data_coastal[col] > 1000) & (data_coastal[col] <= 10000), data_coastal[col] > 10000 ]\n",
        "choices     = [ 'Excelente', 'Buena calidad', 'Aceptable', 'Contaminada', 'Fuertemente contaminada']\n",
        "data_coastal['quality_FC'] = np.select(conditions, choices, default=np.nan)\n",
        "\n",
        "#---------------------------quality_ODs-------------------------------------------------------------------------\n",
        "col = 'ODs%'\n",
        "conditions  = [ (data_coastal[col] > 70) & (data_coastal[col] <= 110),\n",
        "                (((data_coastal[col] > 50) & (data_coastal[col] <= 70))|((data_coastal[col] > 110)&(data_coastal[col] <= 120))),\n",
        "                (((data_coastal[col] > 30) & (data_coastal[col] <= 50))|((data_coastal[col] > 120)&(data_coastal[col] <= 130))),\n",
        "                (((data_coastal[col] > 10) & (data_coastal[col] <= 30))|((data_coastal[col] > 130)&(data_coastal[col] <= 150))),\n",
        "                ((data_coastal[col] <= 10)|(data_coastal[col] > 150)) ]\n",
        "choices     = [ 'Excelente', 'Buena calidad', 'Aceptable', 'Contaminada', 'Fuertemente contaminada']\n",
        "data_coastal['quality_ODs'] = np.select(conditions, choices, default=np.nan)\n",
        "\n",
        "\n",
        "#---------------------------quality_ODm-------------------------------------------------------------------------\n",
        "col = 'ODm%'\n",
        "conditions  = [ (data_coastal[col] > 70) & (data_coastal[col] <= 110),\n",
        "                (((data_coastal[col] > 50) & (data_coastal[col] <= 70))|((data_coastal[col] > 110)&(data_coastal[col] <= 120))),\n",
        "                (((data_coastal[col] > 30) & (data_coastal[col] <= 50))|((data_coastal[col] > 120)&(data_coastal[col] <= 130))),\n",
        "                (((data_coastal[col] > 10) & (data_coastal[col] <= 30))|((data_coastal[col] > 130)&(data_coastal[col] <= 150))),\n",
        "                ((data_coastal[col] <= 10)|(data_coastal[col] > 150)) ]\n",
        "choices     = [ 'Excelente', 'Buena calidad', 'Aceptable', 'Contaminada', 'Fuertemente contaminada']\n",
        "data_coastal['quality_ODm'] = np.select(conditions, choices, default=np.nan)\n",
        "\n",
        "#---------------------------quality_ODb-------------------------------------------------------------------------\n",
        "col = 'ODb%'\n",
        "conditions  = [ (data_coastal[col] > 70) & (data_coastal[col] <= 110),\n",
        "                (((data_coastal[col] > 50) & (data_coastal[col] <= 70))|((data_coastal[col] > 110)&(data_coastal[col] <= 120))),\n",
        "                (((data_coastal[col] > 30) & (data_coastal[col] <= 50))|((data_coastal[col] > 120)&(data_coastal[col] <= 130))),\n",
        "                (((data_coastal[col] > 10) & (data_coastal[col] <= 30))|((data_coastal[col] > 130)&(data_coastal[col] <= 150))),\n",
        "                ((data_coastal[col] <= 10)|(data_coastal[col] > 150)) ]\n",
        "choices     = [ 'Excelente', 'Buena calidad', 'Aceptable', 'Contaminada', 'Fuertemente contaminada']\n",
        "data_coastal['quality_ODb'] = np.select(conditions, choices, default=np.nan)\n",
        "\n",
        "#---------------------------quality_FE--------------------------------------------------------------------------------\n",
        "col = 'FE'\n",
        "conditions  = [ data_coastal[col] <= 100, (data_coastal[col] > 100) & (data_coastal[col] <= 200), (data_coastal[col] > 200) & (data_coastal[col] <= 500), data_coastal[col] > 500 ]\n",
        "choices     = [ 'Excelente', 'Buena calidad', 'Contaminada', 'Fuertemente contaminada']\n",
        "data_coastal['quality_FE'] = np.select(conditions, choices, default=np.nan)\n",
        "\n",
        "#---------------------------quality_TF15s---------------------------------------------------------------------\n",
        "col = 'TF15s'\n",
        "conditions  = [(data_coastal[col] < 1), (data_coastal[col] >= 1) & (data_coastal[col] <= 1.33), (data_coastal[col] > 1.33) & (data_coastal[col] < 5), data_coastal[col] >= 5 ]\n",
        "choices     = [ 'No tóxico', 'Toxicidad baja', 'Toxicidad moderada', 'Toxicidad alta' ]\n",
        "data_coastal['quality_TF15s'] = np.select(conditions, choices, default=np.nan)\n",
        "\n",
        "\n",
        "#---------------------------quality_TF15b---------------------------------------------------------------------\n",
        "col = 'TF15b'\n",
        "conditions  = [(data_coastal[col] < 1), (data_coastal[col] >= 1) & (data_coastal[col] <= 1.33), (data_coastal[col] > 1.33) & (data_coastal[col] < 5), data_coastal[col] >= 5 ]\n",
        "choices     = [ 'No tóxico', 'Toxicidad baja', 'Toxicidad moderada', 'Toxicidad alta' ]\n",
        "data_coastal['quality_TF15b'] = np.select(conditions, choices, default=np.nan)"
      ],
      "metadata": {
        "id": "wIWcwFV1Fcq0"
      },
      "execution_count": null,
      "outputs": []
    },
    {
      "cell_type": "code",
      "source": [
        "data_coastal.iloc[:5, 14:21] #Columnas tipo de quality_"
      ],
      "metadata": {
        "colab": {
          "base_uri": "https://localhost:8080/",
          "height": 206
        },
        "outputId": "e42b04b2-8f05-401c-ccbc-7e60a5d4f226",
        "id": "xvWHovJUFcq3"
      },
      "execution_count": null,
      "outputs": [
        {
          "output_type": "execute_result",
          "data": {
            "text/plain": [
              "  quality_TSS quality_FC quality_ODs quality_ODm quality_ODb quality_FE  \\\n",
              "0   Excelente  Excelente   Excelente   Excelente   Excelente  Excelente   \n",
              "3   Excelente  Excelente   Excelente   Excelente   Excelente  Excelente   \n",
              "4   Excelente  Excelente   Excelente   Excelente   Excelente  Excelente   \n",
              "5   Excelente  Aceptable   Excelente   Excelente   Excelente  Excelente   \n",
              "6   Excelente  Excelente   Excelente   Excelente   Excelente  Excelente   \n",
              "\n",
              "    quality_TF15s  \n",
              "0  Toxicidad baja  \n",
              "3  Toxicidad baja  \n",
              "4  Toxicidad baja  \n",
              "5  Toxicidad baja  \n",
              "6  Toxicidad baja  "
            ],
            "text/html": [
              "\n",
              "  <div id=\"df-19c1ae50-5155-40dc-a060-f9e601164966\" class=\"colab-df-container\">\n",
              "    <div>\n",
              "<style scoped>\n",
              "    .dataframe tbody tr th:only-of-type {\n",
              "        vertical-align: middle;\n",
              "    }\n",
              "\n",
              "    .dataframe tbody tr th {\n",
              "        vertical-align: top;\n",
              "    }\n",
              "\n",
              "    .dataframe thead th {\n",
              "        text-align: right;\n",
              "    }\n",
              "</style>\n",
              "<table border=\"1\" class=\"dataframe\">\n",
              "  <thead>\n",
              "    <tr style=\"text-align: right;\">\n",
              "      <th></th>\n",
              "      <th>quality_TSS</th>\n",
              "      <th>quality_FC</th>\n",
              "      <th>quality_ODs</th>\n",
              "      <th>quality_ODm</th>\n",
              "      <th>quality_ODb</th>\n",
              "      <th>quality_FE</th>\n",
              "      <th>quality_TF15s</th>\n",
              "    </tr>\n",
              "  </thead>\n",
              "  <tbody>\n",
              "    <tr>\n",
              "      <th>0</th>\n",
              "      <td>Excelente</td>\n",
              "      <td>Excelente</td>\n",
              "      <td>Excelente</td>\n",
              "      <td>Excelente</td>\n",
              "      <td>Excelente</td>\n",
              "      <td>Excelente</td>\n",
              "      <td>Toxicidad baja</td>\n",
              "    </tr>\n",
              "    <tr>\n",
              "      <th>3</th>\n",
              "      <td>Excelente</td>\n",
              "      <td>Excelente</td>\n",
              "      <td>Excelente</td>\n",
              "      <td>Excelente</td>\n",
              "      <td>Excelente</td>\n",
              "      <td>Excelente</td>\n",
              "      <td>Toxicidad baja</td>\n",
              "    </tr>\n",
              "    <tr>\n",
              "      <th>4</th>\n",
              "      <td>Excelente</td>\n",
              "      <td>Excelente</td>\n",
              "      <td>Excelente</td>\n",
              "      <td>Excelente</td>\n",
              "      <td>Excelente</td>\n",
              "      <td>Excelente</td>\n",
              "      <td>Toxicidad baja</td>\n",
              "    </tr>\n",
              "    <tr>\n",
              "      <th>5</th>\n",
              "      <td>Excelente</td>\n",
              "      <td>Aceptable</td>\n",
              "      <td>Excelente</td>\n",
              "      <td>Excelente</td>\n",
              "      <td>Excelente</td>\n",
              "      <td>Excelente</td>\n",
              "      <td>Toxicidad baja</td>\n",
              "    </tr>\n",
              "    <tr>\n",
              "      <th>6</th>\n",
              "      <td>Excelente</td>\n",
              "      <td>Excelente</td>\n",
              "      <td>Excelente</td>\n",
              "      <td>Excelente</td>\n",
              "      <td>Excelente</td>\n",
              "      <td>Excelente</td>\n",
              "      <td>Toxicidad baja</td>\n",
              "    </tr>\n",
              "  </tbody>\n",
              "</table>\n",
              "</div>\n",
              "    <div class=\"colab-df-buttons\">\n",
              "\n",
              "  <div class=\"colab-df-container\">\n",
              "    <button class=\"colab-df-convert\" onclick=\"convertToInteractive('df-19c1ae50-5155-40dc-a060-f9e601164966')\"\n",
              "            title=\"Convert this dataframe to an interactive table.\"\n",
              "            style=\"display:none;\">\n",
              "\n",
              "  <svg xmlns=\"http://www.w3.org/2000/svg\" height=\"24px\" viewBox=\"0 -960 960 960\">\n",
              "    <path d=\"M120-120v-720h720v720H120Zm60-500h600v-160H180v160Zm220 220h160v-160H400v160Zm0 220h160v-160H400v160ZM180-400h160v-160H180v160Zm440 0h160v-160H620v160ZM180-180h160v-160H180v160Zm440 0h160v-160H620v160Z\"/>\n",
              "  </svg>\n",
              "    </button>\n",
              "\n",
              "  <style>\n",
              "    .colab-df-container {\n",
              "      display:flex;\n",
              "      gap: 12px;\n",
              "    }\n",
              "\n",
              "    .colab-df-convert {\n",
              "      background-color: #E8F0FE;\n",
              "      border: none;\n",
              "      border-radius: 50%;\n",
              "      cursor: pointer;\n",
              "      display: none;\n",
              "      fill: #1967D2;\n",
              "      height: 32px;\n",
              "      padding: 0 0 0 0;\n",
              "      width: 32px;\n",
              "    }\n",
              "\n",
              "    .colab-df-convert:hover {\n",
              "      background-color: #E2EBFA;\n",
              "      box-shadow: 0px 1px 2px rgba(60, 64, 67, 0.3), 0px 1px 3px 1px rgba(60, 64, 67, 0.15);\n",
              "      fill: #174EA6;\n",
              "    }\n",
              "\n",
              "    .colab-df-buttons div {\n",
              "      margin-bottom: 4px;\n",
              "    }\n",
              "\n",
              "    [theme=dark] .colab-df-convert {\n",
              "      background-color: #3B4455;\n",
              "      fill: #D2E3FC;\n",
              "    }\n",
              "\n",
              "    [theme=dark] .colab-df-convert:hover {\n",
              "      background-color: #434B5C;\n",
              "      box-shadow: 0px 1px 3px 1px rgba(0, 0, 0, 0.15);\n",
              "      filter: drop-shadow(0px 1px 2px rgba(0, 0, 0, 0.3));\n",
              "      fill: #FFFFFF;\n",
              "    }\n",
              "  </style>\n",
              "\n",
              "    <script>\n",
              "      const buttonEl =\n",
              "        document.querySelector('#df-19c1ae50-5155-40dc-a060-f9e601164966 button.colab-df-convert');\n",
              "      buttonEl.style.display =\n",
              "        google.colab.kernel.accessAllowed ? 'block' : 'none';\n",
              "\n",
              "      async function convertToInteractive(key) {\n",
              "        const element = document.querySelector('#df-19c1ae50-5155-40dc-a060-f9e601164966');\n",
              "        const dataTable =\n",
              "          await google.colab.kernel.invokeFunction('convertToInteractive',\n",
              "                                                    [key], {});\n",
              "        if (!dataTable) return;\n",
              "\n",
              "        const docLinkHtml = 'Like what you see? Visit the ' +\n",
              "          '<a target=\"_blank\" href=https://colab.research.google.com/notebooks/data_table.ipynb>data table notebook</a>'\n",
              "          + ' to learn more about interactive tables.';\n",
              "        element.innerHTML = '';\n",
              "        dataTable['output_type'] = 'display_data';\n",
              "        await google.colab.output.renderOutput(dataTable, element);\n",
              "        const docLink = document.createElement('div');\n",
              "        docLink.innerHTML = docLinkHtml;\n",
              "        element.appendChild(docLink);\n",
              "      }\n",
              "    </script>\n",
              "  </div>\n",
              "\n",
              "\n",
              "<div id=\"df-f863a515-a439-4bd0-92c4-185aa4f02dc2\">\n",
              "  <button class=\"colab-df-quickchart\" onclick=\"quickchart('df-f863a515-a439-4bd0-92c4-185aa4f02dc2')\"\n",
              "            title=\"Suggest charts\"\n",
              "            style=\"display:none;\">\n",
              "\n",
              "<svg xmlns=\"http://www.w3.org/2000/svg\" height=\"24px\"viewBox=\"0 0 24 24\"\n",
              "     width=\"24px\">\n",
              "    <g>\n",
              "        <path d=\"M19 3H5c-1.1 0-2 .9-2 2v14c0 1.1.9 2 2 2h14c1.1 0 2-.9 2-2V5c0-1.1-.9-2-2-2zM9 17H7v-7h2v7zm4 0h-2V7h2v10zm4 0h-2v-4h2v4z\"/>\n",
              "    </g>\n",
              "</svg>\n",
              "  </button>\n",
              "\n",
              "<style>\n",
              "  .colab-df-quickchart {\n",
              "      --bg-color: #E8F0FE;\n",
              "      --fill-color: #1967D2;\n",
              "      --hover-bg-color: #E2EBFA;\n",
              "      --hover-fill-color: #174EA6;\n",
              "      --disabled-fill-color: #AAA;\n",
              "      --disabled-bg-color: #DDD;\n",
              "  }\n",
              "\n",
              "  [theme=dark] .colab-df-quickchart {\n",
              "      --bg-color: #3B4455;\n",
              "      --fill-color: #D2E3FC;\n",
              "      --hover-bg-color: #434B5C;\n",
              "      --hover-fill-color: #FFFFFF;\n",
              "      --disabled-bg-color: #3B4455;\n",
              "      --disabled-fill-color: #666;\n",
              "  }\n",
              "\n",
              "  .colab-df-quickchart {\n",
              "    background-color: var(--bg-color);\n",
              "    border: none;\n",
              "    border-radius: 50%;\n",
              "    cursor: pointer;\n",
              "    display: none;\n",
              "    fill: var(--fill-color);\n",
              "    height: 32px;\n",
              "    padding: 0;\n",
              "    width: 32px;\n",
              "  }\n",
              "\n",
              "  .colab-df-quickchart:hover {\n",
              "    background-color: var(--hover-bg-color);\n",
              "    box-shadow: 0 1px 2px rgba(60, 64, 67, 0.3), 0 1px 3px 1px rgba(60, 64, 67, 0.15);\n",
              "    fill: var(--button-hover-fill-color);\n",
              "  }\n",
              "\n",
              "  .colab-df-quickchart-complete:disabled,\n",
              "  .colab-df-quickchart-complete:disabled:hover {\n",
              "    background-color: var(--disabled-bg-color);\n",
              "    fill: var(--disabled-fill-color);\n",
              "    box-shadow: none;\n",
              "  }\n",
              "\n",
              "  .colab-df-spinner {\n",
              "    border: 2px solid var(--fill-color);\n",
              "    border-color: transparent;\n",
              "    border-bottom-color: var(--fill-color);\n",
              "    animation:\n",
              "      spin 1s steps(1) infinite;\n",
              "  }\n",
              "\n",
              "  @keyframes spin {\n",
              "    0% {\n",
              "      border-color: transparent;\n",
              "      border-bottom-color: var(--fill-color);\n",
              "      border-left-color: var(--fill-color);\n",
              "    }\n",
              "    20% {\n",
              "      border-color: transparent;\n",
              "      border-left-color: var(--fill-color);\n",
              "      border-top-color: var(--fill-color);\n",
              "    }\n",
              "    30% {\n",
              "      border-color: transparent;\n",
              "      border-left-color: var(--fill-color);\n",
              "      border-top-color: var(--fill-color);\n",
              "      border-right-color: var(--fill-color);\n",
              "    }\n",
              "    40% {\n",
              "      border-color: transparent;\n",
              "      border-right-color: var(--fill-color);\n",
              "      border-top-color: var(--fill-color);\n",
              "    }\n",
              "    60% {\n",
              "      border-color: transparent;\n",
              "      border-right-color: var(--fill-color);\n",
              "    }\n",
              "    80% {\n",
              "      border-color: transparent;\n",
              "      border-right-color: var(--fill-color);\n",
              "      border-bottom-color: var(--fill-color);\n",
              "    }\n",
              "    90% {\n",
              "      border-color: transparent;\n",
              "      border-bottom-color: var(--fill-color);\n",
              "    }\n",
              "  }\n",
              "</style>\n",
              "\n",
              "  <script>\n",
              "    async function quickchart(key) {\n",
              "      const quickchartButtonEl =\n",
              "        document.querySelector('#' + key + ' button');\n",
              "      quickchartButtonEl.disabled = true;  // To prevent multiple clicks.\n",
              "      quickchartButtonEl.classList.add('colab-df-spinner');\n",
              "      try {\n",
              "        const charts = await google.colab.kernel.invokeFunction(\n",
              "            'suggestCharts', [key], {});\n",
              "      } catch (error) {\n",
              "        console.error('Error during call to suggestCharts:', error);\n",
              "      }\n",
              "      quickchartButtonEl.classList.remove('colab-df-spinner');\n",
              "      quickchartButtonEl.classList.add('colab-df-quickchart-complete');\n",
              "    }\n",
              "    (() => {\n",
              "      let quickchartButtonEl =\n",
              "        document.querySelector('#df-f863a515-a439-4bd0-92c4-185aa4f02dc2 button');\n",
              "      quickchartButtonEl.style.display =\n",
              "        google.colab.kernel.accessAllowed ? 'block' : 'none';\n",
              "    })();\n",
              "  </script>\n",
              "</div>\n",
              "\n",
              "    </div>\n",
              "  </div>\n"
            ]
          },
          "metadata": {},
          "execution_count": 52
        }
      ]
    },
    {
      "cell_type": "markdown",
      "source": [
        "Function for the 'complies_' column"
      ],
      "metadata": {
        "id": "sFCTjxDUFcq5"
      }
    },
    {
      "cell_type": "code",
      "source": [
        "#---------------------------complies for quality_TSS-----------------------------------------------------\n",
        "col = 'quality_TSS'\n",
        "conditions  = [ data_coastal[col] == 'Excelente', data_coastal[col] == 'Buena calidad', data_coastal[col] == 'Aceptable', data_coastal[col] == 'Contaminada', data_coastal[col] == 'Fuertemente contaminada']\n",
        "choices     = [ 1, 1, 1, 0, 0 ]\n",
        "data_coastal['complies_TSS'] = np.select(conditions, choices, default=np.nan)\n",
        "data_coastal['complies_TSS'] = data_coastal['complies_TSS'].astype('int32')\n",
        "\n",
        "#---------------------------complies for quality_FC-----------------------------------------------------\n",
        "col = 'quality_FC'\n",
        "conditions  = [ data_coastal[col] == 'Excelente', data_coastal[col] == 'Buena calidad', data_coastal[col] == 'Aceptable', data_coastal[col] == 'Contaminada', data_coastal[col] == 'Fuertemente contaminada']\n",
        "choices     = [ 1, 1, 1, 0, 0 ]\n",
        "data_coastal['complies_FC'] = np.select(conditions, choices, default=np.nan)\n",
        "data_coastal['complies_FC'] = data_coastal['complies_FC'].astype('int32')\n",
        "\n",
        "#---------------------------complies for quality_ODs-----------------------------------------------------\n",
        "col = 'quality_ODs'\n",
        "conditions  = [ data_coastal[col] == 'Excelente', data_coastal[col] == 'Buena calidad', data_coastal[col] == 'Aceptable', data_coastal[col] == 'Contaminada', data_coastal[col] == 'Fuertemente contaminada']\n",
        "choices     = [ 1, 1, 1, 0, 0 ]\n",
        "data_coastal['complies_ODs'] = np.select(conditions, choices, default=np.nan)\n",
        "data_coastal['complies_ODs'] = data_coastal['complies_ODs'].astype('int32')\n",
        "\n",
        "#---------------------------complies for quality_ODm-----------------------------------------------------\n",
        "col = 'quality_ODm'\n",
        "conditions  = [ data_coastal[col] == 'Excelente', data_coastal[col] == 'Buena calidad', data_coastal[col] == 'Aceptable', data_coastal[col] == 'Contaminada', data_coastal[col] == 'Fuertemente contaminada']\n",
        "choices     = [ 1, 1, 1, 0, 0 ]\n",
        "data_coastal['complies_ODm'] = np.select(conditions, choices, default=np.nan)\n",
        "data_coastal['complies_ODm'] = data_coastal['complies_ODm'].astype('int32')\n",
        "\n",
        "#---------------------------complies for quality_ODb-----------------------------------------------------\n",
        "col = 'quality_ODb'\n",
        "conditions  = [ data_coastal[col] == 'Excelente', data_coastal[col] == 'Buena calidad', data_coastal[col] == 'Aceptable', data_coastal[col] == 'Contaminada', data_coastal[col] == 'Fuertemente contaminada']\n",
        "choices     = [ 1, 1, 1, 0, 0 ]\n",
        "data_coastal['complies_ODb'] = np.select(conditions, choices, default=np.nan)\n",
        "data_coastal['complies_ODb'] = data_coastal['complies_ODb'].astype('int32')\n",
        "\n",
        "#---------------------------complies for quality_FE-----------------------------------------------------\n",
        "col = 'quality_FE'\n",
        "conditions  = [ data_coastal[col] == 'Excelente', data_coastal[col] == 'Buena calidad', data_coastal[col] == 'Contaminada', data_coastal[col] == 'Fuertemente contaminada']\n",
        "choices     = [ 1, 1, 0, 0 ]\n",
        "data_coastal['complies_FE'] = np.select(conditions, choices, default=np.nan)\n",
        "data_coastal['complies_FE'] = data_coastal['complies_FE'].astype('int32')\n",
        "\n",
        "#---------------------------complies for quality_TF15s-----------------------------------------------------\n",
        "col = 'quality_TF15s'\n",
        "conditions  = [ data_coastal[col] == 'No tóxico', data_coastal[col] == 'Toxicidad baja', data_coastal[col] == 'Toxicidad moderada', data_coastal[col] == 'Toxicidad alta']\n",
        "choices     = [ 1, 1, 1, 0 ]\n",
        "data_coastal['complies_TF15s'] = np.select(conditions, choices, default=np.nan)\n",
        "data_coastal['complies_TF15s'] = data_coastal['complies_TF15s'].astype('int32')\n",
        "\n",
        "#---------------------------complies for quality_TF15b-----------------------------------------------------\n",
        "col = 'quality_TF15b'\n",
        "conditions  = [ data_coastal[col] == 'No tóxico', data_coastal[col] == 'Toxicidad baja', data_coastal[col] == 'Toxicidad moderada', data_coastal[col] == 'Toxicidad alta']\n",
        "choices     = [ 1, 1, 1, 0 ]\n",
        "data_coastal['complies_TF15b'] = np.select(conditions, choices, default=np.nan)\n",
        "data_coastal['complies_TF15b'] = data_coastal['complies_TF15b'].astype('int32')"
      ],
      "metadata": {
        "id": "Vd0w_qFAFcq7"
      },
      "execution_count": null,
      "outputs": []
    },
    {
      "cell_type": "code",
      "source": [
        "data_coastal.iloc[:5, 22:]"
      ],
      "metadata": {
        "colab": {
          "base_uri": "https://localhost:8080/",
          "height": 206
        },
        "outputId": "4fded3f1-4dd0-4d82-b4aa-1db6c2e0f4bd",
        "id": "F6GdevF3Fcq-"
      },
      "execution_count": null,
      "outputs": [
        {
          "output_type": "execute_result",
          "data": {
            "text/plain": [
              "   complies_TSS  complies_FC  complies_ODs  complies_ODm  complies_ODb  \\\n",
              "0             1            1             1             1             1   \n",
              "3             1            1             1             1             1   \n",
              "4             1            1             1             1             1   \n",
              "5             1            1             1             1             1   \n",
              "6             1            1             1             1             1   \n",
              "\n",
              "   complies_FE  complies_TF15s  complies_TF15b  \n",
              "0            1               1               1  \n",
              "3            1               1               1  \n",
              "4            1               1               1  \n",
              "5            1               1               1  \n",
              "6            1               1               1  "
            ],
            "text/html": [
              "\n",
              "  <div id=\"df-098e4fff-b6ac-465a-9e3b-0017dbe57289\" class=\"colab-df-container\">\n",
              "    <div>\n",
              "<style scoped>\n",
              "    .dataframe tbody tr th:only-of-type {\n",
              "        vertical-align: middle;\n",
              "    }\n",
              "\n",
              "    .dataframe tbody tr th {\n",
              "        vertical-align: top;\n",
              "    }\n",
              "\n",
              "    .dataframe thead th {\n",
              "        text-align: right;\n",
              "    }\n",
              "</style>\n",
              "<table border=\"1\" class=\"dataframe\">\n",
              "  <thead>\n",
              "    <tr style=\"text-align: right;\">\n",
              "      <th></th>\n",
              "      <th>complies_TSS</th>\n",
              "      <th>complies_FC</th>\n",
              "      <th>complies_ODs</th>\n",
              "      <th>complies_ODm</th>\n",
              "      <th>complies_ODb</th>\n",
              "      <th>complies_FE</th>\n",
              "      <th>complies_TF15s</th>\n",
              "      <th>complies_TF15b</th>\n",
              "    </tr>\n",
              "  </thead>\n",
              "  <tbody>\n",
              "    <tr>\n",
              "      <th>0</th>\n",
              "      <td>1</td>\n",
              "      <td>1</td>\n",
              "      <td>1</td>\n",
              "      <td>1</td>\n",
              "      <td>1</td>\n",
              "      <td>1</td>\n",
              "      <td>1</td>\n",
              "      <td>1</td>\n",
              "    </tr>\n",
              "    <tr>\n",
              "      <th>3</th>\n",
              "      <td>1</td>\n",
              "      <td>1</td>\n",
              "      <td>1</td>\n",
              "      <td>1</td>\n",
              "      <td>1</td>\n",
              "      <td>1</td>\n",
              "      <td>1</td>\n",
              "      <td>1</td>\n",
              "    </tr>\n",
              "    <tr>\n",
              "      <th>4</th>\n",
              "      <td>1</td>\n",
              "      <td>1</td>\n",
              "      <td>1</td>\n",
              "      <td>1</td>\n",
              "      <td>1</td>\n",
              "      <td>1</td>\n",
              "      <td>1</td>\n",
              "      <td>1</td>\n",
              "    </tr>\n",
              "    <tr>\n",
              "      <th>5</th>\n",
              "      <td>1</td>\n",
              "      <td>1</td>\n",
              "      <td>1</td>\n",
              "      <td>1</td>\n",
              "      <td>1</td>\n",
              "      <td>1</td>\n",
              "      <td>1</td>\n",
              "      <td>1</td>\n",
              "    </tr>\n",
              "    <tr>\n",
              "      <th>6</th>\n",
              "      <td>1</td>\n",
              "      <td>1</td>\n",
              "      <td>1</td>\n",
              "      <td>1</td>\n",
              "      <td>1</td>\n",
              "      <td>1</td>\n",
              "      <td>1</td>\n",
              "      <td>1</td>\n",
              "    </tr>\n",
              "  </tbody>\n",
              "</table>\n",
              "</div>\n",
              "    <div class=\"colab-df-buttons\">\n",
              "\n",
              "  <div class=\"colab-df-container\">\n",
              "    <button class=\"colab-df-convert\" onclick=\"convertToInteractive('df-098e4fff-b6ac-465a-9e3b-0017dbe57289')\"\n",
              "            title=\"Convert this dataframe to an interactive table.\"\n",
              "            style=\"display:none;\">\n",
              "\n",
              "  <svg xmlns=\"http://www.w3.org/2000/svg\" height=\"24px\" viewBox=\"0 -960 960 960\">\n",
              "    <path d=\"M120-120v-720h720v720H120Zm60-500h600v-160H180v160Zm220 220h160v-160H400v160Zm0 220h160v-160H400v160ZM180-400h160v-160H180v160Zm440 0h160v-160H620v160ZM180-180h160v-160H180v160Zm440 0h160v-160H620v160Z\"/>\n",
              "  </svg>\n",
              "    </button>\n",
              "\n",
              "  <style>\n",
              "    .colab-df-container {\n",
              "      display:flex;\n",
              "      gap: 12px;\n",
              "    }\n",
              "\n",
              "    .colab-df-convert {\n",
              "      background-color: #E8F0FE;\n",
              "      border: none;\n",
              "      border-radius: 50%;\n",
              "      cursor: pointer;\n",
              "      display: none;\n",
              "      fill: #1967D2;\n",
              "      height: 32px;\n",
              "      padding: 0 0 0 0;\n",
              "      width: 32px;\n",
              "    }\n",
              "\n",
              "    .colab-df-convert:hover {\n",
              "      background-color: #E2EBFA;\n",
              "      box-shadow: 0px 1px 2px rgba(60, 64, 67, 0.3), 0px 1px 3px 1px rgba(60, 64, 67, 0.15);\n",
              "      fill: #174EA6;\n",
              "    }\n",
              "\n",
              "    .colab-df-buttons div {\n",
              "      margin-bottom: 4px;\n",
              "    }\n",
              "\n",
              "    [theme=dark] .colab-df-convert {\n",
              "      background-color: #3B4455;\n",
              "      fill: #D2E3FC;\n",
              "    }\n",
              "\n",
              "    [theme=dark] .colab-df-convert:hover {\n",
              "      background-color: #434B5C;\n",
              "      box-shadow: 0px 1px 3px 1px rgba(0, 0, 0, 0.15);\n",
              "      filter: drop-shadow(0px 1px 2px rgba(0, 0, 0, 0.3));\n",
              "      fill: #FFFFFF;\n",
              "    }\n",
              "  </style>\n",
              "\n",
              "    <script>\n",
              "      const buttonEl =\n",
              "        document.querySelector('#df-098e4fff-b6ac-465a-9e3b-0017dbe57289 button.colab-df-convert');\n",
              "      buttonEl.style.display =\n",
              "        google.colab.kernel.accessAllowed ? 'block' : 'none';\n",
              "\n",
              "      async function convertToInteractive(key) {\n",
              "        const element = document.querySelector('#df-098e4fff-b6ac-465a-9e3b-0017dbe57289');\n",
              "        const dataTable =\n",
              "          await google.colab.kernel.invokeFunction('convertToInteractive',\n",
              "                                                    [key], {});\n",
              "        if (!dataTable) return;\n",
              "\n",
              "        const docLinkHtml = 'Like what you see? Visit the ' +\n",
              "          '<a target=\"_blank\" href=https://colab.research.google.com/notebooks/data_table.ipynb>data table notebook</a>'\n",
              "          + ' to learn more about interactive tables.';\n",
              "        element.innerHTML = '';\n",
              "        dataTable['output_type'] = 'display_data';\n",
              "        await google.colab.output.renderOutput(dataTable, element);\n",
              "        const docLink = document.createElement('div');\n",
              "        docLink.innerHTML = docLinkHtml;\n",
              "        element.appendChild(docLink);\n",
              "      }\n",
              "    </script>\n",
              "  </div>\n",
              "\n",
              "\n",
              "<div id=\"df-70593eb1-3871-4744-91a4-2509f0cef10b\">\n",
              "  <button class=\"colab-df-quickchart\" onclick=\"quickchart('df-70593eb1-3871-4744-91a4-2509f0cef10b')\"\n",
              "            title=\"Suggest charts\"\n",
              "            style=\"display:none;\">\n",
              "\n",
              "<svg xmlns=\"http://www.w3.org/2000/svg\" height=\"24px\"viewBox=\"0 0 24 24\"\n",
              "     width=\"24px\">\n",
              "    <g>\n",
              "        <path d=\"M19 3H5c-1.1 0-2 .9-2 2v14c0 1.1.9 2 2 2h14c1.1 0 2-.9 2-2V5c0-1.1-.9-2-2-2zM9 17H7v-7h2v7zm4 0h-2V7h2v10zm4 0h-2v-4h2v4z\"/>\n",
              "    </g>\n",
              "</svg>\n",
              "  </button>\n",
              "\n",
              "<style>\n",
              "  .colab-df-quickchart {\n",
              "      --bg-color: #E8F0FE;\n",
              "      --fill-color: #1967D2;\n",
              "      --hover-bg-color: #E2EBFA;\n",
              "      --hover-fill-color: #174EA6;\n",
              "      --disabled-fill-color: #AAA;\n",
              "      --disabled-bg-color: #DDD;\n",
              "  }\n",
              "\n",
              "  [theme=dark] .colab-df-quickchart {\n",
              "      --bg-color: #3B4455;\n",
              "      --fill-color: #D2E3FC;\n",
              "      --hover-bg-color: #434B5C;\n",
              "      --hover-fill-color: #FFFFFF;\n",
              "      --disabled-bg-color: #3B4455;\n",
              "      --disabled-fill-color: #666;\n",
              "  }\n",
              "\n",
              "  .colab-df-quickchart {\n",
              "    background-color: var(--bg-color);\n",
              "    border: none;\n",
              "    border-radius: 50%;\n",
              "    cursor: pointer;\n",
              "    display: none;\n",
              "    fill: var(--fill-color);\n",
              "    height: 32px;\n",
              "    padding: 0;\n",
              "    width: 32px;\n",
              "  }\n",
              "\n",
              "  .colab-df-quickchart:hover {\n",
              "    background-color: var(--hover-bg-color);\n",
              "    box-shadow: 0 1px 2px rgba(60, 64, 67, 0.3), 0 1px 3px 1px rgba(60, 64, 67, 0.15);\n",
              "    fill: var(--button-hover-fill-color);\n",
              "  }\n",
              "\n",
              "  .colab-df-quickchart-complete:disabled,\n",
              "  .colab-df-quickchart-complete:disabled:hover {\n",
              "    background-color: var(--disabled-bg-color);\n",
              "    fill: var(--disabled-fill-color);\n",
              "    box-shadow: none;\n",
              "  }\n",
              "\n",
              "  .colab-df-spinner {\n",
              "    border: 2px solid var(--fill-color);\n",
              "    border-color: transparent;\n",
              "    border-bottom-color: var(--fill-color);\n",
              "    animation:\n",
              "      spin 1s steps(1) infinite;\n",
              "  }\n",
              "\n",
              "  @keyframes spin {\n",
              "    0% {\n",
              "      border-color: transparent;\n",
              "      border-bottom-color: var(--fill-color);\n",
              "      border-left-color: var(--fill-color);\n",
              "    }\n",
              "    20% {\n",
              "      border-color: transparent;\n",
              "      border-left-color: var(--fill-color);\n",
              "      border-top-color: var(--fill-color);\n",
              "    }\n",
              "    30% {\n",
              "      border-color: transparent;\n",
              "      border-left-color: var(--fill-color);\n",
              "      border-top-color: var(--fill-color);\n",
              "      border-right-color: var(--fill-color);\n",
              "    }\n",
              "    40% {\n",
              "      border-color: transparent;\n",
              "      border-right-color: var(--fill-color);\n",
              "      border-top-color: var(--fill-color);\n",
              "    }\n",
              "    60% {\n",
              "      border-color: transparent;\n",
              "      border-right-color: var(--fill-color);\n",
              "    }\n",
              "    80% {\n",
              "      border-color: transparent;\n",
              "      border-right-color: var(--fill-color);\n",
              "      border-bottom-color: var(--fill-color);\n",
              "    }\n",
              "    90% {\n",
              "      border-color: transparent;\n",
              "      border-bottom-color: var(--fill-color);\n",
              "    }\n",
              "  }\n",
              "</style>\n",
              "\n",
              "  <script>\n",
              "    async function quickchart(key) {\n",
              "      const quickchartButtonEl =\n",
              "        document.querySelector('#' + key + ' button');\n",
              "      quickchartButtonEl.disabled = true;  // To prevent multiple clicks.\n",
              "      quickchartButtonEl.classList.add('colab-df-spinner');\n",
              "      try {\n",
              "        const charts = await google.colab.kernel.invokeFunction(\n",
              "            'suggestCharts', [key], {});\n",
              "      } catch (error) {\n",
              "        console.error('Error during call to suggestCharts:', error);\n",
              "      }\n",
              "      quickchartButtonEl.classList.remove('colab-df-spinner');\n",
              "      quickchartButtonEl.classList.add('colab-df-quickchart-complete');\n",
              "    }\n",
              "    (() => {\n",
              "      let quickchartButtonEl =\n",
              "        document.querySelector('#df-70593eb1-3871-4744-91a4-2509f0cef10b button');\n",
              "      quickchartButtonEl.style.display =\n",
              "        google.colab.kernel.accessAllowed ? 'block' : 'none';\n",
              "    })();\n",
              "  </script>\n",
              "</div>\n",
              "\n",
              "    </div>\n",
              "  </div>\n"
            ]
          },
          "metadata": {},
          "execution_count": 54
        }
      ]
    },
    {
      "cell_type": "markdown",
      "source": [
        "Assignment of water quality"
      ],
      "metadata": {
        "id": "RM5zvYJ5FcrA"
      }
    },
    {
      "cell_type": "code",
      "source": [
        "conditions  = [(data_coastal['complies_TF15s'] == 0) | (data_coastal['complies_TF15b'] == 0) | (data_coastal['complies_FE'] == 0),\n",
        "               (data_coastal['complies_FC'] == 0) | (data_coastal['complies_TSS'] == 0) | (data_coastal['complies_ODs'] == 0) | (data_coastal['complies_ODm'] == 0) | (data_coastal['complies_ODb'] == 0),\n",
        "               (data_coastal['complies_FC'] == 1) & (data_coastal['complies_TF15s'] == 1) & (data_coastal['complies_TF15b'] == 1) & (data_coastal['complies_ODs'] == 1) & (data_coastal['complies_ODm'] == 1) & (data_coastal['complies_ODb'] == 1) & (data_coastal['complies_FE'] == 1) & (data_coastal['complies_TSS'] == 1)]\n",
        "choices     = [2, 1, 0]\n",
        "data_coastal['Water quality'] = np.select(conditions, choices, default=np.nan)\n",
        "data_coastal['Water quality'] = data_coastal['Water quality'].astype('int32')"
      ],
      "metadata": {
        "id": "qG1CFnstFcrB"
      },
      "execution_count": null,
      "outputs": []
    },
    {
      "cell_type": "code",
      "source": [
        "# Creates a new DataFrame for model training from the years 2012 to 2021, excluding data for the year 2022\n",
        "df_train_coastal = data_coastal[data_coastal['AÑO'] != 2022]\n",
        "\n",
        "# Creates a new DataFrame for validation consisting only of data from the year 2022\n",
        "df_val_coastal = data_coastal[data_coastal['AÑO'] == 2022]"
      ],
      "metadata": {
        "id": "FrUr-R7zFcrE"
      },
      "execution_count": null,
      "outputs": []
    },
    {
      "cell_type": "code",
      "source": [
        "# Displays the size of the training DataFrame\n",
        "df_train_coastal.shape"
      ],
      "metadata": {
        "colab": {
          "base_uri": "https://localhost:8080/"
        },
        "outputId": "bc2195d6-cea2-4976-891f-9527d16cf5cd",
        "id": "csMx0M8SFcrJ"
      },
      "execution_count": null,
      "outputs": [
        {
          "output_type": "execute_result",
          "data": {
            "text/plain": [
              "(5319, 31)"
            ]
          },
          "metadata": {},
          "execution_count": 57
        }
      ]
    },
    {
      "cell_type": "code",
      "source": [
        "# Displays the size of the validation DataFrame\n",
        "df_val_coastal.shape"
      ],
      "metadata": {
        "colab": {
          "base_uri": "https://localhost:8080/"
        },
        "outputId": "be0368c7-1239-42ad-8fbd-ee0538aefaca",
        "id": "WI5DPtSXFcrL"
      },
      "execution_count": null,
      "outputs": [
        {
          "output_type": "execute_result",
          "data": {
            "text/plain": [
              "(21, 31)"
            ]
          },
          "metadata": {},
          "execution_count": 58
        }
      ]
    },
    {
      "cell_type": "code",
      "source": [
        "# Selects columns for model training including contaminant columns and the target variable 'Water quality' for the dataset from 2012 to 2021\n",
        "df_train_coastal = df_train_coastal.iloc[:, list(range(6, 14)) + [30]]\n",
        "df_train_coastal.head(5)"
      ],
      "metadata": {
        "colab": {
          "base_uri": "https://localhost:8080/",
          "height": 206
        },
        "outputId": "9981be4a-e528-40bb-bfae-8ae8ad32cb3b",
        "id": "K01hesHQFcrN"
      },
      "execution_count": null,
      "outputs": [
        {
          "output_type": "execute_result",
          "data": {
            "text/plain": [
              "     TSS     FC   ODs%    ODm%   ODb%    FE  TF15s  TF15b  Water quality\n",
              "0  10.00    3.0   90.1   89.50   95.1  10.0    1.0    1.0              0\n",
              "3  10.25   75.0  103.7  100.20  100.2   1.0    1.0    1.0              0\n",
              "4  10.00    1.0   89.5   92.01   93.0   1.0    1.0    1.0              0\n",
              "5  21.25  265.0  105.8  105.90  105.8  10.0    1.0    1.0              0\n",
              "6  13.00   41.0  109.3  107.20  105.1   1.0    1.0    1.0              0"
            ],
            "text/html": [
              "\n",
              "  <div id=\"df-92d069d0-146b-4086-beae-ac1bcab79b7a\" class=\"colab-df-container\">\n",
              "    <div>\n",
              "<style scoped>\n",
              "    .dataframe tbody tr th:only-of-type {\n",
              "        vertical-align: middle;\n",
              "    }\n",
              "\n",
              "    .dataframe tbody tr th {\n",
              "        vertical-align: top;\n",
              "    }\n",
              "\n",
              "    .dataframe thead th {\n",
              "        text-align: right;\n",
              "    }\n",
              "</style>\n",
              "<table border=\"1\" class=\"dataframe\">\n",
              "  <thead>\n",
              "    <tr style=\"text-align: right;\">\n",
              "      <th></th>\n",
              "      <th>TSS</th>\n",
              "      <th>FC</th>\n",
              "      <th>ODs%</th>\n",
              "      <th>ODm%</th>\n",
              "      <th>ODb%</th>\n",
              "      <th>FE</th>\n",
              "      <th>TF15s</th>\n",
              "      <th>TF15b</th>\n",
              "      <th>Water quality</th>\n",
              "    </tr>\n",
              "  </thead>\n",
              "  <tbody>\n",
              "    <tr>\n",
              "      <th>0</th>\n",
              "      <td>10.00</td>\n",
              "      <td>3.0</td>\n",
              "      <td>90.1</td>\n",
              "      <td>89.50</td>\n",
              "      <td>95.1</td>\n",
              "      <td>10.0</td>\n",
              "      <td>1.0</td>\n",
              "      <td>1.0</td>\n",
              "      <td>0</td>\n",
              "    </tr>\n",
              "    <tr>\n",
              "      <th>3</th>\n",
              "      <td>10.25</td>\n",
              "      <td>75.0</td>\n",
              "      <td>103.7</td>\n",
              "      <td>100.20</td>\n",
              "      <td>100.2</td>\n",
              "      <td>1.0</td>\n",
              "      <td>1.0</td>\n",
              "      <td>1.0</td>\n",
              "      <td>0</td>\n",
              "    </tr>\n",
              "    <tr>\n",
              "      <th>4</th>\n",
              "      <td>10.00</td>\n",
              "      <td>1.0</td>\n",
              "      <td>89.5</td>\n",
              "      <td>92.01</td>\n",
              "      <td>93.0</td>\n",
              "      <td>1.0</td>\n",
              "      <td>1.0</td>\n",
              "      <td>1.0</td>\n",
              "      <td>0</td>\n",
              "    </tr>\n",
              "    <tr>\n",
              "      <th>5</th>\n",
              "      <td>21.25</td>\n",
              "      <td>265.0</td>\n",
              "      <td>105.8</td>\n",
              "      <td>105.90</td>\n",
              "      <td>105.8</td>\n",
              "      <td>10.0</td>\n",
              "      <td>1.0</td>\n",
              "      <td>1.0</td>\n",
              "      <td>0</td>\n",
              "    </tr>\n",
              "    <tr>\n",
              "      <th>6</th>\n",
              "      <td>13.00</td>\n",
              "      <td>41.0</td>\n",
              "      <td>109.3</td>\n",
              "      <td>107.20</td>\n",
              "      <td>105.1</td>\n",
              "      <td>1.0</td>\n",
              "      <td>1.0</td>\n",
              "      <td>1.0</td>\n",
              "      <td>0</td>\n",
              "    </tr>\n",
              "  </tbody>\n",
              "</table>\n",
              "</div>\n",
              "    <div class=\"colab-df-buttons\">\n",
              "\n",
              "  <div class=\"colab-df-container\">\n",
              "    <button class=\"colab-df-convert\" onclick=\"convertToInteractive('df-92d069d0-146b-4086-beae-ac1bcab79b7a')\"\n",
              "            title=\"Convert this dataframe to an interactive table.\"\n",
              "            style=\"display:none;\">\n",
              "\n",
              "  <svg xmlns=\"http://www.w3.org/2000/svg\" height=\"24px\" viewBox=\"0 -960 960 960\">\n",
              "    <path d=\"M120-120v-720h720v720H120Zm60-500h600v-160H180v160Zm220 220h160v-160H400v160Zm0 220h160v-160H400v160ZM180-400h160v-160H180v160Zm440 0h160v-160H620v160ZM180-180h160v-160H180v160Zm440 0h160v-160H620v160Z\"/>\n",
              "  </svg>\n",
              "    </button>\n",
              "\n",
              "  <style>\n",
              "    .colab-df-container {\n",
              "      display:flex;\n",
              "      gap: 12px;\n",
              "    }\n",
              "\n",
              "    .colab-df-convert {\n",
              "      background-color: #E8F0FE;\n",
              "      border: none;\n",
              "      border-radius: 50%;\n",
              "      cursor: pointer;\n",
              "      display: none;\n",
              "      fill: #1967D2;\n",
              "      height: 32px;\n",
              "      padding: 0 0 0 0;\n",
              "      width: 32px;\n",
              "    }\n",
              "\n",
              "    .colab-df-convert:hover {\n",
              "      background-color: #E2EBFA;\n",
              "      box-shadow: 0px 1px 2px rgba(60, 64, 67, 0.3), 0px 1px 3px 1px rgba(60, 64, 67, 0.15);\n",
              "      fill: #174EA6;\n",
              "    }\n",
              "\n",
              "    .colab-df-buttons div {\n",
              "      margin-bottom: 4px;\n",
              "    }\n",
              "\n",
              "    [theme=dark] .colab-df-convert {\n",
              "      background-color: #3B4455;\n",
              "      fill: #D2E3FC;\n",
              "    }\n",
              "\n",
              "    [theme=dark] .colab-df-convert:hover {\n",
              "      background-color: #434B5C;\n",
              "      box-shadow: 0px 1px 3px 1px rgba(0, 0, 0, 0.15);\n",
              "      filter: drop-shadow(0px 1px 2px rgba(0, 0, 0, 0.3));\n",
              "      fill: #FFFFFF;\n",
              "    }\n",
              "  </style>\n",
              "\n",
              "    <script>\n",
              "      const buttonEl =\n",
              "        document.querySelector('#df-92d069d0-146b-4086-beae-ac1bcab79b7a button.colab-df-convert');\n",
              "      buttonEl.style.display =\n",
              "        google.colab.kernel.accessAllowed ? 'block' : 'none';\n",
              "\n",
              "      async function convertToInteractive(key) {\n",
              "        const element = document.querySelector('#df-92d069d0-146b-4086-beae-ac1bcab79b7a');\n",
              "        const dataTable =\n",
              "          await google.colab.kernel.invokeFunction('convertToInteractive',\n",
              "                                                    [key], {});\n",
              "        if (!dataTable) return;\n",
              "\n",
              "        const docLinkHtml = 'Like what you see? Visit the ' +\n",
              "          '<a target=\"_blank\" href=https://colab.research.google.com/notebooks/data_table.ipynb>data table notebook</a>'\n",
              "          + ' to learn more about interactive tables.';\n",
              "        element.innerHTML = '';\n",
              "        dataTable['output_type'] = 'display_data';\n",
              "        await google.colab.output.renderOutput(dataTable, element);\n",
              "        const docLink = document.createElement('div');\n",
              "        docLink.innerHTML = docLinkHtml;\n",
              "        element.appendChild(docLink);\n",
              "      }\n",
              "    </script>\n",
              "  </div>\n",
              "\n",
              "\n",
              "<div id=\"df-ffc8eff7-4b29-48dd-bd84-73add61882ff\">\n",
              "  <button class=\"colab-df-quickchart\" onclick=\"quickchart('df-ffc8eff7-4b29-48dd-bd84-73add61882ff')\"\n",
              "            title=\"Suggest charts\"\n",
              "            style=\"display:none;\">\n",
              "\n",
              "<svg xmlns=\"http://www.w3.org/2000/svg\" height=\"24px\"viewBox=\"0 0 24 24\"\n",
              "     width=\"24px\">\n",
              "    <g>\n",
              "        <path d=\"M19 3H5c-1.1 0-2 .9-2 2v14c0 1.1.9 2 2 2h14c1.1 0 2-.9 2-2V5c0-1.1-.9-2-2-2zM9 17H7v-7h2v7zm4 0h-2V7h2v10zm4 0h-2v-4h2v4z\"/>\n",
              "    </g>\n",
              "</svg>\n",
              "  </button>\n",
              "\n",
              "<style>\n",
              "  .colab-df-quickchart {\n",
              "      --bg-color: #E8F0FE;\n",
              "      --fill-color: #1967D2;\n",
              "      --hover-bg-color: #E2EBFA;\n",
              "      --hover-fill-color: #174EA6;\n",
              "      --disabled-fill-color: #AAA;\n",
              "      --disabled-bg-color: #DDD;\n",
              "  }\n",
              "\n",
              "  [theme=dark] .colab-df-quickchart {\n",
              "      --bg-color: #3B4455;\n",
              "      --fill-color: #D2E3FC;\n",
              "      --hover-bg-color: #434B5C;\n",
              "      --hover-fill-color: #FFFFFF;\n",
              "      --disabled-bg-color: #3B4455;\n",
              "      --disabled-fill-color: #666;\n",
              "  }\n",
              "\n",
              "  .colab-df-quickchart {\n",
              "    background-color: var(--bg-color);\n",
              "    border: none;\n",
              "    border-radius: 50%;\n",
              "    cursor: pointer;\n",
              "    display: none;\n",
              "    fill: var(--fill-color);\n",
              "    height: 32px;\n",
              "    padding: 0;\n",
              "    width: 32px;\n",
              "  }\n",
              "\n",
              "  .colab-df-quickchart:hover {\n",
              "    background-color: var(--hover-bg-color);\n",
              "    box-shadow: 0 1px 2px rgba(60, 64, 67, 0.3), 0 1px 3px 1px rgba(60, 64, 67, 0.15);\n",
              "    fill: var(--button-hover-fill-color);\n",
              "  }\n",
              "\n",
              "  .colab-df-quickchart-complete:disabled,\n",
              "  .colab-df-quickchart-complete:disabled:hover {\n",
              "    background-color: var(--disabled-bg-color);\n",
              "    fill: var(--disabled-fill-color);\n",
              "    box-shadow: none;\n",
              "  }\n",
              "\n",
              "  .colab-df-spinner {\n",
              "    border: 2px solid var(--fill-color);\n",
              "    border-color: transparent;\n",
              "    border-bottom-color: var(--fill-color);\n",
              "    animation:\n",
              "      spin 1s steps(1) infinite;\n",
              "  }\n",
              "\n",
              "  @keyframes spin {\n",
              "    0% {\n",
              "      border-color: transparent;\n",
              "      border-bottom-color: var(--fill-color);\n",
              "      border-left-color: var(--fill-color);\n",
              "    }\n",
              "    20% {\n",
              "      border-color: transparent;\n",
              "      border-left-color: var(--fill-color);\n",
              "      border-top-color: var(--fill-color);\n",
              "    }\n",
              "    30% {\n",
              "      border-color: transparent;\n",
              "      border-left-color: var(--fill-color);\n",
              "      border-top-color: var(--fill-color);\n",
              "      border-right-color: var(--fill-color);\n",
              "    }\n",
              "    40% {\n",
              "      border-color: transparent;\n",
              "      border-right-color: var(--fill-color);\n",
              "      border-top-color: var(--fill-color);\n",
              "    }\n",
              "    60% {\n",
              "      border-color: transparent;\n",
              "      border-right-color: var(--fill-color);\n",
              "    }\n",
              "    80% {\n",
              "      border-color: transparent;\n",
              "      border-right-color: var(--fill-color);\n",
              "      border-bottom-color: var(--fill-color);\n",
              "    }\n",
              "    90% {\n",
              "      border-color: transparent;\n",
              "      border-bottom-color: var(--fill-color);\n",
              "    }\n",
              "  }\n",
              "</style>\n",
              "\n",
              "  <script>\n",
              "    async function quickchart(key) {\n",
              "      const quickchartButtonEl =\n",
              "        document.querySelector('#' + key + ' button');\n",
              "      quickchartButtonEl.disabled = true;  // To prevent multiple clicks.\n",
              "      quickchartButtonEl.classList.add('colab-df-spinner');\n",
              "      try {\n",
              "        const charts = await google.colab.kernel.invokeFunction(\n",
              "            'suggestCharts', [key], {});\n",
              "      } catch (error) {\n",
              "        console.error('Error during call to suggestCharts:', error);\n",
              "      }\n",
              "      quickchartButtonEl.classList.remove('colab-df-spinner');\n",
              "      quickchartButtonEl.classList.add('colab-df-quickchart-complete');\n",
              "    }\n",
              "    (() => {\n",
              "      let quickchartButtonEl =\n",
              "        document.querySelector('#df-ffc8eff7-4b29-48dd-bd84-73add61882ff button');\n",
              "      quickchartButtonEl.style.display =\n",
              "        google.colab.kernel.accessAllowed ? 'block' : 'none';\n",
              "    })();\n",
              "  </script>\n",
              "</div>\n",
              "\n",
              "    </div>\n",
              "  </div>\n"
            ]
          },
          "metadata": {},
          "execution_count": 59
        }
      ]
    },
    {
      "cell_type": "code",
      "source": [
        "# Selects columns for model training including contaminant columns and the target variable 'Water quality' for the dataset of 2022\n",
        "df_val_coastal = df_val_coastal.iloc[:, list(range(6, 14)) + [30]]\n",
        "df_val_coastal.head(5)"
      ],
      "metadata": {
        "colab": {
          "base_uri": "https://localhost:8080/",
          "height": 206
        },
        "outputId": "b9c3996c-5100-407e-f181-394f7b9ee7bf",
        "id": "0Sh0Xz65FcrO"
      },
      "execution_count": null,
      "outputs": [
        {
          "output_type": "execute_result",
          "data": {
            "text/plain": [
              "        TSS      FC  ODs%  ODm%  ODb%    FE  TF15s  TF15b  Water quality\n",
              "23245  10.0  1500.0  74.1  56.8  34.8  10.0    1.0    1.0              1\n",
              "23250  40.2    63.0  83.4  72.7  65.0  10.0    1.0    1.0              0\n",
              "23253  34.4   393.0  78.7  66.9  56.7  10.0    1.0    1.0              0\n",
              "23257  40.0   295.0  74.4  65.5  57.2  10.0    1.0    1.0              0\n",
              "23261  22.3   279.0  85.4  78.6  65.1  10.0    1.0    1.0              0"
            ],
            "text/html": [
              "\n",
              "  <div id=\"df-ba846f80-e6da-42e4-82b6-36beb727b910\" class=\"colab-df-container\">\n",
              "    <div>\n",
              "<style scoped>\n",
              "    .dataframe tbody tr th:only-of-type {\n",
              "        vertical-align: middle;\n",
              "    }\n",
              "\n",
              "    .dataframe tbody tr th {\n",
              "        vertical-align: top;\n",
              "    }\n",
              "\n",
              "    .dataframe thead th {\n",
              "        text-align: right;\n",
              "    }\n",
              "</style>\n",
              "<table border=\"1\" class=\"dataframe\">\n",
              "  <thead>\n",
              "    <tr style=\"text-align: right;\">\n",
              "      <th></th>\n",
              "      <th>TSS</th>\n",
              "      <th>FC</th>\n",
              "      <th>ODs%</th>\n",
              "      <th>ODm%</th>\n",
              "      <th>ODb%</th>\n",
              "      <th>FE</th>\n",
              "      <th>TF15s</th>\n",
              "      <th>TF15b</th>\n",
              "      <th>Water quality</th>\n",
              "    </tr>\n",
              "  </thead>\n",
              "  <tbody>\n",
              "    <tr>\n",
              "      <th>23245</th>\n",
              "      <td>10.0</td>\n",
              "      <td>1500.0</td>\n",
              "      <td>74.1</td>\n",
              "      <td>56.8</td>\n",
              "      <td>34.8</td>\n",
              "      <td>10.0</td>\n",
              "      <td>1.0</td>\n",
              "      <td>1.0</td>\n",
              "      <td>1</td>\n",
              "    </tr>\n",
              "    <tr>\n",
              "      <th>23250</th>\n",
              "      <td>40.2</td>\n",
              "      <td>63.0</td>\n",
              "      <td>83.4</td>\n",
              "      <td>72.7</td>\n",
              "      <td>65.0</td>\n",
              "      <td>10.0</td>\n",
              "      <td>1.0</td>\n",
              "      <td>1.0</td>\n",
              "      <td>0</td>\n",
              "    </tr>\n",
              "    <tr>\n",
              "      <th>23253</th>\n",
              "      <td>34.4</td>\n",
              "      <td>393.0</td>\n",
              "      <td>78.7</td>\n",
              "      <td>66.9</td>\n",
              "      <td>56.7</td>\n",
              "      <td>10.0</td>\n",
              "      <td>1.0</td>\n",
              "      <td>1.0</td>\n",
              "      <td>0</td>\n",
              "    </tr>\n",
              "    <tr>\n",
              "      <th>23257</th>\n",
              "      <td>40.0</td>\n",
              "      <td>295.0</td>\n",
              "      <td>74.4</td>\n",
              "      <td>65.5</td>\n",
              "      <td>57.2</td>\n",
              "      <td>10.0</td>\n",
              "      <td>1.0</td>\n",
              "      <td>1.0</td>\n",
              "      <td>0</td>\n",
              "    </tr>\n",
              "    <tr>\n",
              "      <th>23261</th>\n",
              "      <td>22.3</td>\n",
              "      <td>279.0</td>\n",
              "      <td>85.4</td>\n",
              "      <td>78.6</td>\n",
              "      <td>65.1</td>\n",
              "      <td>10.0</td>\n",
              "      <td>1.0</td>\n",
              "      <td>1.0</td>\n",
              "      <td>0</td>\n",
              "    </tr>\n",
              "  </tbody>\n",
              "</table>\n",
              "</div>\n",
              "    <div class=\"colab-df-buttons\">\n",
              "\n",
              "  <div class=\"colab-df-container\">\n",
              "    <button class=\"colab-df-convert\" onclick=\"convertToInteractive('df-ba846f80-e6da-42e4-82b6-36beb727b910')\"\n",
              "            title=\"Convert this dataframe to an interactive table.\"\n",
              "            style=\"display:none;\">\n",
              "\n",
              "  <svg xmlns=\"http://www.w3.org/2000/svg\" height=\"24px\" viewBox=\"0 -960 960 960\">\n",
              "    <path d=\"M120-120v-720h720v720H120Zm60-500h600v-160H180v160Zm220 220h160v-160H400v160Zm0 220h160v-160H400v160ZM180-400h160v-160H180v160Zm440 0h160v-160H620v160ZM180-180h160v-160H180v160Zm440 0h160v-160H620v160Z\"/>\n",
              "  </svg>\n",
              "    </button>\n",
              "\n",
              "  <style>\n",
              "    .colab-df-container {\n",
              "      display:flex;\n",
              "      gap: 12px;\n",
              "    }\n",
              "\n",
              "    .colab-df-convert {\n",
              "      background-color: #E8F0FE;\n",
              "      border: none;\n",
              "      border-radius: 50%;\n",
              "      cursor: pointer;\n",
              "      display: none;\n",
              "      fill: #1967D2;\n",
              "      height: 32px;\n",
              "      padding: 0 0 0 0;\n",
              "      width: 32px;\n",
              "    }\n",
              "\n",
              "    .colab-df-convert:hover {\n",
              "      background-color: #E2EBFA;\n",
              "      box-shadow: 0px 1px 2px rgba(60, 64, 67, 0.3), 0px 1px 3px 1px rgba(60, 64, 67, 0.15);\n",
              "      fill: #174EA6;\n",
              "    }\n",
              "\n",
              "    .colab-df-buttons div {\n",
              "      margin-bottom: 4px;\n",
              "    }\n",
              "\n",
              "    [theme=dark] .colab-df-convert {\n",
              "      background-color: #3B4455;\n",
              "      fill: #D2E3FC;\n",
              "    }\n",
              "\n",
              "    [theme=dark] .colab-df-convert:hover {\n",
              "      background-color: #434B5C;\n",
              "      box-shadow: 0px 1px 3px 1px rgba(0, 0, 0, 0.15);\n",
              "      filter: drop-shadow(0px 1px 2px rgba(0, 0, 0, 0.3));\n",
              "      fill: #FFFFFF;\n",
              "    }\n",
              "  </style>\n",
              "\n",
              "    <script>\n",
              "      const buttonEl =\n",
              "        document.querySelector('#df-ba846f80-e6da-42e4-82b6-36beb727b910 button.colab-df-convert');\n",
              "      buttonEl.style.display =\n",
              "        google.colab.kernel.accessAllowed ? 'block' : 'none';\n",
              "\n",
              "      async function convertToInteractive(key) {\n",
              "        const element = document.querySelector('#df-ba846f80-e6da-42e4-82b6-36beb727b910');\n",
              "        const dataTable =\n",
              "          await google.colab.kernel.invokeFunction('convertToInteractive',\n",
              "                                                    [key], {});\n",
              "        if (!dataTable) return;\n",
              "\n",
              "        const docLinkHtml = 'Like what you see? Visit the ' +\n",
              "          '<a target=\"_blank\" href=https://colab.research.google.com/notebooks/data_table.ipynb>data table notebook</a>'\n",
              "          + ' to learn more about interactive tables.';\n",
              "        element.innerHTML = '';\n",
              "        dataTable['output_type'] = 'display_data';\n",
              "        await google.colab.output.renderOutput(dataTable, element);\n",
              "        const docLink = document.createElement('div');\n",
              "        docLink.innerHTML = docLinkHtml;\n",
              "        element.appendChild(docLink);\n",
              "      }\n",
              "    </script>\n",
              "  </div>\n",
              "\n",
              "\n",
              "<div id=\"df-123d176b-f6ee-400b-941e-28ac79f90099\">\n",
              "  <button class=\"colab-df-quickchart\" onclick=\"quickchart('df-123d176b-f6ee-400b-941e-28ac79f90099')\"\n",
              "            title=\"Suggest charts\"\n",
              "            style=\"display:none;\">\n",
              "\n",
              "<svg xmlns=\"http://www.w3.org/2000/svg\" height=\"24px\"viewBox=\"0 0 24 24\"\n",
              "     width=\"24px\">\n",
              "    <g>\n",
              "        <path d=\"M19 3H5c-1.1 0-2 .9-2 2v14c0 1.1.9 2 2 2h14c1.1 0 2-.9 2-2V5c0-1.1-.9-2-2-2zM9 17H7v-7h2v7zm4 0h-2V7h2v10zm4 0h-2v-4h2v4z\"/>\n",
              "    </g>\n",
              "</svg>\n",
              "  </button>\n",
              "\n",
              "<style>\n",
              "  .colab-df-quickchart {\n",
              "      --bg-color: #E8F0FE;\n",
              "      --fill-color: #1967D2;\n",
              "      --hover-bg-color: #E2EBFA;\n",
              "      --hover-fill-color: #174EA6;\n",
              "      --disabled-fill-color: #AAA;\n",
              "      --disabled-bg-color: #DDD;\n",
              "  }\n",
              "\n",
              "  [theme=dark] .colab-df-quickchart {\n",
              "      --bg-color: #3B4455;\n",
              "      --fill-color: #D2E3FC;\n",
              "      --hover-bg-color: #434B5C;\n",
              "      --hover-fill-color: #FFFFFF;\n",
              "      --disabled-bg-color: #3B4455;\n",
              "      --disabled-fill-color: #666;\n",
              "  }\n",
              "\n",
              "  .colab-df-quickchart {\n",
              "    background-color: var(--bg-color);\n",
              "    border: none;\n",
              "    border-radius: 50%;\n",
              "    cursor: pointer;\n",
              "    display: none;\n",
              "    fill: var(--fill-color);\n",
              "    height: 32px;\n",
              "    padding: 0;\n",
              "    width: 32px;\n",
              "  }\n",
              "\n",
              "  .colab-df-quickchart:hover {\n",
              "    background-color: var(--hover-bg-color);\n",
              "    box-shadow: 0 1px 2px rgba(60, 64, 67, 0.3), 0 1px 3px 1px rgba(60, 64, 67, 0.15);\n",
              "    fill: var(--button-hover-fill-color);\n",
              "  }\n",
              "\n",
              "  .colab-df-quickchart-complete:disabled,\n",
              "  .colab-df-quickchart-complete:disabled:hover {\n",
              "    background-color: var(--disabled-bg-color);\n",
              "    fill: var(--disabled-fill-color);\n",
              "    box-shadow: none;\n",
              "  }\n",
              "\n",
              "  .colab-df-spinner {\n",
              "    border: 2px solid var(--fill-color);\n",
              "    border-color: transparent;\n",
              "    border-bottom-color: var(--fill-color);\n",
              "    animation:\n",
              "      spin 1s steps(1) infinite;\n",
              "  }\n",
              "\n",
              "  @keyframes spin {\n",
              "    0% {\n",
              "      border-color: transparent;\n",
              "      border-bottom-color: var(--fill-color);\n",
              "      border-left-color: var(--fill-color);\n",
              "    }\n",
              "    20% {\n",
              "      border-color: transparent;\n",
              "      border-left-color: var(--fill-color);\n",
              "      border-top-color: var(--fill-color);\n",
              "    }\n",
              "    30% {\n",
              "      border-color: transparent;\n",
              "      border-left-color: var(--fill-color);\n",
              "      border-top-color: var(--fill-color);\n",
              "      border-right-color: var(--fill-color);\n",
              "    }\n",
              "    40% {\n",
              "      border-color: transparent;\n",
              "      border-right-color: var(--fill-color);\n",
              "      border-top-color: var(--fill-color);\n",
              "    }\n",
              "    60% {\n",
              "      border-color: transparent;\n",
              "      border-right-color: var(--fill-color);\n",
              "    }\n",
              "    80% {\n",
              "      border-color: transparent;\n",
              "      border-right-color: var(--fill-color);\n",
              "      border-bottom-color: var(--fill-color);\n",
              "    }\n",
              "    90% {\n",
              "      border-color: transparent;\n",
              "      border-bottom-color: var(--fill-color);\n",
              "    }\n",
              "  }\n",
              "</style>\n",
              "\n",
              "  <script>\n",
              "    async function quickchart(key) {\n",
              "      const quickchartButtonEl =\n",
              "        document.querySelector('#' + key + ' button');\n",
              "      quickchartButtonEl.disabled = true;  // To prevent multiple clicks.\n",
              "      quickchartButtonEl.classList.add('colab-df-spinner');\n",
              "      try {\n",
              "        const charts = await google.colab.kernel.invokeFunction(\n",
              "            'suggestCharts', [key], {});\n",
              "      } catch (error) {\n",
              "        console.error('Error during call to suggestCharts:', error);\n",
              "      }\n",
              "      quickchartButtonEl.classList.remove('colab-df-spinner');\n",
              "      quickchartButtonEl.classList.add('colab-df-quickchart-complete');\n",
              "    }\n",
              "    (() => {\n",
              "      let quickchartButtonEl =\n",
              "        document.querySelector('#df-123d176b-f6ee-400b-941e-28ac79f90099 button');\n",
              "      quickchartButtonEl.style.display =\n",
              "        google.colab.kernel.accessAllowed ? 'block' : 'none';\n",
              "    })();\n",
              "  </script>\n",
              "</div>\n",
              "\n",
              "    </div>\n",
              "  </div>\n"
            ]
          },
          "metadata": {},
          "execution_count": 61
        }
      ]
    },
    {
      "cell_type": "markdown",
      "source": [
        "Separation of the dependent variable (y) from the independent variables (X)"
      ],
      "metadata": {
        "id": "dS3LSuyaFcrP"
      }
    },
    {
      "cell_type": "code",
      "source": [
        "# Separates features (X_train_coastal) and target variable (y_train_coastal) for model training\n",
        "X_train_coastal = df_train_coastal.drop(columns=['Water quality'])\n",
        "y_train_coastal = df_train_coastal['Water quality']"
      ],
      "metadata": {
        "id": "gc21piAiFcrQ"
      },
      "execution_count": null,
      "outputs": []
    },
    {
      "cell_type": "code",
      "source": [
        "# Separates features (X_val_coastal) and target variable (y_val_coastal) for validation\n",
        "X_val_coastal = df_val_coastal.drop(columns=['Water quality'])\n",
        "y_val_coastal = df_val_coastal['Water quality']"
      ],
      "metadata": {
        "id": "MEh2hwMIFcrR"
      },
      "execution_count": null,
      "outputs": []
    },
    {
      "cell_type": "code",
      "source": [
        "# Calculate the count of classes present in the 'Water quality' column\n",
        "conteo_clases = df_train_coastal['Water quality'].value_counts()\n",
        "print(conteo_clases)"
      ],
      "metadata": {
        "colab": {
          "base_uri": "https://localhost:8080/"
        },
        "outputId": "c77522ba-9699-4db2-95d1-05eafbcf8906",
        "id": "xVRJbw-MFcrS"
      },
      "execution_count": null,
      "outputs": [
        {
          "output_type": "stream",
          "name": "stdout",
          "text": [
            "0    3882\n",
            "1    1003\n",
            "2     434\n",
            "Name: Water quality, dtype: int64\n"
          ]
        }
      ]
    },
    {
      "cell_type": "markdown",
      "source": [
        "##Unbalanced"
      ],
      "metadata": {
        "id": "pr2tfjFrFcrU"
      }
    },
    {
      "cell_type": "markdown",
      "source": [
        "###XGBOOST"
      ],
      "metadata": {
        "id": "oQ7JABYMFcrV"
      }
    },
    {
      "cell_type": "markdown",
      "source": [
        "Split data into training and test set"
      ],
      "metadata": {
        "id": "fjYCVWq-FcrW"
      }
    },
    {
      "cell_type": "code",
      "source": [
        "# Split the data into training and testing sets for XGBoost model training\n",
        "X_train_ub_coa_xgb, X_test_ub_coa_xgb, y_train_ub_coa_xgb, y_test_ub_coa_xgb = train_test_split(X_train_coastal, y_train_coastal, test_size=0.2, random_state=42)"
      ],
      "metadata": {
        "id": "5FNzBw5OFcrX"
      },
      "execution_count": null,
      "outputs": []
    },
    {
      "cell_type": "markdown",
      "source": [
        "Feature Standardization for Coastal Dataset using StandardScaler"
      ],
      "metadata": {
        "id": "NzjLIypOFcrY"
      }
    },
    {
      "cell_type": "code",
      "source": [
        "# Create a StandardScaler object\n",
        "scaler_ub_coa_xgb = StandardScaler()\n",
        "\n",
        "# Fit and transform the training data to standardize features\n",
        "X_train_ub_coa_xgb = scaler_ub_coa_xgb.fit_transform(X_train_ub_coa_xgb)\n",
        "\n",
        "# Transform the test data using the same scaler to maintain consistency in feature scaling\n",
        "X_test_ub_coa_xgb = scaler_ub_coa_xgb.transform(X_test_ub_coa_xgb)"
      ],
      "metadata": {
        "id": "41SwOUB7Fcra"
      },
      "execution_count": null,
      "outputs": []
    },
    {
      "cell_type": "markdown",
      "source": [
        "Hyperparameter Grid for XGBoost Model"
      ],
      "metadata": {
        "id": "_0NBUPYtFcrc"
      }
    },
    {
      "cell_type": "code",
      "source": [
        "# Define a dictionary of hyperparameters for tuning a XGBoost model\n",
        "parameters = {\n",
        "    'learning_rate': [.01, 0.1, 0.2],\n",
        "    'max_depth': [10, 30, 50],\n",
        "    'n_estimators': [100, 200, 300]\n",
        "}"
      ],
      "metadata": {
        "id": "efyzAxKQFcrd"
      },
      "execution_count": null,
      "outputs": []
    },
    {
      "cell_type": "markdown",
      "source": [
        "Create a Decision XGBoost model"
      ],
      "metadata": {
        "id": "U1M-N6hdFcre"
      }
    },
    {
      "cell_type": "code",
      "source": [
        "# Initialize XGBoost classifier for coastal model\n",
        "model_ub_coa_xgb = XGBClassifier()"
      ],
      "metadata": {
        "id": "2W5CO_4iFcrf"
      },
      "execution_count": null,
      "outputs": []
    },
    {
      "cell_type": "markdown",
      "source": [
        "Hyperparameter Tuning with Cross-Validation"
      ],
      "metadata": {
        "id": "olyt-QKbFcrg"
      }
    },
    {
      "cell_type": "code",
      "source": [
        "# Inform the user to wait during the hyperparameter search\n",
        "print(\"Wait a moment...\")\n",
        "\n",
        "# Create a GridSearchCV object for hyperparameter tuning\n",
        "grid_search_ub_coa_xgb = GridSearchCV(model_ub_coa_xgb, parameters, cv=5, scoring='accuracy')\n",
        "\n",
        "# Fit the GridSearchCV object to find the best hyperparameters\n",
        "grid_search_ub_coa_xgb.fit(X_train_ub_coa_xgb, y_train_ub_coa_xgb)"
      ],
      "metadata": {
        "colab": {
          "base_uri": "https://localhost:8080/",
          "height": 134
        },
        "outputId": "a013e01d-50d0-45b9-bc42-f3de303fa2ec",
        "id": "7dwQHowWFcrh"
      },
      "execution_count": null,
      "outputs": [
        {
          "output_type": "stream",
          "name": "stdout",
          "text": [
            "Wait a moment...\n"
          ]
        },
        {
          "output_type": "execute_result",
          "data": {
            "text/plain": [
              "GridSearchCV(cv=5,\n",
              "             estimator=XGBClassifier(base_score=None, booster=None,\n",
              "                                     callbacks=None, colsample_bylevel=None,\n",
              "                                     colsample_bynode=None,\n",
              "                                     colsample_bytree=None, device=None,\n",
              "                                     early_stopping_rounds=None,\n",
              "                                     enable_categorical=False, eval_metric=None,\n",
              "                                     feature_types=None, gamma=None,\n",
              "                                     grow_policy=None, importance_type=None,\n",
              "                                     interaction_constraints=None,\n",
              "                                     learning_rate=None,...\n",
              "                                     max_cat_threshold=None,\n",
              "                                     max_cat_to_onehot=None,\n",
              "                                     max_delta_step=None, max_depth=None,\n",
              "                                     max_leaves=None, min_child_weight=None,\n",
              "                                     missing=nan, monotone_constraints=None,\n",
              "                                     multi_strategy=None, n_estimators=None,\n",
              "                                     n_jobs=None, num_parallel_tree=None,\n",
              "                                     random_state=None, ...),\n",
              "             param_grid={'learning_rate': [0.01, 0.1, 0.2],\n",
              "                         'max_depth': [10, 30, 50],\n",
              "                         'n_estimators': [100, 200, 300]},\n",
              "             scoring='accuracy')"
            ],
            "text/html": [
              "<style>#sk-container-id-1 {color: black;background-color: white;}#sk-container-id-1 pre{padding: 0;}#sk-container-id-1 div.sk-toggleable {background-color: white;}#sk-container-id-1 label.sk-toggleable__label {cursor: pointer;display: block;width: 100%;margin-bottom: 0;padding: 0.3em;box-sizing: border-box;text-align: center;}#sk-container-id-1 label.sk-toggleable__label-arrow:before {content: \"▸\";float: left;margin-right: 0.25em;color: #696969;}#sk-container-id-1 label.sk-toggleable__label-arrow:hover:before {color: black;}#sk-container-id-1 div.sk-estimator:hover label.sk-toggleable__label-arrow:before {color: black;}#sk-container-id-1 div.sk-toggleable__content {max-height: 0;max-width: 0;overflow: hidden;text-align: left;background-color: #f0f8ff;}#sk-container-id-1 div.sk-toggleable__content pre {margin: 0.2em;color: black;border-radius: 0.25em;background-color: #f0f8ff;}#sk-container-id-1 input.sk-toggleable__control:checked~div.sk-toggleable__content {max-height: 200px;max-width: 100%;overflow: auto;}#sk-container-id-1 input.sk-toggleable__control:checked~label.sk-toggleable__label-arrow:before {content: \"▾\";}#sk-container-id-1 div.sk-estimator input.sk-toggleable__control:checked~label.sk-toggleable__label {background-color: #d4ebff;}#sk-container-id-1 div.sk-label input.sk-toggleable__control:checked~label.sk-toggleable__label {background-color: #d4ebff;}#sk-container-id-1 input.sk-hidden--visually {border: 0;clip: rect(1px 1px 1px 1px);clip: rect(1px, 1px, 1px, 1px);height: 1px;margin: -1px;overflow: hidden;padding: 0;position: absolute;width: 1px;}#sk-container-id-1 div.sk-estimator {font-family: monospace;background-color: #f0f8ff;border: 1px dotted black;border-radius: 0.25em;box-sizing: border-box;margin-bottom: 0.5em;}#sk-container-id-1 div.sk-estimator:hover {background-color: #d4ebff;}#sk-container-id-1 div.sk-parallel-item::after {content: \"\";width: 100%;border-bottom: 1px solid gray;flex-grow: 1;}#sk-container-id-1 div.sk-label:hover label.sk-toggleable__label {background-color: #d4ebff;}#sk-container-id-1 div.sk-serial::before {content: \"\";position: absolute;border-left: 1px solid gray;box-sizing: border-box;top: 0;bottom: 0;left: 50%;z-index: 0;}#sk-container-id-1 div.sk-serial {display: flex;flex-direction: column;align-items: center;background-color: white;padding-right: 0.2em;padding-left: 0.2em;position: relative;}#sk-container-id-1 div.sk-item {position: relative;z-index: 1;}#sk-container-id-1 div.sk-parallel {display: flex;align-items: stretch;justify-content: center;background-color: white;position: relative;}#sk-container-id-1 div.sk-item::before, #sk-container-id-1 div.sk-parallel-item::before {content: \"\";position: absolute;border-left: 1px solid gray;box-sizing: border-box;top: 0;bottom: 0;left: 50%;z-index: -1;}#sk-container-id-1 div.sk-parallel-item {display: flex;flex-direction: column;z-index: 1;position: relative;background-color: white;}#sk-container-id-1 div.sk-parallel-item:first-child::after {align-self: flex-end;width: 50%;}#sk-container-id-1 div.sk-parallel-item:last-child::after {align-self: flex-start;width: 50%;}#sk-container-id-1 div.sk-parallel-item:only-child::after {width: 0;}#sk-container-id-1 div.sk-dashed-wrapped {border: 1px dashed gray;margin: 0 0.4em 0.5em 0.4em;box-sizing: border-box;padding-bottom: 0.4em;background-color: white;}#sk-container-id-1 div.sk-label label {font-family: monospace;font-weight: bold;display: inline-block;line-height: 1.2em;}#sk-container-id-1 div.sk-label-container {text-align: center;}#sk-container-id-1 div.sk-container {/* jupyter's `normalize.less` sets `[hidden] { display: none; }` but bootstrap.min.css set `[hidden] { display: none !important; }` so we also need the `!important` here to be able to override the default hidden behavior on the sphinx rendered scikit-learn.org. See: https://github.com/scikit-learn/scikit-learn/issues/21755 */display: inline-block !important;position: relative;}#sk-container-id-1 div.sk-text-repr-fallback {display: none;}</style><div id=\"sk-container-id-1\" class=\"sk-top-container\"><div class=\"sk-text-repr-fallback\"><pre>GridSearchCV(cv=5,\n",
              "             estimator=XGBClassifier(base_score=None, booster=None,\n",
              "                                     callbacks=None, colsample_bylevel=None,\n",
              "                                     colsample_bynode=None,\n",
              "                                     colsample_bytree=None, device=None,\n",
              "                                     early_stopping_rounds=None,\n",
              "                                     enable_categorical=False, eval_metric=None,\n",
              "                                     feature_types=None, gamma=None,\n",
              "                                     grow_policy=None, importance_type=None,\n",
              "                                     interaction_constraints=None,\n",
              "                                     learning_rate=None,...\n",
              "                                     max_cat_threshold=None,\n",
              "                                     max_cat_to_onehot=None,\n",
              "                                     max_delta_step=None, max_depth=None,\n",
              "                                     max_leaves=None, min_child_weight=None,\n",
              "                                     missing=nan, monotone_constraints=None,\n",
              "                                     multi_strategy=None, n_estimators=None,\n",
              "                                     n_jobs=None, num_parallel_tree=None,\n",
              "                                     random_state=None, ...),\n",
              "             param_grid={&#x27;learning_rate&#x27;: [0.01, 0.1, 0.2],\n",
              "                         &#x27;max_depth&#x27;: [10, 30, 50],\n",
              "                         &#x27;n_estimators&#x27;: [100, 200, 300]},\n",
              "             scoring=&#x27;accuracy&#x27;)</pre><b>In a Jupyter environment, please rerun this cell to show the HTML representation or trust the notebook. <br />On GitHub, the HTML representation is unable to render, please try loading this page with nbviewer.org.</b></div><div class=\"sk-container\" hidden><div class=\"sk-item sk-dashed-wrapped\"><div class=\"sk-label-container\"><div class=\"sk-label sk-toggleable\"><input class=\"sk-toggleable__control sk-hidden--visually\" id=\"sk-estimator-id-1\" type=\"checkbox\" ><label for=\"sk-estimator-id-1\" class=\"sk-toggleable__label sk-toggleable__label-arrow\">GridSearchCV</label><div class=\"sk-toggleable__content\"><pre>GridSearchCV(cv=5,\n",
              "             estimator=XGBClassifier(base_score=None, booster=None,\n",
              "                                     callbacks=None, colsample_bylevel=None,\n",
              "                                     colsample_bynode=None,\n",
              "                                     colsample_bytree=None, device=None,\n",
              "                                     early_stopping_rounds=None,\n",
              "                                     enable_categorical=False, eval_metric=None,\n",
              "                                     feature_types=None, gamma=None,\n",
              "                                     grow_policy=None, importance_type=None,\n",
              "                                     interaction_constraints=None,\n",
              "                                     learning_rate=None,...\n",
              "                                     max_cat_threshold=None,\n",
              "                                     max_cat_to_onehot=None,\n",
              "                                     max_delta_step=None, max_depth=None,\n",
              "                                     max_leaves=None, min_child_weight=None,\n",
              "                                     missing=nan, monotone_constraints=None,\n",
              "                                     multi_strategy=None, n_estimators=None,\n",
              "                                     n_jobs=None, num_parallel_tree=None,\n",
              "                                     random_state=None, ...),\n",
              "             param_grid={&#x27;learning_rate&#x27;: [0.01, 0.1, 0.2],\n",
              "                         &#x27;max_depth&#x27;: [10, 30, 50],\n",
              "                         &#x27;n_estimators&#x27;: [100, 200, 300]},\n",
              "             scoring=&#x27;accuracy&#x27;)</pre></div></div></div><div class=\"sk-parallel\"><div class=\"sk-parallel-item\"><div class=\"sk-item\"><div class=\"sk-label-container\"><div class=\"sk-label sk-toggleable\"><input class=\"sk-toggleable__control sk-hidden--visually\" id=\"sk-estimator-id-2\" type=\"checkbox\" ><label for=\"sk-estimator-id-2\" class=\"sk-toggleable__label sk-toggleable__label-arrow\">estimator: XGBClassifier</label><div class=\"sk-toggleable__content\"><pre>XGBClassifier(base_score=None, booster=None, callbacks=None,\n",
              "              colsample_bylevel=None, colsample_bynode=None,\n",
              "              colsample_bytree=None, device=None, early_stopping_rounds=None,\n",
              "              enable_categorical=False, eval_metric=None, feature_types=None,\n",
              "              gamma=None, grow_policy=None, importance_type=None,\n",
              "              interaction_constraints=None, learning_rate=None, max_bin=None,\n",
              "              max_cat_threshold=None, max_cat_to_onehot=None,\n",
              "              max_delta_step=None, max_depth=None, max_leaves=None,\n",
              "              min_child_weight=None, missing=nan, monotone_constraints=None,\n",
              "              multi_strategy=None, n_estimators=None, n_jobs=None,\n",
              "              num_parallel_tree=None, random_state=None, ...)</pre></div></div></div><div class=\"sk-serial\"><div class=\"sk-item\"><div class=\"sk-estimator sk-toggleable\"><input class=\"sk-toggleable__control sk-hidden--visually\" id=\"sk-estimator-id-3\" type=\"checkbox\" ><label for=\"sk-estimator-id-3\" class=\"sk-toggleable__label sk-toggleable__label-arrow\">XGBClassifier</label><div class=\"sk-toggleable__content\"><pre>XGBClassifier(base_score=None, booster=None, callbacks=None,\n",
              "              colsample_bylevel=None, colsample_bynode=None,\n",
              "              colsample_bytree=None, device=None, early_stopping_rounds=None,\n",
              "              enable_categorical=False, eval_metric=None, feature_types=None,\n",
              "              gamma=None, grow_policy=None, importance_type=None,\n",
              "              interaction_constraints=None, learning_rate=None, max_bin=None,\n",
              "              max_cat_threshold=None, max_cat_to_onehot=None,\n",
              "              max_delta_step=None, max_depth=None, max_leaves=None,\n",
              "              min_child_weight=None, missing=nan, monotone_constraints=None,\n",
              "              multi_strategy=None, n_estimators=None, n_jobs=None,\n",
              "              num_parallel_tree=None, random_state=None, ...)</pre></div></div></div></div></div></div></div></div></div></div>"
            ]
          },
          "metadata": {},
          "execution_count": 69
        }
      ]
    },
    {
      "cell_type": "markdown",
      "source": [
        "Best Estimator and Hyperparameters"
      ],
      "metadata": {
        "id": "n3imERrrFcri"
      }
    },
    {
      "cell_type": "code",
      "source": [
        "# Print the best estimator found during hyperparameter search\n",
        "print(\"Best estimator found:\")\n",
        "best_model_ub_coa_xgb = grid_search_ub_coa_xgb.best_estimator_\n",
        "print(best_model_ub_coa_xgb)\n",
        "\n",
        "# Print the best hyperparameters found during hyperparameter search\n",
        "print(\"\\nBest hyperparameters found:\")\n",
        "best_params_ub_coa_xgb = grid_search_ub_coa_xgb.best_params_\n",
        "print(best_params_ub_coa_xgb)\n",
        "\n",
        "# Print the score of the best model in coastal_no_balancing cross-validation\n",
        "print(\"\\nScore of the best model in coastal_no_balancing cross-validation:\")\n",
        "best_score_ub_coa_xgb = grid_search_ub_coa_xgb.best_score_\n",
        "print(best_score_ub_coa_xgb)"
      ],
      "metadata": {
        "colab": {
          "base_uri": "https://localhost:8080/"
        },
        "outputId": "c429dee6-65ee-4a66-8f0d-b9d15c8d6828",
        "id": "Ga_EMdhvFcrj"
      },
      "execution_count": null,
      "outputs": [
        {
          "output_type": "stream",
          "name": "stdout",
          "text": [
            "Best estimator found:\n",
            "XGBClassifier(base_score=None, booster=None, callbacks=None,\n",
            "              colsample_bylevel=None, colsample_bynode=None,\n",
            "              colsample_bytree=None, device=None, early_stopping_rounds=None,\n",
            "              enable_categorical=False, eval_metric=None, feature_types=None,\n",
            "              gamma=None, grow_policy=None, importance_type=None,\n",
            "              interaction_constraints=None, learning_rate=0.01, max_bin=None,\n",
            "              max_cat_threshold=None, max_cat_to_onehot=None,\n",
            "              max_delta_step=None, max_depth=10, max_leaves=None,\n",
            "              min_child_weight=None, missing=nan, monotone_constraints=None,\n",
            "              multi_strategy=None, n_estimators=100, n_jobs=None,\n",
            "              num_parallel_tree=None, objective='multi:softprob', ...)\n",
            "\n",
            "Best hyperparameters found:\n",
            "{'learning_rate': 0.01, 'max_depth': 10, 'n_estimators': 100}\n",
            "\n",
            "Score of the best model in coastal_no_balancing cross-validation:\n",
            "0.9938895417156287\n"
          ]
        }
      ]
    },
    {
      "cell_type": "markdown",
      "source": [
        " Evaluate the model on the training set"
      ],
      "metadata": {
        "id": "IwYEojWZFcrk"
      }
    },
    {
      "cell_type": "code",
      "source": [
        "# Make predictions on the training set\n",
        "y_pred_train_ub_coa_xgb = best_model_ub_coa_xgb.predict(X_train_ub_coa_xgb)\n",
        "\n",
        "# Evaluation metrics on the training set\n",
        "accuracy_train_ub_coa_xgb = accuracy_score(y_train_ub_coa_xgb, y_pred_train_ub_coa_xgb)\n",
        "precision_train_ub_coa_xgb = precision_score(y_train_ub_coa_xgb, y_pred_train_ub_coa_xgb, average='weighted')\n",
        "# Calculate precision for each class\n",
        "precision_x_class_train_ub_coa_xgb = precision_score(y_train_ub_coa_xgb, y_pred_train_ub_coa_xgb, average=None)\n",
        "recall_train_ub_coa_xgb = recall_score(y_train_ub_coa_xgb, y_pred_train_ub_coa_xgb, average='weighted')\n",
        "# Calculate recall for each class\n",
        "recall_x_class_train_ub_coa_xgb = recall_score(y_train_ub_coa_xgb, y_pred_train_ub_coa_xgb, average=None)\n",
        "f1_score_train_ub_coa_xgb = f1_score(y_train_ub_coa_xgb, y_pred_train_ub_coa_xgb, average='weighted')\n",
        "# Calculate f1 score for each class\n",
        "f1_score_x_class_train_ub_coa_xgb = f1_score(y_train_ub_coa_xgb, y_pred_train_ub_coa_xgb, average=None)\n",
        "jaccard_train_ub_coa_xgb = jaccard_score(y_train_ub_coa_xgb, y_pred_train_ub_coa_xgb, average='weighted')\n",
        "confusion_train_ub_coa_xgb = confusion_matrix(y_train_ub_coa_xgb, y_pred_train_ub_coa_xgb)\n",
        "\n",
        "# Print evaluation metrics for the training set\n",
        "print(\"Accuracy: \", accuracy_train_ub_coa_xgb)\n",
        "print(\"Precision: \", precision_train_ub_coa_xgb)\n",
        "print(\"Precision per class:\" , precision_x_class_train_ub_coa_xgb )\n",
        "print(\"Recall: \", recall_train_ub_coa_xgb)\n",
        "print(\"Recall per class:\" , recall_x_class_train_ub_coa_xgb )\n",
        "print(\"F1 Score: \", f1_score_train_ub_coa_xgb)\n",
        "# Print F1-score for each class\n",
        "for clase, f1 in enumerate(f1_score_x_class_train_ub_coa_xgb):\n",
        "    print(f\"F1-score for the class {clase}: {f1}\")\n",
        "print(\"jaccard:\" , jaccard_train_ub_coa_xgb )\n",
        "print(\"Confusion Matrix: \")\n",
        "print(confusion_train_ub_coa_xgb)"
      ],
      "metadata": {
        "colab": {
          "base_uri": "https://localhost:8080/"
        },
        "outputId": "6cf38195-5b35-42a7-b6f5-7f060a38af75",
        "id": "IrS8qr-SFcrm"
      },
      "execution_count": null,
      "outputs": [
        {
          "output_type": "stream",
          "name": "stdout",
          "text": [
            "Accuracy:  0.9988249118683902\n",
            "Precision:  0.9988265143511595\n",
            "Precision per class: [0.99935588 0.99626866 1.        ]\n",
            "Recall:  0.9988249118683902\n",
            "Recall per class: [0.99903413 0.99875312 0.99711816]\n",
            "F1 Score:  0.9988252330546723\n",
            "F1-score for the class 0: 0.999194976654323\n",
            "F1-score for the class 1: 0.9975093399750935\n",
            "F1-score for the class 2: 0.9985569985569985\n",
            "jaccard: 0.9976540832750918\n",
            "Confusion Matrix: \n",
            "[[3103    3    0]\n",
            " [   1  801    0]\n",
            " [   1    0  346]]\n"
          ]
        }
      ]
    },
    {
      "cell_type": "markdown",
      "source": [
        " Evaluate the model on the test set"
      ],
      "metadata": {
        "id": "v26LuFP5Fcro"
      }
    },
    {
      "cell_type": "code",
      "source": [
        "# Make predictions on the testing set\n",
        "y_pred_test_ub_coa_xgb = best_model_ub_coa_xgb.predict(X_test_ub_coa_xgb)\n",
        "\n",
        "# Evaluation metrics on the testing set\n",
        "accuracy_test_ub_coa_xgb = accuracy_score(y_test_ub_coa_xgb, y_pred_test_ub_coa_xgb)\n",
        "precision_test_ub_coa_xgb = precision_score(y_test_ub_coa_xgb, y_pred_test_ub_coa_xgb, average='weighted')\n",
        "# Calculate precision for each class\n",
        "precision_x_class_test_ub_coa_xgb = precision_score(y_test_ub_coa_xgb, y_pred_test_ub_coa_xgb, average=None)\n",
        "recall_test_ub_coa_xgb = recall_score(y_test_ub_coa_xgb, y_pred_test_ub_coa_xgb, average='weighted')\n",
        "# Calculate recall for each class\n",
        "recall_x_class_test_ub_coa_xgb = recall_score(y_test_ub_coa_xgb, y_pred_test_ub_coa_xgb, average=None)\n",
        "f1_score_test_ub_coa_xgb = f1_score(y_test_ub_coa_xgb, y_pred_test_ub_coa_xgb, average='weighted')\n",
        "# Calculate f1 score for each class\n",
        "f1_score_x_class_test_ub_coa_xgb = f1_score(y_test_ub_coa_xgb, y_pred_test_ub_coa_xgb, average=None)\n",
        "jaccard_test_ub_coa_xgb = jaccard_score(y_test_ub_coa_xgb, y_pred_test_ub_coa_xgb, average='weighted')\n",
        "confusion_test_ub_coa_xgb = confusion_matrix(y_test_ub_coa_xgb, y_pred_test_ub_coa_xgb)\n",
        "\n",
        "# Print evaluation metrics for the testing set\n",
        "print(\"Accuracy: \", accuracy_test_ub_coa_xgb)\n",
        "print(\"Precision: \", precision_test_ub_coa_xgb)\n",
        "print(\"Precision per class:\" , precision_x_class_test_ub_coa_xgb )\n",
        "print(\"Recall: \", recall_test_ub_coa_xgb)\n",
        "print(\"Recall per class:\" , recall_x_class_test_ub_coa_xgb )\n",
        "print(\"F1 Score: \", f1_score_test_ub_coa_xgb)\n",
        "# Print F1-score for each class\n",
        "for clase, f1 in enumerate(f1_score_x_class_test_ub_coa_xgb):\n",
        "    print(f\"F1-score for the class {clase}: {f1}\")\n",
        "print(\"jaccard:\" , jaccard_test_ub_coa_xgb )\n",
        "print(\"Confusion Matrix: \")\n",
        "print(confusion_test_ub_coa_xgb)"
      ],
      "metadata": {
        "colab": {
          "base_uri": "https://localhost:8080/"
        },
        "outputId": "411f20b1-3d6c-4a5d-ff49-74e5a90b0f68",
        "id": "9XIyCh7CFcrp"
      },
      "execution_count": null,
      "outputs": [
        {
          "output_type": "stream",
          "name": "stdout",
          "text": [
            "Accuracy:  0.9971804511278195\n",
            "Precision:  0.9971781710550508\n",
            "Precision per class: [0.997426 0.995    1.      ]\n",
            "Recall:  0.9971804511278195\n",
            "Recall per class: [0.99871134 0.99004975 1.        ]\n",
            "F1 Score:  0.9971778432557574\n",
            "F1-score for the class 0: 0.9980682549903412\n",
            "F1-score for the class 1: 0.9925187032418954\n",
            "F1-score for the class 2: 1.0\n",
            "jaccard: 0.9943821086159873\n",
            "Confusion Matrix: \n",
            "[[775   1   0]\n",
            " [  2 199   0]\n",
            " [  0   0  87]]\n"
          ]
        }
      ]
    },
    {
      "cell_type": "markdown",
      "source": [
        " Evaluate the model on the validation set"
      ],
      "metadata": {
        "id": "5i_geO38Fcrr"
      }
    },
    {
      "cell_type": "code",
      "source": [
        "# Transform the validation data using the scaler trained on the validation data\n",
        "X_val_ub_coa_xgb = scaler_ub_coa_xgb.transform(X_val_coastal)\n",
        "\n",
        "# Make predictions on the validation set using the trained xgboost model\n",
        "y_pred_val_ub_coa_xgb = best_model_ub_coa_xgb.predict(X_val_ub_coa_xgb)\n",
        "\n",
        "# Evaluation metrics on the validation set\n",
        "accuracy_val_ub_coa_xgb = accuracy_score(y_val_coastal, y_pred_val_ub_coa_xgb)\n",
        "precision_val_ub_coa_xgb = precision_score(y_val_coastal, y_pred_val_ub_coa_xgb, average='weighted')\n",
        "# Calculate precision for each class\n",
        "precision_x_class_val_ub_coa_xgb = precision_score(y_val_coastal, y_pred_val_ub_coa_xgb, average=None)\n",
        "recall_val_ub_coa_xgb = recall_score(y_val_coastal, y_pred_val_ub_coa_xgb, average='weighted')\n",
        "# Calculate recall for each class\n",
        "recall_x_class_val_ub_coa_xgb = recall_score(y_val_coastal, y_pred_val_ub_coa_xgb, average=None)\n",
        "f1_score_val_ub_coa_xgb = f1_score(y_val_coastal, y_pred_val_ub_coa_xgb, average='weighted')\n",
        "# Calculate f1 score for each class\n",
        "f1_score_x_class_val_ub_coa_xgb = f1_score(y_val_coastal, y_pred_val_ub_coa_xgb, average=None)\n",
        "jaccard_val_ub_coa_xgb = jaccard_score(y_val_coastal, y_pred_val_ub_coa_xgb, average='weighted')\n",
        "confusion_val_ub_coa_xgb = confusion_matrix(y_val_coastal, y_pred_val_ub_coa_xgb)\n",
        "\n",
        "# Print evaluation metrics for the validation set\n",
        "print(\"Accuracy: \", accuracy_val_ub_coa_xgb)\n",
        "print(\"Precision: \", precision_val_ub_coa_xgb)\n",
        "print(\"Precision per class:\" , precision_x_class_val_ub_coa_xgb )\n",
        "print(\"Recall: \", recall_val_ub_coa_xgb)\n",
        "print(\"Recall per class:\" , recall_x_class_val_ub_coa_xgb )\n",
        "print(\"F1 Score: \", f1_score_val_ub_coa_xgb)\n",
        "# Print F1-score for each class\n",
        "for clase, f1 in enumerate(f1_score_x_class_val_ub_coa_xgb):\n",
        "    print(f\"F1-score for the class {clase}: {f1}\")\n",
        "print(\"jaccard:\" , jaccard_val_ub_coa_xgb )\n",
        "print(\"Confusion Matrix: \")\n",
        "print(confusion_val_ub_coa_xgb)"
      ],
      "metadata": {
        "colab": {
          "base_uri": "https://localhost:8080/"
        },
        "outputId": "715c8b5c-7bd4-4966-9673-22e6b880364b",
        "id": "1u4QUIeQFcrs"
      },
      "execution_count": null,
      "outputs": [
        {
          "output_type": "stream",
          "name": "stdout",
          "text": [
            "Accuracy:  1.0\n",
            "Precision:  1.0\n",
            "Precision per class: [1. 1.]\n",
            "Recall:  1.0\n",
            "Recall per class: [1. 1.]\n",
            "F1 Score:  1.0\n",
            "F1-score for the class 0: 1.0\n",
            "F1-score for the class 1: 1.0\n",
            "jaccard: 1.0\n",
            "Confusion Matrix: \n",
            "[[16  0]\n",
            " [ 0  5]]\n"
          ]
        }
      ]
    },
    {
      "cell_type": "code",
      "source": [
        "# Save the trained XGBoost model to a file\n",
        "with open('best_model_ub_coa_xgb.pkl', 'wb') as model_file:\n",
        "    pickle.dump(best_model_ub_coa_xgb, model_file)\n",
        "\n",
        "# Save the scaler used for preprocessing to a file\n",
        "with open('scaler_ub_coa_xgb.pkl', 'wb') as scaler_file:\n",
        "    pickle.dump(scaler_ub_coa_xgb, scaler_file)"
      ],
      "metadata": {
        "id": "Lt6g4tAKFcru"
      },
      "execution_count": null,
      "outputs": []
    },
    {
      "cell_type": "markdown",
      "source": [
        "###SVM"
      ],
      "metadata": {
        "id": "OSP7gi5wFcrv"
      }
    },
    {
      "cell_type": "markdown",
      "source": [
        "Split data into training and test set"
      ],
      "metadata": {
        "id": "C6VXVEGuFcrw"
      }
    },
    {
      "cell_type": "code",
      "source": [
        "X_train_ub_coa_svm, X_test_ub_coa_svm, y_train_ub_coa_svm, y_test_ub_coa_svm = train_test_split(X_train_coastal, y_train_coastal, test_size=0.2, random_state=42)"
      ],
      "metadata": {
        "id": "iXDqc83WFcrx"
      },
      "execution_count": null,
      "outputs": []
    },
    {
      "cell_type": "markdown",
      "source": [
        "Feature Standardization for Coastal Dataset using StandardScaler"
      ],
      "metadata": {
        "id": "CILldv7oFcry"
      }
    },
    {
      "cell_type": "code",
      "source": [
        "# Create a StandardScaler object\n",
        "scaler_ub_coa_svm = StandardScaler()\n",
        "\n",
        "# Fit and transform the training data to standardize features\n",
        "X_train_ub_coa_svm = scaler_ub_coa_svm.fit_transform(X_train_ub_coa_svm)\n",
        "\n",
        "# Transform the test data using the same scaler to maintain consistency in feature scaling\n",
        "X_test_ub_coa_svm = scaler_ub_coa_svm.transform(X_test_ub_coa_svm)"
      ],
      "metadata": {
        "id": "hBT3XVbwFcrz"
      },
      "execution_count": null,
      "outputs": []
    },
    {
      "cell_type": "markdown",
      "source": [
        "Hyperparameter Grid for SVM Model"
      ],
      "metadata": {
        "id": "8MRjQgpiFcr1"
      }
    },
    {
      "cell_type": "code",
      "source": [
        "# Define a dictionary of hyperparameters for tuning a SVM model\n",
        "parameters = {\n",
        "    'C': [0.1, 1, 10],\n",
        "    'kernel': ['linear', 'rbf', 'poly'],\n",
        "    'gamma': [0.1, 1, 'scale', 'auto'],\n",
        "}"
      ],
      "metadata": {
        "id": "el9OKIpCFcr3"
      },
      "execution_count": null,
      "outputs": []
    },
    {
      "cell_type": "markdown",
      "source": [
        "Create a Decision SVM model"
      ],
      "metadata": {
        "id": "7j_WZtZlFcr4"
      }
    },
    {
      "cell_type": "code",
      "source": [
        "#Create a Decision SVM model\n",
        "model_ub_coa_svm = SVC()"
      ],
      "metadata": {
        "id": "ypGUZiDnFcr6"
      },
      "execution_count": null,
      "outputs": []
    },
    {
      "cell_type": "markdown",
      "source": [
        "Hyperparameter Tuning with Cross-Validation"
      ],
      "metadata": {
        "id": "chG4oZIyFcr7"
      }
    },
    {
      "cell_type": "code",
      "source": [
        "# Inform the user to wait during the hyperparameter search\n",
        "print(\"Wait a moment...\")\n",
        "\n",
        "# Create a GridSearchCV object for hyperparameter tuning\n",
        "grid_search_ub_coa_svm = GridSearchCV(model_ub_coa_svm, parameters, cv=5, scoring='accuracy')\n",
        "\n",
        "# Fit the GridSearchCV object to find the best hyperparameters\n",
        "grid_search_ub_coa_svm.fit(X_train_ub_coa_svm, y_train_ub_coa_svm)"
      ],
      "metadata": {
        "colab": {
          "base_uri": "https://localhost:8080/",
          "height": 134
        },
        "outputId": "c47cfdb3-007a-45b5-e309-cd5b0b4bee89",
        "id": "dO1yHFXHFcr8"
      },
      "execution_count": null,
      "outputs": [
        {
          "output_type": "stream",
          "name": "stdout",
          "text": [
            "Wait a moment...\n"
          ]
        },
        {
          "output_type": "execute_result",
          "data": {
            "text/plain": [
              "GridSearchCV(cv=5, estimator=SVC(),\n",
              "             param_grid={'C': [0.1, 1, 10], 'gamma': [0.1, 1, 'scale', 'auto'],\n",
              "                         'kernel': ['linear', 'rbf', 'poly']},\n",
              "             scoring='accuracy')"
            ],
            "text/html": [
              "<style>#sk-container-id-2 {color: black;background-color: white;}#sk-container-id-2 pre{padding: 0;}#sk-container-id-2 div.sk-toggleable {background-color: white;}#sk-container-id-2 label.sk-toggleable__label {cursor: pointer;display: block;width: 100%;margin-bottom: 0;padding: 0.3em;box-sizing: border-box;text-align: center;}#sk-container-id-2 label.sk-toggleable__label-arrow:before {content: \"▸\";float: left;margin-right: 0.25em;color: #696969;}#sk-container-id-2 label.sk-toggleable__label-arrow:hover:before {color: black;}#sk-container-id-2 div.sk-estimator:hover label.sk-toggleable__label-arrow:before {color: black;}#sk-container-id-2 div.sk-toggleable__content {max-height: 0;max-width: 0;overflow: hidden;text-align: left;background-color: #f0f8ff;}#sk-container-id-2 div.sk-toggleable__content pre {margin: 0.2em;color: black;border-radius: 0.25em;background-color: #f0f8ff;}#sk-container-id-2 input.sk-toggleable__control:checked~div.sk-toggleable__content {max-height: 200px;max-width: 100%;overflow: auto;}#sk-container-id-2 input.sk-toggleable__control:checked~label.sk-toggleable__label-arrow:before {content: \"▾\";}#sk-container-id-2 div.sk-estimator input.sk-toggleable__control:checked~label.sk-toggleable__label {background-color: #d4ebff;}#sk-container-id-2 div.sk-label input.sk-toggleable__control:checked~label.sk-toggleable__label {background-color: #d4ebff;}#sk-container-id-2 input.sk-hidden--visually {border: 0;clip: rect(1px 1px 1px 1px);clip: rect(1px, 1px, 1px, 1px);height: 1px;margin: -1px;overflow: hidden;padding: 0;position: absolute;width: 1px;}#sk-container-id-2 div.sk-estimator {font-family: monospace;background-color: #f0f8ff;border: 1px dotted black;border-radius: 0.25em;box-sizing: border-box;margin-bottom: 0.5em;}#sk-container-id-2 div.sk-estimator:hover {background-color: #d4ebff;}#sk-container-id-2 div.sk-parallel-item::after {content: \"\";width: 100%;border-bottom: 1px solid gray;flex-grow: 1;}#sk-container-id-2 div.sk-label:hover label.sk-toggleable__label {background-color: #d4ebff;}#sk-container-id-2 div.sk-serial::before {content: \"\";position: absolute;border-left: 1px solid gray;box-sizing: border-box;top: 0;bottom: 0;left: 50%;z-index: 0;}#sk-container-id-2 div.sk-serial {display: flex;flex-direction: column;align-items: center;background-color: white;padding-right: 0.2em;padding-left: 0.2em;position: relative;}#sk-container-id-2 div.sk-item {position: relative;z-index: 1;}#sk-container-id-2 div.sk-parallel {display: flex;align-items: stretch;justify-content: center;background-color: white;position: relative;}#sk-container-id-2 div.sk-item::before, #sk-container-id-2 div.sk-parallel-item::before {content: \"\";position: absolute;border-left: 1px solid gray;box-sizing: border-box;top: 0;bottom: 0;left: 50%;z-index: -1;}#sk-container-id-2 div.sk-parallel-item {display: flex;flex-direction: column;z-index: 1;position: relative;background-color: white;}#sk-container-id-2 div.sk-parallel-item:first-child::after {align-self: flex-end;width: 50%;}#sk-container-id-2 div.sk-parallel-item:last-child::after {align-self: flex-start;width: 50%;}#sk-container-id-2 div.sk-parallel-item:only-child::after {width: 0;}#sk-container-id-2 div.sk-dashed-wrapped {border: 1px dashed gray;margin: 0 0.4em 0.5em 0.4em;box-sizing: border-box;padding-bottom: 0.4em;background-color: white;}#sk-container-id-2 div.sk-label label {font-family: monospace;font-weight: bold;display: inline-block;line-height: 1.2em;}#sk-container-id-2 div.sk-label-container {text-align: center;}#sk-container-id-2 div.sk-container {/* jupyter's `normalize.less` sets `[hidden] { display: none; }` but bootstrap.min.css set `[hidden] { display: none !important; }` so we also need the `!important` here to be able to override the default hidden behavior on the sphinx rendered scikit-learn.org. See: https://github.com/scikit-learn/scikit-learn/issues/21755 */display: inline-block !important;position: relative;}#sk-container-id-2 div.sk-text-repr-fallback {display: none;}</style><div id=\"sk-container-id-2\" class=\"sk-top-container\"><div class=\"sk-text-repr-fallback\"><pre>GridSearchCV(cv=5, estimator=SVC(),\n",
              "             param_grid={&#x27;C&#x27;: [0.1, 1, 10], &#x27;gamma&#x27;: [0.1, 1, &#x27;scale&#x27;, &#x27;auto&#x27;],\n",
              "                         &#x27;kernel&#x27;: [&#x27;linear&#x27;, &#x27;rbf&#x27;, &#x27;poly&#x27;]},\n",
              "             scoring=&#x27;accuracy&#x27;)</pre><b>In a Jupyter environment, please rerun this cell to show the HTML representation or trust the notebook. <br />On GitHub, the HTML representation is unable to render, please try loading this page with nbviewer.org.</b></div><div class=\"sk-container\" hidden><div class=\"sk-item sk-dashed-wrapped\"><div class=\"sk-label-container\"><div class=\"sk-label sk-toggleable\"><input class=\"sk-toggleable__control sk-hidden--visually\" id=\"sk-estimator-id-4\" type=\"checkbox\" ><label for=\"sk-estimator-id-4\" class=\"sk-toggleable__label sk-toggleable__label-arrow\">GridSearchCV</label><div class=\"sk-toggleable__content\"><pre>GridSearchCV(cv=5, estimator=SVC(),\n",
              "             param_grid={&#x27;C&#x27;: [0.1, 1, 10], &#x27;gamma&#x27;: [0.1, 1, &#x27;scale&#x27;, &#x27;auto&#x27;],\n",
              "                         &#x27;kernel&#x27;: [&#x27;linear&#x27;, &#x27;rbf&#x27;, &#x27;poly&#x27;]},\n",
              "             scoring=&#x27;accuracy&#x27;)</pre></div></div></div><div class=\"sk-parallel\"><div class=\"sk-parallel-item\"><div class=\"sk-item\"><div class=\"sk-label-container\"><div class=\"sk-label sk-toggleable\"><input class=\"sk-toggleable__control sk-hidden--visually\" id=\"sk-estimator-id-5\" type=\"checkbox\" ><label for=\"sk-estimator-id-5\" class=\"sk-toggleable__label sk-toggleable__label-arrow\">estimator: SVC</label><div class=\"sk-toggleable__content\"><pre>SVC()</pre></div></div></div><div class=\"sk-serial\"><div class=\"sk-item\"><div class=\"sk-estimator sk-toggleable\"><input class=\"sk-toggleable__control sk-hidden--visually\" id=\"sk-estimator-id-6\" type=\"checkbox\" ><label for=\"sk-estimator-id-6\" class=\"sk-toggleable__label sk-toggleable__label-arrow\">SVC</label><div class=\"sk-toggleable__content\"><pre>SVC()</pre></div></div></div></div></div></div></div></div></div></div>"
            ]
          },
          "metadata": {},
          "execution_count": 78
        }
      ]
    },
    {
      "cell_type": "markdown",
      "source": [
        "Best Estimator and Hyperparameters"
      ],
      "metadata": {
        "id": "MXtuaZ4IFcr9"
      }
    },
    {
      "cell_type": "code",
      "source": [
        "# Print the best estimator found during hyperparameter search\n",
        "print(\"Best estimator found:\")\n",
        "best_model_ub_coa_svm = grid_search_ub_coa_svm.best_estimator_\n",
        "print(best_model_ub_coa_svm)\n",
        "\n",
        "# Print the best hyperparameters found during hyperparameter search\n",
        "print(\"\\nBest hyperparameters found:\")\n",
        "best_params_ub_coa_svm = grid_search_ub_coa_svm.best_params_\n",
        "print(best_params_ub_coa_svm)\n",
        "\n",
        "# Print the score of the best model in coastal_no_balancing cross-validation\n",
        "print(\"\\nScore of the best model in coastal_no_balancing cross-validation:\")\n",
        "best_score_ub_coa_svm = grid_search_ub_coa_svm.best_score_\n",
        "print(best_score_ub_coa_svm)"
      ],
      "metadata": {
        "colab": {
          "base_uri": "https://localhost:8080/"
        },
        "outputId": "9f17c1ca-fadd-4aa4-d965-0dc17bf1e65a",
        "id": "3UQ3FqaEFcr-"
      },
      "execution_count": null,
      "outputs": [
        {
          "output_type": "stream",
          "name": "stdout",
          "text": [
            "Best estimator found:\n",
            "SVC(C=10, gamma='auto')\n",
            "\n",
            "Best hyperparameters found:\n",
            "{'C': 10, 'gamma': 'auto', 'kernel': 'rbf'}\n",
            "\n",
            "Score of the best model in coastal_no_balancing cross-validation:\n",
            "0.9623971797884842\n"
          ]
        }
      ]
    },
    {
      "cell_type": "markdown",
      "source": [
        " Evaluate the model on the training set"
      ],
      "metadata": {
        "id": "7coUp88AFcr_"
      }
    },
    {
      "cell_type": "code",
      "source": [
        "# Make predictions on the training set\n",
        "y_pred_train_ub_coa_svm = best_model_ub_coa_svm.predict(X_train_ub_coa_svm)\n",
        "\n",
        "# Evaluation metrics on the training set\n",
        "accuracy_train_ub_coa_svm = accuracy_score(y_train_ub_coa_svm, y_pred_train_ub_coa_svm)\n",
        "precision_train_ub_coa_svm = precision_score(y_train_ub_coa_svm, y_pred_train_ub_coa_svm, average='weighted')\n",
        "# Calculate precision for each class\n",
        "precision_x_class_train_ub_coa_svm = precision_score(y_train_ub_coa_svm, y_pred_train_ub_coa_svm, average=None)\n",
        "recall_train_ub_coa_svm = recall_score(y_train_ub_coa_svm, y_pred_train_ub_coa_svm, average='weighted')\n",
        "# Calculate recall for each class\n",
        "recall_x_class_train_ub_coa_svm = recall_score(y_train_ub_coa_svm, y_pred_train_ub_coa_svm, average=None)\n",
        "f1_score_train_ub_coa_svm = f1_score(y_train_ub_coa_svm, y_pred_train_ub_coa_svm, average='weighted')\n",
        "# Calculate f1 score for each class\n",
        "f1_score_x_class_train_ub_coa_svm = f1_score(y_train_ub_coa_svm, y_pred_train_ub_coa_svm, average=None)\n",
        "jaccard_train_ub_coa_svm = jaccard_score(y_train_ub_coa_svm, y_pred_train_ub_coa_svm, average='weighted')\n",
        "confusion_train_ub_coa_svm = confusion_matrix(y_train_ub_coa_svm, y_pred_train_ub_coa_svm)\n",
        "\n",
        "# Print evaluation metrics for the training set\n",
        "print(\"Accuracy: \", accuracy_train_ub_coa_svm)\n",
        "print(\"Precision: \", precision_train_ub_coa_svm)\n",
        "print(\"Precision per class:\" , precision_x_class_train_ub_coa_svm )\n",
        "print(\"Recall: \", recall_train_ub_coa_svm)\n",
        "print(\"Recall per class:\" , recall_x_class_train_ub_coa_svm )\n",
        "print(\"F1 Score: \", f1_score_train_ub_coa_svm)\n",
        "# Print F1-score for each class\n",
        "for clase, f1 in enumerate(f1_score_x_class_train_ub_coa_svm):\n",
        "    print(f\"F1-score for the class {clase}: {f1}\")\n",
        "print(\"jaccard:\" , jaccard_train_ub_coa_svm )\n",
        "print(\"Confusion Matrix: \")\n",
        "print(confusion_train_ub_coa_svm)"
      ],
      "metadata": {
        "colab": {
          "base_uri": "https://localhost:8080/"
        },
        "outputId": "c3b4fa0a-a8ba-49e1-998a-a26b7bc1babe",
        "id": "aS7rcTtoFcsA"
      },
      "execution_count": null,
      "outputs": [
        {
          "output_type": "stream",
          "name": "stdout",
          "text": [
            "Accuracy:  0.9699177438307873\n",
            "Precision:  0.9703700778146039\n",
            "Precision per class: [0.97382529 0.94416873 1.        ]\n",
            "Recall:  0.9699177438307873\n",
            "Recall per class: [0.99420476 0.94887781 0.80115274]\n",
            "F1 Score:  0.9691706477249029\n",
            "F1-score for the class 0: 0.9839095109128565\n",
            "F1-score for the class 1: 0.9465174129353233\n",
            "F1-score for the class 2: 0.8896000000000001\n",
            "jaccard: 0.9415270954251913\n",
            "Confusion Matrix: \n",
            "[[3088   18    0]\n",
            " [  41  761    0]\n",
            " [  42   27  278]]\n"
          ]
        }
      ]
    },
    {
      "cell_type": "markdown",
      "source": [
        " Evaluate the model on the test set"
      ],
      "metadata": {
        "id": "zaKOLVu9FcsC"
      }
    },
    {
      "cell_type": "code",
      "source": [
        "# Make predictions on the testing set\n",
        "y_pred_test_ub_coa_svm = best_model_ub_coa_svm.predict(X_test_ub_coa_svm)\n",
        "\n",
        "# Evaluation metrics on the testing set\n",
        "accuracy_test_ub_coa_svm = accuracy_score(y_test_ub_coa_svm, y_pred_test_ub_coa_svm)\n",
        "precision_test_ub_coa_svm = precision_score(y_test_ub_coa_svm, y_pred_test_ub_coa_svm, average='weighted')\n",
        "# Calculate precision for each class\n",
        "precision_x_class_test_ub_coa_svm = precision_score(y_test_ub_coa_svm, y_pred_test_ub_coa_svm, average=None)\n",
        "recall_test_ub_coa_svm = recall_score(y_test_ub_coa_svm, y_pred_test_ub_coa_svm, average='weighted')\n",
        "# Calculate recall for each class\n",
        "recall_x_class_test_ub_coa_svm = recall_score(y_test_ub_coa_svm, y_pred_test_ub_coa_svm, average=None)\n",
        "f1_score_test_ub_coa_svm = f1_score(y_test_ub_coa_svm, y_pred_test_ub_coa_svm, average='weighted')\n",
        "# Calculate f1 score for each class\n",
        "f1_score_x_class_test_ub_coa_svm = f1_score(y_test_ub_coa_svm, y_pred_test_ub_coa_svm, average=None)\n",
        "jaccard_test_ub_coa_svm = jaccard_score(y_test_ub_coa_svm, y_pred_test_ub_coa_svm, average='weighted')\n",
        "confusion_test_ub_coa_svm = confusion_matrix(y_test_ub_coa_svm, y_pred_test_ub_coa_svm)\n",
        "\n",
        "# Print evaluation metrics for the testing set\n",
        "print(\"Accuracy: \", accuracy_test_ub_coa_svm)\n",
        "print(\"Precision: \", precision_test_ub_coa_svm)\n",
        "print(\"Precision per class:\" , precision_x_class_test_ub_coa_svm )\n",
        "print(\"Recall: \", recall_test_ub_coa_svm)\n",
        "print(\"Recall per class:\" , recall_x_class_test_ub_coa_svm )\n",
        "print(\"F1 Score: \", f1_score_test_ub_coa_svm)\n",
        "# Print F1-score for each class\n",
        "for clase, f1 in enumerate(f1_score_x_class_test_ub_coa_svm):\n",
        "    print(f\"F1-score for the class {clase}: {f1}\")\n",
        "print(\"jaccard:\" , jaccard_test_ub_coa_svm )\n",
        "print(\"Confusion Matrix: \")\n",
        "print(confusion_test_ub_coa_svm)"
      ],
      "metadata": {
        "colab": {
          "base_uri": "https://localhost:8080/"
        },
        "outputId": "a0981f10-cffe-412c-f7c5-ef582fff0a3a",
        "id": "Y4uctTClFcsD"
      },
      "execution_count": null,
      "outputs": [
        {
          "output_type": "stream",
          "name": "stdout",
          "text": [
            "Accuracy:  0.9624060150375939\n",
            "Precision:  0.9631150149807105\n",
            "Precision per class: [0.96737767 0.93069307 1.        ]\n",
            "Recall:  0.9624060150375939\n",
            "Recall per class: [0.9935567  0.93532338 0.74712644]\n",
            "F1 Score:  0.9611356418518322\n",
            "F1-score for the class 0: 0.9802924348378894\n",
            "F1-score for the class 1: 0.9330024813895781\n",
            "F1-score for the class 2: 0.8552631578947367\n",
            "jaccard: 0.927408954009451\n",
            "Confusion Matrix: \n",
            "[[771   5   0]\n",
            " [ 13 188   0]\n",
            " [ 13   9  65]]\n"
          ]
        }
      ]
    },
    {
      "cell_type": "markdown",
      "source": [
        " Evaluate the model on the validation set"
      ],
      "metadata": {
        "id": "QTW83tidFcsF"
      }
    },
    {
      "cell_type": "code",
      "source": [
        "# Transform the validation data using the scaler trained on the validation data\n",
        "X_val_ub_coa_svm = scaler_ub_coa_svm.transform(X_val_coastal)\n",
        "\n",
        "# Make predictions on the validation set using the trained svm model\n",
        "y_pred_val_ub_coa_svm = best_model_ub_coa_svm.predict(X_val_ub_coa_svm)\n",
        "\n",
        "# Evaluation metrics on the validation set\n",
        "accuracy_val_ub_coa_svm = accuracy_score(y_val_coastal, y_pred_val_ub_coa_svm)\n",
        "precision_val_ub_coa_svm = precision_score(y_val_coastal, y_pred_val_ub_coa_svm, average='weighted')\n",
        "# Calculate precision for each class\n",
        "precision_x_class_val_ub_coa_svm = precision_score(y_val_coastal, y_pred_val_ub_coa_svm, average=None)\n",
        "recall_val_ub_coa_svm = recall_score(y_val_coastal, y_pred_val_ub_coa_svm, average='weighted')\n",
        "# Calculate recall for each class\n",
        "recall_x_class_val_ub_coa_svm = recall_score(y_val_coastal, y_pred_val_ub_coa_svm, average=None)\n",
        "f1_score_val_ub_coa_svm = f1_score(y_val_coastal, y_pred_val_ub_coa_svm, average='weighted')\n",
        "# Calculate f1 score for each class\n",
        "f1_score_x_class_val_ub_coa_svm = f1_score(y_val_coastal, y_pred_val_ub_coa_svm, average=None)\n",
        "jaccard_val_ub_coa_svm = jaccard_score(y_val_coastal, y_pred_val_ub_coa_svm, average='weighted')\n",
        "confusion_val_ub_coa_svm = confusion_matrix(y_val_coastal, y_pred_val_ub_coa_svm)\n",
        "\n",
        "# Print evaluation metrics for the validation set\n",
        "print(\"Accuracy: \", accuracy_val_ub_coa_svm)\n",
        "print(\"Precision: \", precision_val_ub_coa_svm)\n",
        "print(\"Precision per class:\" , precision_x_class_val_ub_coa_svm )\n",
        "print(\"Recall: \", recall_val_ub_coa_svm)\n",
        "print(\"Recall per class:\" , recall_x_class_val_ub_coa_svm )\n",
        "print(\"F1 Score: \", f1_score_val_ub_coa_svm)\n",
        "# Print F1-score for each class\n",
        "for clase, f1 in enumerate(f1_score_x_class_val_ub_coa_svm):\n",
        "    print(f\"F1-score for the class {clase}: {f1}\")\n",
        "print(\"jaccard:\" , jaccard_val_ub_coa_svm )\n",
        "print(\"Confusion Matrix: \")\n",
        "print(confusion_val_ub_coa_svm)"
      ],
      "metadata": {
        "colab": {
          "base_uri": "https://localhost:8080/"
        },
        "outputId": "eaaa059f-ec8a-473b-9277-9246ef1d2ea9",
        "id": "2fayT9zOFcsG"
      },
      "execution_count": null,
      "outputs": [
        {
          "output_type": "stream",
          "name": "stdout",
          "text": [
            "Accuracy:  1.0\n",
            "Precision:  1.0\n",
            "Precision per class: [1. 1.]\n",
            "Recall:  1.0\n",
            "Recall per class: [1. 1.]\n",
            "F1 Score:  1.0\n",
            "F1-score for the class 0: 1.0\n",
            "F1-score for the class 1: 1.0\n",
            "jaccard: 1.0\n",
            "Confusion Matrix: \n",
            "[[16  0]\n",
            " [ 0  5]]\n"
          ]
        }
      ]
    },
    {
      "cell_type": "code",
      "source": [
        "# Save the trained SVM model to a file\n",
        "with open('best_model_ub_coa_svm.pkl', 'wb') as model_file:\n",
        "    pickle.dump(best_model_ub_coa_svm, model_file)\n",
        "\n",
        "# Save the scaler used for preprocessing to a file\n",
        "with open('scaler_ub_coa_svm.pkl', 'wb') as scaler_file:\n",
        "    pickle.dump(scaler_ub_coa_svm, scaler_file)"
      ],
      "metadata": {
        "id": "Mla2joWLFcsH"
      },
      "execution_count": null,
      "outputs": []
    },
    {
      "cell_type": "markdown",
      "source": [
        "###KNN"
      ],
      "metadata": {
        "id": "PVtWi5N-FcsJ"
      }
    },
    {
      "cell_type": "markdown",
      "source": [
        "Split data into training and test set"
      ],
      "metadata": {
        "id": "-UwOsKAwFcsK"
      }
    },
    {
      "cell_type": "code",
      "source": [
        "X_train_ub_coa_knn, X_test_ub_coa_knn, y_train_ub_coa_knn, y_test_ub_coa_knn = train_test_split(X_train_coastal, y_train_coastal, test_size=0.2, random_state=42)"
      ],
      "metadata": {
        "id": "yHnLb2dcFcsL"
      },
      "execution_count": null,
      "outputs": []
    },
    {
      "cell_type": "markdown",
      "source": [
        "Feature Standardization for Coastal Dataset using StandardScaler"
      ],
      "metadata": {
        "id": "P8dAN1UHFcsM"
      }
    },
    {
      "cell_type": "code",
      "source": [
        "# Create a StandardScaler object\n",
        "scaler_ub_coa_knn = StandardScaler()\n",
        "\n",
        "# Fit and transform the training data to standardize features\n",
        "X_train_ub_coa_knn = scaler_ub_coa_knn.fit_transform(X_train_ub_coa_knn)\n",
        "\n",
        "# Transform the test data using the same scaler to maintain consistency in feature scaling\n",
        "X_test_ub_coa_knn = scaler_ub_coa_knn.transform(X_test_ub_coa_knn)"
      ],
      "metadata": {
        "id": "yu5mPJRxFcsN"
      },
      "execution_count": null,
      "outputs": []
    },
    {
      "cell_type": "markdown",
      "source": [
        "Hyperparameter Grid for KNN Model"
      ],
      "metadata": {
        "id": "RnrZz1rcFcsP"
      }
    },
    {
      "cell_type": "code",
      "source": [
        "# Define a dictionary of hyperparameters for tuning a KNN model\n",
        "parameters = {\n",
        "    'n_neighbors': [3, 5, 7, 9],  # Número de vecinos\n",
        "    'weights': ['uniform', 'distance'],  # Tipo de ponderación\n",
        "    'p': [1, 2]  # Parámetro para la distancia (1 para la distancia de Manhattan, 2 para la Euclidiana)\n",
        "}"
      ],
      "metadata": {
        "id": "LySL7xrMFcsQ"
      },
      "execution_count": null,
      "outputs": []
    },
    {
      "cell_type": "markdown",
      "source": [
        "Create a Decision KNN model"
      ],
      "metadata": {
        "id": "hZFtu_HgFcsR"
      }
    },
    {
      "cell_type": "code",
      "source": [
        "model_ub_coa_knn = KNeighborsClassifier()"
      ],
      "metadata": {
        "id": "_e6JD7yqFcsS"
      },
      "execution_count": null,
      "outputs": []
    },
    {
      "cell_type": "markdown",
      "source": [
        "Hyperparameter Tuning with Cross-Validation"
      ],
      "metadata": {
        "id": "yjvBlP1hFcsU"
      }
    },
    {
      "cell_type": "code",
      "source": [
        "# Inform the user to wait during the hyperparameter search\n",
        "print(\"Wait a moment...\")\n",
        "\n",
        "# Create a GridSearchCV object for hyperparameter tuning\n",
        "grid_search_ub_coa_knn = GridSearchCV(model_ub_coa_knn, parameters, cv=5, scoring='accuracy')\n",
        "\n",
        "# Fit the GridSearchCV object to find the best hyperparameters\n",
        "grid_search_ub_coa_knn.fit(X_train_ub_coa_knn, y_train_ub_coa_knn)"
      ],
      "metadata": {
        "colab": {
          "base_uri": "https://localhost:8080/",
          "height": 134
        },
        "outputId": "fdf6c3ef-5abb-463c-c831-647f0bb93d6f",
        "id": "dtltUKucFcsV"
      },
      "execution_count": null,
      "outputs": [
        {
          "output_type": "stream",
          "name": "stdout",
          "text": [
            "Wait a moment...\n"
          ]
        },
        {
          "output_type": "execute_result",
          "data": {
            "text/plain": [
              "GridSearchCV(cv=5, estimator=KNeighborsClassifier(),\n",
              "             param_grid={'n_neighbors': [3, 5, 7, 9], 'p': [1, 2],\n",
              "                         'weights': ['uniform', 'distance']},\n",
              "             scoring='accuracy')"
            ],
            "text/html": [
              "<style>#sk-container-id-3 {color: black;background-color: white;}#sk-container-id-3 pre{padding: 0;}#sk-container-id-3 div.sk-toggleable {background-color: white;}#sk-container-id-3 label.sk-toggleable__label {cursor: pointer;display: block;width: 100%;margin-bottom: 0;padding: 0.3em;box-sizing: border-box;text-align: center;}#sk-container-id-3 label.sk-toggleable__label-arrow:before {content: \"▸\";float: left;margin-right: 0.25em;color: #696969;}#sk-container-id-3 label.sk-toggleable__label-arrow:hover:before {color: black;}#sk-container-id-3 div.sk-estimator:hover label.sk-toggleable__label-arrow:before {color: black;}#sk-container-id-3 div.sk-toggleable__content {max-height: 0;max-width: 0;overflow: hidden;text-align: left;background-color: #f0f8ff;}#sk-container-id-3 div.sk-toggleable__content pre {margin: 0.2em;color: black;border-radius: 0.25em;background-color: #f0f8ff;}#sk-container-id-3 input.sk-toggleable__control:checked~div.sk-toggleable__content {max-height: 200px;max-width: 100%;overflow: auto;}#sk-container-id-3 input.sk-toggleable__control:checked~label.sk-toggleable__label-arrow:before {content: \"▾\";}#sk-container-id-3 div.sk-estimator input.sk-toggleable__control:checked~label.sk-toggleable__label {background-color: #d4ebff;}#sk-container-id-3 div.sk-label input.sk-toggleable__control:checked~label.sk-toggleable__label {background-color: #d4ebff;}#sk-container-id-3 input.sk-hidden--visually {border: 0;clip: rect(1px 1px 1px 1px);clip: rect(1px, 1px, 1px, 1px);height: 1px;margin: -1px;overflow: hidden;padding: 0;position: absolute;width: 1px;}#sk-container-id-3 div.sk-estimator {font-family: monospace;background-color: #f0f8ff;border: 1px dotted black;border-radius: 0.25em;box-sizing: border-box;margin-bottom: 0.5em;}#sk-container-id-3 div.sk-estimator:hover {background-color: #d4ebff;}#sk-container-id-3 div.sk-parallel-item::after {content: \"\";width: 100%;border-bottom: 1px solid gray;flex-grow: 1;}#sk-container-id-3 div.sk-label:hover label.sk-toggleable__label {background-color: #d4ebff;}#sk-container-id-3 div.sk-serial::before {content: \"\";position: absolute;border-left: 1px solid gray;box-sizing: border-box;top: 0;bottom: 0;left: 50%;z-index: 0;}#sk-container-id-3 div.sk-serial {display: flex;flex-direction: column;align-items: center;background-color: white;padding-right: 0.2em;padding-left: 0.2em;position: relative;}#sk-container-id-3 div.sk-item {position: relative;z-index: 1;}#sk-container-id-3 div.sk-parallel {display: flex;align-items: stretch;justify-content: center;background-color: white;position: relative;}#sk-container-id-3 div.sk-item::before, #sk-container-id-3 div.sk-parallel-item::before {content: \"\";position: absolute;border-left: 1px solid gray;box-sizing: border-box;top: 0;bottom: 0;left: 50%;z-index: -1;}#sk-container-id-3 div.sk-parallel-item {display: flex;flex-direction: column;z-index: 1;position: relative;background-color: white;}#sk-container-id-3 div.sk-parallel-item:first-child::after {align-self: flex-end;width: 50%;}#sk-container-id-3 div.sk-parallel-item:last-child::after {align-self: flex-start;width: 50%;}#sk-container-id-3 div.sk-parallel-item:only-child::after {width: 0;}#sk-container-id-3 div.sk-dashed-wrapped {border: 1px dashed gray;margin: 0 0.4em 0.5em 0.4em;box-sizing: border-box;padding-bottom: 0.4em;background-color: white;}#sk-container-id-3 div.sk-label label {font-family: monospace;font-weight: bold;display: inline-block;line-height: 1.2em;}#sk-container-id-3 div.sk-label-container {text-align: center;}#sk-container-id-3 div.sk-container {/* jupyter's `normalize.less` sets `[hidden] { display: none; }` but bootstrap.min.css set `[hidden] { display: none !important; }` so we also need the `!important` here to be able to override the default hidden behavior on the sphinx rendered scikit-learn.org. See: https://github.com/scikit-learn/scikit-learn/issues/21755 */display: inline-block !important;position: relative;}#sk-container-id-3 div.sk-text-repr-fallback {display: none;}</style><div id=\"sk-container-id-3\" class=\"sk-top-container\"><div class=\"sk-text-repr-fallback\"><pre>GridSearchCV(cv=5, estimator=KNeighborsClassifier(),\n",
              "             param_grid={&#x27;n_neighbors&#x27;: [3, 5, 7, 9], &#x27;p&#x27;: [1, 2],\n",
              "                         &#x27;weights&#x27;: [&#x27;uniform&#x27;, &#x27;distance&#x27;]},\n",
              "             scoring=&#x27;accuracy&#x27;)</pre><b>In a Jupyter environment, please rerun this cell to show the HTML representation or trust the notebook. <br />On GitHub, the HTML representation is unable to render, please try loading this page with nbviewer.org.</b></div><div class=\"sk-container\" hidden><div class=\"sk-item sk-dashed-wrapped\"><div class=\"sk-label-container\"><div class=\"sk-label sk-toggleable\"><input class=\"sk-toggleable__control sk-hidden--visually\" id=\"sk-estimator-id-7\" type=\"checkbox\" ><label for=\"sk-estimator-id-7\" class=\"sk-toggleable__label sk-toggleable__label-arrow\">GridSearchCV</label><div class=\"sk-toggleable__content\"><pre>GridSearchCV(cv=5, estimator=KNeighborsClassifier(),\n",
              "             param_grid={&#x27;n_neighbors&#x27;: [3, 5, 7, 9], &#x27;p&#x27;: [1, 2],\n",
              "                         &#x27;weights&#x27;: [&#x27;uniform&#x27;, &#x27;distance&#x27;]},\n",
              "             scoring=&#x27;accuracy&#x27;)</pre></div></div></div><div class=\"sk-parallel\"><div class=\"sk-parallel-item\"><div class=\"sk-item\"><div class=\"sk-label-container\"><div class=\"sk-label sk-toggleable\"><input class=\"sk-toggleable__control sk-hidden--visually\" id=\"sk-estimator-id-8\" type=\"checkbox\" ><label for=\"sk-estimator-id-8\" class=\"sk-toggleable__label sk-toggleable__label-arrow\">estimator: KNeighborsClassifier</label><div class=\"sk-toggleable__content\"><pre>KNeighborsClassifier()</pre></div></div></div><div class=\"sk-serial\"><div class=\"sk-item\"><div class=\"sk-estimator sk-toggleable\"><input class=\"sk-toggleable__control sk-hidden--visually\" id=\"sk-estimator-id-9\" type=\"checkbox\" ><label for=\"sk-estimator-id-9\" class=\"sk-toggleable__label sk-toggleable__label-arrow\">KNeighborsClassifier</label><div class=\"sk-toggleable__content\"><pre>KNeighborsClassifier()</pre></div></div></div></div></div></div></div></div></div></div>"
            ]
          },
          "metadata": {},
          "execution_count": 87
        }
      ]
    },
    {
      "cell_type": "markdown",
      "source": [
        "Best Estimator and Hyperparameters"
      ],
      "metadata": {
        "id": "yJ0Nf0hDFcsW"
      }
    },
    {
      "cell_type": "code",
      "source": [
        "# Print the best estimator found during hyperparameter search\n",
        "print(\"Best estimator found:\")\n",
        "best_model_ub_coa_knn = grid_search_ub_coa_knn.best_estimator_\n",
        "print(best_model_ub_coa_knn)\n",
        "\n",
        "# Print the best hyperparameters found during hyperparameter search\n",
        "print(\"\\nBest hyperparameters found:\")\n",
        "best_params_ub_coa_knn = grid_search_ub_coa_knn.best_params_\n",
        "print(best_params_ub_coa_knn)\n",
        "\n",
        "# Print the score of the best model in coastal_no_balancing cross-validation\n",
        "print(\"\\nScore of the best model in coastal_no_balancing cross-validation:\")\n",
        "best_score_ub_coa_knn = grid_search_ub_coa_knn.best_score_\n",
        "print(best_score_ub_coa_knn)"
      ],
      "metadata": {
        "colab": {
          "base_uri": "https://localhost:8080/"
        },
        "outputId": "79bffcfe-09ea-4cdd-ea07-832c37d1ca7b",
        "id": "mFNbrl3jFcsX"
      },
      "execution_count": null,
      "outputs": [
        {
          "output_type": "stream",
          "name": "stdout",
          "text": [
            "Best estimator found:\n",
            "KNeighborsClassifier(n_neighbors=3, weights='distance')\n",
            "\n",
            "Best hyperparameters found:\n",
            "{'n_neighbors': 3, 'p': 2, 'weights': 'distance'}\n",
            "\n",
            "Score of the best model in coastal_no_balancing cross-validation:\n",
            "0.9381903642773206\n"
          ]
        }
      ]
    },
    {
      "cell_type": "markdown",
      "source": [
        " Evaluate the model on the training set"
      ],
      "metadata": {
        "id": "e5t_2hJ9FcsY"
      }
    },
    {
      "cell_type": "code",
      "source": [
        "# Make predictions on the training set\n",
        "y_pred_train_ub_coa_knn = best_model_ub_coa_knn.predict(X_train_ub_coa_knn)\n",
        "\n",
        "# Evaluation metrics on the training set\n",
        "accuracy_train_ub_coa_knn = accuracy_score(y_train_ub_coa_knn, y_pred_train_ub_coa_knn)\n",
        "precision_train_ub_coa_knn = precision_score(y_train_ub_coa_knn, y_pred_train_ub_coa_knn, average='weighted')\n",
        "# Calculate precision for each class\n",
        "precision_x_class_train_ub_coa_knn = precision_score(y_train_ub_coa_knn, y_pred_train_ub_coa_knn, average=None)\n",
        "recall_train_ub_coa_knn = recall_score(y_train_ub_coa_knn, y_pred_train_ub_coa_knn, average='weighted')\n",
        "# Calculate recall for each class\n",
        "recall_x_class_train_ub_coa_knn = recall_score(y_train_ub_coa_knn, y_pred_train_ub_coa_knn, average=None)\n",
        "f1_score_train_ub_coa_knn = f1_score(y_train_ub_coa_knn, y_pred_train_ub_coa_knn, average='weighted')\n",
        "# Calculate f1 score for each class\n",
        "f1_score_x_class_train_ub_coa_knn = f1_score(y_train_ub_coa_knn, y_pred_train_ub_coa_knn, average=None)\n",
        "jaccard_train_ub_coa_knn = jaccard_score(y_train_ub_coa_knn, y_pred_train_ub_coa_knn, average='weighted')\n",
        "confusion_train_ub_coa_knn = confusion_matrix(y_train_ub_coa_knn, y_pred_train_ub_coa_knn)\n",
        "\n",
        "# Print evaluation metrics for the training set\n",
        "print(\"Accuracy: \", accuracy_train_ub_coa_knn)\n",
        "print(\"Precision: \", precision_train_ub_coa_knn)\n",
        "print(\"Precision per class:\" , precision_x_class_train_ub_coa_knn )\n",
        "print(\"Recall: \", recall_train_ub_coa_knn)\n",
        "print(\"Recall per class:\" , recall_x_class_train_ub_coa_knn )\n",
        "print(\"F1 Score: \", f1_score_train_ub_coa_knn)\n",
        "# Print F1-score for each class\n",
        "for clase, f1 in enumerate(f1_score_x_class_train_ub_coa_knn):\n",
        "    print(f\"F1-score for the class {clase}: {f1}\")\n",
        "print(\"jaccard:\" , jaccard_train_ub_coa_knn )\n",
        "print(\"Confusion Matrix: \")\n",
        "print(confusion_train_ub_coa_knn)"
      ],
      "metadata": {
        "colab": {
          "base_uri": "https://localhost:8080/"
        },
        "outputId": "68e433af-d291-4425-b95d-113e9d92f70e",
        "id": "dGeC01AOFcsZ"
      },
      "execution_count": null,
      "outputs": [
        {
          "output_type": "stream",
          "name": "stdout",
          "text": [
            "Accuracy:  1.0\n",
            "Precision:  1.0\n",
            "Precision per class: [1. 1. 1.]\n",
            "Recall:  1.0\n",
            "Recall per class: [1. 1. 1.]\n",
            "F1 Score:  1.0\n",
            "F1-score for the class 0: 1.0\n",
            "F1-score for the class 1: 1.0\n",
            "F1-score for the class 2: 1.0\n",
            "jaccard: 1.0\n",
            "Confusion Matrix: \n",
            "[[3106    0    0]\n",
            " [   0  802    0]\n",
            " [   0    0  347]]\n"
          ]
        }
      ]
    },
    {
      "cell_type": "markdown",
      "source": [
        " Evaluate the model on the test set"
      ],
      "metadata": {
        "id": "A2iy-5aMFcsb"
      }
    },
    {
      "cell_type": "code",
      "source": [
        "# Make predictions on the testing set\n",
        "y_pred_test_ub_coa_knn = best_model_ub_coa_knn.predict(X_test_ub_coa_knn)\n",
        "\n",
        "# Evaluation metrics on the testing set\n",
        "accuracy_test_ub_coa_knn = accuracy_score(y_test_ub_coa_knn, y_pred_test_ub_coa_knn)\n",
        "precision_test_ub_coa_knn = precision_score(y_test_ub_coa_knn, y_pred_test_ub_coa_knn, average='weighted')\n",
        "# Calculate precision for each class\n",
        "precision_x_class_test_ub_coa_knn = precision_score(y_test_ub_coa_knn, y_pred_test_ub_coa_knn, average=None)\n",
        "recall_test_ub_coa_knn = recall_score(y_test_ub_coa_knn, y_pred_test_ub_coa_knn, average='weighted')\n",
        "# Calculate recall for each class\n",
        "recall_x_class_test_ub_coa_knn = recall_score(y_test_ub_coa_knn, y_pred_test_ub_coa_knn, average=None)\n",
        "f1_score_test_ub_coa_knn = f1_score(y_test_ub_coa_knn, y_pred_test_ub_coa_knn, average='weighted')\n",
        "# Calculate f1 score for each class\n",
        "f1_score_x_class_test_ub_coa_knn = f1_score(y_test_ub_coa_knn, y_pred_test_ub_coa_knn, average=None)\n",
        "jaccard_test_ub_coa_knn = jaccard_score(y_test_ub_coa_knn, y_pred_test_ub_coa_knn, average='weighted')\n",
        "confusion_test_ub_coa_knn = confusion_matrix(y_test_ub_coa_knn, y_pred_test_ub_coa_knn)\n",
        "\n",
        "# Print evaluation metrics for the testing set\n",
        "print(\"Accuracy: \", accuracy_test_ub_coa_knn)\n",
        "print(\"Precision: \", precision_test_ub_coa_knn)\n",
        "print(\"Precision per class:\" , precision_x_class_test_ub_coa_knn )\n",
        "print(\"Recall: \", recall_test_ub_coa_knn)\n",
        "print(\"Recall per class:\" , recall_x_class_test_ub_coa_knn )\n",
        "print(\"F1 Score: \", f1_score_test_ub_coa_knn)\n",
        "# Print F1-score for each class\n",
        "for clase, f1 in enumerate(f1_score_x_class_test_ub_coa_knn):\n",
        "    print(f\"F1-score for the class {clase}: {f1}\")\n",
        "print(\"jaccard:\" , jaccard_test_ub_coa_knn )\n",
        "print(\"Confusion Matrix: \")\n",
        "print(confusion_test_ub_coa_knn)"
      ],
      "metadata": {
        "colab": {
          "base_uri": "https://localhost:8080/"
        },
        "outputId": "83faf84a-c522-4837-c7ed-7628b5434d6d",
        "id": "7xBYt6aSFcsc"
      },
      "execution_count": null,
      "outputs": [
        {
          "output_type": "stream",
          "name": "stdout",
          "text": [
            "Accuracy:  0.9351503759398496\n",
            "Precision:  0.9370840363768624\n",
            "Precision per class: [0.95380774 0.85377358 0.98039216]\n",
            "Recall:  0.9351503759398496\n",
            "Recall per class: [0.98453608 0.90049751 0.57471264]\n",
            "F1 Score:  0.9314953484063278\n",
            "F1-score for the class 0: 0.9689283449587824\n",
            "F1-score for the class 1: 0.8765133171912833\n",
            "F1-score for the class 2: 0.7246376811594203\n",
            "jaccard: 0.8792072233593562\n",
            "Confusion Matrix: \n",
            "[[764  11   1]\n",
            " [ 20 181   0]\n",
            " [ 17  20  50]]\n"
          ]
        }
      ]
    },
    {
      "cell_type": "markdown",
      "source": [
        " Evaluate the model on the validation set"
      ],
      "metadata": {
        "id": "W4Wy5-5WFcse"
      }
    },
    {
      "cell_type": "code",
      "source": [
        "# Transform the validation data using the scaler trained on the validation data\n",
        "X_val_ub_coa_knn = scaler_ub_coa_knn.transform(X_val_coastal)\n",
        "\n",
        "# Make predictions on the validation set using the trained knn model\n",
        "y_pred_val_ub_coa_knn = best_model_ub_coa_knn.predict(X_val_ub_coa_knn)\n",
        "\n",
        "# Evaluation metrics on the validation set\n",
        "accuracy_val_ub_coa_knn = accuracy_score(y_val_coastal, y_pred_val_ub_coa_knn)\n",
        "precision_val_ub_coa_knn = precision_score(y_val_coastal, y_pred_val_ub_coa_knn, average='weighted')\n",
        "# Calculate precision for each class\n",
        "precision_x_class_val_ub_coa_knn = precision_score(y_val_coastal, y_pred_val_ub_coa_knn, average=None)\n",
        "recall_val_ub_coa_knn = recall_score(y_val_coastal, y_pred_val_ub_coa_knn, average='weighted')\n",
        "# Calculate recall for each class\n",
        "recall_x_class_val_ub_coa_knn = recall_score(y_val_coastal, y_pred_val_ub_coa_knn, average=None)\n",
        "f1_score_val_ub_coa_knn = f1_score(y_val_coastal, y_pred_val_ub_coa_knn, average='weighted')\n",
        "# Calculate f1 score for each class\n",
        "f1_score_x_class_val_ub_coa_knn = f1_score(y_val_coastal, y_pred_val_ub_coa_knn, average=None)\n",
        "jaccard_val_ub_coa_knn = jaccard_score(y_val_coastal, y_pred_val_ub_coa_knn, average='weighted')\n",
        "confusion_val_ub_coa_knn = confusion_matrix(y_val_coastal, y_pred_val_ub_coa_knn)\n",
        "\n",
        "# Print evaluation metrics for the validation set\n",
        "print(\"Accuracy: \", accuracy_val_ub_coa_knn)\n",
        "print(\"Precision: \", precision_val_ub_coa_knn)\n",
        "print(\"Precision per class:\" , precision_x_class_val_ub_coa_knn )\n",
        "print(\"Recall: \", recall_val_ub_coa_knn)\n",
        "print(\"Recall per class:\" , recall_x_class_val_ub_coa_knn )\n",
        "print(\"F1 Score: \", f1_score_val_ub_coa_knn)\n",
        "# Print F1-score for each class\n",
        "for clase, f1 in enumerate(f1_score_x_class_val_ub_coa_knn):\n",
        "    print(f\"F1-score for the class {clase}: {f1}\")\n",
        "print(\"jaccard:\" , jaccard_val_ub_coa_knn )\n",
        "print(\"Confusion Matrix: \")\n",
        "print(confusion_val_ub_coa_knn)"
      ],
      "metadata": {
        "colab": {
          "base_uri": "https://localhost:8080/"
        },
        "outputId": "2e8c780c-322c-417d-e864-1d2a099a12f0",
        "id": "0g8bUKwxFcsf"
      },
      "execution_count": null,
      "outputs": [
        {
          "output_type": "stream",
          "name": "stdout",
          "text": [
            "Accuracy:  0.9047619047619048\n",
            "Precision:  0.9551820728291316\n",
            "Precision per class: [0.94117647 1.         0.        ]\n",
            "Recall:  0.9047619047619048\n",
            "Recall per class: [1.  0.6 0. ]\n",
            "F1 Score:  0.9173881673881674\n",
            "F1-score for the class 0: 0.9696969696969697\n",
            "F1-score for the class 1: 0.7499999999999999\n",
            "F1-score for the class 2: 0.0\n",
            "jaccard: 0.8599439775910364\n",
            "Confusion Matrix: \n",
            "[[16  0  0]\n",
            " [ 1  3  1]\n",
            " [ 0  0  0]]\n"
          ]
        },
        {
          "output_type": "stream",
          "name": "stderr",
          "text": [
            "/usr/local/lib/python3.10/dist-packages/sklearn/metrics/_classification.py:1344: UndefinedMetricWarning: Recall is ill-defined and being set to 0.0 in labels with no true samples. Use `zero_division` parameter to control this behavior.\n",
            "  _warn_prf(average, modifier, msg_start, len(result))\n",
            "/usr/local/lib/python3.10/dist-packages/sklearn/metrics/_classification.py:1344: UndefinedMetricWarning: Recall is ill-defined and being set to 0.0 in labels with no true samples. Use `zero_division` parameter to control this behavior.\n",
            "  _warn_prf(average, modifier, msg_start, len(result))\n"
          ]
        }
      ]
    },
    {
      "cell_type": "code",
      "source": [
        "# Save the trained KNN model to a file\n",
        "with open('best_model_ub_coa_knn.pkl', 'wb') as model_file:\n",
        "    pickle.dump(best_model_ub_coa_knn, model_file)\n",
        "\n",
        "# Save the scaler used for preprocessing to a file\n",
        "with open('scaler_ub_coa_knn.pkl', 'wb') as scaler_file:\n",
        "    pickle.dump(scaler_ub_coa_knn, scaler_file)"
      ],
      "metadata": {
        "id": "Ull87JRPFcsh"
      },
      "execution_count": null,
      "outputs": []
    },
    {
      "cell_type": "markdown",
      "source": [
        "###DT"
      ],
      "metadata": {
        "id": "DCm6k8CIFcsi"
      }
    },
    {
      "cell_type": "markdown",
      "source": [
        "Split data into training and test set"
      ],
      "metadata": {
        "id": "WK6-bzMoFcsj"
      }
    },
    {
      "cell_type": "code",
      "source": [
        "X_train_ub_coa_dt, X_test_ub_coa_dt, y_train_ub_coa_dt, y_test_ub_coa_dt = train_test_split(X_train_coastal, y_train_coastal, test_size=0.2, random_state=42)"
      ],
      "metadata": {
        "id": "iLDp_UemFcsk"
      },
      "execution_count": null,
      "outputs": []
    },
    {
      "cell_type": "markdown",
      "source": [
        "Feature Standardization for Coastal Dataset using StandardScaler"
      ],
      "metadata": {
        "id": "i6I8XnG-Fcsl"
      }
    },
    {
      "cell_type": "code",
      "source": [
        "# Create a StandardScaler object\n",
        "scaler_ub_coa_dt = StandardScaler()\n",
        "\n",
        "# Fit and transform the training data to standardize features\n",
        "X_train_ub_coa_dt = scaler_ub_coa_dt.fit_transform(X_train_ub_coa_dt)\n",
        "\n",
        "# Transform the test data using the same scaler to maintain consistency in feature scaling\n",
        "X_test_ub_coa_dt = scaler_ub_coa_dt.transform(X_test_ub_coa_dt)"
      ],
      "metadata": {
        "id": "5LG4eN3ZFcsm"
      },
      "execution_count": null,
      "outputs": []
    },
    {
      "cell_type": "markdown",
      "source": [
        "Hyperparameter Grid for DT Model"
      ],
      "metadata": {
        "id": "QE8CqskiFcsn"
      }
    },
    {
      "cell_type": "code",
      "source": [
        "# Define a dictionary of hyperparameters for tuning a DT model\n",
        "parameters = {\n",
        "    'criterion': ['gini', 'entropy'],  # Criterio para la división de nodos\n",
        "    'max_depth': [None, 10, 20, 30, 40, 50],  # Profundidad máxima del árbol\n",
        "    'min_samples_split': [2, 5, 10],  # Número mínimo de muestras para dividir un nodo\n",
        "    'min_samples_leaf': [1, 2, 4]  # Número mínimo de muestras requeridas en una hoja\n",
        "}"
      ],
      "metadata": {
        "id": "NMzIjJb9Fcso"
      },
      "execution_count": null,
      "outputs": []
    },
    {
      "cell_type": "markdown",
      "source": [
        "Create a Decision DT model"
      ],
      "metadata": {
        "id": "AbI2DIveFcsq"
      }
    },
    {
      "cell_type": "code",
      "source": [
        "model_ub_coa_dt = DecisionTreeClassifier()"
      ],
      "metadata": {
        "id": "vTzkRlNFFcsr"
      },
      "execution_count": null,
      "outputs": []
    },
    {
      "cell_type": "markdown",
      "source": [
        "Hyperparameter Tuning with Cross-Validation"
      ],
      "metadata": {
        "id": "Kz9LomAqFcss"
      }
    },
    {
      "cell_type": "code",
      "source": [
        "# Inform the user to wait during the hyperparameter search\n",
        "print(\"Wait a moment...\")\n",
        "\n",
        "# Create a GridSearchCV object for hyperparameter tuning\n",
        "grid_search_ub_coa_dt = GridSearchCV(model_ub_coa_dt, parameters, cv=5, scoring='accuracy')\n",
        "\n",
        "# Fit the GridSearchCV object to find the best hyperparameters\n",
        "grid_search_ub_coa_dt.fit(X_train_ub_coa_dt, y_train_ub_coa_dt)"
      ],
      "metadata": {
        "colab": {
          "base_uri": "https://localhost:8080/",
          "height": 134
        },
        "outputId": "28bafbc3-58b9-4890-8684-d2c90377c35c",
        "id": "JbWfMjQzFcst"
      },
      "execution_count": null,
      "outputs": [
        {
          "output_type": "stream",
          "name": "stdout",
          "text": [
            "Wait a moment...\n"
          ]
        },
        {
          "output_type": "execute_result",
          "data": {
            "text/plain": [
              "GridSearchCV(cv=5, estimator=DecisionTreeClassifier(),\n",
              "             param_grid={'criterion': ['gini', 'entropy'],\n",
              "                         'max_depth': [None, 10, 20, 30, 40, 50],\n",
              "                         'min_samples_leaf': [1, 2, 4],\n",
              "                         'min_samples_split': [2, 5, 10]},\n",
              "             scoring='accuracy')"
            ],
            "text/html": [
              "<style>#sk-container-id-4 {color: black;background-color: white;}#sk-container-id-4 pre{padding: 0;}#sk-container-id-4 div.sk-toggleable {background-color: white;}#sk-container-id-4 label.sk-toggleable__label {cursor: pointer;display: block;width: 100%;margin-bottom: 0;padding: 0.3em;box-sizing: border-box;text-align: center;}#sk-container-id-4 label.sk-toggleable__label-arrow:before {content: \"▸\";float: left;margin-right: 0.25em;color: #696969;}#sk-container-id-4 label.sk-toggleable__label-arrow:hover:before {color: black;}#sk-container-id-4 div.sk-estimator:hover label.sk-toggleable__label-arrow:before {color: black;}#sk-container-id-4 div.sk-toggleable__content {max-height: 0;max-width: 0;overflow: hidden;text-align: left;background-color: #f0f8ff;}#sk-container-id-4 div.sk-toggleable__content pre {margin: 0.2em;color: black;border-radius: 0.25em;background-color: #f0f8ff;}#sk-container-id-4 input.sk-toggleable__control:checked~div.sk-toggleable__content {max-height: 200px;max-width: 100%;overflow: auto;}#sk-container-id-4 input.sk-toggleable__control:checked~label.sk-toggleable__label-arrow:before {content: \"▾\";}#sk-container-id-4 div.sk-estimator input.sk-toggleable__control:checked~label.sk-toggleable__label {background-color: #d4ebff;}#sk-container-id-4 div.sk-label input.sk-toggleable__control:checked~label.sk-toggleable__label {background-color: #d4ebff;}#sk-container-id-4 input.sk-hidden--visually {border: 0;clip: rect(1px 1px 1px 1px);clip: rect(1px, 1px, 1px, 1px);height: 1px;margin: -1px;overflow: hidden;padding: 0;position: absolute;width: 1px;}#sk-container-id-4 div.sk-estimator {font-family: monospace;background-color: #f0f8ff;border: 1px dotted black;border-radius: 0.25em;box-sizing: border-box;margin-bottom: 0.5em;}#sk-container-id-4 div.sk-estimator:hover {background-color: #d4ebff;}#sk-container-id-4 div.sk-parallel-item::after {content: \"\";width: 100%;border-bottom: 1px solid gray;flex-grow: 1;}#sk-container-id-4 div.sk-label:hover label.sk-toggleable__label {background-color: #d4ebff;}#sk-container-id-4 div.sk-serial::before {content: \"\";position: absolute;border-left: 1px solid gray;box-sizing: border-box;top: 0;bottom: 0;left: 50%;z-index: 0;}#sk-container-id-4 div.sk-serial {display: flex;flex-direction: column;align-items: center;background-color: white;padding-right: 0.2em;padding-left: 0.2em;position: relative;}#sk-container-id-4 div.sk-item {position: relative;z-index: 1;}#sk-container-id-4 div.sk-parallel {display: flex;align-items: stretch;justify-content: center;background-color: white;position: relative;}#sk-container-id-4 div.sk-item::before, #sk-container-id-4 div.sk-parallel-item::before {content: \"\";position: absolute;border-left: 1px solid gray;box-sizing: border-box;top: 0;bottom: 0;left: 50%;z-index: -1;}#sk-container-id-4 div.sk-parallel-item {display: flex;flex-direction: column;z-index: 1;position: relative;background-color: white;}#sk-container-id-4 div.sk-parallel-item:first-child::after {align-self: flex-end;width: 50%;}#sk-container-id-4 div.sk-parallel-item:last-child::after {align-self: flex-start;width: 50%;}#sk-container-id-4 div.sk-parallel-item:only-child::after {width: 0;}#sk-container-id-4 div.sk-dashed-wrapped {border: 1px dashed gray;margin: 0 0.4em 0.5em 0.4em;box-sizing: border-box;padding-bottom: 0.4em;background-color: white;}#sk-container-id-4 div.sk-label label {font-family: monospace;font-weight: bold;display: inline-block;line-height: 1.2em;}#sk-container-id-4 div.sk-label-container {text-align: center;}#sk-container-id-4 div.sk-container {/* jupyter's `normalize.less` sets `[hidden] { display: none; }` but bootstrap.min.css set `[hidden] { display: none !important; }` so we also need the `!important` here to be able to override the default hidden behavior on the sphinx rendered scikit-learn.org. See: https://github.com/scikit-learn/scikit-learn/issues/21755 */display: inline-block !important;position: relative;}#sk-container-id-4 div.sk-text-repr-fallback {display: none;}</style><div id=\"sk-container-id-4\" class=\"sk-top-container\"><div class=\"sk-text-repr-fallback\"><pre>GridSearchCV(cv=5, estimator=DecisionTreeClassifier(),\n",
              "             param_grid={&#x27;criterion&#x27;: [&#x27;gini&#x27;, &#x27;entropy&#x27;],\n",
              "                         &#x27;max_depth&#x27;: [None, 10, 20, 30, 40, 50],\n",
              "                         &#x27;min_samples_leaf&#x27;: [1, 2, 4],\n",
              "                         &#x27;min_samples_split&#x27;: [2, 5, 10]},\n",
              "             scoring=&#x27;accuracy&#x27;)</pre><b>In a Jupyter environment, please rerun this cell to show the HTML representation or trust the notebook. <br />On GitHub, the HTML representation is unable to render, please try loading this page with nbviewer.org.</b></div><div class=\"sk-container\" hidden><div class=\"sk-item sk-dashed-wrapped\"><div class=\"sk-label-container\"><div class=\"sk-label sk-toggleable\"><input class=\"sk-toggleable__control sk-hidden--visually\" id=\"sk-estimator-id-10\" type=\"checkbox\" ><label for=\"sk-estimator-id-10\" class=\"sk-toggleable__label sk-toggleable__label-arrow\">GridSearchCV</label><div class=\"sk-toggleable__content\"><pre>GridSearchCV(cv=5, estimator=DecisionTreeClassifier(),\n",
              "             param_grid={&#x27;criterion&#x27;: [&#x27;gini&#x27;, &#x27;entropy&#x27;],\n",
              "                         &#x27;max_depth&#x27;: [None, 10, 20, 30, 40, 50],\n",
              "                         &#x27;min_samples_leaf&#x27;: [1, 2, 4],\n",
              "                         &#x27;min_samples_split&#x27;: [2, 5, 10]},\n",
              "             scoring=&#x27;accuracy&#x27;)</pre></div></div></div><div class=\"sk-parallel\"><div class=\"sk-parallel-item\"><div class=\"sk-item\"><div class=\"sk-label-container\"><div class=\"sk-label sk-toggleable\"><input class=\"sk-toggleable__control sk-hidden--visually\" id=\"sk-estimator-id-11\" type=\"checkbox\" ><label for=\"sk-estimator-id-11\" class=\"sk-toggleable__label sk-toggleable__label-arrow\">estimator: DecisionTreeClassifier</label><div class=\"sk-toggleable__content\"><pre>DecisionTreeClassifier()</pre></div></div></div><div class=\"sk-serial\"><div class=\"sk-item\"><div class=\"sk-estimator sk-toggleable\"><input class=\"sk-toggleable__control sk-hidden--visually\" id=\"sk-estimator-id-12\" type=\"checkbox\" ><label for=\"sk-estimator-id-12\" class=\"sk-toggleable__label sk-toggleable__label-arrow\">DecisionTreeClassifier</label><div class=\"sk-toggleable__content\"><pre>DecisionTreeClassifier()</pre></div></div></div></div></div></div></div></div></div></div>"
            ]
          },
          "metadata": {},
          "execution_count": 96
        }
      ]
    },
    {
      "cell_type": "markdown",
      "source": [
        "Best Estimator and Hyperparameters"
      ],
      "metadata": {
        "id": "kr5XXZbFFcsv"
      }
    },
    {
      "cell_type": "code",
      "source": [
        "# Print the best estimator found during hyperparameter search\n",
        "print(\"Best estimator found:\")\n",
        "best_model_ub_coa_dt = grid_search_ub_coa_dt.best_estimator_\n",
        "print(best_model_ub_coa_dt)\n",
        "\n",
        "# Print the best hyperparameters found during hyperparameter search\n",
        "print(\"\\nBest hyperparameters found:\")\n",
        "best_params_ub_coa_dt = grid_search_ub_coa_dt.best_params_\n",
        "print(best_params_ub_coa_dt)\n",
        "\n",
        "# Print the score of the best model in coastal_no_balancing cross-validation\n",
        "print(\"\\nScore of the best model in coastal_no_balancing cross-validation:\")\n",
        "best_score_ub_coa_dt = grid_search_ub_coa_dt.best_score_\n",
        "print(best_score_ub_coa_dt)"
      ],
      "metadata": {
        "colab": {
          "base_uri": "https://localhost:8080/"
        },
        "outputId": "4afec461-83e8-4e26-f375-1ba11db2af53",
        "id": "zJto53w9Fcsx"
      },
      "execution_count": null,
      "outputs": [
        {
          "output_type": "stream",
          "name": "stdout",
          "text": [
            "Best estimator found:\n",
            "DecisionTreeClassifier(criterion='entropy', min_samples_split=10)\n",
            "\n",
            "Best hyperparameters found:\n",
            "{'criterion': 'entropy', 'max_depth': None, 'min_samples_leaf': 1, 'min_samples_split': 10}\n",
            "\n",
            "Score of the best model in coastal_no_balancing cross-validation:\n",
            "0.9981198589894242\n"
          ]
        }
      ]
    },
    {
      "cell_type": "markdown",
      "source": [
        " Evaluate the model on the training set"
      ],
      "metadata": {
        "id": "0vmYHxhtFcsz"
      }
    },
    {
      "cell_type": "code",
      "source": [
        "# Make predictions on the training set\n",
        "y_pred_train_ub_coa_dt = best_model_ub_coa_dt.predict(X_train_ub_coa_dt)\n",
        "\n",
        "# Evaluation metrics on the training set\n",
        "accuracy_train_ub_coa_dt = accuracy_score(y_train_ub_coa_dt, y_pred_train_ub_coa_dt)\n",
        "precision_train_ub_coa_dt = precision_score(y_train_ub_coa_dt, y_pred_train_ub_coa_dt, average='weighted')\n",
        "# Calculate precision for each class\n",
        "precision_x_class_train_ub_coa_dt = precision_score(y_train_ub_coa_dt, y_pred_train_ub_coa_dt, average=None)\n",
        "recall_train_ub_coa_dt = recall_score(y_train_ub_coa_dt, y_pred_train_ub_coa_dt, average='weighted')\n",
        "# Calculate recall for each class\n",
        "recall_x_class_train_ub_coa_dt = recall_score(y_train_ub_coa_dt, y_pred_train_ub_coa_dt, average=None)\n",
        "f1_score_train_ub_coa_dt = f1_score(y_train_ub_coa_dt, y_pred_train_ub_coa_dt, average='weighted')\n",
        "# Calculate f1 score for each class\n",
        "f1_score_x_class_train_ub_coa_dt = f1_score(y_train_ub_coa_dt, y_pred_train_ub_coa_dt, average=None)\n",
        "jaccard_train_ub_coa_dt = jaccard_score(y_train_ub_coa_dt, y_pred_train_ub_coa_dt, average='weighted')\n",
        "confusion_train_ub_coa_dt = confusion_matrix(y_train_ub_coa_dt, y_pred_train_ub_coa_dt)\n",
        "\n",
        "# Print evaluation metrics for the training set\n",
        "print(\"Accuracy: \", accuracy_train_ub_coa_dt)\n",
        "print(\"Precision: \", precision_train_ub_coa_dt)\n",
        "print(\"Precision per class:\" , precision_x_class_train_ub_coa_dt )\n",
        "print(\"Recall: \", recall_train_ub_coa_dt)\n",
        "print(\"Recall per class:\" , recall_x_class_train_ub_coa_dt )\n",
        "print(\"F1 Score: \", f1_score_train_ub_coa_dt)\n",
        "# Print F1-score for each class\n",
        "for clase, f1 in enumerate(f1_score_x_class_train_ub_coa_dt):\n",
        "    print(f\"F1-score for the class {clase}: {f1}\")\n",
        "print(\"jaccard:\" , jaccard_train_ub_coa_dt )\n",
        "print(\"Confusion Matrix: \")\n",
        "print(confusion_train_ub_coa_dt)"
      ],
      "metadata": {
        "colab": {
          "base_uri": "https://localhost:8080/"
        },
        "outputId": "e0482dec-5c4b-48f2-996b-684de55086d4",
        "id": "h3XFXC3DFcs0"
      },
      "execution_count": null,
      "outputs": [
        {
          "output_type": "stream",
          "name": "stdout",
          "text": [
            "Accuracy:  1.0\n",
            "Precision:  1.0\n",
            "Precision per class: [1. 1. 1.]\n",
            "Recall:  1.0\n",
            "Recall per class: [1. 1. 1.]\n",
            "F1 Score:  1.0\n",
            "F1-score for the class 0: 1.0\n",
            "F1-score for the class 1: 1.0\n",
            "F1-score for the class 2: 1.0\n",
            "jaccard: 1.0\n",
            "Confusion Matrix: \n",
            "[[3106    0    0]\n",
            " [   0  802    0]\n",
            " [   0    0  347]]\n"
          ]
        }
      ]
    },
    {
      "cell_type": "markdown",
      "source": [
        " Evaluate the model on the test set"
      ],
      "metadata": {
        "id": "w5iFxn0rFcs2"
      }
    },
    {
      "cell_type": "code",
      "source": [
        "# Make predictions on the testing set\n",
        "y_pred_test_ub_coa_dt = best_model_ub_coa_dt.predict(X_test_ub_coa_dt)\n",
        "\n",
        "# Evaluation metrics on the testing set\n",
        "accuracy_test_ub_coa_dt = accuracy_score(y_test_ub_coa_dt, y_pred_test_ub_coa_dt)\n",
        "precision_test_ub_coa_dt = precision_score(y_test_ub_coa_dt, y_pred_test_ub_coa_dt, average='weighted')\n",
        "# Calculate precision for each class\n",
        "precision_x_class_test_ub_coa_dt = precision_score(y_test_ub_coa_dt, y_pred_test_ub_coa_dt, average=None)\n",
        "recall_test_ub_coa_dt = recall_score(y_test_ub_coa_dt, y_pred_test_ub_coa_dt, average='weighted')\n",
        "# Calculate recall for each class\n",
        "recall_x_class_test_ub_coa_dt = recall_score(y_test_ub_coa_dt, y_pred_test_ub_coa_dt, average=None)\n",
        "f1_score_test_ub_coa_dt = f1_score(y_test_ub_coa_dt, y_pred_test_ub_coa_dt, average='weighted')\n",
        "# Calculate f1 score for each class\n",
        "f1_score_x_class_test_ub_coa_dt = f1_score(y_test_ub_coa_dt, y_pred_test_ub_coa_dt, average=None)\n",
        "jaccard_test_ub_coa_dt = jaccard_score(y_test_ub_coa_dt, y_pred_test_ub_coa_dt, average='weighted')\n",
        "confusion_test_ub_coa_dt = confusion_matrix(y_test_ub_coa_dt, y_pred_test_ub_coa_dt)\n",
        "\n",
        "# Print evaluation metrics for the testing set\n",
        "print(\"Accuracy: \", accuracy_test_ub_coa_dt)\n",
        "print(\"Precision: \", precision_test_ub_coa_dt)\n",
        "print(\"Precision per class:\" , precision_x_class_test_ub_coa_dt )\n",
        "print(\"Recall: \", recall_test_ub_coa_dt)\n",
        "print(\"Recall per class:\" , recall_x_class_test_ub_coa_dt )\n",
        "print(\"F1 Score: \", f1_score_test_ub_coa_dt)\n",
        "# Print F1-score for each class\n",
        "for clase, f1 in enumerate(f1_score_x_class_test_ub_coa_dt):\n",
        "    print(f\"F1-score for the class {clase}: {f1}\")\n",
        "print(\"jaccard:\" , jaccard_test_ub_coa_dt )\n",
        "print(\"Confusion Matrix: \")\n",
        "print(confusion_test_ub_coa_dt)"
      ],
      "metadata": {
        "colab": {
          "base_uri": "https://localhost:8080/"
        },
        "outputId": "91b44f0a-489e-42f6-85a4-a326df76510c",
        "id": "PvpgA8l5Fcs3"
      },
      "execution_count": null,
      "outputs": [
        {
          "output_type": "stream",
          "name": "stdout",
          "text": [
            "Accuracy:  0.9981203007518797\n",
            "Precision:  0.9981251328836228\n",
            "Precision per class: [0.99742931 1.         1.        ]\n",
            "Recall:  0.9981203007518797\n",
            "Recall per class: [1.         0.99004975 1.        ]\n",
            "F1 Score:  0.998116811091435\n",
            "F1-score for the class 0: 0.9987129987129987\n",
            "F1-score for the class 1: 0.995\n",
            "F1-score for the class 2: 1.0\n",
            "jaccard: 0.9962454336355026\n",
            "Confusion Matrix: \n",
            "[[776   0   0]\n",
            " [  2 199   0]\n",
            " [  0   0  87]]\n"
          ]
        }
      ]
    },
    {
      "cell_type": "markdown",
      "source": [
        " Evaluate the model on the validation set"
      ],
      "metadata": {
        "id": "JvPqZ-LnFcs6"
      }
    },
    {
      "cell_type": "code",
      "source": [
        "# Transform the validation data using the scaler trained on the validation data\n",
        "X_val_ub_coa_dt = scaler_ub_coa_dt.transform(X_val_coastal)\n",
        "\n",
        "# Make predictions on the validation set using the trained dt model\n",
        "y_pred_val_ub_coa_dt = best_model_ub_coa_dt.predict(X_val_ub_coa_dt)\n",
        "\n",
        "# Evaluation metrics on the validation set\n",
        "accuracy_val_ub_coa_dt = accuracy_score(y_val_coastal, y_pred_val_ub_coa_dt)\n",
        "precision_val_ub_coa_dt = precision_score(y_val_coastal, y_pred_val_ub_coa_dt, average='weighted')\n",
        "# Calculate precision for each class\n",
        "precision_x_class_val_ub_coa_dt = precision_score(y_val_coastal, y_pred_val_ub_coa_dt, average=None)\n",
        "recall_val_ub_coa_dt = recall_score(y_val_coastal, y_pred_val_ub_coa_dt, average='weighted')\n",
        "# Calculate recall for each class\n",
        "recall_x_class_val_ub_coa_dt = recall_score(y_val_coastal, y_pred_val_ub_coa_dt, average=None)\n",
        "f1_score_val_ub_coa_dt = f1_score(y_val_coastal, y_pred_val_ub_coa_dt, average='weighted')\n",
        "# Calculate f1 score for each class\n",
        "f1_score_x_class_val_ub_coa_dt = f1_score(y_val_coastal, y_pred_val_ub_coa_dt, average=None)\n",
        "jaccard_val_ub_coa_dt = jaccard_score(y_val_coastal, y_pred_val_ub_coa_dt, average='weighted')\n",
        "confusion_val_ub_coa_dt = confusion_matrix(y_val_coastal, y_pred_val_ub_coa_dt)\n",
        "\n",
        "# Print evaluation metrics for the validation set\n",
        "print(\"Accuracy: \", accuracy_val_ub_coa_dt)\n",
        "print(\"Precision: \", precision_val_ub_coa_dt)\n",
        "print(\"Precision per class:\" , precision_x_class_val_ub_coa_dt )\n",
        "print(\"Recall: \", recall_val_ub_coa_dt)\n",
        "print(\"Recall per class:\" , recall_x_class_val_ub_coa_dt )\n",
        "print(\"F1 Score: \", f1_score_val_ub_coa_dt)\n",
        "# Print F1-score for each class\n",
        "for clase, f1 in enumerate(f1_score_x_class_val_ub_coa_dt):\n",
        "    print(f\"F1-score for the class {clase}: {f1}\")\n",
        "print(\"jaccard:\" , jaccard_val_ub_coa_dt )\n",
        "print(\"Confusion Matrix: \")\n",
        "print(confusion_val_ub_coa_dt)"
      ],
      "metadata": {
        "colab": {
          "base_uri": "https://localhost:8080/"
        },
        "outputId": "acae6cfa-b70e-4496-a5e8-8cbc77c0f035",
        "id": "7tOdlXoeFcs8"
      },
      "execution_count": null,
      "outputs": [
        {
          "output_type": "stream",
          "name": "stdout",
          "text": [
            "Accuracy:  1.0\n",
            "Precision:  1.0\n",
            "Precision per class: [1. 1.]\n",
            "Recall:  1.0\n",
            "Recall per class: [1. 1.]\n",
            "F1 Score:  1.0\n",
            "F1-score for the class 0: 1.0\n",
            "F1-score for the class 1: 1.0\n",
            "jaccard: 1.0\n",
            "Confusion Matrix: \n",
            "[[16  0]\n",
            " [ 0  5]]\n"
          ]
        }
      ]
    },
    {
      "cell_type": "code",
      "source": [
        "# Save the trained DT model to a file\n",
        "with open('best_model_ub_coa_dt.pkl', 'wb') as model_file:\n",
        "    pickle.dump(best_model_ub_coa_dt, model_file)\n",
        "\n",
        "# Save the scaler used for preprocessing to a file\n",
        "with open('scaler_ub_coa_dt.pkl', 'wb') as scaler_file:\n",
        "    pickle.dump(scaler_ub_coa_dt, scaler_file)"
      ],
      "metadata": {
        "id": "1dqrWRzYFcs-"
      },
      "execution_count": null,
      "outputs": []
    },
    {
      "cell_type": "markdown",
      "source": [
        "###MLR"
      ],
      "metadata": {
        "id": "mehkRabRFcs_"
      }
    },
    {
      "cell_type": "markdown",
      "source": [
        "Split data into training and test set"
      ],
      "metadata": {
        "id": "uTk5q43yFctB"
      }
    },
    {
      "cell_type": "code",
      "source": [
        "X_train_ub_coa_mlr, X_test_ub_coa_mlr, y_train_ub_coa_mlr, y_test_ub_coa_mlr = train_test_split(X_train_coastal, y_train_coastal, test_size=0.2, random_state=42)"
      ],
      "metadata": {
        "id": "Lz7RAcEyFctC"
      },
      "execution_count": null,
      "outputs": []
    },
    {
      "cell_type": "markdown",
      "source": [
        "Feature Standardization for Coastal Dataset using StandardScaler"
      ],
      "metadata": {
        "id": "xj8UWgmNFctE"
      }
    },
    {
      "cell_type": "code",
      "source": [
        "# Create a StandardScaler object\n",
        "scaler_ub_coa_mlr = StandardScaler()\n",
        "\n",
        "# Fit and transform the training data to standardize features\n",
        "X_train_ub_coa_mlr = scaler_ub_coa_mlr.fit_transform(X_train_ub_coa_mlr)\n",
        "\n",
        "# Transform the test data using the same scaler to maintain consistency in feature scaling\n",
        "X_test_ub_coa_mlr = scaler_ub_coa_mlr.transform(X_test_ub_coa_mlr)"
      ],
      "metadata": {
        "id": "IaPO11SvFctF"
      },
      "execution_count": null,
      "outputs": []
    },
    {
      "cell_type": "markdown",
      "source": [
        "Hyperparameter Grid for MLR Model"
      ],
      "metadata": {
        "id": "4IzDr6wFFctH"
      }
    },
    {
      "cell_type": "code",
      "source": [
        "# Define a dictionary of hyperparameters for tuning a MLR model\n",
        "parameters = {\n",
        "    'C': [0.001, 0.01, 0.1, 1, 10, 100],  # Parámetro de regularización\n",
        "    'solver': ['newton-cg', 'lbfgs', 'liblinear', 'sag', 'saga']  # Método de optimización\n",
        "}"
      ],
      "metadata": {
        "id": "NFxh5pwEFctI"
      },
      "execution_count": null,
      "outputs": []
    },
    {
      "cell_type": "markdown",
      "source": [
        "Create a Decision MLR model"
      ],
      "metadata": {
        "id": "IfZ2osfPFctK"
      }
    },
    {
      "cell_type": "code",
      "source": [
        "model_ub_coa_mlr = LogisticRegression(max_iter=1000)  # Usamos max_iter para evitar advertencias"
      ],
      "metadata": {
        "id": "gxLftWk8FctM"
      },
      "execution_count": null,
      "outputs": []
    },
    {
      "cell_type": "markdown",
      "source": [
        "Hyperparameter Tuning with Cross-Validation"
      ],
      "metadata": {
        "id": "UCQQ7ldYFctN"
      }
    },
    {
      "cell_type": "code",
      "source": [
        "# Inform the user to wait during the hyperparameter search\n",
        "print(\"Wait a moment...\")\n",
        "\n",
        "# Create a GridSearchCV object for hyperparameter tuning\n",
        "grid_search_ub_coa_mlr = GridSearchCV(model_ub_coa_mlr, parameters, cv=5, scoring='accuracy')\n",
        "\n",
        "# Fit the GridSearchCV object to find the best hyperparameters\n",
        "grid_search_ub_coa_mlr.fit(X_train_ub_coa_mlr, y_train_ub_coa_mlr)"
      ],
      "metadata": {
        "colab": {
          "base_uri": "https://localhost:8080/",
          "height": 1000
        },
        "outputId": "7ea3f719-7650-4031-e35a-c9619b97ae2a",
        "id": "r4AYOtkaFctP"
      },
      "execution_count": null,
      "outputs": [
        {
          "output_type": "stream",
          "name": "stdout",
          "text": [
            "Wait a moment...\n"
          ]
        },
        {
          "output_type": "stream",
          "name": "stderr",
          "text": [
            "/usr/local/lib/python3.10/dist-packages/sklearn/linear_model/_sag.py:350: ConvergenceWarning: The max_iter was reached which means the coef_ did not converge\n",
            "  warnings.warn(\n",
            "/usr/local/lib/python3.10/dist-packages/sklearn/linear_model/_sag.py:350: ConvergenceWarning: The max_iter was reached which means the coef_ did not converge\n",
            "  warnings.warn(\n",
            "/usr/local/lib/python3.10/dist-packages/sklearn/linear_model/_sag.py:350: ConvergenceWarning: The max_iter was reached which means the coef_ did not converge\n",
            "  warnings.warn(\n",
            "/usr/local/lib/python3.10/dist-packages/sklearn/linear_model/_sag.py:350: ConvergenceWarning: The max_iter was reached which means the coef_ did not converge\n",
            "  warnings.warn(\n",
            "/usr/local/lib/python3.10/dist-packages/sklearn/linear_model/_sag.py:350: ConvergenceWarning: The max_iter was reached which means the coef_ did not converge\n",
            "  warnings.warn(\n",
            "/usr/local/lib/python3.10/dist-packages/sklearn/linear_model/_sag.py:350: ConvergenceWarning: The max_iter was reached which means the coef_ did not converge\n",
            "  warnings.warn(\n",
            "/usr/local/lib/python3.10/dist-packages/sklearn/linear_model/_sag.py:350: ConvergenceWarning: The max_iter was reached which means the coef_ did not converge\n",
            "  warnings.warn(\n",
            "/usr/local/lib/python3.10/dist-packages/sklearn/linear_model/_sag.py:350: ConvergenceWarning: The max_iter was reached which means the coef_ did not converge\n",
            "  warnings.warn(\n",
            "/usr/local/lib/python3.10/dist-packages/sklearn/linear_model/_sag.py:350: ConvergenceWarning: The max_iter was reached which means the coef_ did not converge\n",
            "  warnings.warn(\n",
            "/usr/local/lib/python3.10/dist-packages/sklearn/linear_model/_sag.py:350: ConvergenceWarning: The max_iter was reached which means the coef_ did not converge\n",
            "  warnings.warn(\n",
            "/usr/local/lib/python3.10/dist-packages/sklearn/linear_model/_sag.py:350: ConvergenceWarning: The max_iter was reached which means the coef_ did not converge\n",
            "  warnings.warn(\n",
            "/usr/local/lib/python3.10/dist-packages/sklearn/linear_model/_sag.py:350: ConvergenceWarning: The max_iter was reached which means the coef_ did not converge\n",
            "  warnings.warn(\n",
            "/usr/local/lib/python3.10/dist-packages/sklearn/linear_model/_sag.py:350: ConvergenceWarning: The max_iter was reached which means the coef_ did not converge\n",
            "  warnings.warn(\n",
            "/usr/local/lib/python3.10/dist-packages/sklearn/linear_model/_sag.py:350: ConvergenceWarning: The max_iter was reached which means the coef_ did not converge\n",
            "  warnings.warn(\n",
            "/usr/local/lib/python3.10/dist-packages/sklearn/linear_model/_sag.py:350: ConvergenceWarning: The max_iter was reached which means the coef_ did not converge\n",
            "  warnings.warn(\n",
            "/usr/local/lib/python3.10/dist-packages/sklearn/linear_model/_sag.py:350: ConvergenceWarning: The max_iter was reached which means the coef_ did not converge\n",
            "  warnings.warn(\n",
            "/usr/local/lib/python3.10/dist-packages/sklearn/linear_model/_sag.py:350: ConvergenceWarning: The max_iter was reached which means the coef_ did not converge\n",
            "  warnings.warn(\n",
            "/usr/local/lib/python3.10/dist-packages/sklearn/linear_model/_sag.py:350: ConvergenceWarning: The max_iter was reached which means the coef_ did not converge\n",
            "  warnings.warn(\n",
            "/usr/local/lib/python3.10/dist-packages/sklearn/linear_model/_sag.py:350: ConvergenceWarning: The max_iter was reached which means the coef_ did not converge\n",
            "  warnings.warn(\n",
            "/usr/local/lib/python3.10/dist-packages/sklearn/linear_model/_sag.py:350: ConvergenceWarning: The max_iter was reached which means the coef_ did not converge\n",
            "  warnings.warn(\n",
            "/usr/local/lib/python3.10/dist-packages/sklearn/linear_model/_sag.py:350: ConvergenceWarning: The max_iter was reached which means the coef_ did not converge\n",
            "  warnings.warn(\n",
            "/usr/local/lib/python3.10/dist-packages/sklearn/linear_model/_sag.py:350: ConvergenceWarning: The max_iter was reached which means the coef_ did not converge\n",
            "  warnings.warn(\n",
            "/usr/local/lib/python3.10/dist-packages/sklearn/linear_model/_sag.py:350: ConvergenceWarning: The max_iter was reached which means the coef_ did not converge\n",
            "  warnings.warn(\n",
            "/usr/local/lib/python3.10/dist-packages/sklearn/linear_model/_sag.py:350: ConvergenceWarning: The max_iter was reached which means the coef_ did not converge\n",
            "  warnings.warn(\n",
            "/usr/local/lib/python3.10/dist-packages/sklearn/linear_model/_sag.py:350: ConvergenceWarning: The max_iter was reached which means the coef_ did not converge\n",
            "  warnings.warn(\n",
            "/usr/local/lib/python3.10/dist-packages/sklearn/linear_model/_sag.py:350: ConvergenceWarning: The max_iter was reached which means the coef_ did not converge\n",
            "  warnings.warn(\n",
            "/usr/local/lib/python3.10/dist-packages/sklearn/linear_model/_sag.py:350: ConvergenceWarning: The max_iter was reached which means the coef_ did not converge\n",
            "  warnings.warn(\n",
            "/usr/local/lib/python3.10/dist-packages/sklearn/linear_model/_sag.py:350: ConvergenceWarning: The max_iter was reached which means the coef_ did not converge\n",
            "  warnings.warn(\n",
            "/usr/local/lib/python3.10/dist-packages/sklearn/linear_model/_sag.py:350: ConvergenceWarning: The max_iter was reached which means the coef_ did not converge\n",
            "  warnings.warn(\n",
            "/usr/local/lib/python3.10/dist-packages/sklearn/linear_model/_sag.py:350: ConvergenceWarning: The max_iter was reached which means the coef_ did not converge\n",
            "  warnings.warn(\n"
          ]
        },
        {
          "output_type": "execute_result",
          "data": {
            "text/plain": [
              "GridSearchCV(cv=5, estimator=LogisticRegression(max_iter=1000),\n",
              "             param_grid={'C': [0.001, 0.01, 0.1, 1, 10, 100],\n",
              "                         'solver': ['newton-cg', 'lbfgs', 'liblinear', 'sag',\n",
              "                                    'saga']},\n",
              "             scoring='accuracy')"
            ],
            "text/html": [
              "<style>#sk-container-id-5 {color: black;background-color: white;}#sk-container-id-5 pre{padding: 0;}#sk-container-id-5 div.sk-toggleable {background-color: white;}#sk-container-id-5 label.sk-toggleable__label {cursor: pointer;display: block;width: 100%;margin-bottom: 0;padding: 0.3em;box-sizing: border-box;text-align: center;}#sk-container-id-5 label.sk-toggleable__label-arrow:before {content: \"▸\";float: left;margin-right: 0.25em;color: #696969;}#sk-container-id-5 label.sk-toggleable__label-arrow:hover:before {color: black;}#sk-container-id-5 div.sk-estimator:hover label.sk-toggleable__label-arrow:before {color: black;}#sk-container-id-5 div.sk-toggleable__content {max-height: 0;max-width: 0;overflow: hidden;text-align: left;background-color: #f0f8ff;}#sk-container-id-5 div.sk-toggleable__content pre {margin: 0.2em;color: black;border-radius: 0.25em;background-color: #f0f8ff;}#sk-container-id-5 input.sk-toggleable__control:checked~div.sk-toggleable__content {max-height: 200px;max-width: 100%;overflow: auto;}#sk-container-id-5 input.sk-toggleable__control:checked~label.sk-toggleable__label-arrow:before {content: \"▾\";}#sk-container-id-5 div.sk-estimator input.sk-toggleable__control:checked~label.sk-toggleable__label {background-color: #d4ebff;}#sk-container-id-5 div.sk-label input.sk-toggleable__control:checked~label.sk-toggleable__label {background-color: #d4ebff;}#sk-container-id-5 input.sk-hidden--visually {border: 0;clip: rect(1px 1px 1px 1px);clip: rect(1px, 1px, 1px, 1px);height: 1px;margin: -1px;overflow: hidden;padding: 0;position: absolute;width: 1px;}#sk-container-id-5 div.sk-estimator {font-family: monospace;background-color: #f0f8ff;border: 1px dotted black;border-radius: 0.25em;box-sizing: border-box;margin-bottom: 0.5em;}#sk-container-id-5 div.sk-estimator:hover {background-color: #d4ebff;}#sk-container-id-5 div.sk-parallel-item::after {content: \"\";width: 100%;border-bottom: 1px solid gray;flex-grow: 1;}#sk-container-id-5 div.sk-label:hover label.sk-toggleable__label {background-color: #d4ebff;}#sk-container-id-5 div.sk-serial::before {content: \"\";position: absolute;border-left: 1px solid gray;box-sizing: border-box;top: 0;bottom: 0;left: 50%;z-index: 0;}#sk-container-id-5 div.sk-serial {display: flex;flex-direction: column;align-items: center;background-color: white;padding-right: 0.2em;padding-left: 0.2em;position: relative;}#sk-container-id-5 div.sk-item {position: relative;z-index: 1;}#sk-container-id-5 div.sk-parallel {display: flex;align-items: stretch;justify-content: center;background-color: white;position: relative;}#sk-container-id-5 div.sk-item::before, #sk-container-id-5 div.sk-parallel-item::before {content: \"\";position: absolute;border-left: 1px solid gray;box-sizing: border-box;top: 0;bottom: 0;left: 50%;z-index: -1;}#sk-container-id-5 div.sk-parallel-item {display: flex;flex-direction: column;z-index: 1;position: relative;background-color: white;}#sk-container-id-5 div.sk-parallel-item:first-child::after {align-self: flex-end;width: 50%;}#sk-container-id-5 div.sk-parallel-item:last-child::after {align-self: flex-start;width: 50%;}#sk-container-id-5 div.sk-parallel-item:only-child::after {width: 0;}#sk-container-id-5 div.sk-dashed-wrapped {border: 1px dashed gray;margin: 0 0.4em 0.5em 0.4em;box-sizing: border-box;padding-bottom: 0.4em;background-color: white;}#sk-container-id-5 div.sk-label label {font-family: monospace;font-weight: bold;display: inline-block;line-height: 1.2em;}#sk-container-id-5 div.sk-label-container {text-align: center;}#sk-container-id-5 div.sk-container {/* jupyter's `normalize.less` sets `[hidden] { display: none; }` but bootstrap.min.css set `[hidden] { display: none !important; }` so we also need the `!important` here to be able to override the default hidden behavior on the sphinx rendered scikit-learn.org. See: https://github.com/scikit-learn/scikit-learn/issues/21755 */display: inline-block !important;position: relative;}#sk-container-id-5 div.sk-text-repr-fallback {display: none;}</style><div id=\"sk-container-id-5\" class=\"sk-top-container\"><div class=\"sk-text-repr-fallback\"><pre>GridSearchCV(cv=5, estimator=LogisticRegression(max_iter=1000),\n",
              "             param_grid={&#x27;C&#x27;: [0.001, 0.01, 0.1, 1, 10, 100],\n",
              "                         &#x27;solver&#x27;: [&#x27;newton-cg&#x27;, &#x27;lbfgs&#x27;, &#x27;liblinear&#x27;, &#x27;sag&#x27;,\n",
              "                                    &#x27;saga&#x27;]},\n",
              "             scoring=&#x27;accuracy&#x27;)</pre><b>In a Jupyter environment, please rerun this cell to show the HTML representation or trust the notebook. <br />On GitHub, the HTML representation is unable to render, please try loading this page with nbviewer.org.</b></div><div class=\"sk-container\" hidden><div class=\"sk-item sk-dashed-wrapped\"><div class=\"sk-label-container\"><div class=\"sk-label sk-toggleable\"><input class=\"sk-toggleable__control sk-hidden--visually\" id=\"sk-estimator-id-13\" type=\"checkbox\" ><label for=\"sk-estimator-id-13\" class=\"sk-toggleable__label sk-toggleable__label-arrow\">GridSearchCV</label><div class=\"sk-toggleable__content\"><pre>GridSearchCV(cv=5, estimator=LogisticRegression(max_iter=1000),\n",
              "             param_grid={&#x27;C&#x27;: [0.001, 0.01, 0.1, 1, 10, 100],\n",
              "                         &#x27;solver&#x27;: [&#x27;newton-cg&#x27;, &#x27;lbfgs&#x27;, &#x27;liblinear&#x27;, &#x27;sag&#x27;,\n",
              "                                    &#x27;saga&#x27;]},\n",
              "             scoring=&#x27;accuracy&#x27;)</pre></div></div></div><div class=\"sk-parallel\"><div class=\"sk-parallel-item\"><div class=\"sk-item\"><div class=\"sk-label-container\"><div class=\"sk-label sk-toggleable\"><input class=\"sk-toggleable__control sk-hidden--visually\" id=\"sk-estimator-id-14\" type=\"checkbox\" ><label for=\"sk-estimator-id-14\" class=\"sk-toggleable__label sk-toggleable__label-arrow\">estimator: LogisticRegression</label><div class=\"sk-toggleable__content\"><pre>LogisticRegression(max_iter=1000)</pre></div></div></div><div class=\"sk-serial\"><div class=\"sk-item\"><div class=\"sk-estimator sk-toggleable\"><input class=\"sk-toggleable__control sk-hidden--visually\" id=\"sk-estimator-id-15\" type=\"checkbox\" ><label for=\"sk-estimator-id-15\" class=\"sk-toggleable__label sk-toggleable__label-arrow\">LogisticRegression</label><div class=\"sk-toggleable__content\"><pre>LogisticRegression(max_iter=1000)</pre></div></div></div></div></div></div></div></div></div></div>"
            ]
          },
          "metadata": {},
          "execution_count": 106
        }
      ]
    },
    {
      "cell_type": "markdown",
      "source": [
        "Best Estimator and Hyperparameters"
      ],
      "metadata": {
        "id": "luCaU6lUFctQ"
      }
    },
    {
      "cell_type": "code",
      "source": [
        "# Print the best estimator found during hyperparameter search\n",
        "print(\"Best estimator found:\")\n",
        "best_model_ub_coa_mlr = grid_search_ub_coa_mlr.best_estimator_\n",
        "print(best_model_ub_coa_mlr)\n",
        "\n",
        "# Print the best hyperparameters found during hyperparameter search\n",
        "print(\"\\nBest hyperparameters found:\")\n",
        "best_params_ub_coa_mlr = grid_search_ub_coa_mlr.best_params_\n",
        "print(best_params_ub_coa_mlr)\n",
        "\n",
        "# Print the score of the best model in coastal_no_balancing cross-validation\n",
        "print(\"\\nScore of the best model in coastal_no_balancing cross-validation:\")\n",
        "best_score_ub_coa_mlr = grid_search_ub_coa_mlr.best_score_\n",
        "print(best_score_ub_coa_mlr)"
      ],
      "metadata": {
        "colab": {
          "base_uri": "https://localhost:8080/"
        },
        "outputId": "0759b915-d95a-4cb2-fb46-6c51c3f08fe9",
        "id": "-ZVnolbnFctS"
      },
      "execution_count": null,
      "outputs": [
        {
          "output_type": "stream",
          "name": "stdout",
          "text": [
            "Best estimator found:\n",
            "LogisticRegression(C=100, max_iter=1000, solver='newton-cg')\n",
            "\n",
            "Best hyperparameters found:\n",
            "{'C': 100, 'solver': 'newton-cg'}\n",
            "\n",
            "Score of the best model in coastal_no_balancing cross-validation:\n",
            "0.9473560517038779\n"
          ]
        }
      ]
    },
    {
      "cell_type": "markdown",
      "source": [
        " Evaluate the model on the training set"
      ],
      "metadata": {
        "id": "HKreM21vFctU"
      }
    },
    {
      "cell_type": "code",
      "source": [
        "# Make predictions on the training set\n",
        "y_pred_train_ub_coa_mlr = best_model_ub_coa_mlr.predict(X_train_ub_coa_mlr)\n",
        "\n",
        "# Evaluation metrics on the training set\n",
        "accuracy_train_ub_coa_mlr = accuracy_score(y_train_ub_coa_mlr, y_pred_train_ub_coa_mlr)\n",
        "precision_train_ub_coa_mlr = precision_score(y_train_ub_coa_mlr, y_pred_train_ub_coa_mlr, average='weighted')\n",
        "# Calculate precision for each class\n",
        "precision_x_class_train_ub_coa_mlr = precision_score(y_train_ub_coa_mlr, y_pred_train_ub_coa_mlr, average=None)\n",
        "recall_train_ub_coa_mlr = recall_score(y_train_ub_coa_mlr, y_pred_train_ub_coa_mlr, average='weighted')\n",
        "# Calculate recall for each class\n",
        "recall_x_class_train_ub_coa_mlr = recall_score(y_train_ub_coa_mlr, y_pred_train_ub_coa_mlr, average=None)\n",
        "f1_score_train_ub_coa_mlr = f1_score(y_train_ub_coa_mlr, y_pred_train_ub_coa_mlr, average='weighted')\n",
        "# Calculate f1 score for each class\n",
        "f1_score_x_class_train_ub_coa_mlr = f1_score(y_train_ub_coa_mlr, y_pred_train_ub_coa_mlr, average=None)\n",
        "jaccard_train_ub_coa_mlr = jaccard_score(y_train_ub_coa_mlr, y_pred_train_ub_coa_mlr, average='weighted')\n",
        "confusion_train_ub_coa_mlr = confusion_matrix(y_train_ub_coa_mlr, y_pred_train_ub_coa_mlr)\n",
        "\n",
        "# Print evaluation metrics for the training set\n",
        "print(\"Accuracy: \", accuracy_train_ub_coa_mlr)\n",
        "print(\"Precision: \", precision_train_ub_coa_mlr)\n",
        "print(\"Precision per class:\" , precision_x_class_train_ub_coa_mlr )\n",
        "print(\"Recall: \", recall_train_ub_coa_mlr)\n",
        "print(\"Recall per class:\" , recall_x_class_train_ub_coa_mlr )\n",
        "print(\"F1 Score: \", f1_score_train_ub_coa_mlr)\n",
        "# Print F1-score for each class\n",
        "for clase, f1 in enumerate(f1_score_x_class_train_ub_coa_mlr):\n",
        "    print(f\"F1-score for the class {clase}: {f1}\")\n",
        "print(\"jaccard:\" , jaccard_train_ub_coa_mlr )\n",
        "print(\"Confusion Matrix: \")\n",
        "print(confusion_train_ub_coa_mlr)"
      ],
      "metadata": {
        "colab": {
          "base_uri": "https://localhost:8080/"
        },
        "outputId": "a081d3dd-4c5e-4db5-8cc3-cb7fadfa2173",
        "id": "DpCOwddUFctV"
      },
      "execution_count": null,
      "outputs": [
        {
          "output_type": "stream",
          "name": "stdout",
          "text": [
            "Accuracy:  0.9487661574618096\n",
            "Precision:  0.9485848916750453\n",
            "Precision per class: [0.94744977 0.93961708 0.97947214]\n",
            "Recall:  0.9487661574618096\n",
            "Recall per class: [0.98679974 0.79551122 0.96253602]\n",
            "F1 Score:  0.9472494081862662\n",
            "F1-score for the class 0: 0.9667244914051412\n",
            "F1-score for the class 1: 0.861580013504389\n",
            "F1-score for the class 2: 0.9709302325581396\n",
            "jaccard: 0.902541751512293\n",
            "Confusion Matrix: \n",
            "[[3065   38    3]\n",
            " [ 160  638    4]\n",
            " [  10    3  334]]\n"
          ]
        }
      ]
    },
    {
      "cell_type": "markdown",
      "source": [
        " Evaluate the model on the test set"
      ],
      "metadata": {
        "id": "jjK6jMuCFctY"
      }
    },
    {
      "cell_type": "code",
      "source": [
        "# Make predictions on the testing set\n",
        "y_pred_test_ub_coa_mlr = best_model_ub_coa_mlr.predict(X_test_ub_coa_mlr)\n",
        "\n",
        "# Evaluation metrics on the testing set\n",
        "accuracy_test_ub_coa_mlr = accuracy_score(y_test_ub_coa_mlr, y_pred_test_ub_coa_mlr)\n",
        "precision_test_ub_coa_mlr = precision_score(y_test_ub_coa_mlr, y_pred_test_ub_coa_mlr, average='weighted')\n",
        "# Calculate precision for each class\n",
        "precision_x_class_test_ub_coa_mlr = precision_score(y_test_ub_coa_mlr, y_pred_test_ub_coa_mlr, average=None)\n",
        "recall_test_ub_coa_mlr = recall_score(y_test_ub_coa_mlr, y_pred_test_ub_coa_mlr, average='weighted')\n",
        "# Calculate recall for each class\n",
        "recall_x_class_test_ub_coa_mlr = recall_score(y_test_ub_coa_mlr, y_pred_test_ub_coa_mlr, average=None)\n",
        "f1_score_test_ub_coa_mlr = f1_score(y_test_ub_coa_mlr, y_pred_test_ub_coa_mlr, average='weighted')\n",
        "# Calculate f1 score for each class\n",
        "f1_score_x_class_test_ub_coa_mlr = f1_score(y_test_ub_coa_mlr, y_pred_test_ub_coa_mlr, average=None)\n",
        "jaccard_test_ub_coa_mlr = jaccard_score(y_test_ub_coa_mlr, y_pred_test_ub_coa_mlr, average='weighted')\n",
        "confusion_test_ub_coa_mlr = confusion_matrix(y_test_ub_coa_mlr, y_pred_test_ub_coa_mlr)\n",
        "\n",
        "# Print evaluation metrics for the testing set\n",
        "print(\"Accuracy: \", accuracy_test_ub_coa_mlr)\n",
        "print(\"Precision: \", precision_test_ub_coa_mlr)\n",
        "print(\"Precision per class:\" , precision_x_class_test_ub_coa_mlr )\n",
        "print(\"Recall: \", recall_test_ub_coa_mlr)\n",
        "print(\"Recall per class:\" , recall_x_class_test_ub_coa_mlr )\n",
        "print(\"F1 Score: \", f1_score_test_ub_coa_mlr)\n",
        "# Print F1-score for each class\n",
        "for clase, f1 in enumerate(f1_score_x_class_test_ub_coa_mlr):\n",
        "    print(f\"F1-score for the class {clase}: {f1}\")\n",
        "print(\"jaccard:\" , jaccard_test_ub_coa_mlr )\n",
        "print(\"Confusion Matrix: \")\n",
        "print(confusion_test_ub_coa_mlr)"
      ],
      "metadata": {
        "colab": {
          "base_uri": "https://localhost:8080/"
        },
        "outputId": "c5480272-f02e-4d49-94d2-1026a2f2df32",
        "id": "CufkpL8TFcta"
      },
      "execution_count": null,
      "outputs": [
        {
          "output_type": "stream",
          "name": "stdout",
          "text": [
            "Accuracy:  0.9492481203007519\n",
            "Precision:  0.9489521431179756\n",
            "Precision per class: [0.95043371 0.93678161 0.96385542]\n",
            "Recall:  0.9492481203007519\n",
            "Recall per class: [0.98840206 0.81094527 0.91954023]\n",
            "F1 Score:  0.9479305809766138\n",
            "F1-score for the class 0: 0.9690461149715729\n",
            "F1-score for the class 1: 0.8693333333333334\n",
            "F1-score for the class 2: 0.9411764705882354\n",
            "jaccard: 0.9034565290863117\n",
            "Confusion Matrix: \n",
            "[[767   9   0]\n",
            " [ 35 163   3]\n",
            " [  5   2  80]]\n"
          ]
        }
      ]
    },
    {
      "cell_type": "markdown",
      "source": [
        " Evaluate the model on the validation set"
      ],
      "metadata": {
        "id": "aWBBh8KwFctc"
      }
    },
    {
      "cell_type": "code",
      "source": [
        "# Transform the validation data using the scaler trained on the validation data\n",
        "X_val_ub_coa_mlr = scaler_ub_coa_mlr.transform(X_val_coastal)\n",
        "\n",
        "# Make predictions on the validation set using the trained mlr model\n",
        "y_pred_val_ub_coa_mlr = best_model_ub_coa_mlr.predict(X_val_ub_coa_mlr)\n",
        "\n",
        "# Evaluation metrics on the validation set\n",
        "accuracy_val_ub_coa_mlr = accuracy_score(y_val_coastal, y_pred_val_ub_coa_mlr)\n",
        "precision_val_ub_coa_mlr = precision_score(y_val_coastal, y_pred_val_ub_coa_mlr, average='weighted')\n",
        "# Calculate precision for each class\n",
        "precision_x_class_val_ub_coa_mlr = precision_score(y_val_coastal, y_pred_val_ub_coa_mlr, average=None)\n",
        "recall_val_ub_coa_mlr = recall_score(y_val_coastal, y_pred_val_ub_coa_mlr, average='weighted')\n",
        "# Calculate recall for each class\n",
        "recall_x_class_val_ub_coa_mlr = recall_score(y_val_coastal, y_pred_val_ub_coa_mlr, average=None)\n",
        "f1_score_val_ub_coa_mlr = f1_score(y_val_coastal, y_pred_val_ub_coa_mlr, average='weighted')\n",
        "# Calculate f1 score for each class\n",
        "f1_score_x_class_val_ub_coa_mlr = f1_score(y_val_coastal, y_pred_val_ub_coa_mlr, average=None)\n",
        "jaccard_val_ub_coa_mlr = jaccard_score(y_val_coastal, y_pred_val_ub_coa_mlr, average='weighted')\n",
        "confusion_val_ub_coa_mlr = confusion_matrix(y_val_coastal, y_pred_val_ub_coa_mlr)\n",
        "\n",
        "# Print evaluation metrics for the validation set\n",
        "print(\"Accuracy: \", accuracy_val_ub_coa_mlr)\n",
        "print(\"Precision: \", precision_val_ub_coa_mlr)\n",
        "print(\"Precision per class:\" , precision_x_class_val_ub_coa_mlr )\n",
        "print(\"Recall: \", recall_val_ub_coa_mlr)\n",
        "print(\"Recall per class:\" , recall_x_class_val_ub_coa_mlr )\n",
        "print(\"F1 Score: \", f1_score_val_ub_coa_mlr)\n",
        "# Print F1-score for each class\n",
        "for clase, f1 in enumerate(f1_score_x_class_val_ub_coa_mlr):\n",
        "    print(f\"F1-score for the class {clase}: {f1}\")\n",
        "print(\"jaccard:\" , jaccard_val_ub_coa_mlr )\n",
        "print(\"Confusion Matrix: \")\n",
        "print(confusion_val_ub_coa_mlr)"
      ],
      "metadata": {
        "colab": {
          "base_uri": "https://localhost:8080/"
        },
        "outputId": "986f76a9-4302-4245-8d52-2034b70b148c",
        "id": "fQwksvd2Fctd"
      },
      "execution_count": null,
      "outputs": [
        {
          "output_type": "stream",
          "name": "stdout",
          "text": [
            "Accuracy:  1.0\n",
            "Precision:  1.0\n",
            "Precision per class: [1. 1.]\n",
            "Recall:  1.0\n",
            "Recall per class: [1. 1.]\n",
            "F1 Score:  1.0\n",
            "F1-score for the class 0: 1.0\n",
            "F1-score for the class 1: 1.0\n",
            "jaccard: 1.0\n",
            "Confusion Matrix: \n",
            "[[16  0]\n",
            " [ 0  5]]\n"
          ]
        }
      ]
    },
    {
      "cell_type": "code",
      "source": [
        "# Save the trained MLR model to a file\n",
        "with open('best_model_ub_coa_mlr.pkl', 'wb') as model_file:\n",
        "    pickle.dump(best_model_ub_coa_mlr, model_file)\n",
        "\n",
        "# Save the scaler used for preprocessing to a file\n",
        "with open('scaler_ub_coa_mlr.pkl', 'wb') as scaler_file:\n",
        "    pickle.dump(scaler_ub_coa_mlr, scaler_file)"
      ],
      "metadata": {
        "id": "g_6_LR8oFctf"
      },
      "execution_count": null,
      "outputs": []
    },
    {
      "cell_type": "markdown",
      "source": [
        "##Balanced"
      ],
      "metadata": {
        "id": "HukXsy_JFctg"
      }
    },
    {
      "cell_type": "markdown",
      "source": [
        "Apply random subsampling"
      ],
      "metadata": {
        "id": "chRy_gO7Fcti"
      }
    },
    {
      "cell_type": "code",
      "source": [
        "print('Before class balancing: ', Counter(y_train_coastal))\n",
        "print(\"\")\n",
        "rus = RandomUnderSampler(random_state=42)\n",
        "X_train_coa_b, y_train_coa_b = rus.fit_resample(X_train_coastal, y_train_coastal)\n",
        "print('After the balancing y:', Counter(y_train_coa_b))\n",
        "print(\"\")\n",
        "print('After the balancing X:', Counter(X_train_coa_b))"
      ],
      "metadata": {
        "colab": {
          "base_uri": "https://localhost:8080/"
        },
        "outputId": "1caa759c-9d97-47eb-ab16-fc867584e8f0",
        "id": "AUzY53r1Fcti"
      },
      "execution_count": null,
      "outputs": [
        {
          "output_type": "stream",
          "name": "stdout",
          "text": [
            "Before class balancing:  Counter({0: 3882, 1: 1003, 2: 434})\n",
            "\n",
            "After the balancing y: Counter({0: 434, 1: 434, 2: 434})\n",
            "\n",
            "After the balancing X: Counter({'TSS': 1, 'FC': 1, 'ODs%': 1, 'ODm%': 1, 'ODb%': 1, 'FE': 1, 'TF15s': 1, 'TF15b': 1})\n"
          ]
        }
      ]
    },
    {
      "cell_type": "markdown",
      "source": [
        "###XGBOOST"
      ],
      "metadata": {
        "id": "KCuSH4jrFctk"
      }
    },
    {
      "cell_type": "markdown",
      "source": [
        "Split data into training and test set"
      ],
      "metadata": {
        "id": "WpSkKoJ0Fctl"
      }
    },
    {
      "cell_type": "code",
      "source": [
        "X_train_b_coa_xgb, X_test_b_coa_xgb, y_train_b_coa_xgb, y_test_b_coa_xgb = train_test_split(X_train_coastal, y_train_coastal, test_size=0.2, random_state=42)"
      ],
      "metadata": {
        "id": "N9h-7TOkFctm"
      },
      "execution_count": null,
      "outputs": []
    },
    {
      "cell_type": "markdown",
      "source": [
        "Feature Standardization for Coastal Dataset using StandardScaler"
      ],
      "metadata": {
        "id": "EHLwKzUGFctn"
      }
    },
    {
      "cell_type": "code",
      "source": [
        "# Create a StandardScaler object\n",
        "scaler_b_coa_xgb = StandardScaler()\n",
        "\n",
        "# Fit and transform the training data to standardize features\n",
        "X_train_b_coa_xgb = scaler_b_coa_xgb.fit_transform(X_train_b_coa_xgb)\n",
        "\n",
        "# Transform the test data using the same scaler to maintain consistency in feature scaling\n",
        "X_test_b_coa_xgb = scaler_b_coa_xgb.transform(X_test_b_coa_xgb)"
      ],
      "metadata": {
        "id": "q295vfFXFcto"
      },
      "execution_count": null,
      "outputs": []
    },
    {
      "cell_type": "markdown",
      "source": [
        "Hyperparameter Grid for XGBoost Model"
      ],
      "metadata": {
        "id": "yj__I3edFctp"
      }
    },
    {
      "cell_type": "code",
      "source": [
        "# Define a dictionary of hyperparameters for tuning a XGBoost model\n",
        "parameters = {\n",
        "    'learning_rate': [.01, 0.1, 0.2],\n",
        "    'max_depth': [10, 30, 50],\n",
        "    'n_estimators': [100, 200, 300]\n",
        "}"
      ],
      "metadata": {
        "id": "npsaYoiJFctr"
      },
      "execution_count": null,
      "outputs": []
    },
    {
      "cell_type": "markdown",
      "source": [
        "Create a Decision XGBoost model"
      ],
      "metadata": {
        "id": "2lf9TSfFFctt"
      }
    },
    {
      "cell_type": "code",
      "source": [
        "model_b_coa_xgb = XGBClassifier()"
      ],
      "metadata": {
        "id": "MebBKa6uFctv"
      },
      "execution_count": null,
      "outputs": []
    },
    {
      "cell_type": "markdown",
      "source": [
        "Hyperparameter Tuning with Cross-Validation"
      ],
      "metadata": {
        "id": "iiPjqRmjFctx"
      }
    },
    {
      "cell_type": "code",
      "source": [
        "# Inform the user to wait during the hyperparameter search\n",
        "print(\"Wait a moment...\")\n",
        "\n",
        "# Create a GridSearchCV object for hyperparameter tuning\n",
        "grid_search_b_coa_xgb = GridSearchCV(model_b_coa_xgb, parameters, cv=5, scoring='accuracy')\n",
        "\n",
        "# Fit the GridSearchCV object to find the best hyperparameters\n",
        "grid_search_b_coa_xgb.fit(X_train_b_coa_xgb, y_train_b_coa_xgb)"
      ],
      "metadata": {
        "colab": {
          "base_uri": "https://localhost:8080/",
          "height": 134
        },
        "outputId": "2ebc4b44-4669-4dc5-b222-bdf265e6a37c",
        "id": "IgryhyyXFctz"
      },
      "execution_count": null,
      "outputs": [
        {
          "output_type": "stream",
          "name": "stdout",
          "text": [
            "Wait a moment...\n"
          ]
        },
        {
          "output_type": "execute_result",
          "data": {
            "text/plain": [
              "GridSearchCV(cv=5,\n",
              "             estimator=XGBClassifier(base_score=None, booster=None,\n",
              "                                     callbacks=None, colsample_bylevel=None,\n",
              "                                     colsample_bynode=None,\n",
              "                                     colsample_bytree=None, device=None,\n",
              "                                     early_stopping_rounds=None,\n",
              "                                     enable_categorical=False, eval_metric=None,\n",
              "                                     feature_types=None, gamma=None,\n",
              "                                     grow_policy=None, importance_type=None,\n",
              "                                     interaction_constraints=None,\n",
              "                                     learning_rate=None,...\n",
              "                                     max_cat_threshold=None,\n",
              "                                     max_cat_to_onehot=None,\n",
              "                                     max_delta_step=None, max_depth=None,\n",
              "                                     max_leaves=None, min_child_weight=None,\n",
              "                                     missing=nan, monotone_constraints=None,\n",
              "                                     multi_strategy=None, n_estimators=None,\n",
              "                                     n_jobs=None, num_parallel_tree=None,\n",
              "                                     random_state=None, ...),\n",
              "             param_grid={'learning_rate': [0.01, 0.1, 0.2],\n",
              "                         'max_depth': [10, 30, 50],\n",
              "                         'n_estimators': [100, 200, 300]},\n",
              "             scoring='accuracy')"
            ],
            "text/html": [
              "<style>#sk-container-id-6 {color: black;background-color: white;}#sk-container-id-6 pre{padding: 0;}#sk-container-id-6 div.sk-toggleable {background-color: white;}#sk-container-id-6 label.sk-toggleable__label {cursor: pointer;display: block;width: 100%;margin-bottom: 0;padding: 0.3em;box-sizing: border-box;text-align: center;}#sk-container-id-6 label.sk-toggleable__label-arrow:before {content: \"▸\";float: left;margin-right: 0.25em;color: #696969;}#sk-container-id-6 label.sk-toggleable__label-arrow:hover:before {color: black;}#sk-container-id-6 div.sk-estimator:hover label.sk-toggleable__label-arrow:before {color: black;}#sk-container-id-6 div.sk-toggleable__content {max-height: 0;max-width: 0;overflow: hidden;text-align: left;background-color: #f0f8ff;}#sk-container-id-6 div.sk-toggleable__content pre {margin: 0.2em;color: black;border-radius: 0.25em;background-color: #f0f8ff;}#sk-container-id-6 input.sk-toggleable__control:checked~div.sk-toggleable__content {max-height: 200px;max-width: 100%;overflow: auto;}#sk-container-id-6 input.sk-toggleable__control:checked~label.sk-toggleable__label-arrow:before {content: \"▾\";}#sk-container-id-6 div.sk-estimator input.sk-toggleable__control:checked~label.sk-toggleable__label {background-color: #d4ebff;}#sk-container-id-6 div.sk-label input.sk-toggleable__control:checked~label.sk-toggleable__label {background-color: #d4ebff;}#sk-container-id-6 input.sk-hidden--visually {border: 0;clip: rect(1px 1px 1px 1px);clip: rect(1px, 1px, 1px, 1px);height: 1px;margin: -1px;overflow: hidden;padding: 0;position: absolute;width: 1px;}#sk-container-id-6 div.sk-estimator {font-family: monospace;background-color: #f0f8ff;border: 1px dotted black;border-radius: 0.25em;box-sizing: border-box;margin-bottom: 0.5em;}#sk-container-id-6 div.sk-estimator:hover {background-color: #d4ebff;}#sk-container-id-6 div.sk-parallel-item::after {content: \"\";width: 100%;border-bottom: 1px solid gray;flex-grow: 1;}#sk-container-id-6 div.sk-label:hover label.sk-toggleable__label {background-color: #d4ebff;}#sk-container-id-6 div.sk-serial::before {content: \"\";position: absolute;border-left: 1px solid gray;box-sizing: border-box;top: 0;bottom: 0;left: 50%;z-index: 0;}#sk-container-id-6 div.sk-serial {display: flex;flex-direction: column;align-items: center;background-color: white;padding-right: 0.2em;padding-left: 0.2em;position: relative;}#sk-container-id-6 div.sk-item {position: relative;z-index: 1;}#sk-container-id-6 div.sk-parallel {display: flex;align-items: stretch;justify-content: center;background-color: white;position: relative;}#sk-container-id-6 div.sk-item::before, #sk-container-id-6 div.sk-parallel-item::before {content: \"\";position: absolute;border-left: 1px solid gray;box-sizing: border-box;top: 0;bottom: 0;left: 50%;z-index: -1;}#sk-container-id-6 div.sk-parallel-item {display: flex;flex-direction: column;z-index: 1;position: relative;background-color: white;}#sk-container-id-6 div.sk-parallel-item:first-child::after {align-self: flex-end;width: 50%;}#sk-container-id-6 div.sk-parallel-item:last-child::after {align-self: flex-start;width: 50%;}#sk-container-id-6 div.sk-parallel-item:only-child::after {width: 0;}#sk-container-id-6 div.sk-dashed-wrapped {border: 1px dashed gray;margin: 0 0.4em 0.5em 0.4em;box-sizing: border-box;padding-bottom: 0.4em;background-color: white;}#sk-container-id-6 div.sk-label label {font-family: monospace;font-weight: bold;display: inline-block;line-height: 1.2em;}#sk-container-id-6 div.sk-label-container {text-align: center;}#sk-container-id-6 div.sk-container {/* jupyter's `normalize.less` sets `[hidden] { display: none; }` but bootstrap.min.css set `[hidden] { display: none !important; }` so we also need the `!important` here to be able to override the default hidden behavior on the sphinx rendered scikit-learn.org. See: https://github.com/scikit-learn/scikit-learn/issues/21755 */display: inline-block !important;position: relative;}#sk-container-id-6 div.sk-text-repr-fallback {display: none;}</style><div id=\"sk-container-id-6\" class=\"sk-top-container\"><div class=\"sk-text-repr-fallback\"><pre>GridSearchCV(cv=5,\n",
              "             estimator=XGBClassifier(base_score=None, booster=None,\n",
              "                                     callbacks=None, colsample_bylevel=None,\n",
              "                                     colsample_bynode=None,\n",
              "                                     colsample_bytree=None, device=None,\n",
              "                                     early_stopping_rounds=None,\n",
              "                                     enable_categorical=False, eval_metric=None,\n",
              "                                     feature_types=None, gamma=None,\n",
              "                                     grow_policy=None, importance_type=None,\n",
              "                                     interaction_constraints=None,\n",
              "                                     learning_rate=None,...\n",
              "                                     max_cat_threshold=None,\n",
              "                                     max_cat_to_onehot=None,\n",
              "                                     max_delta_step=None, max_depth=None,\n",
              "                                     max_leaves=None, min_child_weight=None,\n",
              "                                     missing=nan, monotone_constraints=None,\n",
              "                                     multi_strategy=None, n_estimators=None,\n",
              "                                     n_jobs=None, num_parallel_tree=None,\n",
              "                                     random_state=None, ...),\n",
              "             param_grid={&#x27;learning_rate&#x27;: [0.01, 0.1, 0.2],\n",
              "                         &#x27;max_depth&#x27;: [10, 30, 50],\n",
              "                         &#x27;n_estimators&#x27;: [100, 200, 300]},\n",
              "             scoring=&#x27;accuracy&#x27;)</pre><b>In a Jupyter environment, please rerun this cell to show the HTML representation or trust the notebook. <br />On GitHub, the HTML representation is unable to render, please try loading this page with nbviewer.org.</b></div><div class=\"sk-container\" hidden><div class=\"sk-item sk-dashed-wrapped\"><div class=\"sk-label-container\"><div class=\"sk-label sk-toggleable\"><input class=\"sk-toggleable__control sk-hidden--visually\" id=\"sk-estimator-id-16\" type=\"checkbox\" ><label for=\"sk-estimator-id-16\" class=\"sk-toggleable__label sk-toggleable__label-arrow\">GridSearchCV</label><div class=\"sk-toggleable__content\"><pre>GridSearchCV(cv=5,\n",
              "             estimator=XGBClassifier(base_score=None, booster=None,\n",
              "                                     callbacks=None, colsample_bylevel=None,\n",
              "                                     colsample_bynode=None,\n",
              "                                     colsample_bytree=None, device=None,\n",
              "                                     early_stopping_rounds=None,\n",
              "                                     enable_categorical=False, eval_metric=None,\n",
              "                                     feature_types=None, gamma=None,\n",
              "                                     grow_policy=None, importance_type=None,\n",
              "                                     interaction_constraints=None,\n",
              "                                     learning_rate=None,...\n",
              "                                     max_cat_threshold=None,\n",
              "                                     max_cat_to_onehot=None,\n",
              "                                     max_delta_step=None, max_depth=None,\n",
              "                                     max_leaves=None, min_child_weight=None,\n",
              "                                     missing=nan, monotone_constraints=None,\n",
              "                                     multi_strategy=None, n_estimators=None,\n",
              "                                     n_jobs=None, num_parallel_tree=None,\n",
              "                                     random_state=None, ...),\n",
              "             param_grid={&#x27;learning_rate&#x27;: [0.01, 0.1, 0.2],\n",
              "                         &#x27;max_depth&#x27;: [10, 30, 50],\n",
              "                         &#x27;n_estimators&#x27;: [100, 200, 300]},\n",
              "             scoring=&#x27;accuracy&#x27;)</pre></div></div></div><div class=\"sk-parallel\"><div class=\"sk-parallel-item\"><div class=\"sk-item\"><div class=\"sk-label-container\"><div class=\"sk-label sk-toggleable\"><input class=\"sk-toggleable__control sk-hidden--visually\" id=\"sk-estimator-id-17\" type=\"checkbox\" ><label for=\"sk-estimator-id-17\" class=\"sk-toggleable__label sk-toggleable__label-arrow\">estimator: XGBClassifier</label><div class=\"sk-toggleable__content\"><pre>XGBClassifier(base_score=None, booster=None, callbacks=None,\n",
              "              colsample_bylevel=None, colsample_bynode=None,\n",
              "              colsample_bytree=None, device=None, early_stopping_rounds=None,\n",
              "              enable_categorical=False, eval_metric=None, feature_types=None,\n",
              "              gamma=None, grow_policy=None, importance_type=None,\n",
              "              interaction_constraints=None, learning_rate=None, max_bin=None,\n",
              "              max_cat_threshold=None, max_cat_to_onehot=None,\n",
              "              max_delta_step=None, max_depth=None, max_leaves=None,\n",
              "              min_child_weight=None, missing=nan, monotone_constraints=None,\n",
              "              multi_strategy=None, n_estimators=None, n_jobs=None,\n",
              "              num_parallel_tree=None, random_state=None, ...)</pre></div></div></div><div class=\"sk-serial\"><div class=\"sk-item\"><div class=\"sk-estimator sk-toggleable\"><input class=\"sk-toggleable__control sk-hidden--visually\" id=\"sk-estimator-id-18\" type=\"checkbox\" ><label for=\"sk-estimator-id-18\" class=\"sk-toggleable__label sk-toggleable__label-arrow\">XGBClassifier</label><div class=\"sk-toggleable__content\"><pre>XGBClassifier(base_score=None, booster=None, callbacks=None,\n",
              "              colsample_bylevel=None, colsample_bynode=None,\n",
              "              colsample_bytree=None, device=None, early_stopping_rounds=None,\n",
              "              enable_categorical=False, eval_metric=None, feature_types=None,\n",
              "              gamma=None, grow_policy=None, importance_type=None,\n",
              "              interaction_constraints=None, learning_rate=None, max_bin=None,\n",
              "              max_cat_threshold=None, max_cat_to_onehot=None,\n",
              "              max_delta_step=None, max_depth=None, max_leaves=None,\n",
              "              min_child_weight=None, missing=nan, monotone_constraints=None,\n",
              "              multi_strategy=None, n_estimators=None, n_jobs=None,\n",
              "              num_parallel_tree=None, random_state=None, ...)</pre></div></div></div></div></div></div></div></div></div></div>"
            ]
          },
          "metadata": {},
          "execution_count": 116
        }
      ]
    },
    {
      "cell_type": "markdown",
      "source": [
        "Best Estimator and Hyperparameters"
      ],
      "metadata": {
        "id": "fjp3B7dLFct0"
      }
    },
    {
      "cell_type": "code",
      "source": [
        "# Print the best estimator found during hyperparameter search\n",
        "print(\"Best estimator found:\")\n",
        "best_model_b_coa_xgb = grid_search_b_coa_xgb.best_estimator_\n",
        "print(best_model_b_coa_xgb)\n",
        "\n",
        "# Print the best hyperparameters found during hyperparameter search\n",
        "print(\"\\nBest hyperparameters found:\")\n",
        "best_params_b_coa_xgb = grid_search_b_coa_xgb.best_params_\n",
        "print(best_params_b_coa_xgb)\n",
        "\n",
        "# Print the score of the best model in coastal_no_balancing cross-validation\n",
        "print(\"\\nScore of the best model in coastal_no_balancing cross-validation:\")\n",
        "best_score_b_coa_xgb = grid_search_b_coa_xgb.best_score_\n",
        "print(best_score_b_coa_xgb)"
      ],
      "metadata": {
        "colab": {
          "base_uri": "https://localhost:8080/"
        },
        "outputId": "7e7caa3b-67c5-4a5b-d3cd-0ab0fdd7b898",
        "id": "9gqAhTAYFct1"
      },
      "execution_count": null,
      "outputs": [
        {
          "output_type": "stream",
          "name": "stdout",
          "text": [
            "Best estimator found:\n",
            "XGBClassifier(base_score=None, booster=None, callbacks=None,\n",
            "              colsample_bylevel=None, colsample_bynode=None,\n",
            "              colsample_bytree=None, device=None, early_stopping_rounds=None,\n",
            "              enable_categorical=False, eval_metric=None, feature_types=None,\n",
            "              gamma=None, grow_policy=None, importance_type=None,\n",
            "              interaction_constraints=None, learning_rate=0.01, max_bin=None,\n",
            "              max_cat_threshold=None, max_cat_to_onehot=None,\n",
            "              max_delta_step=None, max_depth=10, max_leaves=None,\n",
            "              min_child_weight=None, missing=nan, monotone_constraints=None,\n",
            "              multi_strategy=None, n_estimators=100, n_jobs=None,\n",
            "              num_parallel_tree=None, objective='multi:softprob', ...)\n",
            "\n",
            "Best hyperparameters found:\n",
            "{'learning_rate': 0.01, 'max_depth': 10, 'n_estimators': 100}\n",
            "\n",
            "Score of the best model in coastal_no_balancing cross-validation:\n",
            "0.9938895417156287\n"
          ]
        }
      ]
    },
    {
      "cell_type": "markdown",
      "source": [
        " Evaluate the model on the training set"
      ],
      "metadata": {
        "id": "F_7oVAUlFct2"
      }
    },
    {
      "cell_type": "code",
      "source": [
        "# Make predictions on the training set\n",
        "y_pred_train_b_coa_xgb = best_model_b_coa_xgb.predict(X_train_b_coa_xgb)\n",
        "\n",
        "# Evaluation metrics on the training set\n",
        "accuracy_train_b_coa_xgb = accuracy_score(y_train_b_coa_xgb, y_pred_train_b_coa_xgb)\n",
        "precision_train_b_coa_xgb = precision_score(y_train_b_coa_xgb, y_pred_train_b_coa_xgb, average='weighted')\n",
        "# Calculate precision for each class\n",
        "precision_x_class_train_b_coa_xgb = precision_score(y_train_b_coa_xgb, y_pred_train_b_coa_xgb, average=None)\n",
        "recall_train_b_coa_xgb = recall_score(y_train_b_coa_xgb, y_pred_train_b_coa_xgb, average='weighted')\n",
        "# Calculate recall for each class\n",
        "recall_x_class_train_b_coa_xgb = recall_score(y_train_b_coa_xgb, y_pred_train_b_coa_xgb, average=None)\n",
        "f1_score_train_b_coa_xgb = f1_score(y_train_b_coa_xgb, y_pred_train_b_coa_xgb, average='weighted')\n",
        "# Calculate f1 score for each class\n",
        "f1_score_x_class_train_b_coa_xgb = f1_score(y_train_b_coa_xgb, y_pred_train_b_coa_xgb, average=None)\n",
        "jaccard_train_b_coa_xgb = jaccard_score(y_train_b_coa_xgb, y_pred_train_b_coa_xgb, average='weighted')\n",
        "confusion_train_b_coa_xgb = confusion_matrix(y_train_b_coa_xgb, y_pred_train_b_coa_xgb)\n",
        "\n",
        "# Print evaluation metrics for the training set\n",
        "print(\"Accuracy: \", accuracy_train_b_coa_xgb)\n",
        "print(\"Precision: \", precision_train_b_coa_xgb)\n",
        "print(\"Precision per class:\" , precision_x_class_train_b_coa_xgb )\n",
        "print(\"Recall: \", recall_train_b_coa_xgb)\n",
        "print(\"Recall per class:\" , recall_x_class_train_b_coa_xgb )\n",
        "print(\"F1 Score: \", f1_score_train_b_coa_xgb)\n",
        "# Print F1-score for each class\n",
        "for clase, f1 in enumerate(f1_score_x_class_train_b_coa_xgb):\n",
        "    print(f\"F1-score for the class {clase}: {f1}\")\n",
        "print(\"jaccard:\" , jaccard_train_b_coa_xgb )\n",
        "print(\"Confusion Matrix: \")\n",
        "print(confusion_train_b_coa_xgb)"
      ],
      "metadata": {
        "colab": {
          "base_uri": "https://localhost:8080/"
        },
        "outputId": "ec3f2ec9-fd4a-48e0-980a-eeca0c4382b5",
        "id": "fH1h7_jBFct4"
      },
      "execution_count": null,
      "outputs": [
        {
          "output_type": "stream",
          "name": "stdout",
          "text": [
            "Accuracy:  0.9988249118683902\n",
            "Precision:  0.9988265143511595\n",
            "Precision per class: [0.99935588 0.99626866 1.        ]\n",
            "Recall:  0.9988249118683902\n",
            "Recall per class: [0.99903413 0.99875312 0.99711816]\n",
            "F1 Score:  0.9988252330546723\n",
            "F1-score for the class 0: 0.999194976654323\n",
            "F1-score for the class 1: 0.9975093399750935\n",
            "F1-score for the class 2: 0.9985569985569985\n",
            "jaccard: 0.9976540832750918\n",
            "Confusion Matrix: \n",
            "[[3103    3    0]\n",
            " [   1  801    0]\n",
            " [   1    0  346]]\n"
          ]
        }
      ]
    },
    {
      "cell_type": "markdown",
      "source": [
        " Evaluate the model on the test set"
      ],
      "metadata": {
        "id": "8dQRQP4KFct5"
      }
    },
    {
      "cell_type": "code",
      "source": [
        "# Make predictions on the testing set\n",
        "y_pred_test_b_coa_xgb = best_model_b_coa_xgb.predict(X_test_b_coa_xgb)\n",
        "\n",
        "# Evaluation metrics on the testing set\n",
        "accuracy_test_b_coa_xgb = accuracy_score(y_test_b_coa_xgb, y_pred_test_b_coa_xgb)\n",
        "precision_test_b_coa_xgb = precision_score(y_test_b_coa_xgb, y_pred_test_b_coa_xgb, average='weighted')\n",
        "# Calculate precision for each class\n",
        "precision_x_class_test_b_coa_xgb = precision_score(y_test_b_coa_xgb, y_pred_test_b_coa_xgb, average=None)\n",
        "recall_test_b_coa_xgb = recall_score(y_test_b_coa_xgb, y_pred_test_b_coa_xgb, average='weighted')\n",
        "# Calculate recall for each class\n",
        "recall_x_class_test_b_coa_xgb = recall_score(y_test_b_coa_xgb, y_pred_test_b_coa_xgb, average=None)\n",
        "f1_score_test_b_coa_xgb = f1_score(y_test_b_coa_xgb, y_pred_test_b_coa_xgb, average='weighted')\n",
        "# Calculate f1 score for each class\n",
        "f1_score_x_class_test_b_coa_xgb = f1_score(y_test_b_coa_xgb, y_pred_test_b_coa_xgb, average=None)\n",
        "jaccard_test_b_coa_xgb = jaccard_score(y_test_b_coa_xgb, y_pred_test_b_coa_xgb, average='weighted')\n",
        "confusion_test_b_coa_xgb = confusion_matrix(y_test_b_coa_xgb, y_pred_test_b_coa_xgb)\n",
        "\n",
        "# Print evaluation metrics for the testing set\n",
        "print(\"Accuracy: \", accuracy_test_b_coa_xgb)\n",
        "print(\"Precision: \", precision_test_b_coa_xgb)\n",
        "print(\"Precision per class:\" , precision_x_class_test_b_coa_xgb )\n",
        "print(\"Recall: \", recall_test_b_coa_xgb)\n",
        "print(\"Recall per class:\" , recall_x_class_test_b_coa_xgb )\n",
        "print(\"F1 Score: \", f1_score_test_b_coa_xgb)\n",
        "# Print F1-score for each class\n",
        "for clase, f1 in enumerate(f1_score_x_class_test_b_coa_xgb):\n",
        "    print(f\"F1-score for the class {clase}: {f1}\")\n",
        "print(\"jaccard:\" , jaccard_test_b_coa_xgb )\n",
        "print(\"Confusion Matrix: \")\n",
        "print(confusion_test_b_coa_xgb)"
      ],
      "metadata": {
        "colab": {
          "base_uri": "https://localhost:8080/"
        },
        "outputId": "b0a6d299-28f1-4ec2-d06b-76b68dca5963",
        "id": "mAsaofQVFct6"
      },
      "execution_count": null,
      "outputs": [
        {
          "output_type": "stream",
          "name": "stdout",
          "text": [
            "Accuracy:  0.9971804511278195\n",
            "Precision:  0.9971781710550508\n",
            "Precision per class: [0.997426 0.995    1.      ]\n",
            "Recall:  0.9971804511278195\n",
            "Recall per class: [0.99871134 0.99004975 1.        ]\n",
            "F1 Score:  0.9971778432557574\n",
            "F1-score for the class 0: 0.9980682549903412\n",
            "F1-score for the class 1: 0.9925187032418954\n",
            "F1-score for the class 2: 1.0\n",
            "jaccard: 0.9943821086159873\n",
            "Confusion Matrix: \n",
            "[[775   1   0]\n",
            " [  2 199   0]\n",
            " [  0   0  87]]\n"
          ]
        }
      ]
    },
    {
      "cell_type": "markdown",
      "source": [
        " Evaluate the model on the validation set"
      ],
      "metadata": {
        "id": "d-QBUv_aFct8"
      }
    },
    {
      "cell_type": "code",
      "source": [
        "# Transform the validation data using the scaler trained on the validation data\n",
        "X_val_b_coa_xgb = scaler_b_coa_xgb.transform(X_val_coastal)\n",
        "\n",
        "# Make predictions on the validation set using the trained xgboost model\n",
        "y_pred_val_b_coa_xgb = best_model_b_coa_xgb.predict(X_val_b_coa_xgb)\n",
        "\n",
        "# Evaluation metrics on the validation set\n",
        "accuracy_val_b_coa_xgb = accuracy_score(y_val_coastal, y_pred_val_b_coa_xgb)\n",
        "precision_val_b_coa_xgb = precision_score(y_val_coastal, y_pred_val_b_coa_xgb, average='weighted')\n",
        "# Calculate precision for each class\n",
        "precision_x_class_val_b_coa_xgb = precision_score(y_val_coastal, y_pred_val_b_coa_xgb, average=None)\n",
        "recall_val_b_coa_xgb = recall_score(y_val_coastal, y_pred_val_b_coa_xgb, average='weighted')\n",
        "# Calculate recall for each class\n",
        "recall_x_class_val_b_coa_xgb = recall_score(y_val_coastal, y_pred_val_b_coa_xgb, average=None)\n",
        "f1_score_val_b_coa_xgb = f1_score(y_val_coastal, y_pred_val_b_coa_xgb, average='weighted')\n",
        "# Calculate f1 score for each class\n",
        "f1_score_x_class_val_b_coa_xgb = f1_score(y_val_coastal, y_pred_val_b_coa_xgb, average=None)\n",
        "jaccard_val_b_coa_xgb = jaccard_score(y_val_coastal, y_pred_val_b_coa_xgb, average='weighted')\n",
        "confusion_val_b_coa_xgb = confusion_matrix(y_val_coastal, y_pred_val_b_coa_xgb)\n",
        "\n",
        "# Print evaluation metrics for the validation set\n",
        "print(\"Accuracy: \", accuracy_val_b_coa_xgb)\n",
        "print(\"Precision: \", precision_val_b_coa_xgb)\n",
        "print(\"Precision per class:\" , precision_x_class_val_b_coa_xgb )\n",
        "print(\"Recall: \", recall_val_b_coa_xgb)\n",
        "print(\"Recall per class:\" , recall_x_class_val_b_coa_xgb )\n",
        "print(\"F1 Score: \", f1_score_val_b_coa_xgb)\n",
        "# Print F1-score for each class\n",
        "for clase, f1 in enumerate(f1_score_x_class_val_b_coa_xgb):\n",
        "    print(f\"F1-score for the class {clase}: {f1}\")\n",
        "print(\"jaccard:\" , jaccard_val_b_coa_xgb )\n",
        "print(\"Confusion Matrix: \")\n",
        "print(confusion_val_b_coa_xgb)"
      ],
      "metadata": {
        "colab": {
          "base_uri": "https://localhost:8080/"
        },
        "outputId": "4bf7daeb-f474-47b7-df98-785da48de7fb",
        "id": "CJWuaPs1Fct9"
      },
      "execution_count": null,
      "outputs": [
        {
          "output_type": "stream",
          "name": "stdout",
          "text": [
            "Accuracy:  1.0\n",
            "Precision:  1.0\n",
            "Precision per class: [1. 1.]\n",
            "Recall:  1.0\n",
            "Recall per class: [1. 1.]\n",
            "F1 Score:  1.0\n",
            "F1-score for the class 0: 1.0\n",
            "F1-score for the class 1: 1.0\n",
            "jaccard: 1.0\n",
            "Confusion Matrix: \n",
            "[[16  0]\n",
            " [ 0  5]]\n"
          ]
        }
      ]
    },
    {
      "cell_type": "code",
      "source": [
        "# Save the trained XGBoost model to a file\n",
        "with open('best_model_b_coa_xgb.pkl', 'wb') as model_file:\n",
        "    pickle.dump(best_model_b_coa_xgb, model_file)\n",
        "\n",
        "# Save the scaler used for preprocessing to a file\n",
        "with open('scaler_b_coa_xgb.pkl', 'wb') as scaler_file:\n",
        "    pickle.dump(scaler_b_coa_xgb, scaler_file)"
      ],
      "metadata": {
        "id": "dqit119-Fct_"
      },
      "execution_count": null,
      "outputs": []
    },
    {
      "cell_type": "markdown",
      "source": [
        "###SVM"
      ],
      "metadata": {
        "id": "tH8I0jmYFcuA"
      }
    },
    {
      "cell_type": "markdown",
      "source": [
        "Split data into training and test set"
      ],
      "metadata": {
        "id": "luq_EDMHFcuB"
      }
    },
    {
      "cell_type": "code",
      "source": [
        "X_train_b_coa_svm, X_test_b_coa_svm, y_train_b_coa_svm, y_test_b_coa_svm = train_test_split(X_train_coastal, y_train_coastal, test_size=0.2, random_state=42)"
      ],
      "metadata": {
        "id": "xCuCwEOpFcuC"
      },
      "execution_count": null,
      "outputs": []
    },
    {
      "cell_type": "markdown",
      "source": [
        "Feature Standardization for Coastal Dataset using StandardScaler"
      ],
      "metadata": {
        "id": "S9JyP9hcFcuD"
      }
    },
    {
      "cell_type": "code",
      "source": [
        "# Create a StandardScaler object\n",
        "scaler_b_coa_svm = StandardScaler()\n",
        "\n",
        "# Fit and transform the training data to standardize features\n",
        "X_train_b_coa_svm = scaler_b_coa_svm.fit_transform(X_train_b_coa_svm)\n",
        "\n",
        "# Transform the test data using the same scaler to maintain consistency in feature scaling\n",
        "X_test_b_coa_svm = scaler_b_coa_svm.transform(X_test_b_coa_svm)"
      ],
      "metadata": {
        "id": "gYCqvS_QFcuE"
      },
      "execution_count": null,
      "outputs": []
    },
    {
      "cell_type": "markdown",
      "source": [
        "Hyperparameter Grid for SVM Model"
      ],
      "metadata": {
        "id": "a-oihwniFcuF"
      }
    },
    {
      "cell_type": "code",
      "source": [
        "# Define a dictionary of hyperparameters for tuning a SVM model\n",
        "parameters = {\n",
        "    'C': [0.1, 1, 10],\n",
        "    'kernel': ['linear', 'rbf', 'poly'],\n",
        "    'gamma': [0.1, 1, 'scale', 'auto'],\n",
        "}"
      ],
      "metadata": {
        "id": "JWqDnh1JFcuG"
      },
      "execution_count": null,
      "outputs": []
    },
    {
      "cell_type": "markdown",
      "source": [
        "Create a Decision SVM model"
      ],
      "metadata": {
        "id": "dsXlTWPaFcuH"
      }
    },
    {
      "cell_type": "code",
      "source": [
        "#Create a Decision SVM model\n",
        "model_b_coa_svm = SVC()"
      ],
      "metadata": {
        "id": "ZtJpM03cFcuI"
      },
      "execution_count": null,
      "outputs": []
    },
    {
      "cell_type": "markdown",
      "source": [
        "Hyperparameter Tuning with Cross-Validation"
      ],
      "metadata": {
        "id": "-5Ldxq6kFcuJ"
      }
    },
    {
      "cell_type": "code",
      "source": [
        "# Inform the user to wait during the hyperparameter search\n",
        "print(\"Wait a moment...\")\n",
        "\n",
        "# Create a GridSearchCV object for hyperparameter tuning\n",
        "grid_search_b_coa_svm = GridSearchCV(model_b_coa_svm, parameters, cv=5, scoring='accuracy')\n",
        "\n",
        "# Fit the GridSearchCV object to find the best hyperparameters\n",
        "grid_search_b_coa_svm.fit(X_train_b_coa_svm, y_train_b_coa_svm)"
      ],
      "metadata": {
        "colab": {
          "base_uri": "https://localhost:8080/",
          "height": 134
        },
        "outputId": "f54e3ce9-08ca-4758-b855-8bc832b62631",
        "id": "DR05Hs5fFcuL"
      },
      "execution_count": null,
      "outputs": [
        {
          "output_type": "stream",
          "name": "stdout",
          "text": [
            "Wait a moment...\n"
          ]
        },
        {
          "output_type": "execute_result",
          "data": {
            "text/plain": [
              "GridSearchCV(cv=5, estimator=SVC(),\n",
              "             param_grid={'C': [0.1, 1, 10], 'gamma': [0.1, 1, 'scale', 'auto'],\n",
              "                         'kernel': ['linear', 'rbf', 'poly']},\n",
              "             scoring='accuracy')"
            ],
            "text/html": [
              "<style>#sk-container-id-7 {color: black;background-color: white;}#sk-container-id-7 pre{padding: 0;}#sk-container-id-7 div.sk-toggleable {background-color: white;}#sk-container-id-7 label.sk-toggleable__label {cursor: pointer;display: block;width: 100%;margin-bottom: 0;padding: 0.3em;box-sizing: border-box;text-align: center;}#sk-container-id-7 label.sk-toggleable__label-arrow:before {content: \"▸\";float: left;margin-right: 0.25em;color: #696969;}#sk-container-id-7 label.sk-toggleable__label-arrow:hover:before {color: black;}#sk-container-id-7 div.sk-estimator:hover label.sk-toggleable__label-arrow:before {color: black;}#sk-container-id-7 div.sk-toggleable__content {max-height: 0;max-width: 0;overflow: hidden;text-align: left;background-color: #f0f8ff;}#sk-container-id-7 div.sk-toggleable__content pre {margin: 0.2em;color: black;border-radius: 0.25em;background-color: #f0f8ff;}#sk-container-id-7 input.sk-toggleable__control:checked~div.sk-toggleable__content {max-height: 200px;max-width: 100%;overflow: auto;}#sk-container-id-7 input.sk-toggleable__control:checked~label.sk-toggleable__label-arrow:before {content: \"▾\";}#sk-container-id-7 div.sk-estimator input.sk-toggleable__control:checked~label.sk-toggleable__label {background-color: #d4ebff;}#sk-container-id-7 div.sk-label input.sk-toggleable__control:checked~label.sk-toggleable__label {background-color: #d4ebff;}#sk-container-id-7 input.sk-hidden--visually {border: 0;clip: rect(1px 1px 1px 1px);clip: rect(1px, 1px, 1px, 1px);height: 1px;margin: -1px;overflow: hidden;padding: 0;position: absolute;width: 1px;}#sk-container-id-7 div.sk-estimator {font-family: monospace;background-color: #f0f8ff;border: 1px dotted black;border-radius: 0.25em;box-sizing: border-box;margin-bottom: 0.5em;}#sk-container-id-7 div.sk-estimator:hover {background-color: #d4ebff;}#sk-container-id-7 div.sk-parallel-item::after {content: \"\";width: 100%;border-bottom: 1px solid gray;flex-grow: 1;}#sk-container-id-7 div.sk-label:hover label.sk-toggleable__label {background-color: #d4ebff;}#sk-container-id-7 div.sk-serial::before {content: \"\";position: absolute;border-left: 1px solid gray;box-sizing: border-box;top: 0;bottom: 0;left: 50%;z-index: 0;}#sk-container-id-7 div.sk-serial {display: flex;flex-direction: column;align-items: center;background-color: white;padding-right: 0.2em;padding-left: 0.2em;position: relative;}#sk-container-id-7 div.sk-item {position: relative;z-index: 1;}#sk-container-id-7 div.sk-parallel {display: flex;align-items: stretch;justify-content: center;background-color: white;position: relative;}#sk-container-id-7 div.sk-item::before, #sk-container-id-7 div.sk-parallel-item::before {content: \"\";position: absolute;border-left: 1px solid gray;box-sizing: border-box;top: 0;bottom: 0;left: 50%;z-index: -1;}#sk-container-id-7 div.sk-parallel-item {display: flex;flex-direction: column;z-index: 1;position: relative;background-color: white;}#sk-container-id-7 div.sk-parallel-item:first-child::after {align-self: flex-end;width: 50%;}#sk-container-id-7 div.sk-parallel-item:last-child::after {align-self: flex-start;width: 50%;}#sk-container-id-7 div.sk-parallel-item:only-child::after {width: 0;}#sk-container-id-7 div.sk-dashed-wrapped {border: 1px dashed gray;margin: 0 0.4em 0.5em 0.4em;box-sizing: border-box;padding-bottom: 0.4em;background-color: white;}#sk-container-id-7 div.sk-label label {font-family: monospace;font-weight: bold;display: inline-block;line-height: 1.2em;}#sk-container-id-7 div.sk-label-container {text-align: center;}#sk-container-id-7 div.sk-container {/* jupyter's `normalize.less` sets `[hidden] { display: none; }` but bootstrap.min.css set `[hidden] { display: none !important; }` so we also need the `!important` here to be able to override the default hidden behavior on the sphinx rendered scikit-learn.org. See: https://github.com/scikit-learn/scikit-learn/issues/21755 */display: inline-block !important;position: relative;}#sk-container-id-7 div.sk-text-repr-fallback {display: none;}</style><div id=\"sk-container-id-7\" class=\"sk-top-container\"><div class=\"sk-text-repr-fallback\"><pre>GridSearchCV(cv=5, estimator=SVC(),\n",
              "             param_grid={&#x27;C&#x27;: [0.1, 1, 10], &#x27;gamma&#x27;: [0.1, 1, &#x27;scale&#x27;, &#x27;auto&#x27;],\n",
              "                         &#x27;kernel&#x27;: [&#x27;linear&#x27;, &#x27;rbf&#x27;, &#x27;poly&#x27;]},\n",
              "             scoring=&#x27;accuracy&#x27;)</pre><b>In a Jupyter environment, please rerun this cell to show the HTML representation or trust the notebook. <br />On GitHub, the HTML representation is unable to render, please try loading this page with nbviewer.org.</b></div><div class=\"sk-container\" hidden><div class=\"sk-item sk-dashed-wrapped\"><div class=\"sk-label-container\"><div class=\"sk-label sk-toggleable\"><input class=\"sk-toggleable__control sk-hidden--visually\" id=\"sk-estimator-id-19\" type=\"checkbox\" ><label for=\"sk-estimator-id-19\" class=\"sk-toggleable__label sk-toggleable__label-arrow\">GridSearchCV</label><div class=\"sk-toggleable__content\"><pre>GridSearchCV(cv=5, estimator=SVC(),\n",
              "             param_grid={&#x27;C&#x27;: [0.1, 1, 10], &#x27;gamma&#x27;: [0.1, 1, &#x27;scale&#x27;, &#x27;auto&#x27;],\n",
              "                         &#x27;kernel&#x27;: [&#x27;linear&#x27;, &#x27;rbf&#x27;, &#x27;poly&#x27;]},\n",
              "             scoring=&#x27;accuracy&#x27;)</pre></div></div></div><div class=\"sk-parallel\"><div class=\"sk-parallel-item\"><div class=\"sk-item\"><div class=\"sk-label-container\"><div class=\"sk-label sk-toggleable\"><input class=\"sk-toggleable__control sk-hidden--visually\" id=\"sk-estimator-id-20\" type=\"checkbox\" ><label for=\"sk-estimator-id-20\" class=\"sk-toggleable__label sk-toggleable__label-arrow\">estimator: SVC</label><div class=\"sk-toggleable__content\"><pre>SVC()</pre></div></div></div><div class=\"sk-serial\"><div class=\"sk-item\"><div class=\"sk-estimator sk-toggleable\"><input class=\"sk-toggleable__control sk-hidden--visually\" id=\"sk-estimator-id-21\" type=\"checkbox\" ><label for=\"sk-estimator-id-21\" class=\"sk-toggleable__label sk-toggleable__label-arrow\">SVC</label><div class=\"sk-toggleable__content\"><pre>SVC()</pre></div></div></div></div></div></div></div></div></div></div>"
            ]
          },
          "metadata": {},
          "execution_count": 125
        }
      ]
    },
    {
      "cell_type": "markdown",
      "source": [
        "Best Estimator and Hyperparameters"
      ],
      "metadata": {
        "id": "zM8xv4WdFcuM"
      }
    },
    {
      "cell_type": "code",
      "source": [
        "# Print the best estimator found during hyperparameter search\n",
        "print(\"Best estimator found:\")\n",
        "best_model_b_coa_svm = grid_search_b_coa_svm.best_estimator_\n",
        "print(best_model_b_coa_svm)\n",
        "\n",
        "# Print the best hyperparameters found during hyperparameter search\n",
        "print(\"\\nBest hyperparameters found:\")\n",
        "best_params_b_coa_svm = grid_search_b_coa_svm.best_params_\n",
        "print(best_params_b_coa_svm)\n",
        "\n",
        "# Print the score of the best model in coastal_no_balancing cross-validation\n",
        "print(\"\\nScore of the best model in coastal_no_balancing cross-validation:\")\n",
        "best_score_b_coa_svm = grid_search_b_coa_svm.best_score_\n",
        "print(best_score_b_coa_svm)"
      ],
      "metadata": {
        "colab": {
          "base_uri": "https://localhost:8080/"
        },
        "outputId": "ea23e62e-044f-4cb3-8265-8f9728c18928",
        "id": "GQlkGZjpFcuN"
      },
      "execution_count": null,
      "outputs": [
        {
          "output_type": "stream",
          "name": "stdout",
          "text": [
            "Best estimator found:\n",
            "SVC(C=10, gamma='auto')\n",
            "\n",
            "Best hyperparameters found:\n",
            "{'C': 10, 'gamma': 'auto', 'kernel': 'rbf'}\n",
            "\n",
            "Score of the best model in coastal_no_balancing cross-validation:\n",
            "0.9623971797884842\n"
          ]
        }
      ]
    },
    {
      "cell_type": "markdown",
      "source": [
        " Evaluate the model on the training set"
      ],
      "metadata": {
        "id": "PzvP1hAOFcub"
      }
    },
    {
      "cell_type": "code",
      "source": [
        "# Make predictions on the training set\n",
        "y_pred_train_b_coa_svm = best_model_b_coa_svm.predict(X_train_b_coa_svm)\n",
        "\n",
        "# Evaluation metrics on the training set\n",
        "accuracy_train_b_coa_svm = accuracy_score(y_train_b_coa_svm, y_pred_train_b_coa_svm)\n",
        "precision_train_b_coa_svm = precision_score(y_train_b_coa_svm, y_pred_train_b_coa_svm, average='weighted')\n",
        "# Calculate precision for each class\n",
        "precision_x_class_train_b_coa_svm = precision_score(y_train_b_coa_svm, y_pred_train_b_coa_svm, average=None)\n",
        "recall_train_b_coa_svm = recall_score(y_train_b_coa_svm, y_pred_train_b_coa_svm, average='weighted')\n",
        "# Calculate recall for each class\n",
        "recall_x_class_train_b_coa_svm = recall_score(y_train_b_coa_svm, y_pred_train_b_coa_svm, average=None)\n",
        "f1_score_train_b_coa_svm = f1_score(y_train_b_coa_svm, y_pred_train_b_coa_svm, average='weighted')\n",
        "# Calculate f1 score for each class\n",
        "f1_score_x_class_train_b_coa_svm = f1_score(y_train_b_coa_svm, y_pred_train_b_coa_svm, average=None)\n",
        "jaccard_train_b_coa_svm = jaccard_score(y_train_b_coa_svm, y_pred_train_b_coa_svm, average='weighted')\n",
        "confusion_train_b_coa_svm = confusion_matrix(y_train_b_coa_svm, y_pred_train_b_coa_svm)\n",
        "\n",
        "# Print evaluation metrics for the training set\n",
        "print(\"Accuracy: \", accuracy_train_b_coa_svm)\n",
        "print(\"Precision: \", precision_train_b_coa_svm)\n",
        "print(\"Precision per class:\" , precision_x_class_train_b_coa_svm )\n",
        "print(\"Recall: \", recall_train_b_coa_svm)\n",
        "print(\"Recall per class:\" , recall_x_class_train_b_coa_svm )\n",
        "print(\"F1 Score: \", f1_score_train_b_coa_svm)\n",
        "# Print F1-score for each class\n",
        "for clase, f1 in enumerate(f1_score_x_class_train_b_coa_svm):\n",
        "    print(f\"F1-score for the class {clase}: {f1}\")\n",
        "print(\"jaccard:\" , jaccard_train_b_coa_svm )\n",
        "print(\"Confusion Matrix: \")\n",
        "print(confusion_train_b_coa_svm)"
      ],
      "metadata": {
        "colab": {
          "base_uri": "https://localhost:8080/"
        },
        "outputId": "c2b956eb-4076-4611-fed7-c3827f7f5182",
        "id": "ptTrUVleFcuc"
      },
      "execution_count": null,
      "outputs": [
        {
          "output_type": "stream",
          "name": "stdout",
          "text": [
            "Accuracy:  0.9699177438307873\n",
            "Precision:  0.9703700778146039\n",
            "Precision per class: [0.97382529 0.94416873 1.        ]\n",
            "Recall:  0.9699177438307873\n",
            "Recall per class: [0.99420476 0.94887781 0.80115274]\n",
            "F1 Score:  0.9691706477249029\n",
            "F1-score for the class 0: 0.9839095109128565\n",
            "F1-score for the class 1: 0.9465174129353233\n",
            "F1-score for the class 2: 0.8896000000000001\n",
            "jaccard: 0.9415270954251913\n",
            "Confusion Matrix: \n",
            "[[3088   18    0]\n",
            " [  41  761    0]\n",
            " [  42   27  278]]\n"
          ]
        }
      ]
    },
    {
      "cell_type": "markdown",
      "source": [
        " Evaluate the model on the test set"
      ],
      "metadata": {
        "id": "VjDs-WpSFcuf"
      }
    },
    {
      "cell_type": "code",
      "source": [
        "# Make predictions on the testing set\n",
        "y_pred_test_b_coa_svm = best_model_b_coa_svm.predict(X_test_b_coa_svm)\n",
        "\n",
        "# Evaluation metrics on the testing set\n",
        "accuracy_test_b_coa_svm = accuracy_score(y_test_b_coa_svm, y_pred_test_b_coa_svm)\n",
        "precision_test_b_coa_svm = precision_score(y_test_b_coa_svm, y_pred_test_b_coa_svm, average='weighted')\n",
        "# Calculate precision for each class\n",
        "precision_x_class_test_b_coa_svm = precision_score(y_test_b_coa_svm, y_pred_test_b_coa_svm, average=None)\n",
        "recall_test_b_coa_svm = recall_score(y_test_b_coa_svm, y_pred_test_b_coa_svm, average='weighted')\n",
        "# Calculate recall for each class\n",
        "recall_x_class_test_b_coa_svm = recall_score(y_test_b_coa_svm, y_pred_test_b_coa_svm, average=None)\n",
        "f1_score_test_b_coa_svm = f1_score(y_test_b_coa_svm, y_pred_test_b_coa_svm, average='weighted')\n",
        "# Calculate f1 score for each class\n",
        "f1_score_x_class_test_b_coa_svm = f1_score(y_test_b_coa_svm, y_pred_test_b_coa_svm, average=None)\n",
        "jaccard_test_b_coa_svm = jaccard_score(y_test_b_coa_svm, y_pred_test_b_coa_svm, average='weighted')\n",
        "confusion_test_b_coa_svm = confusion_matrix(y_test_b_coa_svm, y_pred_test_b_coa_svm)\n",
        "\n",
        "# Print evaluation metrics for the testing set\n",
        "print(\"Accuracy: \", accuracy_test_b_coa_svm)\n",
        "print(\"Precision: \", precision_test_b_coa_svm)\n",
        "print(\"Precision per class:\" , precision_x_class_test_b_coa_svm )\n",
        "print(\"Recall: \", recall_test_b_coa_svm)\n",
        "print(\"Recall per class:\" , recall_x_class_test_b_coa_svm )\n",
        "print(\"F1 Score: \", f1_score_test_b_coa_svm)\n",
        "# Print F1-score for each class\n",
        "for clase, f1 in enumerate(f1_score_x_class_test_b_coa_svm):\n",
        "    print(f\"F1-score for the class {clase}: {f1}\")\n",
        "print(\"jaccard:\" , jaccard_test_b_coa_svm )\n",
        "print(\"Confusion Matrix: \")\n",
        "print(confusion_test_b_coa_svm)"
      ],
      "metadata": {
        "colab": {
          "base_uri": "https://localhost:8080/"
        },
        "outputId": "1e508e11-6018-4454-d6b7-63b769c127a7",
        "id": "AVhUwBmKFcug"
      },
      "execution_count": null,
      "outputs": [
        {
          "output_type": "stream",
          "name": "stdout",
          "text": [
            "Accuracy:  0.9624060150375939\n",
            "Precision:  0.9631150149807105\n",
            "Precision per class: [0.96737767 0.93069307 1.        ]\n",
            "Recall:  0.9624060150375939\n",
            "Recall per class: [0.9935567  0.93532338 0.74712644]\n",
            "F1 Score:  0.9611356418518322\n",
            "F1-score for the class 0: 0.9802924348378894\n",
            "F1-score for the class 1: 0.9330024813895781\n",
            "F1-score for the class 2: 0.8552631578947367\n",
            "jaccard: 0.927408954009451\n",
            "Confusion Matrix: \n",
            "[[771   5   0]\n",
            " [ 13 188   0]\n",
            " [ 13   9  65]]\n"
          ]
        }
      ]
    },
    {
      "cell_type": "markdown",
      "source": [
        " Evaluate the model on the validation set"
      ],
      "metadata": {
        "id": "TBBriRbsFcui"
      }
    },
    {
      "cell_type": "code",
      "source": [
        "# Transform the validation data using the scaler trained on the validation data\n",
        "X_val_b_coa_svm = scaler_b_coa_svm.transform(X_val_coastal)\n",
        "\n",
        "# Make predictions on the validation set using the trained svm model\n",
        "y_pred_val_b_coa_svm = best_model_b_coa_svm.predict(X_val_b_coa_svm)\n",
        "\n",
        "# Evaluation metrics on the validation set\n",
        "accuracy_val_b_coa_svm = accuracy_score(y_val_coastal, y_pred_val_b_coa_svm)\n",
        "precision_val_b_coa_svm = precision_score(y_val_coastal, y_pred_val_b_coa_svm, average='weighted')\n",
        "# Calculate precision for each class\n",
        "precision_x_class_val_b_coa_svm = precision_score(y_val_coastal, y_pred_val_b_coa_svm, average=None)\n",
        "recall_val_b_coa_svm = recall_score(y_val_coastal, y_pred_val_b_coa_svm, average='weighted')\n",
        "# Calculate recall for each class\n",
        "recall_x_class_val_b_coa_svm = recall_score(y_val_coastal, y_pred_val_b_coa_svm, average=None)\n",
        "f1_score_val_b_coa_svm = f1_score(y_val_coastal, y_pred_val_b_coa_svm, average='weighted')\n",
        "# Calculate f1 score for each class\n",
        "f1_score_x_class_val_b_coa_svm = f1_score(y_val_coastal, y_pred_val_b_coa_svm, average=None)\n",
        "jaccard_val_b_coa_svm = jaccard_score(y_val_coastal, y_pred_val_b_coa_svm, average='weighted')\n",
        "confusion_val_b_coa_svm = confusion_matrix(y_val_coastal, y_pred_val_b_coa_svm)\n",
        "\n",
        "# Print evaluation metrics for the validation set\n",
        "print(\"Accuracy: \", accuracy_val_b_coa_svm)\n",
        "print(\"Precision: \", precision_val_b_coa_svm)\n",
        "print(\"Precision per class:\" , precision_x_class_val_b_coa_svm )\n",
        "print(\"Recall: \", recall_val_b_coa_svm)\n",
        "print(\"Recall per class:\" , recall_x_class_val_b_coa_svm )\n",
        "print(\"F1 Score: \", f1_score_val_b_coa_svm)\n",
        "# Print F1-score for each class\n",
        "for clase, f1 in enumerate(f1_score_x_class_val_b_coa_svm):\n",
        "    print(f\"F1-score for the class {clase}: {f1}\")\n",
        "print(\"jaccard:\" , jaccard_val_b_coa_svm )\n",
        "print(\"Confusion Matrix: \")\n",
        "print(confusion_val_b_coa_svm)"
      ],
      "metadata": {
        "colab": {
          "base_uri": "https://localhost:8080/"
        },
        "outputId": "39e9cf4f-ece5-40b1-db80-85d7ff5351ad",
        "id": "RdR1g9tZFcuj"
      },
      "execution_count": null,
      "outputs": [
        {
          "output_type": "stream",
          "name": "stdout",
          "text": [
            "Accuracy:  1.0\n",
            "Precision:  1.0\n",
            "Precision per class: [1. 1.]\n",
            "Recall:  1.0\n",
            "Recall per class: [1. 1.]\n",
            "F1 Score:  1.0\n",
            "F1-score for the class 0: 1.0\n",
            "F1-score for the class 1: 1.0\n",
            "jaccard: 1.0\n",
            "Confusion Matrix: \n",
            "[[16  0]\n",
            " [ 0  5]]\n"
          ]
        }
      ]
    },
    {
      "cell_type": "code",
      "source": [
        "# Save the trained SVM model to a file\n",
        "with open('best_model_b_coa_svm.pkl', 'wb') as model_file:\n",
        "    pickle.dump(best_model_b_coa_svm, model_file)\n",
        "\n",
        "# Save the scaler used for preprocessing to a file\n",
        "with open('scaler_b_coa_svm.pkl', 'wb') as scaler_file:\n",
        "    pickle.dump(scaler_b_coa_svm, scaler_file)"
      ],
      "metadata": {
        "id": "eu1JkDY-Fcul"
      },
      "execution_count": null,
      "outputs": []
    },
    {
      "cell_type": "markdown",
      "source": [
        "###KNN"
      ],
      "metadata": {
        "id": "HptA9lF3Fcum"
      }
    },
    {
      "cell_type": "markdown",
      "source": [
        "Split data into training and test set"
      ],
      "metadata": {
        "id": "eOOY9_trFcun"
      }
    },
    {
      "cell_type": "code",
      "source": [
        "X_train_b_coa_knn, X_test_b_coa_knn, y_train_b_coa_knn, y_test_b_coa_knn = train_test_split(X_train_coastal, y_train_coastal, test_size=0.2, random_state=42)"
      ],
      "metadata": {
        "id": "QJ5meIoRFcup"
      },
      "execution_count": null,
      "outputs": []
    },
    {
      "cell_type": "markdown",
      "source": [
        "Feature Standardization for coastal Dataset using StandardScaler"
      ],
      "metadata": {
        "id": "6QU5322JFcuq"
      }
    },
    {
      "cell_type": "code",
      "source": [
        "# Create a StandardScaler object\n",
        "scaler_b_coa_knn = StandardScaler()\n",
        "\n",
        "# Fit and transform the training data to standardize features\n",
        "X_train_b_coa_knn = scaler_b_coa_knn.fit_transform(X_train_b_coa_knn)\n",
        "\n",
        "# Transform the test data using the same scaler to maintain consistency in feature scaling\n",
        "X_test_b_coa_knn = scaler_b_coa_knn.transform(X_test_b_coa_knn)"
      ],
      "metadata": {
        "id": "vW0ZawOlFcur"
      },
      "execution_count": null,
      "outputs": []
    },
    {
      "cell_type": "markdown",
      "source": [
        "Hyperparameter Grid for knn Model"
      ],
      "metadata": {
        "id": "V2FktsKZFcut"
      }
    },
    {
      "cell_type": "code",
      "source": [
        "# Define a dictionary of hyperparameters for tuning a KNN model\n",
        "parameters = {\n",
        "    'n_neighbors': [3, 5, 7, 9],  # Número de vecinos\n",
        "    'weights': ['uniform', 'distance'],  # Tipo de ponderación\n",
        "    'p': [1, 2]  # Parámetro para la distancia (1 para la distancia de Manhattan, 2 para la Euclidiana)\n",
        "}"
      ],
      "metadata": {
        "id": "scUyInpwFcuv"
      },
      "execution_count": null,
      "outputs": []
    },
    {
      "cell_type": "markdown",
      "source": [
        "Create a Decision knn model"
      ],
      "metadata": {
        "id": "DAEbfX40Fcuw"
      }
    },
    {
      "cell_type": "code",
      "source": [
        "model_b_coa_knn = KNeighborsClassifier()"
      ],
      "metadata": {
        "id": "pBOjVLMCFcux"
      },
      "execution_count": null,
      "outputs": []
    },
    {
      "cell_type": "markdown",
      "source": [
        "Hyperparameter Tuning with Cross-Validation"
      ],
      "metadata": {
        "id": "TGY7GZDuFcuy"
      }
    },
    {
      "cell_type": "code",
      "source": [
        "# Inform the user to wait during the hyperparameter search\n",
        "print(\"Wait a moment...\")\n",
        "\n",
        "# Create a GridSearchCV object for hyperparameter tuning\n",
        "grid_search_b_coa_knn = GridSearchCV(model_b_coa_knn, parameters, cv=5, scoring='accuracy')\n",
        "\n",
        "# Fit the GridSearchCV object to find the best hyperparameters\n",
        "grid_search_b_coa_knn.fit(X_train_b_coa_knn, y_train_b_coa_knn)"
      ],
      "metadata": {
        "colab": {
          "base_uri": "https://localhost:8080/",
          "height": 134
        },
        "outputId": "d781e19a-6693-4309-9883-48ab5c3b7821",
        "id": "-ZhLI6u8Fcu0"
      },
      "execution_count": null,
      "outputs": [
        {
          "output_type": "stream",
          "name": "stdout",
          "text": [
            "Wait a moment...\n"
          ]
        },
        {
          "output_type": "execute_result",
          "data": {
            "text/plain": [
              "GridSearchCV(cv=5, estimator=KNeighborsClassifier(),\n",
              "             param_grid={'n_neighbors': [3, 5, 7, 9], 'p': [1, 2],\n",
              "                         'weights': ['uniform', 'distance']},\n",
              "             scoring='accuracy')"
            ],
            "text/html": [
              "<style>#sk-container-id-8 {color: black;background-color: white;}#sk-container-id-8 pre{padding: 0;}#sk-container-id-8 div.sk-toggleable {background-color: white;}#sk-container-id-8 label.sk-toggleable__label {cursor: pointer;display: block;width: 100%;margin-bottom: 0;padding: 0.3em;box-sizing: border-box;text-align: center;}#sk-container-id-8 label.sk-toggleable__label-arrow:before {content: \"▸\";float: left;margin-right: 0.25em;color: #696969;}#sk-container-id-8 label.sk-toggleable__label-arrow:hover:before {color: black;}#sk-container-id-8 div.sk-estimator:hover label.sk-toggleable__label-arrow:before {color: black;}#sk-container-id-8 div.sk-toggleable__content {max-height: 0;max-width: 0;overflow: hidden;text-align: left;background-color: #f0f8ff;}#sk-container-id-8 div.sk-toggleable__content pre {margin: 0.2em;color: black;border-radius: 0.25em;background-color: #f0f8ff;}#sk-container-id-8 input.sk-toggleable__control:checked~div.sk-toggleable__content {max-height: 200px;max-width: 100%;overflow: auto;}#sk-container-id-8 input.sk-toggleable__control:checked~label.sk-toggleable__label-arrow:before {content: \"▾\";}#sk-container-id-8 div.sk-estimator input.sk-toggleable__control:checked~label.sk-toggleable__label {background-color: #d4ebff;}#sk-container-id-8 div.sk-label input.sk-toggleable__control:checked~label.sk-toggleable__label {background-color: #d4ebff;}#sk-container-id-8 input.sk-hidden--visually {border: 0;clip: rect(1px 1px 1px 1px);clip: rect(1px, 1px, 1px, 1px);height: 1px;margin: -1px;overflow: hidden;padding: 0;position: absolute;width: 1px;}#sk-container-id-8 div.sk-estimator {font-family: monospace;background-color: #f0f8ff;border: 1px dotted black;border-radius: 0.25em;box-sizing: border-box;margin-bottom: 0.5em;}#sk-container-id-8 div.sk-estimator:hover {background-color: #d4ebff;}#sk-container-id-8 div.sk-parallel-item::after {content: \"\";width: 100%;border-bottom: 1px solid gray;flex-grow: 1;}#sk-container-id-8 div.sk-label:hover label.sk-toggleable__label {background-color: #d4ebff;}#sk-container-id-8 div.sk-serial::before {content: \"\";position: absolute;border-left: 1px solid gray;box-sizing: border-box;top: 0;bottom: 0;left: 50%;z-index: 0;}#sk-container-id-8 div.sk-serial {display: flex;flex-direction: column;align-items: center;background-color: white;padding-right: 0.2em;padding-left: 0.2em;position: relative;}#sk-container-id-8 div.sk-item {position: relative;z-index: 1;}#sk-container-id-8 div.sk-parallel {display: flex;align-items: stretch;justify-content: center;background-color: white;position: relative;}#sk-container-id-8 div.sk-item::before, #sk-container-id-8 div.sk-parallel-item::before {content: \"\";position: absolute;border-left: 1px solid gray;box-sizing: border-box;top: 0;bottom: 0;left: 50%;z-index: -1;}#sk-container-id-8 div.sk-parallel-item {display: flex;flex-direction: column;z-index: 1;position: relative;background-color: white;}#sk-container-id-8 div.sk-parallel-item:first-child::after {align-self: flex-end;width: 50%;}#sk-container-id-8 div.sk-parallel-item:last-child::after {align-self: flex-start;width: 50%;}#sk-container-id-8 div.sk-parallel-item:only-child::after {width: 0;}#sk-container-id-8 div.sk-dashed-wrapped {border: 1px dashed gray;margin: 0 0.4em 0.5em 0.4em;box-sizing: border-box;padding-bottom: 0.4em;background-color: white;}#sk-container-id-8 div.sk-label label {font-family: monospace;font-weight: bold;display: inline-block;line-height: 1.2em;}#sk-container-id-8 div.sk-label-container {text-align: center;}#sk-container-id-8 div.sk-container {/* jupyter's `normalize.less` sets `[hidden] { display: none; }` but bootstrap.min.css set `[hidden] { display: none !important; }` so we also need the `!important` here to be able to override the default hidden behavior on the sphinx rendered scikit-learn.org. See: https://github.com/scikit-learn/scikit-learn/issues/21755 */display: inline-block !important;position: relative;}#sk-container-id-8 div.sk-text-repr-fallback {display: none;}</style><div id=\"sk-container-id-8\" class=\"sk-top-container\"><div class=\"sk-text-repr-fallback\"><pre>GridSearchCV(cv=5, estimator=KNeighborsClassifier(),\n",
              "             param_grid={&#x27;n_neighbors&#x27;: [3, 5, 7, 9], &#x27;p&#x27;: [1, 2],\n",
              "                         &#x27;weights&#x27;: [&#x27;uniform&#x27;, &#x27;distance&#x27;]},\n",
              "             scoring=&#x27;accuracy&#x27;)</pre><b>In a Jupyter environment, please rerun this cell to show the HTML representation or trust the notebook. <br />On GitHub, the HTML representation is unable to render, please try loading this page with nbviewer.org.</b></div><div class=\"sk-container\" hidden><div class=\"sk-item sk-dashed-wrapped\"><div class=\"sk-label-container\"><div class=\"sk-label sk-toggleable\"><input class=\"sk-toggleable__control sk-hidden--visually\" id=\"sk-estimator-id-22\" type=\"checkbox\" ><label for=\"sk-estimator-id-22\" class=\"sk-toggleable__label sk-toggleable__label-arrow\">GridSearchCV</label><div class=\"sk-toggleable__content\"><pre>GridSearchCV(cv=5, estimator=KNeighborsClassifier(),\n",
              "             param_grid={&#x27;n_neighbors&#x27;: [3, 5, 7, 9], &#x27;p&#x27;: [1, 2],\n",
              "                         &#x27;weights&#x27;: [&#x27;uniform&#x27;, &#x27;distance&#x27;]},\n",
              "             scoring=&#x27;accuracy&#x27;)</pre></div></div></div><div class=\"sk-parallel\"><div class=\"sk-parallel-item\"><div class=\"sk-item\"><div class=\"sk-label-container\"><div class=\"sk-label sk-toggleable\"><input class=\"sk-toggleable__control sk-hidden--visually\" id=\"sk-estimator-id-23\" type=\"checkbox\" ><label for=\"sk-estimator-id-23\" class=\"sk-toggleable__label sk-toggleable__label-arrow\">estimator: KNeighborsClassifier</label><div class=\"sk-toggleable__content\"><pre>KNeighborsClassifier()</pre></div></div></div><div class=\"sk-serial\"><div class=\"sk-item\"><div class=\"sk-estimator sk-toggleable\"><input class=\"sk-toggleable__control sk-hidden--visually\" id=\"sk-estimator-id-24\" type=\"checkbox\" ><label for=\"sk-estimator-id-24\" class=\"sk-toggleable__label sk-toggleable__label-arrow\">KNeighborsClassifier</label><div class=\"sk-toggleable__content\"><pre>KNeighborsClassifier()</pre></div></div></div></div></div></div></div></div></div></div>"
            ]
          },
          "metadata": {},
          "execution_count": 134
        }
      ]
    },
    {
      "cell_type": "markdown",
      "source": [
        "Best Estimator and Hyperparameters"
      ],
      "metadata": {
        "id": "C4sCe2HEFcu3"
      }
    },
    {
      "cell_type": "code",
      "source": [
        "# Print the best estimator found during hyperparameter search\n",
        "print(\"Best estimator found:\")\n",
        "best_model_b_coa_knn = grid_search_b_coa_knn.best_estimator_\n",
        "print(best_model_b_coa_knn)\n",
        "\n",
        "# Print the best hyperparameters found during hyperparameter search\n",
        "print(\"\\nBest hyperparameters found:\")\n",
        "best_params_b_coa_knn = grid_search_b_coa_knn.best_params_\n",
        "print(best_params_b_coa_knn)\n",
        "\n",
        "# Print the score of the best model in coastal_no_balancing cross-validation\n",
        "print(\"\\nScore of the best model in coastal_no_balancing cross-validation:\")\n",
        "best_score_b_coa_knn = grid_search_b_coa_knn.best_score_\n",
        "print(best_score_b_coa_knn)"
      ],
      "metadata": {
        "colab": {
          "base_uri": "https://localhost:8080/"
        },
        "outputId": "7ccc1fee-cb35-4d05-8573-6a9e1075f9e0",
        "id": "hsIZwUl9Fcu6"
      },
      "execution_count": null,
      "outputs": [
        {
          "output_type": "stream",
          "name": "stdout",
          "text": [
            "Best estimator found:\n",
            "KNeighborsClassifier(n_neighbors=3, weights='distance')\n",
            "\n",
            "Best hyperparameters found:\n",
            "{'n_neighbors': 3, 'p': 2, 'weights': 'distance'}\n",
            "\n",
            "Score of the best model in coastal_no_balancing cross-validation:\n",
            "0.9381903642773206\n"
          ]
        }
      ]
    },
    {
      "cell_type": "markdown",
      "source": [
        " Evaluate the model on the training set"
      ],
      "metadata": {
        "id": "8F0I1ZXkFcvD"
      }
    },
    {
      "cell_type": "code",
      "source": [
        "# Make predictions on the training set\n",
        "y_pred_train_b_coa_knn = best_model_b_coa_knn.predict(X_train_b_coa_knn)\n",
        "\n",
        "# Evaluation metrics on the training set\n",
        "accuracy_train_b_coa_knn = accuracy_score(y_train_b_coa_knn, y_pred_train_b_coa_knn)\n",
        "precision_train_b_coa_knn = precision_score(y_train_b_coa_knn, y_pred_train_b_coa_knn, average='weighted')\n",
        "# Calculate precision for each class\n",
        "precision_x_class_train_b_coa_knn = precision_score(y_train_b_coa_knn, y_pred_train_b_coa_knn, average=None)\n",
        "recall_train_b_coa_knn = recall_score(y_train_b_coa_knn, y_pred_train_b_coa_knn, average='weighted')\n",
        "# Calculate recall for each class\n",
        "recall_x_class_train_b_coa_knn = recall_score(y_train_b_coa_knn, y_pred_train_b_coa_knn, average=None)\n",
        "f1_score_train_b_coa_knn = f1_score(y_train_b_coa_knn, y_pred_train_b_coa_knn, average='weighted')\n",
        "# Calculate f1 score for each class\n",
        "f1_score_x_class_train_b_coa_knn = f1_score(y_train_b_coa_knn, y_pred_train_b_coa_knn, average=None)\n",
        "jaccard_train_b_coa_knn = jaccard_score(y_train_b_coa_knn, y_pred_train_b_coa_knn, average='weighted')\n",
        "confusion_train_b_coa_knn = confusion_matrix(y_train_b_coa_knn, y_pred_train_b_coa_knn)\n",
        "\n",
        "# Print evaluation metrics for the training set\n",
        "print(\"Accuracy: \", accuracy_train_b_coa_knn)\n",
        "print(\"Precision: \", precision_train_b_coa_knn)\n",
        "print(\"Precision per class:\" , precision_x_class_train_b_coa_knn )\n",
        "print(\"Recall: \", recall_train_b_coa_knn)\n",
        "print(\"Recall per class:\" , recall_x_class_train_b_coa_knn )\n",
        "print(\"F1 Score: \", f1_score_train_b_coa_knn)\n",
        "# Print F1-score for each class\n",
        "for clase, f1 in enumerate(f1_score_x_class_train_b_coa_knn):\n",
        "    print(f\"F1-score for the class {clase}: {f1}\")\n",
        "print(\"jaccard:\" , jaccard_train_b_coa_knn )\n",
        "print(\"Confusion Matrix: \")\n",
        "print(confusion_train_b_coa_knn)"
      ],
      "metadata": {
        "colab": {
          "base_uri": "https://localhost:8080/"
        },
        "outputId": "8ec69d98-bede-422b-fa8c-eb351742fca5",
        "id": "eoeZ-Xn9FcvF"
      },
      "execution_count": null,
      "outputs": [
        {
          "output_type": "stream",
          "name": "stdout",
          "text": [
            "Accuracy:  1.0\n",
            "Precision:  1.0\n",
            "Precision per class: [1. 1. 1.]\n",
            "Recall:  1.0\n",
            "Recall per class: [1. 1. 1.]\n",
            "F1 Score:  1.0\n",
            "F1-score for the class 0: 1.0\n",
            "F1-score for the class 1: 1.0\n",
            "F1-score for the class 2: 1.0\n",
            "jaccard: 1.0\n",
            "Confusion Matrix: \n",
            "[[3106    0    0]\n",
            " [   0  802    0]\n",
            " [   0    0  347]]\n"
          ]
        }
      ]
    },
    {
      "cell_type": "markdown",
      "source": [
        " Evaluate the model on the test set"
      ],
      "metadata": {
        "id": "bq1pjRt2FcvJ"
      }
    },
    {
      "cell_type": "code",
      "source": [
        "# Make predictions on the testing set\n",
        "y_pred_test_b_coa_knn = best_model_b_coa_knn.predict(X_test_b_coa_knn)\n",
        "\n",
        "# Evaluation metrics on the testing set\n",
        "accuracy_test_b_coa_knn = accuracy_score(y_test_b_coa_knn, y_pred_test_b_coa_knn)\n",
        "precision_test_b_coa_knn = precision_score(y_test_b_coa_knn, y_pred_test_b_coa_knn, average='weighted')\n",
        "# Calculate precision for each class\n",
        "precision_x_class_test_b_coa_knn = precision_score(y_test_b_coa_knn, y_pred_test_b_coa_knn, average=None)\n",
        "recall_test_b_coa_knn = recall_score(y_test_b_coa_knn, y_pred_test_b_coa_knn, average='weighted')\n",
        "# Calculate recall for each class\n",
        "recall_x_class_test_b_coa_knn = recall_score(y_test_b_coa_knn, y_pred_test_b_coa_knn, average=None)\n",
        "f1_score_test_b_coa_knn = f1_score(y_test_b_coa_knn, y_pred_test_b_coa_knn, average='weighted')\n",
        "# Calculate f1 score for each class\n",
        "f1_score_x_class_test_b_coa_knn = f1_score(y_test_b_coa_knn, y_pred_test_b_coa_knn, average=None)\n",
        "jaccard_test_b_coa_knn = jaccard_score(y_test_b_coa_knn, y_pred_test_b_coa_knn, average='weighted')\n",
        "confusion_test_b_coa_knn = confusion_matrix(y_test_b_coa_knn, y_pred_test_b_coa_knn)\n",
        "\n",
        "# Print evaluation metrics for the testing set\n",
        "print(\"Accuracy: \", accuracy_test_b_coa_knn)\n",
        "print(\"Precision: \", precision_test_b_coa_knn)\n",
        "print(\"Precision per class:\" , precision_x_class_test_b_coa_knn )\n",
        "print(\"Recall: \", recall_test_b_coa_knn)\n",
        "print(\"Recall per class:\" , recall_x_class_test_b_coa_knn )\n",
        "print(\"F1 Score: \", f1_score_test_b_coa_knn)\n",
        "# Print F1-score for each class\n",
        "for clase, f1 in enumerate(f1_score_x_class_test_b_coa_knn):\n",
        "    print(f\"F1-score for the class {clase}: {f1}\")\n",
        "print(\"jaccard:\" , jaccard_test_b_coa_knn )\n",
        "print(\"Confusion Matrix: \")\n",
        "print(confusion_test_b_coa_knn)"
      ],
      "metadata": {
        "colab": {
          "base_uri": "https://localhost:8080/"
        },
        "outputId": "a70ff754-3063-403c-9c9b-bda9060ffd71",
        "id": "v0xlKLbvFcvK"
      },
      "execution_count": null,
      "outputs": [
        {
          "output_type": "stream",
          "name": "stdout",
          "text": [
            "Accuracy:  0.9351503759398496\n",
            "Precision:  0.9370840363768624\n",
            "Precision per class: [0.95380774 0.85377358 0.98039216]\n",
            "Recall:  0.9351503759398496\n",
            "Recall per class: [0.98453608 0.90049751 0.57471264]\n",
            "F1 Score:  0.9314953484063278\n",
            "F1-score for the class 0: 0.9689283449587824\n",
            "F1-score for the class 1: 0.8765133171912833\n",
            "F1-score for the class 2: 0.7246376811594203\n",
            "jaccard: 0.8792072233593562\n",
            "Confusion Matrix: \n",
            "[[764  11   1]\n",
            " [ 20 181   0]\n",
            " [ 17  20  50]]\n"
          ]
        }
      ]
    },
    {
      "cell_type": "markdown",
      "source": [
        " Evaluate the model on the validation set"
      ],
      "metadata": {
        "id": "zpehSE4HFcvM"
      }
    },
    {
      "cell_type": "code",
      "source": [
        "# Transform the validation data using the scaler trained on the validation data\n",
        "X_val_b_coa_knn = scaler_b_coa_knn.transform(X_val_coastal)\n",
        "\n",
        "# Make predictions on the validation set using the trained knn model\n",
        "y_pred_val_b_coa_knn = best_model_b_coa_knn.predict(X_val_b_coa_knn)\n",
        "\n",
        "# Evaluation metrics on the validation set\n",
        "accuracy_val_b_coa_knn = accuracy_score(y_val_coastal, y_pred_val_b_coa_knn)\n",
        "precision_val_b_coa_knn = precision_score(y_val_coastal, y_pred_val_b_coa_knn, average='weighted')\n",
        "# Calculate precision for each class\n",
        "precision_x_class_val_b_coa_knn = precision_score(y_val_coastal, y_pred_val_b_coa_knn, average=None)\n",
        "recall_val_b_coa_knn = recall_score(y_val_coastal, y_pred_val_b_coa_knn, average='weighted')\n",
        "# Calculate recall for each class\n",
        "recall_x_class_val_b_coa_knn = recall_score(y_val_coastal, y_pred_val_b_coa_knn, average=None)\n",
        "f1_score_val_b_coa_knn = f1_score(y_val_coastal, y_pred_val_b_coa_knn, average='weighted')\n",
        "# Calculate f1 score for each class\n",
        "f1_score_x_class_val_b_coa_knn = f1_score(y_val_coastal, y_pred_val_b_coa_knn, average=None)\n",
        "jaccard_val_b_coa_knn = jaccard_score(y_val_coastal, y_pred_val_b_coa_knn, average='weighted')\n",
        "confusion_val_b_coa_knn = confusion_matrix(y_val_coastal, y_pred_val_b_coa_knn)\n",
        "\n",
        "# Print evaluation metrics for the validation set\n",
        "print(\"Accuracy: \", accuracy_val_b_coa_knn)\n",
        "print(\"Precision: \", precision_val_b_coa_knn)\n",
        "print(\"Precision per class:\" , precision_x_class_val_b_coa_knn)\n",
        "print(\"Recall: \", recall_val_b_coa_knn)\n",
        "print(\"Recall per class:\" , recall_x_class_val_b_coa_knn)\n",
        "print(\"F1 Score: \", f1_score_val_b_coa_knn)\n",
        "# Print F1-score for each class\n",
        "for clase, f1 in enumerate(f1_score_x_class_val_b_coa_knn):\n",
        "    print(f\"F1-score for the class {clase}: {f1}\")\n",
        "print(\"jaccard:\" , jaccard_val_b_coa_knn)\n",
        "print(\"Confusion Matrix: \")\n",
        "print(confusion_val_b_coa_knn)"
      ],
      "metadata": {
        "colab": {
          "base_uri": "https://localhost:8080/"
        },
        "outputId": "2cd5ee15-22a0-4713-97c1-fff251bcf483",
        "id": "q7JyaRGoFcvO"
      },
      "execution_count": null,
      "outputs": [
        {
          "output_type": "stream",
          "name": "stdout",
          "text": [
            "Accuracy:  0.9047619047619048\n",
            "Precision:  0.9551820728291316\n",
            "Precision per class: [0.94117647 1.         0.        ]\n",
            "Recall:  0.9047619047619048\n",
            "Recall per class: [1.  0.6 0. ]\n",
            "F1 Score:  0.9173881673881674\n",
            "F1-score for the class 0: 0.9696969696969697\n",
            "F1-score for the class 1: 0.7499999999999999\n",
            "F1-score for the class 2: 0.0\n",
            "jaccard: 0.8599439775910364\n",
            "Confusion Matrix: \n",
            "[[16  0  0]\n",
            " [ 1  3  1]\n",
            " [ 0  0  0]]\n"
          ]
        },
        {
          "output_type": "stream",
          "name": "stderr",
          "text": [
            "/usr/local/lib/python3.10/dist-packages/sklearn/metrics/_classification.py:1344: UndefinedMetricWarning: Recall is ill-defined and being set to 0.0 in labels with no true samples. Use `zero_division` parameter to control this behavior.\n",
            "  _warn_prf(average, modifier, msg_start, len(result))\n",
            "/usr/local/lib/python3.10/dist-packages/sklearn/metrics/_classification.py:1344: UndefinedMetricWarning: Recall is ill-defined and being set to 0.0 in labels with no true samples. Use `zero_division` parameter to control this behavior.\n",
            "  _warn_prf(average, modifier, msg_start, len(result))\n"
          ]
        }
      ]
    },
    {
      "cell_type": "code",
      "source": [
        "# Save the trained XGBoost model to a file\n",
        "with open('best_model_b_coa_knn.pkl', 'wb') as model_file:\n",
        "    pickle.dump(best_model_b_coa_knn, model_file)\n",
        "\n",
        "# Save the scaler used for preprocessing to a file\n",
        "with open('scaler_b_coa_knn.pkl', 'wb') as scaler_file:\n",
        "    pickle.dump(scaler_b_coa_knn, scaler_file)"
      ],
      "metadata": {
        "id": "nPD4WoG3FcvQ"
      },
      "execution_count": null,
      "outputs": []
    },
    {
      "cell_type": "markdown",
      "source": [
        "##DT"
      ],
      "metadata": {
        "id": "4w4XGBZ_FcvS"
      }
    },
    {
      "cell_type": "markdown",
      "source": [
        "Split data into training and test set"
      ],
      "metadata": {
        "id": "b0gEVVDSFcvU"
      }
    },
    {
      "cell_type": "code",
      "source": [
        "X_train_b_coa_dt, X_test_b_coa_dt, y_train_b_coa_dt, y_test_b_coa_dt = train_test_split(X_train_coastal, y_train_coastal, test_size=0.2, random_state=42)"
      ],
      "metadata": {
        "id": "2un8XslRFcvW"
      },
      "execution_count": null,
      "outputs": []
    },
    {
      "cell_type": "markdown",
      "source": [
        "Feature Standardization for coastal Dataset using StandardScaler"
      ],
      "metadata": {
        "id": "dCBK6w5EFcvY"
      }
    },
    {
      "cell_type": "code",
      "source": [
        "# Create a StandardScaler object\n",
        "scaler_b_coa_dt = StandardScaler()\n",
        "\n",
        "# Fit and transform the training data to standardize features\n",
        "X_train_b_coa_dt = scaler_b_coa_dt.fit_transform(X_train_b_coa_dt)\n",
        "\n",
        "# Transform the test data using the same scaler to maintain consistency in feature scaling\n",
        "X_test_b_coa_dt = scaler_b_coa_dt.transform(X_test_b_coa_dt)"
      ],
      "metadata": {
        "id": "9qGwB04LFcvb"
      },
      "execution_count": null,
      "outputs": []
    },
    {
      "cell_type": "markdown",
      "source": [
        "Hyperparameter Grid for XGBoost Model"
      ],
      "metadata": {
        "id": "INzhr9fPFcvd"
      }
    },
    {
      "cell_type": "code",
      "source": [
        "# Define a dictionary of hyperparameters for tuning a DT model\n",
        "parameters = {\n",
        "    'criterion': ['gini', 'entropy'],  # Criterio para la división de nodos\n",
        "    'max_depth': [None, 10, 20, 30, 40, 50],  # Profundidad máxima del árbol\n",
        "    'min_samples_split': [2, 5, 10],  # Número mínimo de muestras para dividir un nodo\n",
        "    'min_samples_leaf': [1, 2, 4]  # Número mínimo de muestras requeridas en una hoja\n",
        "}"
      ],
      "metadata": {
        "id": "KPuXGIf6Fcve"
      },
      "execution_count": null,
      "outputs": []
    },
    {
      "cell_type": "markdown",
      "source": [
        "Create a Decision DT model"
      ],
      "metadata": {
        "id": "7ZBivAgPFcvg"
      }
    },
    {
      "cell_type": "code",
      "source": [
        "model_b_coa_dt = DecisionTreeClassifier()"
      ],
      "metadata": {
        "id": "Bq7E3PnLFcvh"
      },
      "execution_count": null,
      "outputs": []
    },
    {
      "cell_type": "markdown",
      "source": [
        "Hyperparameter Tuning with Cross-Validation"
      ],
      "metadata": {
        "id": "Zkkz0LOVFcvj"
      }
    },
    {
      "cell_type": "code",
      "source": [
        "# Inform the user to wait during the hyperparameter search\n",
        "print(\"Wait a moment...\")\n",
        "\n",
        "# Create a GridSearchCV object for hyperparameter tuning\n",
        "grid_search_b_coa_dt = GridSearchCV(model_b_coa_dt, parameters, cv=5, scoring='accuracy')\n",
        "\n",
        "# Fit the GridSearchCV object to find the best hyperparameters\n",
        "grid_search_b_coa_dt.fit(X_train_b_coa_dt, y_train_b_coa_dt)"
      ],
      "metadata": {
        "colab": {
          "base_uri": "https://localhost:8080/",
          "height": 134
        },
        "outputId": "c54622fd-bb00-4cb7-913c-7f73006f2fc7",
        "id": "2Z5s_SarFcvl"
      },
      "execution_count": null,
      "outputs": [
        {
          "output_type": "stream",
          "name": "stdout",
          "text": [
            "Wait a moment...\n"
          ]
        },
        {
          "output_type": "execute_result",
          "data": {
            "text/plain": [
              "GridSearchCV(cv=5, estimator=DecisionTreeClassifier(),\n",
              "             param_grid={'criterion': ['gini', 'entropy'],\n",
              "                         'max_depth': [None, 10, 20, 30, 40, 50],\n",
              "                         'min_samples_leaf': [1, 2, 4],\n",
              "                         'min_samples_split': [2, 5, 10]},\n",
              "             scoring='accuracy')"
            ],
            "text/html": [
              "<style>#sk-container-id-9 {color: black;background-color: white;}#sk-container-id-9 pre{padding: 0;}#sk-container-id-9 div.sk-toggleable {background-color: white;}#sk-container-id-9 label.sk-toggleable__label {cursor: pointer;display: block;width: 100%;margin-bottom: 0;padding: 0.3em;box-sizing: border-box;text-align: center;}#sk-container-id-9 label.sk-toggleable__label-arrow:before {content: \"▸\";float: left;margin-right: 0.25em;color: #696969;}#sk-container-id-9 label.sk-toggleable__label-arrow:hover:before {color: black;}#sk-container-id-9 div.sk-estimator:hover label.sk-toggleable__label-arrow:before {color: black;}#sk-container-id-9 div.sk-toggleable__content {max-height: 0;max-width: 0;overflow: hidden;text-align: left;background-color: #f0f8ff;}#sk-container-id-9 div.sk-toggleable__content pre {margin: 0.2em;color: black;border-radius: 0.25em;background-color: #f0f8ff;}#sk-container-id-9 input.sk-toggleable__control:checked~div.sk-toggleable__content {max-height: 200px;max-width: 100%;overflow: auto;}#sk-container-id-9 input.sk-toggleable__control:checked~label.sk-toggleable__label-arrow:before {content: \"▾\";}#sk-container-id-9 div.sk-estimator input.sk-toggleable__control:checked~label.sk-toggleable__label {background-color: #d4ebff;}#sk-container-id-9 div.sk-label input.sk-toggleable__control:checked~label.sk-toggleable__label {background-color: #d4ebff;}#sk-container-id-9 input.sk-hidden--visually {border: 0;clip: rect(1px 1px 1px 1px);clip: rect(1px, 1px, 1px, 1px);height: 1px;margin: -1px;overflow: hidden;padding: 0;position: absolute;width: 1px;}#sk-container-id-9 div.sk-estimator {font-family: monospace;background-color: #f0f8ff;border: 1px dotted black;border-radius: 0.25em;box-sizing: border-box;margin-bottom: 0.5em;}#sk-container-id-9 div.sk-estimator:hover {background-color: #d4ebff;}#sk-container-id-9 div.sk-parallel-item::after {content: \"\";width: 100%;border-bottom: 1px solid gray;flex-grow: 1;}#sk-container-id-9 div.sk-label:hover label.sk-toggleable__label {background-color: #d4ebff;}#sk-container-id-9 div.sk-serial::before {content: \"\";position: absolute;border-left: 1px solid gray;box-sizing: border-box;top: 0;bottom: 0;left: 50%;z-index: 0;}#sk-container-id-9 div.sk-serial {display: flex;flex-direction: column;align-items: center;background-color: white;padding-right: 0.2em;padding-left: 0.2em;position: relative;}#sk-container-id-9 div.sk-item {position: relative;z-index: 1;}#sk-container-id-9 div.sk-parallel {display: flex;align-items: stretch;justify-content: center;background-color: white;position: relative;}#sk-container-id-9 div.sk-item::before, #sk-container-id-9 div.sk-parallel-item::before {content: \"\";position: absolute;border-left: 1px solid gray;box-sizing: border-box;top: 0;bottom: 0;left: 50%;z-index: -1;}#sk-container-id-9 div.sk-parallel-item {display: flex;flex-direction: column;z-index: 1;position: relative;background-color: white;}#sk-container-id-9 div.sk-parallel-item:first-child::after {align-self: flex-end;width: 50%;}#sk-container-id-9 div.sk-parallel-item:last-child::after {align-self: flex-start;width: 50%;}#sk-container-id-9 div.sk-parallel-item:only-child::after {width: 0;}#sk-container-id-9 div.sk-dashed-wrapped {border: 1px dashed gray;margin: 0 0.4em 0.5em 0.4em;box-sizing: border-box;padding-bottom: 0.4em;background-color: white;}#sk-container-id-9 div.sk-label label {font-family: monospace;font-weight: bold;display: inline-block;line-height: 1.2em;}#sk-container-id-9 div.sk-label-container {text-align: center;}#sk-container-id-9 div.sk-container {/* jupyter's `normalize.less` sets `[hidden] { display: none; }` but bootstrap.min.css set `[hidden] { display: none !important; }` so we also need the `!important` here to be able to override the default hidden behavior on the sphinx rendered scikit-learn.org. See: https://github.com/scikit-learn/scikit-learn/issues/21755 */display: inline-block !important;position: relative;}#sk-container-id-9 div.sk-text-repr-fallback {display: none;}</style><div id=\"sk-container-id-9\" class=\"sk-top-container\"><div class=\"sk-text-repr-fallback\"><pre>GridSearchCV(cv=5, estimator=DecisionTreeClassifier(),\n",
              "             param_grid={&#x27;criterion&#x27;: [&#x27;gini&#x27;, &#x27;entropy&#x27;],\n",
              "                         &#x27;max_depth&#x27;: [None, 10, 20, 30, 40, 50],\n",
              "                         &#x27;min_samples_leaf&#x27;: [1, 2, 4],\n",
              "                         &#x27;min_samples_split&#x27;: [2, 5, 10]},\n",
              "             scoring=&#x27;accuracy&#x27;)</pre><b>In a Jupyter environment, please rerun this cell to show the HTML representation or trust the notebook. <br />On GitHub, the HTML representation is unable to render, please try loading this page with nbviewer.org.</b></div><div class=\"sk-container\" hidden><div class=\"sk-item sk-dashed-wrapped\"><div class=\"sk-label-container\"><div class=\"sk-label sk-toggleable\"><input class=\"sk-toggleable__control sk-hidden--visually\" id=\"sk-estimator-id-25\" type=\"checkbox\" ><label for=\"sk-estimator-id-25\" class=\"sk-toggleable__label sk-toggleable__label-arrow\">GridSearchCV</label><div class=\"sk-toggleable__content\"><pre>GridSearchCV(cv=5, estimator=DecisionTreeClassifier(),\n",
              "             param_grid={&#x27;criterion&#x27;: [&#x27;gini&#x27;, &#x27;entropy&#x27;],\n",
              "                         &#x27;max_depth&#x27;: [None, 10, 20, 30, 40, 50],\n",
              "                         &#x27;min_samples_leaf&#x27;: [1, 2, 4],\n",
              "                         &#x27;min_samples_split&#x27;: [2, 5, 10]},\n",
              "             scoring=&#x27;accuracy&#x27;)</pre></div></div></div><div class=\"sk-parallel\"><div class=\"sk-parallel-item\"><div class=\"sk-item\"><div class=\"sk-label-container\"><div class=\"sk-label sk-toggleable\"><input class=\"sk-toggleable__control sk-hidden--visually\" id=\"sk-estimator-id-26\" type=\"checkbox\" ><label for=\"sk-estimator-id-26\" class=\"sk-toggleable__label sk-toggleable__label-arrow\">estimator: DecisionTreeClassifier</label><div class=\"sk-toggleable__content\"><pre>DecisionTreeClassifier()</pre></div></div></div><div class=\"sk-serial\"><div class=\"sk-item\"><div class=\"sk-estimator sk-toggleable\"><input class=\"sk-toggleable__control sk-hidden--visually\" id=\"sk-estimator-id-27\" type=\"checkbox\" ><label for=\"sk-estimator-id-27\" class=\"sk-toggleable__label sk-toggleable__label-arrow\">DecisionTreeClassifier</label><div class=\"sk-toggleable__content\"><pre>DecisionTreeClassifier()</pre></div></div></div></div></div></div></div></div></div></div>"
            ]
          },
          "metadata": {},
          "execution_count": 143
        }
      ]
    },
    {
      "cell_type": "markdown",
      "source": [
        "Best Estimator and Hyperparameters"
      ],
      "metadata": {
        "id": "ODIG6dOcFcvn"
      }
    },
    {
      "cell_type": "code",
      "source": [
        "# Print the best estimator found during hyperparameter search\n",
        "print(\"Best estimator found:\")\n",
        "best_model_b_coa_dt = grid_search_b_coa_dt.best_estimator_\n",
        "print(best_model_b_coa_dt)\n",
        "\n",
        "# Print the best hyperparameters found during hyperparameter search\n",
        "print(\"\\nBest hyperparameters found:\")\n",
        "best_params_b_coa_dt = grid_search_b_coa_dt.best_params_\n",
        "print(best_params_b_coa_dt)\n",
        "\n",
        "# Print the score of the best model in coastal_no_balancing cross-validation\n",
        "print(\"\\nScore of the best model in coastal_no_balancing cross-validation:\")\n",
        "best_score_b_coa_dt = grid_search_b_coa_dt.best_score_\n",
        "print(best_score_b_coa_dt)"
      ],
      "metadata": {
        "colab": {
          "base_uri": "https://localhost:8080/"
        },
        "outputId": "c9aa620c-dfa3-48f8-9d87-67c2dd154c37",
        "id": "83qp-afiFcvp"
      },
      "execution_count": null,
      "outputs": [
        {
          "output_type": "stream",
          "name": "stdout",
          "text": [
            "Best estimator found:\n",
            "DecisionTreeClassifier(criterion='entropy')\n",
            "\n",
            "Best hyperparameters found:\n",
            "{'criterion': 'entropy', 'max_depth': None, 'min_samples_leaf': 1, 'min_samples_split': 2}\n",
            "\n",
            "Score of the best model in coastal_no_balancing cross-validation:\n",
            "0.9981198589894242\n"
          ]
        }
      ]
    },
    {
      "cell_type": "markdown",
      "source": [
        " Evaluate the model on the training set"
      ],
      "metadata": {
        "id": "aPs1dJxFFcvr"
      }
    },
    {
      "cell_type": "code",
      "source": [
        "# Make predictions on the training set\n",
        "y_pred_train_b_coa_dt = best_model_b_coa_dt.predict(X_train_b_coa_dt)\n",
        "\n",
        "# Evaluation metrics on the training set\n",
        "accuracy_train_b_coa_dt = accuracy_score(y_train_b_coa_dt, y_pred_train_b_coa_dt)\n",
        "precision_train_b_coa_dt = precision_score(y_train_b_coa_dt, y_pred_train_b_coa_dt, average='weighted')\n",
        "# Calculate precision for each class\n",
        "precision_x_class_train_b_coa_dt = precision_score(y_train_b_coa_dt, y_pred_train_b_coa_dt, average=None)\n",
        "recall_train_b_coa_dt = recall_score(y_train_b_coa_dt, y_pred_train_b_coa_dt, average='weighted')\n",
        "# Calculate recall for each class\n",
        "recall_x_class_train_b_coa_dt = recall_score(y_train_b_coa_dt, y_pred_train_b_coa_dt, average=None)\n",
        "f1_score_train_b_coa_dt = f1_score(y_train_b_coa_dt, y_pred_train_b_coa_dt, average='weighted')\n",
        "# Calculate f1 score for each class\n",
        "f1_score_x_class_train_b_coa_dt = f1_score(y_train_b_coa_dt, y_pred_train_b_coa_dt, average=None)\n",
        "jaccard_train_b_coa_dt = jaccard_score(y_train_b_coa_dt, y_pred_train_b_coa_dt, average='weighted')\n",
        "confusion_train_b_coa_dt = confusion_matrix(y_train_b_coa_dt, y_pred_train_b_coa_dt)\n",
        "\n",
        "# Print evaluation metrics for the training set\n",
        "print(\"Accuracy: \", accuracy_train_b_coa_dt)\n",
        "print(\"Precision: \", precision_train_b_coa_dt)\n",
        "print(\"Precision per class:\" , precision_x_class_train_b_coa_dt )\n",
        "print(\"Recall: \", recall_train_b_coa_dt)\n",
        "print(\"Recall per class:\" , recall_x_class_train_b_coa_dt )\n",
        "print(\"F1 Score: \", f1_score_train_b_coa_dt)\n",
        "# Print F1-score for each class\n",
        "for clase, f1 in enumerate(f1_score_x_class_train_b_coa_dt):\n",
        "    print(f\"F1-score for the class {clase}: {f1}\")\n",
        "print(\"jaccard:\" , jaccard_train_b_coa_dt )\n",
        "print(\"Confusion Matrix: \")\n",
        "print(confusion_train_b_coa_dt)"
      ],
      "metadata": {
        "colab": {
          "base_uri": "https://localhost:8080/"
        },
        "outputId": "45d750ce-b2ed-4e77-df0a-03251f593d6d",
        "id": "bd3_S9uoFcvs"
      },
      "execution_count": null,
      "outputs": [
        {
          "output_type": "stream",
          "name": "stdout",
          "text": [
            "Accuracy:  1.0\n",
            "Precision:  1.0\n",
            "Precision per class: [1. 1. 1.]\n",
            "Recall:  1.0\n",
            "Recall per class: [1. 1. 1.]\n",
            "F1 Score:  1.0\n",
            "F1-score for the class 0: 1.0\n",
            "F1-score for the class 1: 1.0\n",
            "F1-score for the class 2: 1.0\n",
            "jaccard: 1.0\n",
            "Confusion Matrix: \n",
            "[[3106    0    0]\n",
            " [   0  802    0]\n",
            " [   0    0  347]]\n"
          ]
        }
      ]
    },
    {
      "cell_type": "markdown",
      "source": [
        " Evaluate the model on the test set"
      ],
      "metadata": {
        "id": "g_nyi275Fcvv"
      }
    },
    {
      "cell_type": "code",
      "source": [
        "# Make predictions on the testing set\n",
        "y_pred_test_b_coa_dt = best_model_b_coa_dt.predict(X_test_b_coa_dt)\n",
        "\n",
        "# Evaluation metrics on the test set\n",
        "accuracy_test_b_coa_dt = accuracy_score(y_test_b_coa_dt, y_pred_test_b_coa_dt)\n",
        "precision_test_b_coa_dt = precision_score(y_test_b_coa_dt, y_pred_test_b_coa_dt, average='weighted')\n",
        "# Calculate precision for each class\n",
        "precision_x_class_test_b_coa_dt = precision_score(y_test_b_coa_dt, y_pred_test_b_coa_dt, average=None)\n",
        "recall_test_b_coa_dt = recall_score(y_test_b_coa_dt, y_pred_test_b_coa_dt, average='weighted')\n",
        "# Calculate recall for each class\n",
        "recall_x_class_test_b_coa_dt = recall_score(y_test_b_coa_dt, y_pred_test_b_coa_dt, average=None)\n",
        "f1_score_test_b_coa_dt = f1_score(y_test_b_coa_dt, y_pred_test_b_coa_dt, average='weighted')\n",
        "# Calculate f1 score for each class\n",
        "f1_score_x_class_test_b_coa_dt = f1_score(y_test_b_coa_dt, y_pred_test_b_coa_dt, average=None)\n",
        "jaccard_test_b_coa_dt = jaccard_score(y_test_b_coa_dt, y_pred_test_b_coa_dt, average='weighted')\n",
        "confusion_test_b_coa_dt = confusion_matrix(y_test_b_coa_dt, y_pred_test_b_coa_dt)\n",
        "\n",
        "# Print evaluation metrics for the testing set\n",
        "print(\"Accuracy: \", accuracy_test_b_coa_dt)\n",
        "print(\"Precision: \", precision_test_b_coa_dt)\n",
        "print(\"Precision per class:\" , precision_x_class_test_b_coa_dt )\n",
        "print(\"Recall: \", recall_test_b_coa_dt)\n",
        "print(\"Recall per class:\" , recall_x_class_test_b_coa_dt )\n",
        "print(\"F1 Score: \", f1_score_test_b_coa_dt)\n",
        "# Print F1-score for each class\n",
        "for clase, f1 in enumerate(f1_score_x_class_test_b_coa_dt):\n",
        "    print(f\"F1-score for the class {clase}: {f1}\")\n",
        "print(\"jaccard:\" , jaccard_test_b_coa_dt )\n",
        "print(\"Confusion Matrix: \")\n",
        "print(confusion_test_b_coa_dt)"
      ],
      "metadata": {
        "colab": {
          "base_uri": "https://localhost:8080/"
        },
        "outputId": "e45f0b53-982a-4969-c40c-186a14542433",
        "id": "bNr7Dm7wFcvw"
      },
      "execution_count": null,
      "outputs": [
        {
          "output_type": "stream",
          "name": "stdout",
          "text": [
            "Accuracy:  0.9981203007518797\n",
            "Precision:  0.9981251328836228\n",
            "Precision per class: [0.99742931 1.         1.        ]\n",
            "Recall:  0.9981203007518797\n",
            "Recall per class: [1.         0.99004975 1.        ]\n",
            "F1 Score:  0.998116811091435\n",
            "F1-score for the class 0: 0.9987129987129987\n",
            "F1-score for the class 1: 0.995\n",
            "F1-score for the class 2: 1.0\n",
            "jaccard: 0.9962454336355026\n",
            "Confusion Matrix: \n",
            "[[776   0   0]\n",
            " [  2 199   0]\n",
            " [  0   0  87]]\n"
          ]
        }
      ]
    },
    {
      "cell_type": "markdown",
      "source": [
        " Evaluate the model on the validation set"
      ],
      "metadata": {
        "id": "tWWyhutHFcvz"
      }
    },
    {
      "cell_type": "code",
      "source": [
        "# Transform the validation data using the scaler trained on the validation data\n",
        "X_val_b_coa_dt = scaler_b_coa_dt.transform(X_val_coastal)\n",
        "\n",
        "# Make predictions on the validation set using the trained dt model\n",
        "y_pred_val_b_coa_dt = best_model_b_coa_dt.predict(X_val_b_coa_dt)\n",
        "\n",
        "# Evaluation metrics on the validation set\n",
        "accuracy_val_b_coa_dt = accuracy_score(y_val_coastal, y_pred_val_b_coa_dt)\n",
        "precision_val_b_coa_dt = precision_score(y_val_coastal, y_pred_val_b_coa_dt, average='weighted')\n",
        "# Calculate precision for each class\n",
        "precision_x_class_val_b_coa_dt = precision_score(y_val_coastal, y_pred_val_b_coa_dt, average=None)\n",
        "recall_val_b_coa_dt = recall_score(y_val_coastal, y_pred_val_b_coa_dt, average='weighted')\n",
        "# Calculate recall for each class\n",
        "recall_x_class_val_b_coa_dt = recall_score(y_val_coastal, y_pred_val_b_coa_dt, average=None)\n",
        "f1_score_val_b_coa_dt = f1_score(y_val_coastal, y_pred_val_b_coa_dt, average='weighted')\n",
        "# Calculate f1 score for each class\n",
        "f1_score_x_class_val_b_coa_dt = f1_score(y_val_coastal, y_pred_val_b_coa_dt, average=None)\n",
        "jaccard_val_b_coa_dt = jaccard_score(y_val_coastal, y_pred_val_b_coa_dt, average='weighted')\n",
        "confusion_val_b_coa_dt = confusion_matrix(y_val_coastal, y_pred_val_b_coa_dt)\n",
        "\n",
        "# Print evaluation metrics for the validation set\n",
        "print(\"Accuracy: \", accuracy_val_b_coa_dt)\n",
        "print(\"Precision: \", precision_val_b_coa_dt)\n",
        "print(\"Precision per class:\" , precision_x_class_val_b_coa_dt )\n",
        "print(\"Recall: \", recall_val_b_coa_dt)\n",
        "print(\"Recall per class:\" , recall_x_class_val_b_coa_dt )\n",
        "print(\"F1 Score: \", f1_score_val_b_coa_dt)\n",
        "# Print F1-score for each class\n",
        "for clase, f1 in enumerate(f1_score_x_class_val_b_coa_dt):\n",
        "    print(f\"F1-score for the class {clase}: {f1}\")\n",
        "print(\"jaccard:\" , jaccard_val_b_coa_dt )\n",
        "print(\"Confusion Matrix: \")\n",
        "print(confusion_val_b_coa_dt)"
      ],
      "metadata": {
        "colab": {
          "base_uri": "https://localhost:8080/"
        },
        "outputId": "769a8eee-80e8-41d3-9259-f272a57b8d85",
        "id": "T6a3-79oFcv0"
      },
      "execution_count": null,
      "outputs": [
        {
          "output_type": "stream",
          "name": "stdout",
          "text": [
            "Accuracy:  1.0\n",
            "Precision:  1.0\n",
            "Precision per class: [1. 1.]\n",
            "Recall:  1.0\n",
            "Recall per class: [1. 1.]\n",
            "F1 Score:  1.0\n",
            "F1-score for the class 0: 1.0\n",
            "F1-score for the class 1: 1.0\n",
            "jaccard: 1.0\n",
            "Confusion Matrix: \n",
            "[[16  0]\n",
            " [ 0  5]]\n"
          ]
        }
      ]
    },
    {
      "cell_type": "code",
      "source": [
        "# Save the trained SVM model to a file\n",
        "with open('best_model_b_coa_dt.pkl', 'wb') as model_file:\n",
        "    pickle.dump(best_model_b_coa_dt, model_file)\n",
        "\n",
        "# Save the scaler used for preprocessing to a file\n",
        "with open('scaler_b_coa_dt.pkl', 'wb') as scaler_file:\n",
        "    pickle.dump(scaler_b_coa_dt, scaler_file)"
      ],
      "metadata": {
        "id": "17n_c8i7Fcv3"
      },
      "execution_count": null,
      "outputs": []
    },
    {
      "cell_type": "markdown",
      "source": [
        "##MLR"
      ],
      "metadata": {
        "id": "FqYDkc28Fcv4"
      }
    },
    {
      "cell_type": "markdown",
      "source": [
        "Split data into training and test set"
      ],
      "metadata": {
        "id": "xx6FjC48Fcv6"
      }
    },
    {
      "cell_type": "code",
      "source": [
        "X_train_b_coa_mlr, X_test_b_coa_mlr, y_train_b_coa_mlr, y_test_b_coa_mlr = train_test_split(X_train_coastal, y_train_coastal, test_size=0.2, random_state=42)"
      ],
      "metadata": {
        "id": "Bb0Bf2dpFcv8"
      },
      "execution_count": null,
      "outputs": []
    },
    {
      "cell_type": "markdown",
      "source": [
        "Feature Standardization for coastal Dataset using StandardScaler"
      ],
      "metadata": {
        "id": "JW1WcRoYFcv9"
      }
    },
    {
      "cell_type": "code",
      "source": [
        "# Create a StandardScaler object\n",
        "scaler_b_coa_mlr = StandardScaler()\n",
        "\n",
        "# Fit and transform the training data to standardize features\n",
        "X_train_b_coa_mlr = scaler_b_coa_mlr.fit_transform(X_train_b_coa_mlr)\n",
        "\n",
        "# Transform the test data using the same scaler to maintain consistency in feature scaling\n",
        "X_test_b_coa_mlr = scaler_b_coa_mlr.transform(X_test_b_coa_mlr)"
      ],
      "metadata": {
        "id": "Lwo49_2xFcv_"
      },
      "execution_count": null,
      "outputs": []
    },
    {
      "cell_type": "markdown",
      "source": [
        "Hyperparameter Grid for MLR Model"
      ],
      "metadata": {
        "id": "pbKCmAA5FcwB"
      }
    },
    {
      "cell_type": "code",
      "source": [
        "# Define a dictionary of hyperparameters for tuning a MLR model\n",
        "parameters = {\n",
        "    'C': [0.001, 0.01, 0.1, 1, 10, 100],  # Parámetro de regularización\n",
        "    'solver': ['newton-cg', 'lbfgs', 'liblinear', 'sag', 'saga']  # Método de optimización\n",
        "}"
      ],
      "metadata": {
        "id": "VezB3x49FcwC"
      },
      "execution_count": null,
      "outputs": []
    },
    {
      "cell_type": "markdown",
      "source": [
        "Create a Decision MLR model"
      ],
      "metadata": {
        "id": "7DmLdiAhFcwD"
      }
    },
    {
      "cell_type": "code",
      "source": [
        "model_b_coa_mlr = LogisticRegression(max_iter=1000)  # Usamos max_iter para evitar advertencias"
      ],
      "metadata": {
        "id": "WE-wsoVqFcwE"
      },
      "execution_count": null,
      "outputs": []
    },
    {
      "cell_type": "markdown",
      "source": [
        "Hyperparameter Tuning with Cross-Validation"
      ],
      "metadata": {
        "id": "n-RGr8R0FcwF"
      }
    },
    {
      "cell_type": "code",
      "source": [
        "# Inform the user to wait during the hyperparameter search\n",
        "print(\"Wait a moment...\")\n",
        "\n",
        "# Create a GridSearchCV object for hyperparameter tuning\n",
        "grid_search_b_coa_mlr = GridSearchCV(model_b_coa_mlr, parameters, cv=5, scoring='accuracy')\n",
        "\n",
        "# Fit the GridSearchCV object to find the best hyperparameters\n",
        "grid_search_b_coa_mlr.fit(X_train_b_coa_mlr, y_train_b_coa_mlr)"
      ],
      "metadata": {
        "colab": {
          "base_uri": "https://localhost:8080/",
          "height": 1000
        },
        "outputId": "2b73c45f-0571-474a-9769-34cdabb2f1f5",
        "id": "Trpe_jedFcwF"
      },
      "execution_count": null,
      "outputs": [
        {
          "output_type": "stream",
          "name": "stdout",
          "text": [
            "Wait a moment...\n"
          ]
        },
        {
          "output_type": "stream",
          "name": "stderr",
          "text": [
            "/usr/local/lib/python3.10/dist-packages/sklearn/linear_model/_sag.py:350: ConvergenceWarning: The max_iter was reached which means the coef_ did not converge\n",
            "  warnings.warn(\n",
            "/usr/local/lib/python3.10/dist-packages/sklearn/linear_model/_sag.py:350: ConvergenceWarning: The max_iter was reached which means the coef_ did not converge\n",
            "  warnings.warn(\n",
            "/usr/local/lib/python3.10/dist-packages/sklearn/linear_model/_sag.py:350: ConvergenceWarning: The max_iter was reached which means the coef_ did not converge\n",
            "  warnings.warn(\n",
            "/usr/local/lib/python3.10/dist-packages/sklearn/linear_model/_sag.py:350: ConvergenceWarning: The max_iter was reached which means the coef_ did not converge\n",
            "  warnings.warn(\n",
            "/usr/local/lib/python3.10/dist-packages/sklearn/linear_model/_sag.py:350: ConvergenceWarning: The max_iter was reached which means the coef_ did not converge\n",
            "  warnings.warn(\n",
            "/usr/local/lib/python3.10/dist-packages/sklearn/linear_model/_sag.py:350: ConvergenceWarning: The max_iter was reached which means the coef_ did not converge\n",
            "  warnings.warn(\n",
            "/usr/local/lib/python3.10/dist-packages/sklearn/linear_model/_sag.py:350: ConvergenceWarning: The max_iter was reached which means the coef_ did not converge\n",
            "  warnings.warn(\n",
            "/usr/local/lib/python3.10/dist-packages/sklearn/linear_model/_sag.py:350: ConvergenceWarning: The max_iter was reached which means the coef_ did not converge\n",
            "  warnings.warn(\n",
            "/usr/local/lib/python3.10/dist-packages/sklearn/linear_model/_sag.py:350: ConvergenceWarning: The max_iter was reached which means the coef_ did not converge\n",
            "  warnings.warn(\n",
            "/usr/local/lib/python3.10/dist-packages/sklearn/linear_model/_sag.py:350: ConvergenceWarning: The max_iter was reached which means the coef_ did not converge\n",
            "  warnings.warn(\n",
            "/usr/local/lib/python3.10/dist-packages/sklearn/linear_model/_sag.py:350: ConvergenceWarning: The max_iter was reached which means the coef_ did not converge\n",
            "  warnings.warn(\n",
            "/usr/local/lib/python3.10/dist-packages/sklearn/linear_model/_sag.py:350: ConvergenceWarning: The max_iter was reached which means the coef_ did not converge\n",
            "  warnings.warn(\n",
            "/usr/local/lib/python3.10/dist-packages/sklearn/linear_model/_sag.py:350: ConvergenceWarning: The max_iter was reached which means the coef_ did not converge\n",
            "  warnings.warn(\n",
            "/usr/local/lib/python3.10/dist-packages/sklearn/linear_model/_sag.py:350: ConvergenceWarning: The max_iter was reached which means the coef_ did not converge\n",
            "  warnings.warn(\n",
            "/usr/local/lib/python3.10/dist-packages/sklearn/linear_model/_sag.py:350: ConvergenceWarning: The max_iter was reached which means the coef_ did not converge\n",
            "  warnings.warn(\n",
            "/usr/local/lib/python3.10/dist-packages/sklearn/linear_model/_sag.py:350: ConvergenceWarning: The max_iter was reached which means the coef_ did not converge\n",
            "  warnings.warn(\n",
            "/usr/local/lib/python3.10/dist-packages/sklearn/linear_model/_sag.py:350: ConvergenceWarning: The max_iter was reached which means the coef_ did not converge\n",
            "  warnings.warn(\n",
            "/usr/local/lib/python3.10/dist-packages/sklearn/linear_model/_sag.py:350: ConvergenceWarning: The max_iter was reached which means the coef_ did not converge\n",
            "  warnings.warn(\n",
            "/usr/local/lib/python3.10/dist-packages/sklearn/linear_model/_sag.py:350: ConvergenceWarning: The max_iter was reached which means the coef_ did not converge\n",
            "  warnings.warn(\n",
            "/usr/local/lib/python3.10/dist-packages/sklearn/linear_model/_sag.py:350: ConvergenceWarning: The max_iter was reached which means the coef_ did not converge\n",
            "  warnings.warn(\n",
            "/usr/local/lib/python3.10/dist-packages/sklearn/linear_model/_sag.py:350: ConvergenceWarning: The max_iter was reached which means the coef_ did not converge\n",
            "  warnings.warn(\n",
            "/usr/local/lib/python3.10/dist-packages/sklearn/linear_model/_sag.py:350: ConvergenceWarning: The max_iter was reached which means the coef_ did not converge\n",
            "  warnings.warn(\n",
            "/usr/local/lib/python3.10/dist-packages/sklearn/linear_model/_sag.py:350: ConvergenceWarning: The max_iter was reached which means the coef_ did not converge\n",
            "  warnings.warn(\n",
            "/usr/local/lib/python3.10/dist-packages/sklearn/linear_model/_sag.py:350: ConvergenceWarning: The max_iter was reached which means the coef_ did not converge\n",
            "  warnings.warn(\n",
            "/usr/local/lib/python3.10/dist-packages/sklearn/linear_model/_sag.py:350: ConvergenceWarning: The max_iter was reached which means the coef_ did not converge\n",
            "  warnings.warn(\n",
            "/usr/local/lib/python3.10/dist-packages/sklearn/linear_model/_sag.py:350: ConvergenceWarning: The max_iter was reached which means the coef_ did not converge\n",
            "  warnings.warn(\n",
            "/usr/local/lib/python3.10/dist-packages/sklearn/linear_model/_sag.py:350: ConvergenceWarning: The max_iter was reached which means the coef_ did not converge\n",
            "  warnings.warn(\n",
            "/usr/local/lib/python3.10/dist-packages/sklearn/linear_model/_sag.py:350: ConvergenceWarning: The max_iter was reached which means the coef_ did not converge\n",
            "  warnings.warn(\n",
            "/usr/local/lib/python3.10/dist-packages/sklearn/linear_model/_sag.py:350: ConvergenceWarning: The max_iter was reached which means the coef_ did not converge\n",
            "  warnings.warn(\n",
            "/usr/local/lib/python3.10/dist-packages/sklearn/linear_model/_sag.py:350: ConvergenceWarning: The max_iter was reached which means the coef_ did not converge\n",
            "  warnings.warn(\n"
          ]
        },
        {
          "output_type": "execute_result",
          "data": {
            "text/plain": [
              "GridSearchCV(cv=5, estimator=LogisticRegression(max_iter=1000),\n",
              "             param_grid={'C': [0.001, 0.01, 0.1, 1, 10, 100],\n",
              "                         'solver': ['newton-cg', 'lbfgs', 'liblinear', 'sag',\n",
              "                                    'saga']},\n",
              "             scoring='accuracy')"
            ],
            "text/html": [
              "<style>#sk-container-id-10 {color: black;background-color: white;}#sk-container-id-10 pre{padding: 0;}#sk-container-id-10 div.sk-toggleable {background-color: white;}#sk-container-id-10 label.sk-toggleable__label {cursor: pointer;display: block;width: 100%;margin-bottom: 0;padding: 0.3em;box-sizing: border-box;text-align: center;}#sk-container-id-10 label.sk-toggleable__label-arrow:before {content: \"▸\";float: left;margin-right: 0.25em;color: #696969;}#sk-container-id-10 label.sk-toggleable__label-arrow:hover:before {color: black;}#sk-container-id-10 div.sk-estimator:hover label.sk-toggleable__label-arrow:before {color: black;}#sk-container-id-10 div.sk-toggleable__content {max-height: 0;max-width: 0;overflow: hidden;text-align: left;background-color: #f0f8ff;}#sk-container-id-10 div.sk-toggleable__content pre {margin: 0.2em;color: black;border-radius: 0.25em;background-color: #f0f8ff;}#sk-container-id-10 input.sk-toggleable__control:checked~div.sk-toggleable__content {max-height: 200px;max-width: 100%;overflow: auto;}#sk-container-id-10 input.sk-toggleable__control:checked~label.sk-toggleable__label-arrow:before {content: \"▾\";}#sk-container-id-10 div.sk-estimator input.sk-toggleable__control:checked~label.sk-toggleable__label {background-color: #d4ebff;}#sk-container-id-10 div.sk-label input.sk-toggleable__control:checked~label.sk-toggleable__label {background-color: #d4ebff;}#sk-container-id-10 input.sk-hidden--visually {border: 0;clip: rect(1px 1px 1px 1px);clip: rect(1px, 1px, 1px, 1px);height: 1px;margin: -1px;overflow: hidden;padding: 0;position: absolute;width: 1px;}#sk-container-id-10 div.sk-estimator {font-family: monospace;background-color: #f0f8ff;border: 1px dotted black;border-radius: 0.25em;box-sizing: border-box;margin-bottom: 0.5em;}#sk-container-id-10 div.sk-estimator:hover {background-color: #d4ebff;}#sk-container-id-10 div.sk-parallel-item::after {content: \"\";width: 100%;border-bottom: 1px solid gray;flex-grow: 1;}#sk-container-id-10 div.sk-label:hover label.sk-toggleable__label {background-color: #d4ebff;}#sk-container-id-10 div.sk-serial::before {content: \"\";position: absolute;border-left: 1px solid gray;box-sizing: border-box;top: 0;bottom: 0;left: 50%;z-index: 0;}#sk-container-id-10 div.sk-serial {display: flex;flex-direction: column;align-items: center;background-color: white;padding-right: 0.2em;padding-left: 0.2em;position: relative;}#sk-container-id-10 div.sk-item {position: relative;z-index: 1;}#sk-container-id-10 div.sk-parallel {display: flex;align-items: stretch;justify-content: center;background-color: white;position: relative;}#sk-container-id-10 div.sk-item::before, #sk-container-id-10 div.sk-parallel-item::before {content: \"\";position: absolute;border-left: 1px solid gray;box-sizing: border-box;top: 0;bottom: 0;left: 50%;z-index: -1;}#sk-container-id-10 div.sk-parallel-item {display: flex;flex-direction: column;z-index: 1;position: relative;background-color: white;}#sk-container-id-10 div.sk-parallel-item:first-child::after {align-self: flex-end;width: 50%;}#sk-container-id-10 div.sk-parallel-item:last-child::after {align-self: flex-start;width: 50%;}#sk-container-id-10 div.sk-parallel-item:only-child::after {width: 0;}#sk-container-id-10 div.sk-dashed-wrapped {border: 1px dashed gray;margin: 0 0.4em 0.5em 0.4em;box-sizing: border-box;padding-bottom: 0.4em;background-color: white;}#sk-container-id-10 div.sk-label label {font-family: monospace;font-weight: bold;display: inline-block;line-height: 1.2em;}#sk-container-id-10 div.sk-label-container {text-align: center;}#sk-container-id-10 div.sk-container {/* jupyter's `normalize.less` sets `[hidden] { display: none; }` but bootstrap.min.css set `[hidden] { display: none !important; }` so we also need the `!important` here to be able to override the default hidden behavior on the sphinx rendered scikit-learn.org. See: https://github.com/scikit-learn/scikit-learn/issues/21755 */display: inline-block !important;position: relative;}#sk-container-id-10 div.sk-text-repr-fallback {display: none;}</style><div id=\"sk-container-id-10\" class=\"sk-top-container\"><div class=\"sk-text-repr-fallback\"><pre>GridSearchCV(cv=5, estimator=LogisticRegression(max_iter=1000),\n",
              "             param_grid={&#x27;C&#x27;: [0.001, 0.01, 0.1, 1, 10, 100],\n",
              "                         &#x27;solver&#x27;: [&#x27;newton-cg&#x27;, &#x27;lbfgs&#x27;, &#x27;liblinear&#x27;, &#x27;sag&#x27;,\n",
              "                                    &#x27;saga&#x27;]},\n",
              "             scoring=&#x27;accuracy&#x27;)</pre><b>In a Jupyter environment, please rerun this cell to show the HTML representation or trust the notebook. <br />On GitHub, the HTML representation is unable to render, please try loading this page with nbviewer.org.</b></div><div class=\"sk-container\" hidden><div class=\"sk-item sk-dashed-wrapped\"><div class=\"sk-label-container\"><div class=\"sk-label sk-toggleable\"><input class=\"sk-toggleable__control sk-hidden--visually\" id=\"sk-estimator-id-28\" type=\"checkbox\" ><label for=\"sk-estimator-id-28\" class=\"sk-toggleable__label sk-toggleable__label-arrow\">GridSearchCV</label><div class=\"sk-toggleable__content\"><pre>GridSearchCV(cv=5, estimator=LogisticRegression(max_iter=1000),\n",
              "             param_grid={&#x27;C&#x27;: [0.001, 0.01, 0.1, 1, 10, 100],\n",
              "                         &#x27;solver&#x27;: [&#x27;newton-cg&#x27;, &#x27;lbfgs&#x27;, &#x27;liblinear&#x27;, &#x27;sag&#x27;,\n",
              "                                    &#x27;saga&#x27;]},\n",
              "             scoring=&#x27;accuracy&#x27;)</pre></div></div></div><div class=\"sk-parallel\"><div class=\"sk-parallel-item\"><div class=\"sk-item\"><div class=\"sk-label-container\"><div class=\"sk-label sk-toggleable\"><input class=\"sk-toggleable__control sk-hidden--visually\" id=\"sk-estimator-id-29\" type=\"checkbox\" ><label for=\"sk-estimator-id-29\" class=\"sk-toggleable__label sk-toggleable__label-arrow\">estimator: LogisticRegression</label><div class=\"sk-toggleable__content\"><pre>LogisticRegression(max_iter=1000)</pre></div></div></div><div class=\"sk-serial\"><div class=\"sk-item\"><div class=\"sk-estimator sk-toggleable\"><input class=\"sk-toggleable__control sk-hidden--visually\" id=\"sk-estimator-id-30\" type=\"checkbox\" ><label for=\"sk-estimator-id-30\" class=\"sk-toggleable__label sk-toggleable__label-arrow\">LogisticRegression</label><div class=\"sk-toggleable__content\"><pre>LogisticRegression(max_iter=1000)</pre></div></div></div></div></div></div></div></div></div></div>"
            ]
          },
          "metadata": {},
          "execution_count": 152
        }
      ]
    },
    {
      "cell_type": "markdown",
      "source": [
        "Best Estimator and Hyperparameters"
      ],
      "metadata": {
        "id": "C0fCAmKiFcwH"
      }
    },
    {
      "cell_type": "code",
      "source": [
        "# Print the best estimator found during hyperparameter search\n",
        "print(\"Best estimator found:\")\n",
        "best_model_b_coa_mlr = grid_search_b_coa_mlr.best_estimator_\n",
        "print(best_model_b_coa_mlr)\n",
        "\n",
        "# Print the best hyperparameters found during hyperparameter search\n",
        "print(\"\\nBest hyperparameters found:\")\n",
        "best_params_b_coa_mlr = grid_search_b_coa_mlr.best_params_\n",
        "print(best_params_b_coa_mlr)\n",
        "\n",
        "# Print the score of the best model in coastal_no_balancing cross-validation\n",
        "print(\"\\nScore of the best model in coastal_no_balancing cross-validation:\")\n",
        "best_score_b_coa_mlr = grid_search_b_coa_mlr.best_score_\n",
        "print(best_score_b_coa_mlr)"
      ],
      "metadata": {
        "colab": {
          "base_uri": "https://localhost:8080/"
        },
        "outputId": "fd05e363-d12f-468f-b364-84cf41ddedda",
        "id": "ggi7n-e-FcwI"
      },
      "execution_count": null,
      "outputs": [
        {
          "output_type": "stream",
          "name": "stdout",
          "text": [
            "Best estimator found:\n",
            "LogisticRegression(C=100, max_iter=1000, solver='newton-cg')\n",
            "\n",
            "Best hyperparameters found:\n",
            "{'C': 100, 'solver': 'newton-cg'}\n",
            "\n",
            "Score of the best model in coastal_no_balancing cross-validation:\n",
            "0.9473560517038779\n"
          ]
        }
      ]
    },
    {
      "cell_type": "markdown",
      "source": [
        " Evaluate the model on the training set"
      ],
      "metadata": {
        "id": "gE-WdoE0FcwK"
      }
    },
    {
      "cell_type": "code",
      "source": [
        "# Make predictions on the training set\n",
        "y_pred_train_b_coa_mlr = best_model_b_coa_mlr.predict(X_train_b_coa_mlr)\n",
        "\n",
        "# Evaluation metrics on the training set\n",
        "accuracy_train_b_coa_mlr = accuracy_score(y_train_b_coa_mlr, y_pred_train_b_coa_mlr)\n",
        "precision_train_b_coa_mlr = precision_score(y_train_b_coa_mlr, y_pred_train_b_coa_mlr, average='weighted')\n",
        "# Calculate precision for each class\n",
        "precision_x_class_train_b_coa_mlr = precision_score(y_train_b_coa_mlr, y_pred_train_b_coa_mlr, average=None)\n",
        "recall_train_b_coa_mlr = recall_score(y_train_b_coa_mlr, y_pred_train_b_coa_mlr, average='weighted')\n",
        "# Calculate recall for each class\n",
        "recall_x_class_train_b_coa_mlr = recall_score(y_train_b_coa_mlr, y_pred_train_b_coa_mlr, average=None)\n",
        "f1_score_train_b_coa_mlr = f1_score(y_train_b_coa_mlr, y_pred_train_b_coa_mlr, average='weighted')\n",
        "# Calculate f1 score for each class\n",
        "f1_score_x_class_train_b_coa_mlr = f1_score(y_train_b_coa_mlr, y_pred_train_b_coa_mlr, average=None)\n",
        "jaccard_train_b_coa_mlr = jaccard_score(y_train_b_coa_mlr, y_pred_train_b_coa_mlr, average='weighted')\n",
        "confusion_train_b_coa_mlr = confusion_matrix(y_train_b_coa_mlr, y_pred_train_b_coa_mlr)\n",
        "\n",
        "# Print evaluation metrics for the training set\n",
        "print(\"Accuracy: \", accuracy_train_b_coa_mlr)\n",
        "print(\"Precision: \", precision_train_b_coa_mlr)\n",
        "print(\"Precision per class:\" , precision_x_class_train_b_coa_mlr )\n",
        "print(\"Recall: \", recall_train_b_coa_mlr)\n",
        "print(\"Recall per class:\" , recall_x_class_train_b_coa_mlr )\n",
        "print(\"F1 Score: \", f1_score_train_b_coa_mlr)\n",
        "# Print F1-score for each class\n",
        "for clase, f1 in enumerate(f1_score_x_class_train_b_coa_mlr):\n",
        "    print(f\"F1-score for the class {clase}: {f1}\")\n",
        "print(\"jaccard:\" , jaccard_train_b_coa_mlr )\n",
        "print(\"Confusion Matrix: \")\n",
        "print(confusion_train_b_coa_mlr)"
      ],
      "metadata": {
        "colab": {
          "base_uri": "https://localhost:8080/"
        },
        "outputId": "ee36eecd-f2ad-4ad9-c0af-c4ed640703a9",
        "id": "wZbfArl-FcwL"
      },
      "execution_count": null,
      "outputs": [
        {
          "output_type": "stream",
          "name": "stdout",
          "text": [
            "Accuracy:  0.9487661574618096\n",
            "Precision:  0.9485848916750453\n",
            "Precision per class: [0.94744977 0.93961708 0.97947214]\n",
            "Recall:  0.9487661574618096\n",
            "Recall per class: [0.98679974 0.79551122 0.96253602]\n",
            "F1 Score:  0.9472494081862662\n",
            "F1-score for the class 0: 0.9667244914051412\n",
            "F1-score for the class 1: 0.861580013504389\n",
            "F1-score for the class 2: 0.9709302325581396\n",
            "jaccard: 0.902541751512293\n",
            "Confusion Matrix: \n",
            "[[3065   38    3]\n",
            " [ 160  638    4]\n",
            " [  10    3  334]]\n"
          ]
        }
      ]
    },
    {
      "cell_type": "markdown",
      "source": [
        " Evaluate the model on the test set"
      ],
      "metadata": {
        "id": "_obOCIrqFcwN"
      }
    },
    {
      "cell_type": "code",
      "source": [
        "# Make predictions on the testing set\n",
        "y_pred_test_b_coa_mlr = best_model_b_coa_mlr.predict(X_test_b_coa_mlr)\n",
        "\n",
        "# Evaluation metrics on the testing set\n",
        "accuracy_test_b_coa_mlr = accuracy_score(y_test_b_coa_mlr, y_pred_test_b_coa_mlr)\n",
        "precision_test_b_coa_mlr = precision_score(y_test_b_coa_mlr, y_pred_test_b_coa_mlr, average='weighted')\n",
        "# Calculate precision for each class\n",
        "precision_x_class_test_b_coa_mlr = precision_score(y_test_b_coa_mlr, y_pred_test_b_coa_mlr, average=None)\n",
        "recall_test_b_coa_mlr = recall_score(y_test_b_coa_mlr, y_pred_test_b_coa_mlr, average='weighted')\n",
        "# Calculate recall for each class\n",
        "recall_x_class_test_b_coa_mlr = recall_score(y_test_b_coa_mlr, y_pred_test_b_coa_mlr, average=None)\n",
        "f1_score_test_b_coa_mlr = f1_score(y_test_b_coa_mlr, y_pred_test_b_coa_mlr, average='weighted')\n",
        "# Calculate f1 score for each class\n",
        "f1_score_x_class_test_b_coa_mlr = f1_score(y_test_b_coa_mlr, y_pred_test_b_coa_mlr, average=None)\n",
        "jaccard_test_b_coa_mlr = jaccard_score(y_test_b_coa_mlr, y_pred_test_b_coa_mlr, average='weighted')\n",
        "confusion_test_b_coa_mlr = confusion_matrix(y_test_b_coa_mlr, y_pred_test_b_coa_mlr)\n",
        "\n",
        "# Print evaluation metrics for the testing set\n",
        "print(\"Accuracy: \", accuracy_test_b_coa_mlr)\n",
        "print(\"Precision: \", precision_test_b_coa_mlr)\n",
        "print(\"Precision per class:\" , precision_x_class_test_b_coa_mlr )\n",
        "print(\"Recall: \", recall_test_b_coa_mlr)\n",
        "print(\"Recall per class:\" , recall_x_class_test_b_coa_mlr )\n",
        "print(\"F1 Score: \", f1_score_test_b_coa_mlr)\n",
        "# Print F1-score for each class\n",
        "for clase, f1 in enumerate(f1_score_x_class_test_b_coa_mlr):\n",
        "    print(f\"F1-score for the class {clase}: {f1}\")\n",
        "print(\"jaccard:\" , jaccard_test_b_coa_mlr )\n",
        "print(\"Confusion Matrix: \")\n",
        "print(confusion_test_b_coa_mlr)"
      ],
      "metadata": {
        "colab": {
          "base_uri": "https://localhost:8080/"
        },
        "outputId": "dee5b7c1-4ef3-4b62-ccde-4eaa9df32f96",
        "id": "5FvgDHW7FcwO"
      },
      "execution_count": null,
      "outputs": [
        {
          "output_type": "stream",
          "name": "stdout",
          "text": [
            "Accuracy:  0.9492481203007519\n",
            "Precision:  0.9489521431179756\n",
            "Precision per class: [0.95043371 0.93678161 0.96385542]\n",
            "Recall:  0.9492481203007519\n",
            "Recall per class: [0.98840206 0.81094527 0.91954023]\n",
            "F1 Score:  0.9479305809766138\n",
            "F1-score for the class 0: 0.9690461149715729\n",
            "F1-score for the class 1: 0.8693333333333334\n",
            "F1-score for the class 2: 0.9411764705882354\n",
            "jaccard: 0.9034565290863117\n",
            "Confusion Matrix: \n",
            "[[767   9   0]\n",
            " [ 35 163   3]\n",
            " [  5   2  80]]\n"
          ]
        }
      ]
    },
    {
      "cell_type": "markdown",
      "source": [
        " Evaluate the model on the validation set"
      ],
      "metadata": {
        "id": "Ph8Fn_paFcwQ"
      }
    },
    {
      "cell_type": "code",
      "source": [
        "# Transform the validation data using the scaler trained on the validation data\n",
        "X_val_b_coa_mlr = scaler_b_coa_mlr.transform(X_val_coastal)\n",
        "\n",
        "# Make predictions on the validation set using the trained MLR model\n",
        "y_pred_val_b_coa_mlr = best_model_b_coa_mlr.predict(X_val_b_coa_mlr)\n",
        "\n",
        "# Evaluation metrics on the validation set\n",
        "accuracy_val_b_coa_mlr = accuracy_score(y_val_coastal, y_pred_val_b_coa_mlr)\n",
        "precision_val_b_coa_mlr = precision_score(y_val_coastal, y_pred_val_b_coa_mlr, average='weighted')\n",
        "# Calculate precision for each class\n",
        "precision_x_class_val_b_coa_mlr = precision_score(y_val_coastal, y_pred_val_b_coa_mlr, average=None)\n",
        "recall_val_b_coa_mlr = recall_score(y_val_coastal, y_pred_val_b_coa_mlr, average='weighted')\n",
        "# Calculate recall for each class\n",
        "recall_x_class_val_b_coa_mlr = recall_score(y_val_coastal, y_pred_val_b_coa_mlr, average=None)\n",
        "f1_score_val_b_coa_mlr = f1_score(y_val_coastal, y_pred_val_b_coa_mlr, average='weighted')\n",
        "# Calculate f1 score for each class\n",
        "f1_score_x_class_val_b_coa_mlr = f1_score(y_val_coastal, y_pred_val_b_coa_mlr, average=None)\n",
        "jaccard_val_b_coa_mlr = jaccard_score(y_val_coastal, y_pred_val_b_coa_mlr, average='weighted')\n",
        "confusion_val_b_coa_mlr = confusion_matrix(y_val_coastal, y_pred_val_b_coa_mlr)\n",
        "\n",
        "# Print evaluation metrics for the validation set\n",
        "print(\"Accuracy: \", accuracy_val_b_coa_mlr)\n",
        "print(\"Precision: \", precision_val_b_coa_mlr)\n",
        "print(\"Precision per class:\" , precision_x_class_val_b_coa_mlr )\n",
        "print(\"Recall: \", recall_val_b_coa_mlr)\n",
        "print(\"Recall per class:\" , recall_x_class_val_b_coa_mlr )\n",
        "print(\"F1 Score: \", f1_score_val_b_coa_mlr)\n",
        "# Print F1-score for each class\n",
        "for clase, f1 in enumerate(f1_score_x_class_val_b_coa_mlr):\n",
        "    print(f\"F1-score for the class {clase}: {f1}\")\n",
        "print(\"jaccard:\" , jaccard_val_b_coa_mlr )\n",
        "print(\"Confusion Matrix: \")\n",
        "print(confusion_val_b_coa_mlr)"
      ],
      "metadata": {
        "colab": {
          "base_uri": "https://localhost:8080/"
        },
        "outputId": "ddbe6d5d-2ea2-4da3-cca2-ce289f78ebd7",
        "id": "jX2oMA3NFcwR"
      },
      "execution_count": null,
      "outputs": [
        {
          "output_type": "stream",
          "name": "stdout",
          "text": [
            "Accuracy:  1.0\n",
            "Precision:  1.0\n",
            "Precision per class: [1. 1.]\n",
            "Recall:  1.0\n",
            "Recall per class: [1. 1.]\n",
            "F1 Score:  1.0\n",
            "F1-score for the class 0: 1.0\n",
            "F1-score for the class 1: 1.0\n",
            "jaccard: 1.0\n",
            "Confusion Matrix: \n",
            "[[16  0]\n",
            " [ 0  5]]\n"
          ]
        }
      ]
    },
    {
      "cell_type": "code",
      "source": [
        "# Save the trained MLR model to a file\n",
        "with open('best_model_b_coa_mlr.pkl', 'wb') as model_file:\n",
        "    pickle.dump(best_model_b_coa_mlr, model_file)\n",
        "\n",
        "# Save the scaler used for preprocessing to a file\n",
        "with open('scaler_b_coa_mlr.pkl', 'wb') as scaler_file:\n",
        "    pickle.dump(scaler_b_coa_mlr, scaler_file)"
      ],
      "metadata": {
        "id": "ihsYzsT8FcwT"
      },
      "execution_count": null,
      "outputs": []
    }
  ]
}